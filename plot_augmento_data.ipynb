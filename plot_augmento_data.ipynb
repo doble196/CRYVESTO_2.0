{
 "cells": [
  {
   "cell_type": "code",
   "execution_count": 11,
   "id": "bffd6374-6762-4d56-8201-3f6189519181",
   "metadata": {},
   "outputs": [],
   "source": [
    "# import necessry libraries\n",
    "import sys\n",
    "import os\n",
    "import msgpack\n",
    "import zlib\n",
    "import numpy as np\n",
    "import datetime\n",
    "import matplotlib.pyplot as plt\n",
    "import matplotlib.dates as md\n",
    "from pathlib import Path"
   ]
  },
  {
   "cell_type": "code",
   "execution_count": 5,
   "id": "da254df1-ecd7-4722-a441-52979f867881",
   "metadata": {},
   "outputs": [],
   "source": [
    "# import files from src\n",
    "sys.path.insert(0, \"..project-2/src\")\n",
    "\n",
    "\n",
    "example_helper = 'eh'\n",
    "analysis_helper = 'ah'"
   ]
  },
  {
   "cell_type": "code",
   "execution_count": 12,
   "id": "a3c808b4-4cac-4b3f-824b-520b9ad8d251",
   "metadata": {},
   "outputs": [],
   "source": [
    "# define the location of the input file\n",
    "filename_augmento_topics = Path(\"..Project-2/Project_2/augmento_topics.msgpack.zlib\")\n",
    "filename_augmento_data = Path(\"../Project-2/Project_augmento_data.msgpack.zlib\")\n",
    "filename_bitmex_data = Path(\"..Project-2/Project_2/eth_data.msgpack.zlib\")"
   ]
  },
  {
   "cell_type": "code",
   "execution_count": 13,
   "id": "46e537bc-0d38-41b1-b9ae-6a36937eccae",
   "metadata": {},
   "outputs": [
    {
     "name": "stdout",
     "output_type": "stream",
     "text": [
      "False\n"
     ]
    }
   ],
   "source": [
    "isExist = os.path.exists(filename_augmento_data)\n",
    "\n",
    "print(isExist)"
   ]
  },
  {
   "cell_type": "code",
   "execution_count": null,
   "id": "efa9e975-cabf-4b20-8716-7d7393f81490",
   "metadata": {},
   "outputs": [],
   "source": [
    "def load_example_data(filename_augmento_topics,\n",
    "                      filename_augmento_data,\n",
    "                      filename_bitmex_data,\n",
    "                      datetime_start=None,\n",
    "                      datetime_end=None):\n",
    "\n",
    "\t# load the topics\n",
    "\twith open(filename_augmento_topics, \"rb\") as f:\n",
    "\t\ttemp = msgpack.unpackb(zlib.decompress(f.read()), encoding='utf-8')\n",
    "\t\taugmento_topics = {int(k) : v for k, v in temp.items()}\n",
    "\t\taugmento_topics_inv = {v : int(k) for k, v in temp.items()}\n",
    "\t\n",
    "\t# load the augmento data\n",
    "\twith open(filename_augmento_data, \"rb\") as f:\n",
    "\t\ttemp = msgpack.unpackb(zlib.decompress(f.read()), encoding='utf-8')\n",
    "\t\tt_aug_data = np.array([el[\"t_epoch\"] for el in temp], dtype=np.float64)\n",
    "\t\taug_data = np.array([el[\"counts\"] for el in temp], dtype=np.int32)\n",
    "\t\n",
    "\t# load the price data\n",
    "\twith open(filename_bitmex_data, \"rb\") as f:\n",
    "\t\ttemp = msgpack.unpackb(zlib.decompress(f.read()), encoding='utf-8')\n",
    "\t\tt_price_data = np.array([el[\"t_epoch\"] for el in temp], dtype=np.float64)\n",
    "\t\t#price_data = np.array([el[\"open\"] for el in temp], dtype=np.float64)\n",
    "\t\tprice_data = np.array([el[\"close\"] for el in temp], dtype=np.float64)\n",
    "\t\n",
    "\t# set the start and end times if they are specified\n",
    "\tif datetime_start != None:\n",
    "\t\tt_start = dh.datetime_to_epoch(datetime_start)\n",
    "\telse:\n",
    "\t\tt_start = max(np.min(t_aug_data), np.min(t_price_data))\n",
    "\t\n",
    "\tif datetime_end != None:\n",
    "\t\tt_end = dh.datetime_to_epoch(datetime_end)\n",
    "\telse:\n",
    "\t\tt_end = min(np.max(t_aug_data), np.max(t_price_data))\n",
    "\t\n",
    "\t# strip the sentiments and prices outside the shared time range\n",
    "\tt_aug_data, aug_data = strip_data_by_time(t_aug_data, aug_data, t_start, t_end)\n",
    "\tt_price_data, price_data = strip_data_by_time(t_price_data, price_data, t_start, t_end)\n",
    "\t\n",
    "\treturn augmento_topics, augmento_topics_inv, t_aug_data, aug_data, t_price_data, price_data"
   ]
  },
  {
   "cell_type": "code",
   "execution_count": null,
   "id": "0e78c251-5068-4f0d-ad29-9268f8792cfa",
   "metadata": {},
   "outputs": [],
   "source": [
    "# load the example data\n",
    "all_data = .load_example_data(filename_augmento_topics,\n",
    "                             filename_augmento_data,\n",
    "                             filename_bitmex_data)\n",
    "aug_topics, aug_topics_inv, t_aug_data, aug_data, t_price_data, price_data = all_data\n"
   ]
  },
  {
   "cell_type": "code",
   "execution_count": null,
   "id": "3097caba-e0ba-480c-ae71-2be665ffa950",
   "metadata": {},
   "outputs": [],
   "source": []
  }
 ],
 "metadata": {
  "kernelspec": {
   "display_name": "Python 3 (ipykernel)",
   "language": "python",
   "name": "python3"
  },
  "language_info": {
   "codemirror_mode": {
    "name": "ipython",
    "version": 3
   },
   "file_extension": ".py",
   "mimetype": "text/x-python",
   "name": "python",
   "nbconvert_exporter": "python",
   "pygments_lexer": "ipython3",
   "version": "3.9.7"
  }
 },
 "nbformat": 4,
 "nbformat_minor": 5
}
