{
 "cells": [
  {
   "cell_type": "code",
   "execution_count": null,
   "id": "bffd6374-6762-4d56-8201-3f6189519181",
   "metadata": {},
   "outputs": [],
   "source": [
    "# import necessry libraries\n",
    "import sys\n",
    "import os\n",
    "import msgpack\n",
    "import zlib\n",
    "import numpy as np\n",
    "import datetime\n",
    "import matplotlib.pyplot as plt\n",
    "import matplotlib.dates as md\n",
    "from pathlib import Path"
   ]
  },
  {
   "cell_type": "code",
   "execution_count": null,
   "id": "da254df1-ecd7-4722-a441-52979f867881",
   "metadata": {},
   "outputs": [],
   "source": [
    "# import files from src\n",
    "#sys.path.insert(0,\"Desktop/Fintech_Bootcamp/Project_2/Project-2/src\")\n",
    "\n"
   ]
  },
  {
   "cell_type": "code",
   "execution_count": null,
   "id": "fda20287-e9dc-4019-abb3-1061e3d0622c",
   "metadata": {},
   "outputs": [],
   "source": [
    "import analysis_helper as ah\n",
    "import datetime_helper as dh"
   ]
  },
  {
   "cell_type": "code",
   "execution_count": null,
   "id": "a3c808b4-4cac-4b3f-824b-520b9ad8d251",
   "metadata": {},
   "outputs": [],
   "source": [
    "# define the location of the input file\n",
    "filename_augmento_topics = Path(\"../Project-2/Project_2/augmento_topics.msgpack.zlib\")\n",
    "filename_augmento_data = Path(\"../Project-2/Project_2/augmento_data.msgpack.zlib\")\n",
    "filename_eth_data = Path(\"../Project-2/Project_2/eth_data.msgpack.zlib\")"
   ]
  },
  {
   "cell_type": "code",
   "execution_count": null,
   "id": "46e537bc-0d38-41b1-b9ae-6a36937eccae",
   "metadata": {},
   "outputs": [],
   "source": [
    "isExist = os.path.exists(filename_augmento_topics)\n",
    "\n",
    "print(isExist)"
   ]
  },
  {
   "cell_type": "code",
   "execution_count": null,
   "id": "f063af40-ee66-4899-b8cc-281df5c29fd8",
   "metadata": {},
   "outputs": [],
   "source": [
    "def strip_data_by_time(t_data, data, t_min, t_max):\n",
    "\tdata = np.array([s for s, t in zip(data, t_data) if t >= t_min and t <= t_max])\n",
    "\tt_data = np.array([t for t in t_data if t >= t_min and t <= t_max])\n",
    "\treturn t_data, data"
   ]
  },
  {
   "cell_type": "code",
   "execution_count": null,
   "id": "325fb63f-2b49-4c38-aedf-852d18da0d40",
   "metadata": {},
   "outputs": [],
   "source": [
    "def load_example_data(filename_augmento_topics,\n",
    "                      filename_augmento_data,\n",
    "                      filename_eth_data,\n",
    "                      datetime_start=None,\n",
    "                      datetime_end=None):\n",
    "\n",
    "\t# load the topics\n",
    "\twith open(filename_augmento_topics, \"rb\") as f:\n",
    "\t\ttemp = msgpack.unpackb(zlib.decompress(f.read()))\n",
    "\t\taugmento_topics = {int(k) : v for k, v in temp.items()}\n",
    "\t\taugmento_topics_inv = {v : int(k) for k, v in temp.items()}\n",
    "\t\n",
    "\t# load the augmento data\n",
    "\twith open(filename_augmento_data, \"rb\") as f:\n",
    "\t\ttemp = msgpack.unpackb(zlib.decompress(f.read()))\n",
    "\t\tt_aug_data = np.array([el[\"t_epoch\"] for el in temp], dtype=np.float64)\n",
    "\t\taug_data = np.array([el[\"counts\"] for el in temp], dtype=np.int32)\n",
    "\t\n",
    "\t# load the price data\n",
    "\twith open(filename_eth_data, \"rb\") as f:\n",
    "\t\ttemp = msgpack.unpackb(zlib.decompress(f.read()))\n",
    "\t\tt_price_data = np.array(['Date'in temp], dtype=np.float64)\n",
    "\t\t#price_data = np.array([el[\"open\"] for el in temp], dtype=np.float64)\n",
    "\t\tprice_data = np.array(['Close' in temp], dtype=np.float64)\n",
    "\t\n",
    "\t# set the start and end times if they are specified\n",
    "\tif datetime_start != None:\n",
    "\t\tt_start = dh.datetime_to_epoch(datetime_start)\n",
    "\telse:\n",
    "\t\tt_start = max(np.min(t_aug_data), np.min(t_price_data))\n",
    "\t\n",
    "\tif datetime_end != None:\n",
    "\t\tt_end = dh.datetime_to_epoch(datetime_end)\n",
    "\telse:\n",
    "\t\tt_end = min(np.max(t_aug_data), np.max(t_price_data))\n",
    "\t\n",
    "\t# strip the sentiments and prices outside the shared time range\n",
    "\tt_aug_data, aug_data = strip_data_by_time(t_aug_data, aug_data, t_start, t_end)\n",
    "\tt_price_data, price_data = strip_data_by_time(t_price_data, price_data, t_start, t_end)\n",
    "\t\n",
    "\treturn augmento_topics, augmento_topics_inv, t_aug_data, aug_data, t_price_data, price_data"
   ]
  },
  {
   "cell_type": "raw",
   "id": "69308432-ea38-4d64-86ea-65a8e5bf388c",
   "metadata": {},
   "source": [
    "print(price_data)"
   ]
  },
  {
   "cell_type": "code",
   "execution_count": null,
   "id": "efa9e975-cabf-4b20-8716-7d7393f81490",
   "metadata": {},
   "outputs": [],
   "source": [
    "# load the example data\n",
    "all_data = load_example_data(filename_augmento_topics,\n",
    "                             filename_augmento_data,\n",
    "                             filename_eth_data)\n",
    "aug_topics, aug_topics_inv, t_aug_data, aug_data, t_price_data, price_data = all_data\n",
    "all_topics = aug_data.T.astype(float)\n",
    "\n"
   ]
  },
  {
   "cell_type": "code",
   "execution_count": null,
   "id": "5a66f127-f37a-45ec-a5e3-f9e181e4f83d",
   "metadata": {},
   "outputs": [],
   "source": [
    "# Pick Topics\n",
    "aug_signal_a = aug_data[aug_topics_inv[\"Bullish\"]].astype(np.float64)\n",
    "aug_signal_b = aug_data[aug_topics_inv[\"Bearish\"]].astype(np.float64)"
   ]
  },
  {
   "cell_type": "code",
   "execution_count": null,
   "id": "6843dbac-ca85-465f-8cf0-be5d3f967b0b",
   "metadata": {},
   "outputs": [],
   "source": [
    "# calculate PNL for a given strategy\n",
    "# if sentiment positive go long, else go short\n",
    "# fees are assumed to be 0.75% (taker fee from BITMEX)\n",
    "\n",
    "def strategy(price_data, signal_a, signal_b, window_1 = 24 * 7, window_2 = 24*7,buy_sell_fee = 0.0075, pnl_0 = 1.0):    \n",
    "    sent_score = ah.nb_calc_sentiment_score_a(signal_a,signal_b,window_1,window_2)\n",
    "    pnl = ah.nb_backtest_a(price_data, sent_score, 1.0, buy_sell_fee)\n",
    "    return pnl\n",
    "\n",
    "# PNL of various moving window size for a given combination of topics\n",
    "def window_combination(price_data,top_a,top_b,end_day_x,end_day_y,start_day_x=0,start_day_y=0,buy_sell_fee=0.0075):\n",
    "    total_comb = np.zeros(shape=(end_day_x,end_day_y))\n",
    "    print(\"Calculating...\")\n",
    "    for i in range(start_day_x,end_day_x):\n",
    "        for j in range(start_day_y,end_day_y):\n",
    "            total_comb[i][j] = strategy(price_data,top_a,top_b,window_1=24*(i+1),window_2=24*(j+1),buy_sell_fee = 0.0075)[-1]\n",
    "    print(\"Done.\")\n",
    "    return total_comb[start_day_x:end_day_x,start_day_y:end_day_y]"
   ]
  },
  {
   "cell_type": "code",
   "execution_count": null,
   "id": "0e78c251-5068-4f0d-ad29-9268f8792cfa",
   "metadata": {},
   "outputs": [],
   "source": [
    "\n"
   ]
  },
  {
   "cell_type": "code",
   "execution_count": null,
   "id": "3097caba-e0ba-480c-ae71-2be665ffa950",
   "metadata": {},
   "outputs": [],
   "source": []
  }
 ],
 "metadata": {
  "kernelspec": {
   "display_name": "Python 3 (ipykernel)",
   "language": "python",
   "name": "python3"
  },
  "language_info": {
   "codemirror_mode": {
    "name": "ipython",
    "version": 3
   },
   "file_extension": ".py",
   "mimetype": "text/x-python",
   "name": "python",
   "nbconvert_exporter": "python",
   "pygments_lexer": "ipython3",
   "version": "3.9.7"
  }
 },
 "nbformat": 4,
 "nbformat_minor": 5
}
