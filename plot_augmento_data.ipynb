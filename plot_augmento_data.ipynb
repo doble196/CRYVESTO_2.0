{
 "cells": [
  {
   "cell_type": "code",
   "execution_count": 16,
   "id": "bffd6374-6762-4d56-8201-3f6189519181",
   "metadata": {},
   "outputs": [],
   "source": [
    "# import necessry libraries\n",
    "import sys\n",
    "import os\n",
    "import msgpack\n",
    "import zlib\n",
    "import numpy as np\n",
    "import datetime as dt\n",
    "import datetime\n",
    "import pandas as pd\n",
    "import matplotlib.pyplot as plt\n",
    "import matplotlib.dates as md\n",
    "from pathlib import Path"
   ]
  },
  {
   "cell_type": "code",
   "execution_count": 2,
   "id": "da254df1-ecd7-4722-a441-52979f867881",
   "metadata": {},
   "outputs": [],
   "source": [
    "# import files from src\n",
    "#sys.path.insert(0,\"Desktop/Fintech_Bootcamp/Project_2/Project-2/src\")\n",
    "\n"
   ]
  },
  {
   "cell_type": "code",
   "execution_count": 3,
   "id": "fda20287-e9dc-4019-abb3-1061e3d0622c",
   "metadata": {},
   "outputs": [],
   "source": [
    "import analysis_helper as ah\n",
    "import datetime_helper as dh"
   ]
  },
  {
   "cell_type": "code",
   "execution_count": 4,
   "id": "a3c808b4-4cac-4b3f-824b-520b9ad8d251",
   "metadata": {},
   "outputs": [],
   "source": [
    "# define the location of the input file\n",
    "filename_augmento_topics = Path(\"../Project-2/Project_2/augmento_topics.msgpack.zlib\")\n",
    "filename_augmento_data = Path(\"../Project-2/Project_2/augmento_data.msgpack.zlib\")\n",
    "filename_eth_data = Path(\"../Project-2/Project_2/eth_data.msgpack.zlib\")"
   ]
  },
  {
   "cell_type": "code",
   "execution_count": 5,
   "id": "46e537bc-0d38-41b1-b9ae-6a36937eccae",
   "metadata": {},
   "outputs": [
    {
     "name": "stdout",
     "output_type": "stream",
     "text": [
      "True\n"
     ]
    }
   ],
   "source": [
    "isExist = os.path.exists(filename_augmento_topics)\n",
    "\n",
    "print(isExist)"
   ]
  },
  {
   "cell_type": "code",
   "execution_count": 6,
   "id": "f063af40-ee66-4899-b8cc-281df5c29fd8",
   "metadata": {},
   "outputs": [],
   "source": [
    "def strip_data_by_time(t_data, data, t_min, t_max):\n",
    "\tdata = np.array([s for s, t in zip(data, t_data) if t >= t_min and t <= t_max])\n",
    "\tt_data = np.array([t for t in t_data if t >= t_min and t <= t_max])\n",
    "\treturn t_data, data"
   ]
  },
  {
   "cell_type": "code",
   "execution_count": 7,
   "id": "325fb63f-2b49-4c38-aedf-852d18da0d40",
   "metadata": {},
   "outputs": [],
   "source": [
    "def load_example_data(filename_augmento_topics,\n",
    "                      filename_augmento_data,\n",
    "                      filename_eth_data,\n",
    "                      datetime_start=None,\n",
    "                      datetime_end=None):\n",
    "\n",
    "    # load the topics\n",
    "    with open(filename_augmento_topics, \"rb\") as f:\n",
    "        temp = msgpack.unpackb(zlib.decompress(f.read()))\n",
    "        augmento_topics = {int(k) : v for k, v in temp.items()}\n",
    "        augmento_topics_inv = {v : int(k) for k, v in temp.items()}\n",
    "    \n",
    "    # load the augmento data\n",
    "    with open(filename_augmento_data, \"rb\") as f:\n",
    "        temp = msgpack.unpackb(zlib.decompress(f.read()))\n",
    "        t_aug_data = np.array([el[\"t_epoch\"] for el in temp], dtype=np.float64)\n",
    "        aug_data = np.array([el[\"counts\"] for el in temp], dtype=np.int32)\n",
    "\n",
    "    # load the price data\n",
    "    with open(filename_eth_data, \"rb\") as f:\n",
    "        temp = msgpack.unpackb(zlib.decompress(f.read()))\n",
    "        eth_data = pd.DataFrame(temp['data'])\n",
    "        t_price = eth_data['Date'].to_numpy().astype('datetime64')\n",
    "        t_price_ = t_price.astype('float64')\n",
    "        price_data = np.array(eth_data['Close'], dtype=np.float64)\n",
    "\n",
    "\t# set the start and end times if they are specified\n",
    "#    if datetime_start != None:\n",
    "#        t_start = dh.datetime_to_epoch(datetime_start)\n",
    "#    else:\n",
    "        t_start = max(np.min(t_aug_data), np.min(t_price_))\n",
    "\n",
    "#    if datetime_end != None:\n",
    "#        t_end = dh.datetime_to_epoch(datetime_end)\n",
    "#    else:\n",
    "        t_end = min(np.max(t_aug_data), np.max(t_price_))\n",
    "\n",
    "    # strip the sentiments and prices outside the shared time range\n",
    " #       t_aug_data, aug_data = strip_data_by_time(t_aug_data, aug_data, t_start, t_end)\n",
    " #       t_price_, price_data = strip_data_by_time(t_price_, price_data, t_start, t_end)\n",
    "\n",
    "        return augmento_topics, augmento_topics_inv, t_aug_data, aug_data, t_price_, price_data"
   ]
  },
  {
   "cell_type": "code",
   "execution_count": 8,
   "id": "efa9e975-cabf-4b20-8716-7d7393f81490",
   "metadata": {},
   "outputs": [
    {
     "name": "stderr",
     "output_type": "stream",
     "text": [
      "C:\\Users\\kraso\\AppData\\Local\\Temp\\ipykernel_6188\\3664752054.py:23: DeprecationWarning: parsing timezone aware datetimes is deprecated; this will raise an error in the future\n",
      "  t_price = eth_data['Date'].to_numpy().astype('datetime64')\n"
     ]
    }
   ],
   "source": [
    "# load the example data\n",
    "all_data = load_example_data(filename_augmento_topics,\n",
    "                             filename_augmento_data,\n",
    "                             filename_eth_data)\n",
    "aug_topics, aug_topics_inv, t_aug_data, aug_data, t_price_, price_data = all_data\n",
    "all_topics = aug_data.T.astype(float)\n",
    "\n"
   ]
  },
  {
   "cell_type": "code",
   "execution_count": 31,
   "id": "7335c156-f8e6-4397-9f00-3b5d42035020",
   "metadata": {},
   "outputs": [
    {
     "data": {
      "text/plain": [
       "array([1.5101856e+12, 1.5102720e+12, 1.5103584e+12, ..., 1.6538688e+12,\n",
       "       1.6539552e+12, 1.6540416e+12])"
      ]
     },
     "execution_count": 31,
     "metadata": {},
     "output_type": "execute_result"
    }
   ],
   "source": [
    "t_price_"
   ]
  },
  {
   "cell_type": "code",
   "execution_count": 9,
   "id": "5a66f127-f37a-45ec-a5e3-f9e181e4f83d",
   "metadata": {},
   "outputs": [],
   "source": [
    "# Pick Topics\n",
    "aug_signal_a = aug_data[aug_topics_inv[\"Bullish\"]].astype(np.float64)\n",
    "aug_signal_b = aug_data[aug_topics_inv[\"Bearish\"]].astype(np.float64)"
   ]
  },
  {
   "cell_type": "code",
   "execution_count": 24,
   "id": "a70633de-708e-40b6-8fe8-d29733f9ff56",
   "metadata": {},
   "outputs": [],
   "source": [
    "# define the window size for the sentiment score calculation\n",
    "n_days = 7\n",
    "window_size = 24 * n_days\n",
    "\n",
    "# generate the sentiment score\n",
    "sent_score = ah.nb_calc_sentiment_score_a(aug_signal_a, aug_signal_b, window_size, window_size)\n",
    "\n",
    "# define some parameters for the backtest\n",
    "start_pnl = 1.0\n",
    "buy_sell_fee = 0.0\n",
    "\n"
   ]
  },
  {
   "cell_type": "code",
   "execution_count": 26,
   "id": "0c1600e8-acb8-44b2-aeac-f84d86bd3a90",
   "metadata": {},
   "outputs": [],
   "source": [
    "def nb_backtest_a(price, sent_score, start_pnl, buy_sell_fee):\n",
    "\t# example backtest with approximate model for long/short contracts\n",
    "\t\n",
    "\t# create an array to hold our pnl, and set the first value\n",
    "\tpnl = np.zeros(price.shape, dtype=np.float64)\n",
    "\tpnl[0] = start_pnl\n",
    "\t\n",
    "\t# for each step, run the market model\n",
    "\tfor i_p in range(1, price.shape[0]):\n",
    "\t\t\n",
    "\t\t# if sentiment score is positive, simulate long position\n",
    "\t\t# else if sentiment score is negative, simulate short position\n",
    "\t\t# else if the sentiment score is 0.0, hold\n",
    "\t\t# (note that this is a very approximate market simulation!)\n",
    "\t\tn_sample_delay = 2\n",
    "\t\tif i_p < n_sample_delay:\n",
    "\t\t\tpnl[i_p] = pnl[i_p-1]\n",
    "\t\tif sent_score[i_p-n_sample_delay] > 0.0:\n",
    "\t\t\tpnl[i_p] = (price[i_p] / price[i_p-1]) * pnl[i_p-1]\n",
    "\t\telif sent_score[i_p-n_sample_delay] <= 0.0:\n",
    "\t\t\tpnl[i_p] = (price[i_p-1] / price[i_p]) * pnl[i_p-1]\n",
    "\t\telif sent_score[i_p-n_sample_delay] == 0.0:\n",
    "\t\t\tpnl[i_p] = pnl[i_p-1]\n",
    "\t\t\n",
    "\t\t# simulate a trade fee if we cross from long to short, or visa versa\n",
    "\t\tif i_p > 1 and np.sign(sent_score[i_p-1]) != np.sign(sent_score[i_p-2]):\n",
    "\t\t\tpnl[i_p] = pnl[i_p] - (buy_sell_fee * pnl[i_p])\n",
    "\t\n",
    "\treturn pnl"
   ]
  },
  {
   "cell_type": "code",
   "execution_count": 27,
   "id": "c32be218-80e6-44aa-8725-0d1889021cd8",
   "metadata": {},
   "outputs": [
    {
     "ename": "IndexError",
     "evalue": "index 93 is out of bounds for axis 0 with size 93",
     "output_type": "error",
     "traceback": [
      "\u001b[1;31m---------------------------------------------------------------------------\u001b[0m",
      "\u001b[1;31mIndexError\u001b[0m                                Traceback (most recent call last)",
      "Input \u001b[1;32mIn [27]\u001b[0m, in \u001b[0;36m<cell line: 2>\u001b[1;34m()\u001b[0m\n\u001b[0;32m      1\u001b[0m \u001b[38;5;66;03m# run the backtest\u001b[39;00m\n\u001b[1;32m----> 2\u001b[0m pnl \u001b[38;5;241m=\u001b[39m \u001b[43mnb_backtest_a\u001b[49m\u001b[43m(\u001b[49m\u001b[43mprice_data\u001b[49m\u001b[43m,\u001b[49m\u001b[43m \u001b[49m\u001b[43msent_score\u001b[49m\u001b[43m,\u001b[49m\u001b[43m \u001b[49m\u001b[43mstart_pnl\u001b[49m\u001b[43m,\u001b[49m\u001b[43m \u001b[49m\u001b[43mbuy_sell_fee\u001b[49m\u001b[43m)\u001b[49m\n",
      "Input \u001b[1;32mIn [26]\u001b[0m, in \u001b[0;36mnb_backtest_a\u001b[1;34m(price, sent_score, start_pnl, buy_sell_fee)\u001b[0m\n\u001b[0;32m     23\u001b[0m \t\tpnl[i_p] \u001b[38;5;241m=\u001b[39m pnl[i_p\u001b[38;5;241m-\u001b[39m\u001b[38;5;241m1\u001b[39m]\n\u001b[0;32m     25\u001b[0m \t\u001b[38;5;66;03m# simulate a trade fee if we cross from long to short, or visa versa\u001b[39;00m\n\u001b[1;32m---> 26\u001b[0m \t\u001b[38;5;28;01mif\u001b[39;00m i_p \u001b[38;5;241m>\u001b[39m \u001b[38;5;241m1\u001b[39m \u001b[38;5;129;01mand\u001b[39;00m np\u001b[38;5;241m.\u001b[39msign(\u001b[43msent_score\u001b[49m\u001b[43m[\u001b[49m\u001b[43mi_p\u001b[49m\u001b[38;5;241;43m-\u001b[39;49m\u001b[38;5;241;43m1\u001b[39;49m\u001b[43m]\u001b[49m) \u001b[38;5;241m!=\u001b[39m np\u001b[38;5;241m.\u001b[39msign(sent_score[i_p\u001b[38;5;241m-\u001b[39m\u001b[38;5;241m2\u001b[39m]):\n\u001b[0;32m     27\u001b[0m \t\tpnl[i_p] \u001b[38;5;241m=\u001b[39m pnl[i_p] \u001b[38;5;241m-\u001b[39m (buy_sell_fee \u001b[38;5;241m*\u001b[39m pnl[i_p])\n\u001b[0;32m     29\u001b[0m \u001b[38;5;28;01mreturn\u001b[39;00m pnl\n",
      "\u001b[1;31mIndexError\u001b[0m: index 93 is out of bounds for axis 0 with size 93"
     ]
    }
   ],
   "source": [
    "# run the backtest\n",
    "pnl = nb_backtest_a(price_data, sent_score, start_pnl, buy_sell_fee)"
   ]
  },
  {
   "cell_type": "code",
   "execution_count": 22,
   "id": "5b2f6b03-9838-423c-9e2e-3b07cf40ee81",
   "metadata": {},
   "outputs": [
    {
     "ename": "OSError",
     "evalue": "[Errno 22] Invalid argument",
     "output_type": "error",
     "traceback": [
      "\u001b[1;31m---------------------------------------------------------------------------\u001b[0m",
      "\u001b[1;31mOSError\u001b[0m                                   Traceback (most recent call last)",
      "Input \u001b[1;32mIn [22]\u001b[0m, in \u001b[0;36m<cell line: 6>\u001b[1;34m()\u001b[0m\n\u001b[0;32m      4\u001b[0m \u001b[38;5;66;03m# initialise some labels for the plot\u001b[39;00m\n\u001b[0;32m      5\u001b[0m datenum_aug_data \u001b[38;5;241m=\u001b[39m [md\u001b[38;5;241m.\u001b[39mdate2num(dt\u001b[38;5;241m.\u001b[39mdatetime\u001b[38;5;241m.\u001b[39mfromtimestamp(el)) \u001b[38;5;28;01mfor\u001b[39;00m el \u001b[38;5;129;01min\u001b[39;00m t_aug_data]\n\u001b[1;32m----> 6\u001b[0m datenum_price_data \u001b[38;5;241m=\u001b[39m [md\u001b[38;5;241m.\u001b[39mdate2num(dt\u001b[38;5;241m.\u001b[39mdatetime\u001b[38;5;241m.\u001b[39mfromtimestamp(el)) \u001b[38;5;28;01mfor\u001b[39;00m el \u001b[38;5;129;01min\u001b[39;00m t_price_]\n\u001b[0;32m      8\u001b[0m \u001b[38;5;66;03m# plot stuff\u001b[39;00m\n\u001b[0;32m      9\u001b[0m ax[\u001b[38;5;241m0\u001b[39m]\u001b[38;5;241m.\u001b[39mgrid(linewidth\u001b[38;5;241m=\u001b[39m\u001b[38;5;241m0.4\u001b[39m)\n",
      "Input \u001b[1;32mIn [22]\u001b[0m, in \u001b[0;36m<listcomp>\u001b[1;34m(.0)\u001b[0m\n\u001b[0;32m      4\u001b[0m \u001b[38;5;66;03m# initialise some labels for the plot\u001b[39;00m\n\u001b[0;32m      5\u001b[0m datenum_aug_data \u001b[38;5;241m=\u001b[39m [md\u001b[38;5;241m.\u001b[39mdate2num(dt\u001b[38;5;241m.\u001b[39mdatetime\u001b[38;5;241m.\u001b[39mfromtimestamp(el)) \u001b[38;5;28;01mfor\u001b[39;00m el \u001b[38;5;129;01min\u001b[39;00m t_aug_data]\n\u001b[1;32m----> 6\u001b[0m datenum_price_data \u001b[38;5;241m=\u001b[39m [md\u001b[38;5;241m.\u001b[39mdate2num(\u001b[43mdt\u001b[49m\u001b[38;5;241;43m.\u001b[39;49m\u001b[43mdatetime\u001b[49m\u001b[38;5;241;43m.\u001b[39;49m\u001b[43mfromtimestamp\u001b[49m\u001b[43m(\u001b[49m\u001b[43mel\u001b[49m\u001b[43m)\u001b[49m) \u001b[38;5;28;01mfor\u001b[39;00m el \u001b[38;5;129;01min\u001b[39;00m t_price_]\n\u001b[0;32m      8\u001b[0m \u001b[38;5;66;03m# plot stuff\u001b[39;00m\n\u001b[0;32m      9\u001b[0m ax[\u001b[38;5;241m0\u001b[39m]\u001b[38;5;241m.\u001b[39mgrid(linewidth\u001b[38;5;241m=\u001b[39m\u001b[38;5;241m0.4\u001b[39m)\n",
      "\u001b[1;31mOSError\u001b[0m: [Errno 22] Invalid argument"
     ]
    },
    {
     "data": {
      "image/png": "[encoded data removed]",
      "text/plain": [
       "<Figure size 1440x1440 with 3 Axes>"
      ]
     },
     "metadata": {
      "needs_background": "light"
     },
     "output_type": "display_data"
    }
   ],
   "source": [
    "# set up the figure\n",
    "fig, ax = plt.subplots(3, 1, sharex=True, sharey=False, figsize=(20,20))\n",
    "\n",
    "# initialise some labels for the plot\n",
    "datenum_aug_data = [md.date2num(dt.datetime.fromtimestamp(el)) for el in t_aug_data]\n",
    "datenum_price_data = [md.date2num(dt.datetime.fromtimestamp(el)) for el in t_price_]\n",
    "\n",
    "# plot stuff\n",
    "ax[0].grid(linewidth=0.4)\n",
    "ax[1].grid(linewidth=0.4)\n",
    "ax[2].grid(linewidth=0.4)\n",
    "ax[0].plot(datenum_price_data, price_data, linewidth=0.5)\n",
    "ax[1].plot(datenum_aug_data, sent_score, linewidth=0.5)\n",
    "ax[2].plot(datenum_price_data, pnl, linewidth=0.5)\n",
    "\n",
    "# label axes\n",
    "ax[0].set_ylabel(\"Price\")\n",
    "ax[1].set_ylabel(\"Seniment score\")\n",
    "ax[2].set_ylabel(\"PnL\")\n",
    "ax[1].set_ylim([-5.5, 5.5])\n",
    "\n",
    "ax[0].set_title(\"4_basic_strategy_example.py\")\n",
    "\n",
    "# generate the time axes\n",
    "plt.subplots_adjust(bottom=0.2)\n",
    "plt.xticks( rotation=25 )\n",
    "ax[0]=plt.gca()\n",
    "xfmt = md.DateFormatter('%Y-%m-%d')\n",
    "ax[0].xaxis.set_major_formatter(xfmt)\n",
    "\n",
    "# show the plot\n",
    "plt.show()"
   ]
  },
  {
   "cell_type": "code",
   "execution_count": null,
   "id": "6843dbac-ca85-465f-8cf0-be5d3f967b0b",
   "metadata": {},
   "outputs": [],
   "source": [
    "# calculate PNL for a given strategy\n",
    "# if sentiment positive go long, else go short\n",
    "# fees are assumed to be 0.75% (taker fee from BITMEX)\n",
    "\n",
    "def strategy(price_data, signal_a, signal_b, window_1 = 24 * 7, window_2 = 24*7,buy_sell_fee = 0.0075, pnl_0 = 1.0):    \n",
    "    sent_score = ah.nb_calc_sentiment_score_a(signal_a,signal_b,window_1,window_2)\n",
    "    pnl = ah.nb_backtest_a(price_data, sent_score, 1.0, buy_sell_fee)\n",
    "    return pnl\n",
    "\n",
    "# PNL of various moving window size for a given combination of topics\n",
    "def window_combination(price_data,top_a,top_b,end_day_x,end_day_y,start_day_x=0,start_day_y=0,buy_sell_fee=0.0075):\n",
    "    total_comb = np.zeros(shape=(end_day_x,end_day_y))\n",
    "    print(\"Calculating...\")\n",
    "    for i in range(start_day_x,end_day_x):\n",
    "        for j in range(start_day_y,end_day_y):\n",
    "            total_comb[i][j] = strategy(price_data,top_a,top_b,window_1=24*(i+1),window_2=24*(j+1),buy_sell_fee = 0.0075)[-1]\n",
    "    print(\"Done.\")\n",
    "    return total_comb[start_day_x:end_day_x,start_day_y:end_day_y]"
   ]
  },
  {
   "cell_type": "code",
   "execution_count": null,
   "id": "0e78c251-5068-4f0d-ad29-9268f8792cfa",
   "metadata": {},
   "outputs": [],
   "source": [
    "\n"
   ]
  },
  {
   "cell_type": "code",
   "execution_count": null,
   "id": "3097caba-e0ba-480c-ae71-2be665ffa950",
   "metadata": {},
   "outputs": [],
   "source": []
  }
 ],
 "metadata": {
  "kernelspec": {
   "display_name": "Python 3 (ipykernel)",
   "language": "python",
   "name": "python3"
  },
  "language_info": {
   "codemirror_mode": {
    "name": "ipython",
    "version": 3
   },
   "file_extension": ".py",
   "mimetype": "text/x-python",
   "name": "python",
   "nbconvert_exporter": "python",
   "pygments_lexer": "ipython3",
   "version": "3.9.7"
  }
 },
 "nbformat": 4,
 "nbformat_minor": 5
}
