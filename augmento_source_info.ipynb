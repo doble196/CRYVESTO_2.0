{
 "cells": [
  {
   "cell_type": "code",
   "execution_count": 1,
   "id": "b9ce634b-9be3-47fe-91a0-a2825ede9005",
   "metadata": {},
   "outputs": [],
   "source": [
    "# necessary library import\n",
    "import sys\n",
    "import requests\n",
    "import datetime\n",
    "import time\n",
    "import zlib\n",
    "import msgpack\n",
    "import os.path\n",
    "# import files from src\n",
    "sys.path.insert(0, \"src\")\n",
    "# import helper_functions as hf\n",
    "# import io_helper as ioh"
   ]
  },
  {
   "cell_type": "code",
   "execution_count": 2,
   "id": "da12d7d4-157c-471e-9a69-386e388dcecd",
   "metadata": {},
   "outputs": [
    {
     "name": "stdout",
     "output_type": "stream",
     "text": [
      "True\n"
     ]
    }
   ],
   "source": [
    "# define where we're going to save the data\n",
    "path_save_data = \"Project_2\"\n",
    "\n",
    "# Check whether the specified path exists or not\n",
    "isExist = os.path.exists(path_save_data)\n",
    "# if not isExist:\n",
    "    # Create a new directory because it does not exist \n",
    " #   os.makedirs(path_save_data)\n",
    " #   print(\"The new directory is created!\")\n",
    "\n",
    "print(isExist)"
   ]
  },
  {
   "cell_type": "code",
   "execution_count": 3,
   "id": "0aba4191-9144-4dac-8231-1fd73ddeabce",
   "metadata": {},
   "outputs": [
    {
     "name": "stdout",
     "output_type": "stream",
     "text": [
      "saving topics to Project_2/augmento_topics.msgpack.zlib\n",
      "saving sources to Project_2/augmento_sources.msgpack.zlib\n",
      "saving coins to Project_2/augmento_coins.msgpack.zlib\n",
      "saving bin_sizes to Project_2/augmento_bin_sizes.msgpack.zlib\n",
      "done!\n"
     ]
    }
   ],
   "source": [
    "# define the urls of the endpoints for all the info\n",
    "topics_endpoint_url = \"http://api-dev.augmento.ai/v0.1/topics\"\n",
    "sources_endpoint_url = \"http://api-dev.augmento.ai/v0.1/sources\"\n",
    "coins_endpoint_url = \"http://api-dev.augmento.ai/v0.1/coins\"\n",
    "bin_sizes_endpoint_url = \"http://api-dev.augmento.ai/v0.1/bin_sizes\"\n",
    "\n",
    "path_save_data = \"Project_2\"\n",
    "filename_save_topics = \"{:s}/augmento_topics.msgpack.zlib\".format(path_save_data)\n",
    "filename_save_sources = \"{:s}/augmento_sources.msgpack.zlib\".format(path_save_data)\n",
    "filename_save_coins = \"{:s}/augmento_coins.msgpack.zlib\".format(path_save_data)\n",
    "filename_save_bin_sizes = \"{:s}/augmento_bin_sizes.msgpack.zlib\".format(path_save_data)\n",
    "\n",
    "\n",
    "\n",
    "# save a list of the augmento topics\n",
    "r = requests.request(\"GET\", topics_endpoint_url, timeout=10)\n",
    "print(\"saving topics to {:s}\".format(filename_save_topics))\n",
    "with open(filename_save_topics, \"wb\") as f:\n",
    "\tf.write(zlib.compress(msgpack.packb(r.json())))\n",
    "\n",
    "# save a list of the augmento topics\n",
    "r = requests.request(\"GET\", sources_endpoint_url, timeout=10)\n",
    "print(\"saving sources to {:s}\".format(filename_save_sources))\n",
    "with open(filename_save_sources, \"wb\") as f:\n",
    "\tf.write(zlib.compress(msgpack.packb(r.json())))\n",
    "\n",
    "# save a list of the augmento topics\n",
    "r = requests.request(\"GET\", coins_endpoint_url, timeout=10)\n",
    "print(\"saving coins to {:s}\".format(filename_save_coins))\n",
    "with open(filename_save_coins, \"wb\") as f:\n",
    "\tf.write(zlib.compress(msgpack.packb(r.json())))\n",
    "\n",
    "# save a list of the augmento topics\n",
    "r = requests.request(\"GET\", bin_sizes_endpoint_url, timeout=10)\n",
    "print(\"saving bin_sizes to {:s}\".format(filename_save_bin_sizes))\n",
    "with open(filename_save_bin_sizes, \"wb\") as f:\n",
    "\tf.write(zlib.compress(msgpack.packb(r.json())))\n",
    "\n",
    "\n",
    "print(\"done!\")"
   ]
  },
  {
   "cell_type": "code",
   "execution_count": null,
   "id": "1e566998-1405-46a9-b972-4149fd8c0810",
   "metadata": {},
   "outputs": [],
   "source": []
  }
 ],
 "metadata": {
  "kernelspec": {
   "display_name": "Python 3 (ipykernel)",
   "language": "python",
   "name": "python3"
  },
  "language_info": {
   "codemirror_mode": {
    "name": "ipython",
    "version": 3
   },
   "file_extension": ".py",
   "mimetype": "text/x-python",
   "name": "python",
   "nbconvert_exporter": "python",
   "pygments_lexer": "ipython3",
   "version": "3.9.7"
  }
 },
 "nbformat": 4,
 "nbformat_minor": 5
}
