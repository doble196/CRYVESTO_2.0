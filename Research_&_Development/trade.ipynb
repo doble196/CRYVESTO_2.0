{
 "cells": [
  {
   "cell_type": "code",
   "execution_count": 1,
   "id": "a236cb02-dcf2-4815-9053-791b6a898dff",
   "metadata": {},
   "outputs": [],
   "source": [
    "import pandas as pd\n",
    "import os\n",
    "from dotenv import load_dotenv\n",
    "import alpaca_trade_api as tradeapi\n",
    "\n"
   ]
  },
  {
   "cell_type": "code",
   "execution_count": 2,
   "id": "6362d659-4c14-4474-916c-42e12f3dc850",
   "metadata": {},
   "outputs": [
    {
     "data": {
      "text/plain": [
       "True"
      ]
     },
     "execution_count": 2,
     "metadata": {},
     "output_type": "execute_result"
    }
   ],
   "source": [
    "load_dotenv('my_api.env')"
   ]
  },
  {
   "cell_type": "code",
   "execution_count": 3,
   "id": "f322373c-844c-4820-ac74-79c1a8b5a5fa",
   "metadata": {},
   "outputs": [],
   "source": [
    "## HARD CODING FOR NOW..FOR AWS LAMBDA..JUST SO I CAN TEST\n",
    "## HAS TO BE CHANGED TO DO A LOADENV\n",
    "\n",
    "alpaca_secret_key='QrWTvuqjdWDgx7Klqe5iWIR8K5iESy6DFugfV4Xy'\n",
    "alpaca_api_key='PKSYV8TUR5L9XAGR5AHC'"
   ]
  },
  {
   "cell_type": "code",
   "execution_count": 4,
   "id": "58073320-8c8a-4cf9-a471-d3452dd99338",
   "metadata": {},
   "outputs": [
    {
     "data": {
      "text/plain": [
       "'PKSYV8TUR5L9XAGR5AHC'"
      ]
     },
     "execution_count": 4,
     "metadata": {},
     "output_type": "execute_result"
    }
   ],
   "source": [
    "alpaca_api_key"
   ]
  },
  {
   "cell_type": "code",
   "execution_count": 5,
   "id": "7ea5c2b2-6aa3-447f-b4d1-b87fea188989",
   "metadata": {},
   "outputs": [],
   "source": [
    "# Set the variables for the Alpaca API and secret keys\n",
    "#alpaca_api_key = os.getenv('ALPACA_API_KEY')\n",
    "#alpaca_secret_key = os.getenv('ALPACA_SECRET_KEY')\n",
    "\n",
    "# Create the Alpaca tradeapi.REST object\n",
    "# YOUR CODE HERE\n",
    "api = tradeapi.REST(\n",
    "    alpaca_api_key,\n",
    "    alpaca_secret_key,\n",
    " #   api_version='v2'\n",
    "    'https://paper-api.alpaca.markets'\n",
    ")"
   ]
  },
  {
   "cell_type": "code",
   "execution_count": 6,
   "id": "185dc083-09b0-4d15-b1e0-e6f04ab9b2bb",
   "metadata": {},
   "outputs": [
    {
     "data": {
      "text/plain": [
       "[]"
      ]
     },
     "execution_count": 6,
     "metadata": {},
     "output_type": "execute_result"
    }
   ],
   "source": [
    "api.get_portfolio_history()\n",
    "api.list_orders()"
   ]
  },
  {
   "cell_type": "code",
   "execution_count": 7,
   "id": "fb35aa6c-efba-439a-bf4d-51d14dcfd1c8",
   "metadata": {},
   "outputs": [],
   "source": [
    "\n",
    "\n",
    "# Submit a market order to buy 1 share of Apple at market price\n",
    "order_result= api.submit_order(\n",
    "    symbol='BTCUSD',\n",
    "    qty=1,\n",
    "    side='buy',\n",
    "    type='market',\n",
    "    time_in_force='gtc'\n",
    ")\n",
    "\n"
   ]
  },
  {
   "cell_type": "code",
   "execution_count": 8,
   "id": "1f8079b0-8aa6-4d77-8307-96426ba397f7",
   "metadata": {},
   "outputs": [
    {
     "data": {
      "text/plain": [
       "Order({   'asset_class': 'crypto',\n",
       "    'asset_id': '64bbff51-59d6-4b3c-9351-13ad85e3c752',\n",
       "    'canceled_at': None,\n",
       "    'client_order_id': 'a8638cb2-68eb-4c45-8acb-c9d4b7489fa8',\n",
       "    'commission': '60.303',\n",
       "    'created_at': '2022-07-06T15:55:55.035379893Z',\n",
       "    'expired_at': None,\n",
       "    'extended_hours': False,\n",
       "    'failed_at': None,\n",
       "    'filled_at': None,\n",
       "    'filled_avg_price': None,\n",
       "    'filled_qty': '0',\n",
       "    'hwm': None,\n",
       "    'id': '7eb2fa43-48ea-4eb6-b026-6c8f6931ed9c',\n",
       "    'legs': None,\n",
       "    'limit_price': None,\n",
       "    'notional': None,\n",
       "    'order_class': '',\n",
       "    'order_type': 'market',\n",
       "    'qty': '1',\n",
       "    'replaced_at': None,\n",
       "    'replaced_by': None,\n",
       "    'replaces': None,\n",
       "    'side': 'buy',\n",
       "    'source': None,\n",
       "    'status': 'pending_new',\n",
       "    'stop_price': None,\n",
       "    'submitted_at': '2022-07-06T15:55:55.032841213Z',\n",
       "    'subtag': None,\n",
       "    'symbol': 'BTCUSD',\n",
       "    'time_in_force': 'gtc',\n",
       "    'trail_percent': None,\n",
       "    'trail_price': None,\n",
       "    'type': 'market',\n",
       "    'updated_at': '2022-07-06T15:55:55.035441323Z'})"
      ]
     },
     "execution_count": 8,
     "metadata": {},
     "output_type": "execute_result"
    }
   ],
   "source": [
    "order_result"
   ]
  },
  {
   "cell_type": "code",
   "execution_count": 8,
   "id": "3035a4d8-2773-4741-afe9-eb4f2f735ebd",
   "metadata": {},
   "outputs": [
    {
     "data": {
      "text/plain": [
       "Order({   'asset_class': 'us_equity',\n",
       "    'asset_id': '03fb07bb-5db1-4077-8dea-5d711b272625',\n",
       "    'canceled_at': None,\n",
       "    'client_order_id': '8e29d1db-2f4f-49d1-a9e4-dfc6c1fa2529',\n",
       "    'created_at': '2022-07-03T02:58:32.296418883Z',\n",
       "    'expired_at': None,\n",
       "    'extended_hours': False,\n",
       "    'failed_at': None,\n",
       "    'filled_at': None,\n",
       "    'filled_avg_price': None,\n",
       "    'filled_qty': '0',\n",
       "    'hwm': None,\n",
       "    'id': '8f8a030e-b55f-4e97-b730-b3235c2e750a',\n",
       "    'legs': None,\n",
       "    'limit_price': '20.5',\n",
       "    'notional': None,\n",
       "    'order_class': '',\n",
       "    'order_type': 'limit',\n",
       "    'qty': '1',\n",
       "    'replaced_at': None,\n",
       "    'replaced_by': None,\n",
       "    'replaces': None,\n",
       "    'side': 'sell',\n",
       "    'source': None,\n",
       "    'status': 'accepted',\n",
       "    'stop_price': None,\n",
       "    'submitted_at': '2022-07-03T02:58:32.294410973Z',\n",
       "    'subtag': None,\n",
       "    'symbol': 'AMD',\n",
       "    'time_in_force': 'opg',\n",
       "    'trail_percent': None,\n",
       "    'trail_price': None,\n",
       "    'type': 'limit',\n",
       "    'updated_at': '2022-07-03T02:58:32.296418883Z'})"
      ]
     },
     "execution_count": 8,
     "metadata": {},
     "output_type": "execute_result"
    }
   ],
   "source": [
    "# Submit a limit order to attempt to sell 1 share of AMD at a\n",
    "# particular price ($20.50) when the market opens\n",
    "api.submit_order(\n",
    "    symbol='AMD',\n",
    "    qty=1,\n",
    "    side='sell',\n",
    "    type='limit',\n",
    "    time_in_force='opg',\n",
    "    limit_price=20.50\n",
    ")"
   ]
  },
  {
   "cell_type": "code",
   "execution_count": 13,
   "id": "b4d630ce-164e-4894-a96e-7e44e5b057f5",
   "metadata": {},
   "outputs": [
    {
     "name": "stdout",
     "output_type": "stream",
     "text": [
      "Price was $20101\n"
     ]
    }
   ],
   "source": [
    "my_order = api.get_order_by_client_order_id(order_result.client_order_id)\n",
    "print('Price was ${}'.format(my_order.filled_avg_price))\n",
    "\n"
   ]
  },
  {
   "cell_type": "code",
   "execution_count": 10,
   "id": "b9113811-5d1a-4749-a852-036f9bb29024",
   "metadata": {},
   "outputs": [
    {
     "name": "stdout",
     "output_type": "stream",
     "text": [
      "[Order({   'asset_class': 'crypto',\n",
      "    'asset_id': '64bbff51-59d6-4b3c-9351-13ad85e3c752',\n",
      "    'canceled_at': None,\n",
      "    'client_order_id': '9665c4d3-f028-4b3a-a0aa-e656a0da14e9',\n",
      "    'commission': '57.708',\n",
      "    'created_at': '2022-07-03T02:58:32.022503317Z',\n",
      "    'expired_at': None,\n",
      "    'extended_hours': False,\n",
      "    'failed_at': None,\n",
      "    'filled_at': '2022-07-03T02:58:32.04605095Z',\n",
      "    'filled_avg_price': '19236',\n",
      "    'filled_qty': '1',\n",
      "    'hwm': None,\n",
      "    'id': 'd7a28b6a-bf8a-4b05-a1b5-1e389f8010b8',\n",
      "    'legs': None,\n",
      "    'limit_price': None,\n",
      "    'notional': None,\n",
      "    'order_class': '',\n",
      "    'order_type': 'market',\n",
      "    'qty': '1',\n",
      "    'replaced_at': None,\n",
      "    'replaced_by': None,\n",
      "    'replaces': None,\n",
      "    'side': 'buy',\n",
      "    'source': None,\n",
      "    'status': 'filled',\n",
      "    'stop_price': None,\n",
      "    'submitted_at': '2022-07-03T02:58:32.019066938Z',\n",
      "    'subtag': None,\n",
      "    'symbol': 'BTCUSD',\n",
      "    'time_in_force': 'gtc',\n",
      "    'trail_percent': None,\n",
      "    'trail_price': None,\n",
      "    'type': 'market',\n",
      "    'updated_at': '2022-07-03T02:58:32.049584446Z'}), Order({   'asset_class': 'crypto',\n",
      "    'asset_id': '64bbff51-59d6-4b3c-9351-13ad85e3c752',\n",
      "    'canceled_at': None,\n",
      "    'client_order_id': '5b064140-f675-4777-b522-bdf0f62b5a50',\n",
      "    'commission': '57.468',\n",
      "    'created_at': '2022-07-02T12:01:05.53710459Z',\n",
      "    'expired_at': None,\n",
      "    'extended_hours': False,\n",
      "    'failed_at': None,\n",
      "    'filled_at': '2022-07-02T12:01:05.637749275Z',\n",
      "    'filled_avg_price': '19156',\n",
      "    'filled_qty': '1',\n",
      "    'hwm': None,\n",
      "    'id': '30d99109-85ea-42a1-aa43-e77d29bceb6e',\n",
      "    'legs': None,\n",
      "    'limit_price': None,\n",
      "    'notional': None,\n",
      "    'order_class': '',\n",
      "    'order_type': 'market',\n",
      "    'qty': '1',\n",
      "    'replaced_at': None,\n",
      "    'replaced_by': None,\n",
      "    'replaces': None,\n",
      "    'side': 'buy',\n",
      "    'source': None,\n",
      "    'status': 'filled',\n",
      "    'stop_price': None,\n",
      "    'submitted_at': '2022-07-02T12:01:05.53300852Z',\n",
      "    'subtag': None,\n",
      "    'symbol': 'BTCUSD',\n",
      "    'time_in_force': 'gtc',\n",
      "    'trail_percent': None,\n",
      "    'trail_price': None,\n",
      "    'type': 'market',\n",
      "    'updated_at': '2022-07-02T12:01:05.641034891Z'}), Order({   'asset_class': 'crypto',\n",
      "    'asset_id': '64bbff51-59d6-4b3c-9351-13ad85e3c752',\n",
      "    'canceled_at': None,\n",
      "    'client_order_id': 'cf4de736-43ef-4823-b392-55ccb71b8298',\n",
      "    'commission': '57.501',\n",
      "    'created_at': '2022-07-02T11:58:58.621202029Z',\n",
      "    'expired_at': None,\n",
      "    'extended_hours': False,\n",
      "    'failed_at': None,\n",
      "    'filled_at': '2022-07-02T11:58:58.71813619Z',\n",
      "    'filled_avg_price': '19167',\n",
      "    'filled_qty': '1',\n",
      "    'hwm': None,\n",
      "    'id': '456b5ffd-2772-4ee7-836d-4cf492756fd5',\n",
      "    'legs': None,\n",
      "    'limit_price': None,\n",
      "    'notional': None,\n",
      "    'order_class': '',\n",
      "    'order_type': 'market',\n",
      "    'qty': '1',\n",
      "    'replaced_at': None,\n",
      "    'replaced_by': None,\n",
      "    'replaces': None,\n",
      "    'side': 'buy',\n",
      "    'source': None,\n",
      "    'status': 'filled',\n",
      "    'stop_price': None,\n",
      "    'submitted_at': '2022-07-02T11:58:58.618003999Z',\n",
      "    'subtag': None,\n",
      "    'symbol': 'BTCUSD',\n",
      "    'time_in_force': 'gtc',\n",
      "    'trail_percent': None,\n",
      "    'trail_price': None,\n",
      "    'type': 'market',\n",
      "    'updated_at': '2022-07-02T11:58:58.721798761Z'})]\n"
     ]
    },
    {
     "ename": "NameError",
     "evalue": "name 'Copy' is not defined",
     "output_type": "error",
     "traceback": [
      "\u001b[0;31m---------------------------------------------------------------------------\u001b[0m",
      "\u001b[0;31mNameError\u001b[0m                                 Traceback (most recent call last)",
      "\u001b[0;32m/var/folders/wg/dbmj0v8x4k91_3hgslxt96p40000gn/T/ipykernel_30634/1764927100.py\u001b[0m in \u001b[0;36m<module>\u001b[0;34m\u001b[0m\n\u001b[1;32m      9\u001b[0m \u001b[0mclosed_aapl_orders\u001b[0m \u001b[0;34m=\u001b[0m \u001b[0;34m[\u001b[0m\u001b[0mo\u001b[0m \u001b[0;32mfor\u001b[0m \u001b[0mo\u001b[0m \u001b[0;32min\u001b[0m \u001b[0mclosed_orders\u001b[0m \u001b[0;32mif\u001b[0m \u001b[0mo\u001b[0m\u001b[0;34m.\u001b[0m\u001b[0msymbol\u001b[0m \u001b[0;34m==\u001b[0m \u001b[0;34m'BTCUSD'\u001b[0m\u001b[0;34m]\u001b[0m\u001b[0;34m\u001b[0m\u001b[0;34m\u001b[0m\u001b[0m\n\u001b[1;32m     10\u001b[0m \u001b[0mprint\u001b[0m\u001b[0;34m(\u001b[0m\u001b[0mclosed_aapl_orders\u001b[0m\u001b[0;34m)\u001b[0m\u001b[0;34m\u001b[0m\u001b[0;34m\u001b[0m\u001b[0m\n\u001b[0;32m---> 11\u001b[0;31m \u001b[0mCopy\u001b[0m\u001b[0;34m\u001b[0m\u001b[0;34m\u001b[0m\u001b[0m\n\u001b[0m",
      "\u001b[0;31mNameError\u001b[0m: name 'Copy' is not defined"
     ]
    }
   ],
   "source": [
    "# Get the last 100 of our closed orders\n",
    "closed_orders = api.list_orders(\n",
    "    status='closed',\n",
    "    limit=100,\n",
    "    nested=True  # show nested multi-leg orders\n",
    ")\n",
    "\n",
    "# Get only the closed orders for a particular stock\n",
    "closed_aapl_orders = [o for o in closed_orders if o.symbol == 'BTCUSD']\n",
    "print(closed_aapl_orders)\n",
    "Copy\n"
   ]
  },
  {
   "cell_type": "code",
   "execution_count": 17,
   "id": "8683952e-7346-459c-8bbc-178072f1e844",
   "metadata": {},
   "outputs": [],
   "source": [
    "import alpaca_trade_lib as ta"
   ]
  },
  {
   "cell_type": "code",
   "execution_count": 18,
   "id": "a47507aa-91cf-4ae8-b119-99681a67a4c1",
   "metadata": {},
   "outputs": [],
   "source": [
    "alpaca_secret_key='QrWTvuqjdWDgx7Klqe5iWIR8K5iESy6DFugfV4Xy'\n",
    "alpaca_api_key='PKSYV8TUR5L9XAGR5AHC'\n"
   ]
  },
  {
   "cell_type": "code",
   "execution_count": 19,
   "id": "b24b4d29-db12-4609-9cc9-fa31d8914922",
   "metadata": {},
   "outputs": [],
   "source": [
    "api = ta.get_alpaca_tradeapi_object(alpaca_api_key, alpaca_secret_key)\n"
   ]
  },
  {
   "cell_type": "code",
   "execution_count": 27,
   "id": "cffdf7bd-d7fc-40c9-b9b3-1229f16e0f6d",
   "metadata": {},
   "outputs": [],
   "source": [
    "crypto='BTCUSD'\n",
    "buy_or_sell='Buy'\n",
    "number_of_shares = 2\n",
    "#buy_or_sell = buy_or_sell.lower()"
   ]
  },
  {
   "cell_type": "code",
   "execution_count": 28,
   "id": "e0e8cdfe-ff21-4d23-be5c-6e221d0e3178",
   "metadata": {},
   "outputs": [
    {
     "ename": "APIError",
     "evalue": "invalid side",
     "output_type": "error",
     "traceback": [
      "\u001b[0;31m---------------------------------------------------------------------------\u001b[0m",
      "\u001b[0;31mHTTPError\u001b[0m                                 Traceback (most recent call last)",
      "\u001b[0;32m~/opt/anaconda3/envs/dev/lib/python3.7/site-packages/alpaca_trade_api/rest.py\u001b[0m in \u001b[0;36m_one_request\u001b[0;34m(self, method, url, opts, retry)\u001b[0m\n\u001b[1;32m    233\u001b[0m         \u001b[0;32mtry\u001b[0m\u001b[0;34m:\u001b[0m\u001b[0;34m\u001b[0m\u001b[0;34m\u001b[0m\u001b[0m\n\u001b[0;32m--> 234\u001b[0;31m             \u001b[0mresp\u001b[0m\u001b[0;34m.\u001b[0m\u001b[0mraise_for_status\u001b[0m\u001b[0;34m(\u001b[0m\u001b[0;34m)\u001b[0m\u001b[0;34m\u001b[0m\u001b[0;34m\u001b[0m\u001b[0m\n\u001b[0m\u001b[1;32m    235\u001b[0m         \u001b[0;32mexcept\u001b[0m \u001b[0mHTTPError\u001b[0m \u001b[0;32mas\u001b[0m \u001b[0mhttp_error\u001b[0m\u001b[0;34m:\u001b[0m\u001b[0;34m\u001b[0m\u001b[0;34m\u001b[0m\u001b[0m\n",
      "\u001b[0;32m~/opt/anaconda3/envs/dev/lib/python3.7/site-packages/requests/models.py\u001b[0m in \u001b[0;36mraise_for_status\u001b[0;34m(self)\u001b[0m\n\u001b[1;32m    959\u001b[0m         \u001b[0;32mif\u001b[0m \u001b[0mhttp_error_msg\u001b[0m\u001b[0;34m:\u001b[0m\u001b[0;34m\u001b[0m\u001b[0;34m\u001b[0m\u001b[0m\n\u001b[0;32m--> 960\u001b[0;31m             \u001b[0;32mraise\u001b[0m \u001b[0mHTTPError\u001b[0m\u001b[0;34m(\u001b[0m\u001b[0mhttp_error_msg\u001b[0m\u001b[0;34m,\u001b[0m \u001b[0mresponse\u001b[0m\u001b[0;34m=\u001b[0m\u001b[0mself\u001b[0m\u001b[0;34m)\u001b[0m\u001b[0;34m\u001b[0m\u001b[0;34m\u001b[0m\u001b[0m\n\u001b[0m\u001b[1;32m    961\u001b[0m \u001b[0;34m\u001b[0m\u001b[0m\n",
      "\u001b[0;31mHTTPError\u001b[0m: 422 Client Error: Unprocessable Entity for url: https://paper-api.alpaca.markets/v2/orders",
      "\nDuring handling of the above exception, another exception occurred:\n",
      "\u001b[0;31mAPIError\u001b[0m                                  Traceback (most recent call last)",
      "\u001b[0;32m/var/folders/wg/dbmj0v8x4k91_3hgslxt96p40000gn/T/ipykernel_3540/2435379355.py\u001b[0m in \u001b[0;36m<module>\u001b[0;34m\u001b[0m\n\u001b[0;32m----> 1\u001b[0;31m \u001b[0morder_result\u001b[0m \u001b[0;34m=\u001b[0m \u001b[0mta\u001b[0m\u001b[0;34m.\u001b[0m\u001b[0msubmit_crypto_order\u001b[0m\u001b[0;34m(\u001b[0m\u001b[0mapi\u001b[0m\u001b[0;34m,\u001b[0m \u001b[0mcrypto\u001b[0m\u001b[0;34m,\u001b[0m \u001b[0mbuy_or_sell\u001b[0m\u001b[0;34m,\u001b[0m \u001b[0mnumber_of_shares\u001b[0m\u001b[0;34m)\u001b[0m\u001b[0;34m\u001b[0m\u001b[0;34m\u001b[0m\u001b[0m\n\u001b[0m",
      "\u001b[0;32m~/Desktop/Fintech-Workspace/Project 2/r&d_ashok/alpaca_trade_lib.py\u001b[0m in \u001b[0;36msubmit_crypto_order\u001b[0;34m(api, crypto, buy_or_sell, number_of_shares)\u001b[0m\n\u001b[1;32m     46\u001b[0m         \u001b[0mside\u001b[0m\u001b[0;34m=\u001b[0m\u001b[0mbuy_or_sell\u001b[0m\u001b[0;34m,\u001b[0m\u001b[0;34m\u001b[0m\u001b[0;34m\u001b[0m\u001b[0m\n\u001b[1;32m     47\u001b[0m         \u001b[0mtype\u001b[0m\u001b[0;34m=\u001b[0m\u001b[0;34m'market'\u001b[0m\u001b[0;34m,\u001b[0m\u001b[0;34m\u001b[0m\u001b[0;34m\u001b[0m\u001b[0m\n\u001b[0;32m---> 48\u001b[0;31m         \u001b[0mtime_in_force\u001b[0m\u001b[0;34m=\u001b[0m\u001b[0;34m'gtc'\u001b[0m \u001b[0;31m#good to cancel\u001b[0m\u001b[0;34m\u001b[0m\u001b[0;34m\u001b[0m\u001b[0m\n\u001b[0m\u001b[1;32m     49\u001b[0m     )\n\u001b[1;32m     50\u001b[0m     \u001b[0;32mreturn\u001b[0m \u001b[0morder_result\u001b[0m\u001b[0;34m\u001b[0m\u001b[0;34m\u001b[0m\u001b[0m\n",
      "\u001b[0;32m~/opt/anaconda3/envs/dev/lib/python3.7/site-packages/alpaca_trade_api/rest.py\u001b[0m in \u001b[0;36msubmit_order\u001b[0;34m(self, symbol, qty, side, type, time_in_force, limit_price, stop_price, client_order_id, extended_hours, order_class, take_profit, stop_loss, trail_price, trail_percent, notional)\u001b[0m\n\u001b[1;32m    419\u001b[0m         \u001b[0;32mif\u001b[0m \u001b[0mtrail_percent\u001b[0m \u001b[0;32mis\u001b[0m \u001b[0;32mnot\u001b[0m \u001b[0;32mNone\u001b[0m\u001b[0;34m:\u001b[0m\u001b[0;34m\u001b[0m\u001b[0;34m\u001b[0m\u001b[0m\n\u001b[1;32m    420\u001b[0m             \u001b[0mparams\u001b[0m\u001b[0;34m[\u001b[0m\u001b[0;34m'trail_percent'\u001b[0m\u001b[0;34m]\u001b[0m \u001b[0;34m=\u001b[0m \u001b[0mtrail_percent\u001b[0m\u001b[0;34m\u001b[0m\u001b[0;34m\u001b[0m\u001b[0m\n\u001b[0;32m--> 421\u001b[0;31m         \u001b[0mresp\u001b[0m \u001b[0;34m=\u001b[0m \u001b[0mself\u001b[0m\u001b[0;34m.\u001b[0m\u001b[0mpost\u001b[0m\u001b[0;34m(\u001b[0m\u001b[0;34m'/orders'\u001b[0m\u001b[0;34m,\u001b[0m \u001b[0mparams\u001b[0m\u001b[0;34m)\u001b[0m\u001b[0;34m\u001b[0m\u001b[0;34m\u001b[0m\u001b[0m\n\u001b[0m\u001b[1;32m    422\u001b[0m         \u001b[0;32mreturn\u001b[0m \u001b[0mself\u001b[0m\u001b[0;34m.\u001b[0m\u001b[0mresponse_wrapper\u001b[0m\u001b[0;34m(\u001b[0m\u001b[0mresp\u001b[0m\u001b[0;34m,\u001b[0m \u001b[0mOrder\u001b[0m\u001b[0;34m)\u001b[0m\u001b[0;34m\u001b[0m\u001b[0;34m\u001b[0m\u001b[0m\n\u001b[1;32m    423\u001b[0m \u001b[0;34m\u001b[0m\u001b[0m\n",
      "\u001b[0;32m~/opt/anaconda3/envs/dev/lib/python3.7/site-packages/alpaca_trade_api/rest.py\u001b[0m in \u001b[0;36mpost\u001b[0;34m(self, path, data)\u001b[0m\n\u001b[1;32m    251\u001b[0m \u001b[0;34m\u001b[0m\u001b[0m\n\u001b[1;32m    252\u001b[0m     \u001b[0;32mdef\u001b[0m \u001b[0mpost\u001b[0m\u001b[0;34m(\u001b[0m\u001b[0mself\u001b[0m\u001b[0;34m,\u001b[0m \u001b[0mpath\u001b[0m\u001b[0;34m,\u001b[0m \u001b[0mdata\u001b[0m\u001b[0;34m=\u001b[0m\u001b[0;32mNone\u001b[0m\u001b[0;34m)\u001b[0m\u001b[0;34m:\u001b[0m\u001b[0;34m\u001b[0m\u001b[0;34m\u001b[0m\u001b[0m\n\u001b[0;32m--> 253\u001b[0;31m         \u001b[0;32mreturn\u001b[0m \u001b[0mself\u001b[0m\u001b[0;34m.\u001b[0m\u001b[0m_request\u001b[0m\u001b[0;34m(\u001b[0m\u001b[0;34m'POST'\u001b[0m\u001b[0;34m,\u001b[0m \u001b[0mpath\u001b[0m\u001b[0;34m,\u001b[0m \u001b[0mdata\u001b[0m\u001b[0;34m)\u001b[0m\u001b[0;34m\u001b[0m\u001b[0;34m\u001b[0m\u001b[0m\n\u001b[0m\u001b[1;32m    254\u001b[0m \u001b[0;34m\u001b[0m\u001b[0m\n\u001b[1;32m    255\u001b[0m     \u001b[0;32mdef\u001b[0m \u001b[0mput\u001b[0m\u001b[0;34m(\u001b[0m\u001b[0mself\u001b[0m\u001b[0;34m,\u001b[0m \u001b[0mpath\u001b[0m\u001b[0;34m,\u001b[0m \u001b[0mdata\u001b[0m\u001b[0;34m=\u001b[0m\u001b[0;32mNone\u001b[0m\u001b[0;34m)\u001b[0m\u001b[0;34m:\u001b[0m\u001b[0;34m\u001b[0m\u001b[0;34m\u001b[0m\u001b[0m\n",
      "\u001b[0;32m~/opt/anaconda3/envs/dev/lib/python3.7/site-packages/alpaca_trade_api/rest.py\u001b[0m in \u001b[0;36m_request\u001b[0;34m(self, method, path, data, base_url, api_version)\u001b[0m\n\u001b[1;32m    211\u001b[0m         \u001b[0;32mwhile\u001b[0m \u001b[0mretry\u001b[0m \u001b[0;34m>=\u001b[0m \u001b[0;36m0\u001b[0m\u001b[0;34m:\u001b[0m\u001b[0;34m\u001b[0m\u001b[0;34m\u001b[0m\u001b[0m\n\u001b[1;32m    212\u001b[0m             \u001b[0;32mtry\u001b[0m\u001b[0;34m:\u001b[0m\u001b[0;34m\u001b[0m\u001b[0;34m\u001b[0m\u001b[0m\n\u001b[0;32m--> 213\u001b[0;31m                 \u001b[0;32mreturn\u001b[0m \u001b[0mself\u001b[0m\u001b[0;34m.\u001b[0m\u001b[0m_one_request\u001b[0m\u001b[0;34m(\u001b[0m\u001b[0mmethod\u001b[0m\u001b[0;34m,\u001b[0m \u001b[0murl\u001b[0m\u001b[0;34m,\u001b[0m \u001b[0mopts\u001b[0m\u001b[0;34m,\u001b[0m \u001b[0mretry\u001b[0m\u001b[0;34m)\u001b[0m\u001b[0;34m\u001b[0m\u001b[0;34m\u001b[0m\u001b[0m\n\u001b[0m\u001b[1;32m    214\u001b[0m             \u001b[0;32mexcept\u001b[0m \u001b[0mRetryException\u001b[0m\u001b[0;34m:\u001b[0m\u001b[0;34m\u001b[0m\u001b[0;34m\u001b[0m\u001b[0m\n\u001b[1;32m    215\u001b[0m                 \u001b[0mretry_wait\u001b[0m \u001b[0;34m=\u001b[0m \u001b[0mself\u001b[0m\u001b[0;34m.\u001b[0m\u001b[0m_retry_wait\u001b[0m\u001b[0;34m\u001b[0m\u001b[0;34m\u001b[0m\u001b[0m\n",
      "\u001b[0;32m~/opt/anaconda3/envs/dev/lib/python3.7/site-packages/alpaca_trade_api/rest.py\u001b[0m in \u001b[0;36m_one_request\u001b[0;34m(self, method, url, opts, retry)\u001b[0m\n\u001b[1;32m    240\u001b[0m                 \u001b[0merror\u001b[0m \u001b[0;34m=\u001b[0m \u001b[0mresp\u001b[0m\u001b[0;34m.\u001b[0m\u001b[0mjson\u001b[0m\u001b[0;34m(\u001b[0m\u001b[0;34m)\u001b[0m\u001b[0;34m\u001b[0m\u001b[0;34m\u001b[0m\u001b[0m\n\u001b[1;32m    241\u001b[0m                 \u001b[0;32mif\u001b[0m \u001b[0;34m'code'\u001b[0m \u001b[0;32min\u001b[0m \u001b[0merror\u001b[0m\u001b[0;34m:\u001b[0m\u001b[0;34m\u001b[0m\u001b[0;34m\u001b[0m\u001b[0m\n\u001b[0;32m--> 242\u001b[0;31m                     \u001b[0;32mraise\u001b[0m \u001b[0mAPIError\u001b[0m\u001b[0;34m(\u001b[0m\u001b[0merror\u001b[0m\u001b[0;34m,\u001b[0m \u001b[0mhttp_error\u001b[0m\u001b[0;34m)\u001b[0m\u001b[0;34m\u001b[0m\u001b[0;34m\u001b[0m\u001b[0m\n\u001b[0m\u001b[1;32m    243\u001b[0m             \u001b[0;32melse\u001b[0m\u001b[0;34m:\u001b[0m\u001b[0;34m\u001b[0m\u001b[0;34m\u001b[0m\u001b[0m\n\u001b[1;32m    244\u001b[0m                 \u001b[0;32mraise\u001b[0m\u001b[0;34m\u001b[0m\u001b[0;34m\u001b[0m\u001b[0m\n",
      "\u001b[0;31mAPIError\u001b[0m: invalid side"
     ]
    }
   ],
   "source": [
    "order_result = ta.submit_crypto_order(api, crypto, buy_or_sell, number_of_shares)\n"
   ]
  },
  {
   "cell_type": "code",
   "execution_count": 24,
   "id": "a2c89dc2-f56f-42b8-8cdf-8ca6e7bc07ba",
   "metadata": {},
   "outputs": [
    {
     "data": {
      "text/plain": [
       "'deabaa64-b444-4db6-aa93-39bbe906b850'"
      ]
     },
     "execution_count": 24,
     "metadata": {},
     "output_type": "execute_result"
    }
   ],
   "source": [
    "order_result.client_order_id"
   ]
  },
  {
   "cell_type": "code",
   "execution_count": null,
   "id": "4731937c-1182-4d6f-bfd4-6825d4e51476",
   "metadata": {},
   "outputs": [],
   "source": []
  }
 ],
 "metadata": {
  "kernelspec": {
   "display_name": "dev",
   "language": "python",
   "name": "dev"
  },
  "language_info": {
   "codemirror_mode": {
    "name": "ipython",
    "version": 3
   },
   "file_extension": ".py",
   "mimetype": "text/x-python",
   "name": "python",
   "nbconvert_exporter": "python",
   "pygments_lexer": "ipython3",
   "version": "3.7.11"
  }
 },
 "nbformat": 4,
 "nbformat_minor": 5
}
