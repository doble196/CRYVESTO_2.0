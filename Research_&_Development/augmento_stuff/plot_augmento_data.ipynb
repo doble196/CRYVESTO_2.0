{
 "cells": [
  {
   "cell_type": "code",
   "execution_count": 71,
   "id": "bffd6374-6762-4d56-8201-3f6189519181",
   "metadata": {},
   "outputs": [],
   "source": [
    "# import necessry libraries\n",
    "import sys\n",
    "import os\n",
    "import msgpack\n",
    "import zlib\n",
    "import numpy as np\n",
    "import datetime as dt\n",
    "import datetime\n",
    "import pandas as pd\n",
    "import matplotlib.pyplot as plt\n",
    "import matplotlib.dates as md\n",
    "from pathlib import Path"
   ]
  },
  {
   "cell_type": "code",
   "execution_count": 72,
   "id": "da254df1-ecd7-4722-a441-52979f867881",
   "metadata": {},
   "outputs": [],
   "source": [
    "# import files from src\n",
    "#sys.path.insert(0,\"Desktop/Fintech_Bootcamp/Project_2/Project-2/src\")\n",
    "\n"
   ]
  },
  {
   "cell_type": "code",
   "execution_count": 73,
   "id": "fda20287-e9dc-4019-abb3-1061e3d0622c",
   "metadata": {},
   "outputs": [],
   "source": [
    "import analysis_helper as ah\n",
    "import datetime_helper as dh"
   ]
  },
  {
   "cell_type": "code",
   "execution_count": 74,
   "id": "a3c808b4-4cac-4b3f-824b-520b9ad8d251",
   "metadata": {},
   "outputs": [],
   "source": [
    "# define the location of the input file\n",
    "filename_augmento_topics = Path(\"../Project-2/Project_2/augmento_topics.msgpack.zlib\")\n",
    "filename_augmento_data = Path(\"../Project-2/Project_2/augmento_data.msgpack.zlib\")\n",
    "filename_eth_data = Path(\"../Project-2/Project_2/eth_data.msgpack.zlib\")"
   ]
  },
  {
   "cell_type": "code",
   "execution_count": 75,
   "id": "46e537bc-0d38-41b1-b9ae-6a36937eccae",
   "metadata": {},
   "outputs": [
    {
     "name": "stdout",
     "output_type": "stream",
     "text": [
      "True\n"
     ]
    }
   ],
   "source": [
    "isExist = os.path.exists(filename_augmento_topics)\n",
    "\n",
    "print(isExist)"
   ]
  },
  {
   "cell_type": "code",
   "execution_count": 76,
   "id": "f063af40-ee66-4899-b8cc-281df5c29fd8",
   "metadata": {},
   "outputs": [],
   "source": [
    "def strip_data_by_time(t_data, data, t_min, t_max):\n",
    "\tdata = np.array([s for s, t in zip(data, t_data) if t >= t_min and t <= t_max])\n",
    "\tt_data = np.array([t for t in t_data if t >= t_min and t <= t_max])\n",
    "\treturn t_data, data"
   ]
  },
  {
   "cell_type": "code",
   "execution_count": 77,
   "id": "325fb63f-2b49-4c38-aedf-852d18da0d40",
   "metadata": {},
   "outputs": [],
   "source": [
    "def load_example_data(filename_augmento_topics,\n",
    "                      filename_augmento_data,\n",
    "                      filename_eth_data,\n",
    "                      datetime_start=None,\n",
    "                      datetime_end=None):\n",
    "\n",
    "    # load the topics\n",
    "    with open(filename_augmento_topics, \"rb\") as f:\n",
    "        temp = msgpack.unpackb(zlib.decompress(f.read()))\n",
    "        augmento_topics = {int(k) : v for k, v in temp.items()}\n",
    "        augmento_topics_inv = {v : int(k) for k, v in temp.items()}\n",
    "    \n",
    "    # load the augmento data\n",
    "    with open(filename_augmento_data, \"rb\") as f:\n",
    "        temp = msgpack.unpackb(zlib.decompress(f.read()))\n",
    "        t_aug_data = np.array([el[\"t_epoch\"] for el in temp], dtype=np.float64)\n",
    "        aug_data = np.array([el[\"counts\"] for el in temp], dtype=np.int32)\n",
    "\n",
    "    # load the price data\n",
    "    with open(filename_eth_data, \"rb\") as f:\n",
    "        temp = msgpack.unpackb(zlib.decompress(f.read()))\n",
    "        eth_data = pd.DataFrame(temp['data'])\n",
    "        t_price = eth_data['Date'].to_numpy().astype('datetime64')\n",
    "        t_price_ = t_price.astype('float64')\n",
    "        price_data = np.array(eth_data['Close'], dtype=np.float64)\n",
    "\n",
    "\t# set the start and end times if they are specified\n",
    "#    if datetime_start != None:\n",
    "#        t_start = dh.datetime_to_epoch(datetime_start)\n",
    "#    else:\n",
    "        t_start = max(np.min(t_aug_data), np.min(t_price_))\n",
    "\n",
    "#    if datetime_end != None:\n",
    "#        t_end = dh.datetime_to_epoch(datetime_end)\n",
    "#    else:\n",
    "        t_end = min(np.max(t_aug_data), np.max(t_price_))\n",
    "\n",
    "    # strip the sentiments and prices outside the shared time range\n",
    " #       t_aug_data, aug_data = strip_data_by_time(t_aug_data, aug_data, t_start, t_end)\n",
    " #       t_price_, price_data = strip_data_by_time(t_price_, price_data, t_start, t_end)\n",
    "\n",
    "        return augmento_topics, augmento_topics_inv, t_aug_data, aug_data, t_price_, price_data"
   ]
  },
  {
   "cell_type": "code",
   "execution_count": 78,
   "id": "efa9e975-cabf-4b20-8716-7d7393f81490",
   "metadata": {},
   "outputs": [
    {
     "name": "stderr",
     "output_type": "stream",
     "text": [
      "C:\\Users\\kraso\\AppData\\Local\\Temp\\ipykernel_6188\\3664752054.py:23: DeprecationWarning: parsing timezone aware datetimes is deprecated; this will raise an error in the future\n",
      "  t_price = eth_data['Date'].to_numpy().astype('datetime64')\n"
     ]
    }
   ],
   "source": [
    "# load the example data\n",
    "all_data = load_example_data(filename_augmento_topics,\n",
    "                             filename_augmento_data,\n",
    "                             filename_eth_data)\n",
    "aug_topics, aug_topics_inv, t_aug_data, aug_data, t_price_, price_data = all_data\n",
    "all_topics = aug_data.T.astype(float)\n",
    "\n"
   ]
  },
  {
   "cell_type": "code",
   "execution_count": 79,
   "id": "7335c156-f8e6-4397-9f00-3b5d42035020",
   "metadata": {},
   "outputs": [
    {
     "data": {
      "text/plain": [
       "array(['2017-11-09T00:00:00.000', '2017-11-10T00:00:00.000',\n",
       "       '2017-11-11T00:00:00.000', ..., '2022-05-30T00:00:00.000',\n",
       "       '2022-05-31T00:00:00.000', '2022-06-01T00:00:00.000'],\n",
       "      dtype='datetime64[ms]')"
      ]
     },
     "execution_count": 79,
     "metadata": {},
     "output_type": "execute_result"
    }
   ],
   "source": [
    "t_price"
   ]
  },
  {
   "cell_type": "code",
   "execution_count": 80,
   "id": "9dd32ebc-45e2-473b-b7d9-44d66ae2a557",
   "metadata": {},
   "outputs": [
    {
     "data": {
      "text/plain": [
       "array([ 320.88400269,  299.25299072,  314.68099976, ..., 1996.44128418,\n",
       "       1942.32800293, 1823.56933594])"
      ]
     },
     "execution_count": 80,
     "metadata": {},
     "output_type": "execute_result"
    }
   ],
   "source": [
    "price_data"
   ]
  },
  {
   "cell_type": "code",
   "execution_count": 81,
   "id": "5a66f127-f37a-45ec-a5e3-f9e181e4f83d",
   "metadata": {},
   "outputs": [],
   "source": [
    "# Pick Topics\n",
    "aug_signal_a = aug_data[aug_topics_inv[\"Bullish\"]].astype(np.float64)\n",
    "aug_signal_b = aug_data[aug_topics_inv[\"Bearish\"]].astype(np.float64)"
   ]
  },
  {
   "cell_type": "code",
   "execution_count": 82,
   "id": "a70633de-708e-40b6-8fe8-d29733f9ff56",
   "metadata": {},
   "outputs": [],
   "source": [
    "# define the window size for the sentiment score calculation\n",
    "n_days = 7\n",
    "window_size = 24 * n_days\n",
    "\n",
    "# generate the sentiment score\n",
    "sent_score = ah.nb_calc_sentiment_score_a(aug_signal_a, aug_signal_b, window_size, window_size)\n",
    "\n",
    "# define some parameters for the backtest\n",
    "start_pnl = 1.0\n",
    "buy_sell_fee = 0.0\n",
    "\n"
   ]
  },
  {
   "cell_type": "code",
   "execution_count": 102,
   "id": "0c1600e8-acb8-44b2-aeac-f84d86bd3a90",
   "metadata": {},
   "outputs": [
    {
     "ename": "TabError",
     "evalue": "inconsistent use of tabs and spaces in indentation (2386797648.py, line 8)",
     "output_type": "error",
     "traceback": [
      "\u001b[1;36m  Input \u001b[1;32mIn [102]\u001b[1;36m\u001b[0m\n\u001b[1;33m    for i in steps:\u001b[0m\n\u001b[1;37m                   ^\u001b[0m\n\u001b[1;31mTabError\u001b[0m\u001b[1;31m:\u001b[0m inconsistent use of tabs and spaces in indentation\n"
     ]
    }
   ],
   "source": [
    "def nb_backtest_a(price_data, sent_score, start_pnl, buy_sell_fee):\n",
    "    # example backtest with approximate model for long/short contracts\n",
    "\t\n",
    "    # create an array to hold our pnl, and set the first value\n",
    "\tpnl = np.zeros(price_data.shape, dtype=np.float64)\n",
    "\tpnl[0] = start_pnl\n",
    "    \n",
    "    for i in steps:\n",
    "        if s[i-1] > 0.0:\n",
    "            pnl[i] = (p[i] / p[i-1]) * pnl[i-1]\n",
    "        elif s[i-1] < 0.0:\n",
    "            pnl[i] = (p[i-1] / p[i]) * pnl[i-1]\n",
    "        elif s[i-1] = 0.0:\n",
    "            pnl[i] = pnl[i-1]\n",
    "        if sign(s[i-1]) != sign(s[i-2]):\n",
    "            pnl[i] = pnl[i] - (pnl[i] * trade_fee)\n",
    "    \n",
    "\t# for each step, run the market model\n",
    "\"\"\"\tfor i_p in range(1, price_data.shape[0]):\n",
    "\t\t\n",
    "\t\t# if sentiment score is positive, simulate long position\n",
    "\t\t# else if sentiment score is negative, simulate short position\n",
    "\t\t# else if the sentiment score is 0.0, hold\n",
    "\t\t# (note that this is a very approximate market simulation!)\n",
    "\t\tn_sample_delay = 2\n",
    "\t\tif i_p < n_sample_delay:\n",
    "\t\t\tpnl[i_p] = pnl[i_p-1]\n",
    "\t\tif sent_score[i_p-n_sample_delay] > 0.0:\n",
    "\t\t\tpnl[i_p] = (price_data[i_p] / price_data[i_p-1]) * pnl[i_p-1]\n",
    "\t\telif sent_score[i_p-n_sample_delay] <= 0.0:\n",
    "\t\t\tpnl[i_p] = (price_data[i_p-1] / price_data[i_p]) * pnl[i_p-1]\n",
    "\t\telif sent_score[i_p-n_sample_delay] == 0.0:\n",
    "\t\t\tpnl[i_p] = pnl[i_p-1]\n",
    "\"\"\"\t\t\n",
    "\t\t# simulate a trade fee if we cross from long to short, or visa versa\n",
    "\t\tif i_p > 1 and np.sign(sent_score[i_p-1]) != np.sign(sent_score[i_p-2]):\n",
    "\t\t\tpnl[i_p] = pnl[i_p] - (buy_sell_fee * pnl[i_p])\n",
    "\t\n",
    "return pnl"
   ]
  },
  {
   "cell_type": "code",
   "execution_count": 89,
   "id": "2985d387-7fbf-4ba7-bec0-5f53611930e8",
   "metadata": {},
   "outputs": [
    {
     "ename": "NameError",
     "evalue": "name 'pnl' is not defined",
     "output_type": "error",
     "traceback": [
      "\u001b[1;31m---------------------------------------------------------------------------\u001b[0m",
      "\u001b[1;31mNameError\u001b[0m                                 Traceback (most recent call last)",
      "Input \u001b[1;32mIn [89]\u001b[0m, in \u001b[0;36m<cell line: 1>\u001b[1;34m()\u001b[0m\n\u001b[1;32m----> 1\u001b[0m \u001b[43mpnl\u001b[49m\n",
      "\u001b[1;31mNameError\u001b[0m: name 'pnl' is not defined"
     ]
    }
   ],
   "source": []
  },
  {
   "cell_type": "code",
   "execution_count": 88,
   "id": "c32be218-80e6-44aa-8725-0d1889021cd8",
   "metadata": {},
   "outputs": [
    {
     "ename": "IndexError",
     "evalue": "index 93 is out of bounds for axis 0 with size 93",
     "output_type": "error",
     "traceback": [
      "\u001b[1;31m---------------------------------------------------------------------------\u001b[0m",
      "\u001b[1;31mIndexError\u001b[0m                                Traceback (most recent call last)",
      "Input \u001b[1;32mIn [88]\u001b[0m, in \u001b[0;36m<cell line: 2>\u001b[1;34m()\u001b[0m\n\u001b[0;32m      1\u001b[0m \u001b[38;5;66;03m# run the backtest\u001b[39;00m\n\u001b[1;32m----> 2\u001b[0m pnl \u001b[38;5;241m=\u001b[39m \u001b[43mnb_backtest_a\u001b[49m\u001b[43m(\u001b[49m\u001b[43mprice_data\u001b[49m\u001b[43m,\u001b[49m\u001b[43m \u001b[49m\u001b[43msent_score\u001b[49m\u001b[43m,\u001b[49m\u001b[43m \u001b[49m\u001b[43mstart_pnl\u001b[49m\u001b[43m,\u001b[49m\u001b[43m \u001b[49m\u001b[43mbuy_sell_fee\u001b[49m\u001b[43m)\u001b[49m\n",
      "Input \u001b[1;32mIn [87]\u001b[0m, in \u001b[0;36mnb_backtest_a\u001b[1;34m(price_data, sent_score, start_pnl, buy_sell_fee)\u001b[0m\n\u001b[0;32m     23\u001b[0m \t\tpnl[i_p] \u001b[38;5;241m=\u001b[39m pnl[i_p\u001b[38;5;241m-\u001b[39m\u001b[38;5;241m1\u001b[39m]\n\u001b[0;32m     25\u001b[0m \t\u001b[38;5;66;03m# simulate a trade fee if we cross from long to short, or visa versa\u001b[39;00m\n\u001b[1;32m---> 26\u001b[0m \t\u001b[38;5;28;01mif\u001b[39;00m i_p \u001b[38;5;241m>\u001b[39m \u001b[38;5;241m1\u001b[39m \u001b[38;5;129;01mand\u001b[39;00m np\u001b[38;5;241m.\u001b[39msign(\u001b[43msent_score\u001b[49m\u001b[43m[\u001b[49m\u001b[43mi_p\u001b[49m\u001b[38;5;241;43m-\u001b[39;49m\u001b[38;5;241;43m1\u001b[39;49m\u001b[43m]\u001b[49m) \u001b[38;5;241m!=\u001b[39m np\u001b[38;5;241m.\u001b[39msign(sent_score[i_p\u001b[38;5;241m-\u001b[39m\u001b[38;5;241m2\u001b[39m]):\n\u001b[0;32m     27\u001b[0m \t\tpnl[i_p] \u001b[38;5;241m=\u001b[39m pnl[i_p] \u001b[38;5;241m-\u001b[39m (buy_sell_fee \u001b[38;5;241m*\u001b[39m pnl[i_p])\n\u001b[0;32m     29\u001b[0m \u001b[38;5;28;01mreturn\u001b[39;00m pnl\n",
      "\u001b[1;31mIndexError\u001b[0m: index 93 is out of bounds for axis 0 with size 93"
     ]
    }
   ],
   "source": [
    "# run the backtest\n",
    "pnl = nb_backtest_a(price_data, sent_score, start_pnl, buy_sell_fee)"
   ]
  },
  {
   "cell_type": "code",
   "execution_count": 65,
   "id": "5b2f6b03-9838-423c-9e2e-3b07cf40ee81",
   "metadata": {},
   "outputs": [
    {
     "ename": "ValueError",
     "evalue": "x and y must have same first dimension, but have shapes (1, 1666) and (1666,)",
     "output_type": "error",
     "traceback": [
      "\u001b[1;31m---------------------------------------------------------------------------\u001b[0m",
      "\u001b[1;31mValueError\u001b[0m                                Traceback (most recent call last)",
      "Input \u001b[1;32mIn [65]\u001b[0m, in \u001b[0;36m<cell line: 12>\u001b[1;34m()\u001b[0m\n\u001b[0;32m     10\u001b[0m ax[\u001b[38;5;241m1\u001b[39m]\u001b[38;5;241m.\u001b[39mgrid(linewidth\u001b[38;5;241m=\u001b[39m\u001b[38;5;241m0.4\u001b[39m)\n\u001b[0;32m     11\u001b[0m ax[\u001b[38;5;241m2\u001b[39m]\u001b[38;5;241m.\u001b[39mgrid(linewidth\u001b[38;5;241m=\u001b[39m\u001b[38;5;241m0.4\u001b[39m)\n\u001b[1;32m---> 12\u001b[0m \u001b[43max\u001b[49m\u001b[43m[\u001b[49m\u001b[38;5;241;43m0\u001b[39;49m\u001b[43m]\u001b[49m\u001b[38;5;241;43m.\u001b[39;49m\u001b[43mplot\u001b[49m\u001b[43m(\u001b[49m\u001b[43mdatenum_price_data\u001b[49m\u001b[43m,\u001b[49m\u001b[43m \u001b[49m\u001b[43mprice_data\u001b[49m\u001b[43m,\u001b[49m\u001b[43m \u001b[49m\u001b[43mlinewidth\u001b[49m\u001b[38;5;241;43m=\u001b[39;49m\u001b[38;5;241;43m0.5\u001b[39;49m\u001b[43m)\u001b[49m\n\u001b[0;32m     13\u001b[0m ax[\u001b[38;5;241m1\u001b[39m]\u001b[38;5;241m.\u001b[39mplot(datenum_aug_data, sent_score, linewidth\u001b[38;5;241m=\u001b[39m\u001b[38;5;241m0.5\u001b[39m)\n\u001b[0;32m     14\u001b[0m ax[\u001b[38;5;241m2\u001b[39m]\u001b[38;5;241m.\u001b[39mplot(datenum_price_data, pnl, linewidth\u001b[38;5;241m=\u001b[39m\u001b[38;5;241m0.5\u001b[39m)\n",
      "File \u001b[1;32m~\\anaconda3\\lib\\site-packages\\matplotlib\\axes\\_axes.py:1632\u001b[0m, in \u001b[0;36mAxes.plot\u001b[1;34m(self, scalex, scaley, data, *args, **kwargs)\u001b[0m\n\u001b[0;32m   1390\u001b[0m \u001b[38;5;124;03m\"\"\"\u001b[39;00m\n\u001b[0;32m   1391\u001b[0m \u001b[38;5;124;03mPlot y versus x as lines and/or markers.\u001b[39;00m\n\u001b[0;32m   1392\u001b[0m \n\u001b[1;32m   (...)\u001b[0m\n\u001b[0;32m   1629\u001b[0m \u001b[38;5;124;03m(``'green'``) or hex strings (``'#008000'``).\u001b[39;00m\n\u001b[0;32m   1630\u001b[0m \u001b[38;5;124;03m\"\"\"\u001b[39;00m\n\u001b[0;32m   1631\u001b[0m kwargs \u001b[38;5;241m=\u001b[39m cbook\u001b[38;5;241m.\u001b[39mnormalize_kwargs(kwargs, mlines\u001b[38;5;241m.\u001b[39mLine2D)\n\u001b[1;32m-> 1632\u001b[0m lines \u001b[38;5;241m=\u001b[39m [\u001b[38;5;241m*\u001b[39m\u001b[38;5;28mself\u001b[39m\u001b[38;5;241m.\u001b[39m_get_lines(\u001b[38;5;241m*\u001b[39margs, data\u001b[38;5;241m=\u001b[39mdata, \u001b[38;5;241m*\u001b[39m\u001b[38;5;241m*\u001b[39mkwargs)]\n\u001b[0;32m   1633\u001b[0m \u001b[38;5;28;01mfor\u001b[39;00m line \u001b[38;5;129;01min\u001b[39;00m lines:\n\u001b[0;32m   1634\u001b[0m     \u001b[38;5;28mself\u001b[39m\u001b[38;5;241m.\u001b[39madd_line(line)\n",
      "File \u001b[1;32m~\\anaconda3\\lib\\site-packages\\matplotlib\\axes\\_base.py:312\u001b[0m, in \u001b[0;36m_process_plot_var_args.__call__\u001b[1;34m(self, data, *args, **kwargs)\u001b[0m\n\u001b[0;32m    310\u001b[0m     this \u001b[38;5;241m+\u001b[39m\u001b[38;5;241m=\u001b[39m args[\u001b[38;5;241m0\u001b[39m],\n\u001b[0;32m    311\u001b[0m     args \u001b[38;5;241m=\u001b[39m args[\u001b[38;5;241m1\u001b[39m:]\n\u001b[1;32m--> 312\u001b[0m \u001b[38;5;28;01myield from\u001b[39;00m \u001b[38;5;28;43mself\u001b[39;49m\u001b[38;5;241;43m.\u001b[39;49m\u001b[43m_plot_args\u001b[49m\u001b[43m(\u001b[49m\u001b[43mthis\u001b[49m\u001b[43m,\u001b[49m\u001b[43m \u001b[49m\u001b[43mkwargs\u001b[49m\u001b[43m)\u001b[49m\n",
      "File \u001b[1;32m~\\anaconda3\\lib\\site-packages\\matplotlib\\axes\\_base.py:498\u001b[0m, in \u001b[0;36m_process_plot_var_args._plot_args\u001b[1;34m(self, tup, kwargs, return_kwargs)\u001b[0m\n\u001b[0;32m    495\u001b[0m     \u001b[38;5;28mself\u001b[39m\u001b[38;5;241m.\u001b[39maxes\u001b[38;5;241m.\u001b[39myaxis\u001b[38;5;241m.\u001b[39mupdate_units(y)\n\u001b[0;32m    497\u001b[0m \u001b[38;5;28;01mif\u001b[39;00m x\u001b[38;5;241m.\u001b[39mshape[\u001b[38;5;241m0\u001b[39m] \u001b[38;5;241m!=\u001b[39m y\u001b[38;5;241m.\u001b[39mshape[\u001b[38;5;241m0\u001b[39m]:\n\u001b[1;32m--> 498\u001b[0m     \u001b[38;5;28;01mraise\u001b[39;00m \u001b[38;5;167;01mValueError\u001b[39;00m(\u001b[38;5;124mf\u001b[39m\u001b[38;5;124m\"\u001b[39m\u001b[38;5;124mx and y must have same first dimension, but \u001b[39m\u001b[38;5;124m\"\u001b[39m\n\u001b[0;32m    499\u001b[0m                      \u001b[38;5;124mf\u001b[39m\u001b[38;5;124m\"\u001b[39m\u001b[38;5;124mhave shapes \u001b[39m\u001b[38;5;132;01m{\u001b[39;00mx\u001b[38;5;241m.\u001b[39mshape\u001b[38;5;132;01m}\u001b[39;00m\u001b[38;5;124m and \u001b[39m\u001b[38;5;132;01m{\u001b[39;00my\u001b[38;5;241m.\u001b[39mshape\u001b[38;5;132;01m}\u001b[39;00m\u001b[38;5;124m\"\u001b[39m)\n\u001b[0;32m    500\u001b[0m \u001b[38;5;28;01mif\u001b[39;00m x\u001b[38;5;241m.\u001b[39mndim \u001b[38;5;241m>\u001b[39m \u001b[38;5;241m2\u001b[39m \u001b[38;5;129;01mor\u001b[39;00m y\u001b[38;5;241m.\u001b[39mndim \u001b[38;5;241m>\u001b[39m \u001b[38;5;241m2\u001b[39m:\n\u001b[0;32m    501\u001b[0m     \u001b[38;5;28;01mraise\u001b[39;00m \u001b[38;5;167;01mValueError\u001b[39;00m(\u001b[38;5;124mf\u001b[39m\u001b[38;5;124m\"\u001b[39m\u001b[38;5;124mx and y can be no greater than 2D, but have \u001b[39m\u001b[38;5;124m\"\u001b[39m\n\u001b[0;32m    502\u001b[0m                      \u001b[38;5;124mf\u001b[39m\u001b[38;5;124m\"\u001b[39m\u001b[38;5;124mshapes \u001b[39m\u001b[38;5;132;01m{\u001b[39;00mx\u001b[38;5;241m.\u001b[39mshape\u001b[38;5;132;01m}\u001b[39;00m\u001b[38;5;124m and \u001b[39m\u001b[38;5;132;01m{\u001b[39;00my\u001b[38;5;241m.\u001b[39mshape\u001b[38;5;132;01m}\u001b[39;00m\u001b[38;5;124m\"\u001b[39m)\n",
      "\u001b[1;31mValueError\u001b[0m: x and y must have same first dimension, but have shapes (1, 1666) and (1666,)"
     ]
    },
    {
     "data": {
      "image/png": "[encoded data removed]",
      "text/plain": [
       "<Figure size 1440x1440 with 3 Axes>"
      ]
     },
     "metadata": {
      "needs_background": "light"
     },
     "output_type": "display_data"
    }
   ],
   "source": [
    "# set up the figure\n",
    "fig, ax = plt.subplots(3, 1, sharex=True, sharey=False, figsize=(20,20))\n",
    "\n",
    "# initialise some labels for the plot\n",
    "datenum_aug_data = [md.date2num(dt.datetime.fromtimestamp(el)) for el in t_aug_data]\n",
    "datenum_price_data = [md.date2num(list(t_price_))]\n",
    "\n",
    "# plot the data \n",
    "ax[0].grid(linewidth=0.4)\n",
    "ax[1].grid(linewidth=0.4)\n",
    "ax[2].grid(linewidth=0.4)\n",
    "ax[0].plot(datenum_price_data, price_data, linewidth=0.5)\n",
    "ax[1].plot(datenum_aug_data, sent_score, linewidth=0.5)\n",
    "ax[2].plot(datenum_price_data, pnl, linewidth=0.5)\n",
    "\n",
    "# label axes\n",
    "ax[0].set_ylabel(\"Price\")\n",
    "ax[1].set_ylabel(\"Seniment score\")\n",
    "ax[2].set_ylabel(\"PnL\")\n",
    "ax[1].set_ylim([-5.5, 5.5])\n",
    "\n",
    "ax[0].set_title(\"4_basic_strategy_example.py\")\n",
    "\n",
    "# generate the time axes\n",
    "plt.subplots_adjust(bottom=0.2)\n",
    "plt.xticks( rotation=25 )\n",
    "ax[0]=plt.gca()\n",
    "xfmt = md.DateFormatter('%Y-%m-%d')\n",
    "ax[0].xaxis.set_major_formatter(xfmt)\n",
    "\n",
    "# show the plot\n",
    "plt.show()"
   ]
  },
  {
   "cell_type": "code",
   "execution_count": 63,
   "id": "e2b182e9-4492-4fdf-8cd8-94d957fd9f46",
   "metadata": {},
   "outputs": [
    {
     "ename": "ValueError",
     "evalue": "x and y must have same first dimension, but have shapes (1, 1666) and (1666,)",
     "output_type": "error",
     "traceback": [
      "\u001b[1;31m---------------------------------------------------------------------------\u001b[0m",
      "\u001b[1;31mValueError\u001b[0m                                Traceback (most recent call last)",
      "Input \u001b[1;32mIn [63]\u001b[0m, in \u001b[0;36m<cell line: 5>\u001b[1;34m()\u001b[0m\n\u001b[0;32m      3\u001b[0m ax[\u001b[38;5;241m1\u001b[39m]\u001b[38;5;241m.\u001b[39mgrid(linewidth\u001b[38;5;241m=\u001b[39m\u001b[38;5;241m0.4\u001b[39m)\n\u001b[0;32m      4\u001b[0m ax[\u001b[38;5;241m2\u001b[39m]\u001b[38;5;241m.\u001b[39mgrid(linewidth\u001b[38;5;241m=\u001b[39m\u001b[38;5;241m0.4\u001b[39m)\n\u001b[1;32m----> 5\u001b[0m \u001b[43max\u001b[49m\u001b[43m[\u001b[49m\u001b[38;5;241;43m0\u001b[39;49m\u001b[43m]\u001b[49m\u001b[38;5;241;43m.\u001b[39;49m\u001b[43mplot\u001b[49m\u001b[43m(\u001b[49m\u001b[43mdatenum_price_data\u001b[49m\u001b[43m,\u001b[49m\u001b[43m \u001b[49m\u001b[43mprice_data\u001b[49m\u001b[43m,\u001b[49m\u001b[43m \u001b[49m\u001b[43mlinewidth\u001b[49m\u001b[38;5;241;43m=\u001b[39;49m\u001b[38;5;241;43m0.5\u001b[39;49m\u001b[43m)\u001b[49m\n\u001b[0;32m      6\u001b[0m ax[\u001b[38;5;241m1\u001b[39m]\u001b[38;5;241m.\u001b[39mplot(datenum_aug_data, sent_score, linewidth\u001b[38;5;241m=\u001b[39m\u001b[38;5;241m0.5\u001b[39m)\n\u001b[0;32m      7\u001b[0m ax[\u001b[38;5;241m2\u001b[39m]\u001b[38;5;241m.\u001b[39mplot(datenum_price_data, pnl, linewidth\u001b[38;5;241m=\u001b[39m\u001b[38;5;241m0.5\u001b[39m)\n",
      "File \u001b[1;32m~\\anaconda3\\lib\\site-packages\\matplotlib\\axes\\_axes.py:1632\u001b[0m, in \u001b[0;36mAxes.plot\u001b[1;34m(self, scalex, scaley, data, *args, **kwargs)\u001b[0m\n\u001b[0;32m   1390\u001b[0m \u001b[38;5;124;03m\"\"\"\u001b[39;00m\n\u001b[0;32m   1391\u001b[0m \u001b[38;5;124;03mPlot y versus x as lines and/or markers.\u001b[39;00m\n\u001b[0;32m   1392\u001b[0m \n\u001b[1;32m   (...)\u001b[0m\n\u001b[0;32m   1629\u001b[0m \u001b[38;5;124;03m(``'green'``) or hex strings (``'#008000'``).\u001b[39;00m\n\u001b[0;32m   1630\u001b[0m \u001b[38;5;124;03m\"\"\"\u001b[39;00m\n\u001b[0;32m   1631\u001b[0m kwargs \u001b[38;5;241m=\u001b[39m cbook\u001b[38;5;241m.\u001b[39mnormalize_kwargs(kwargs, mlines\u001b[38;5;241m.\u001b[39mLine2D)\n\u001b[1;32m-> 1632\u001b[0m lines \u001b[38;5;241m=\u001b[39m [\u001b[38;5;241m*\u001b[39m\u001b[38;5;28mself\u001b[39m\u001b[38;5;241m.\u001b[39m_get_lines(\u001b[38;5;241m*\u001b[39margs, data\u001b[38;5;241m=\u001b[39mdata, \u001b[38;5;241m*\u001b[39m\u001b[38;5;241m*\u001b[39mkwargs)]\n\u001b[0;32m   1633\u001b[0m \u001b[38;5;28;01mfor\u001b[39;00m line \u001b[38;5;129;01min\u001b[39;00m lines:\n\u001b[0;32m   1634\u001b[0m     \u001b[38;5;28mself\u001b[39m\u001b[38;5;241m.\u001b[39madd_line(line)\n",
      "File \u001b[1;32m~\\anaconda3\\lib\\site-packages\\matplotlib\\axes\\_base.py:312\u001b[0m, in \u001b[0;36m_process_plot_var_args.__call__\u001b[1;34m(self, data, *args, **kwargs)\u001b[0m\n\u001b[0;32m    310\u001b[0m     this \u001b[38;5;241m+\u001b[39m\u001b[38;5;241m=\u001b[39m args[\u001b[38;5;241m0\u001b[39m],\n\u001b[0;32m    311\u001b[0m     args \u001b[38;5;241m=\u001b[39m args[\u001b[38;5;241m1\u001b[39m:]\n\u001b[1;32m--> 312\u001b[0m \u001b[38;5;28;01myield from\u001b[39;00m \u001b[38;5;28;43mself\u001b[39;49m\u001b[38;5;241;43m.\u001b[39;49m\u001b[43m_plot_args\u001b[49m\u001b[43m(\u001b[49m\u001b[43mthis\u001b[49m\u001b[43m,\u001b[49m\u001b[43m \u001b[49m\u001b[43mkwargs\u001b[49m\u001b[43m)\u001b[49m\n",
      "File \u001b[1;32m~\\anaconda3\\lib\\site-packages\\matplotlib\\axes\\_base.py:498\u001b[0m, in \u001b[0;36m_process_plot_var_args._plot_args\u001b[1;34m(self, tup, kwargs, return_kwargs)\u001b[0m\n\u001b[0;32m    495\u001b[0m     \u001b[38;5;28mself\u001b[39m\u001b[38;5;241m.\u001b[39maxes\u001b[38;5;241m.\u001b[39myaxis\u001b[38;5;241m.\u001b[39mupdate_units(y)\n\u001b[0;32m    497\u001b[0m \u001b[38;5;28;01mif\u001b[39;00m x\u001b[38;5;241m.\u001b[39mshape[\u001b[38;5;241m0\u001b[39m] \u001b[38;5;241m!=\u001b[39m y\u001b[38;5;241m.\u001b[39mshape[\u001b[38;5;241m0\u001b[39m]:\n\u001b[1;32m--> 498\u001b[0m     \u001b[38;5;28;01mraise\u001b[39;00m \u001b[38;5;167;01mValueError\u001b[39;00m(\u001b[38;5;124mf\u001b[39m\u001b[38;5;124m\"\u001b[39m\u001b[38;5;124mx and y must have same first dimension, but \u001b[39m\u001b[38;5;124m\"\u001b[39m\n\u001b[0;32m    499\u001b[0m                      \u001b[38;5;124mf\u001b[39m\u001b[38;5;124m\"\u001b[39m\u001b[38;5;124mhave shapes \u001b[39m\u001b[38;5;132;01m{\u001b[39;00mx\u001b[38;5;241m.\u001b[39mshape\u001b[38;5;132;01m}\u001b[39;00m\u001b[38;5;124m and \u001b[39m\u001b[38;5;132;01m{\u001b[39;00my\u001b[38;5;241m.\u001b[39mshape\u001b[38;5;132;01m}\u001b[39;00m\u001b[38;5;124m\"\u001b[39m)\n\u001b[0;32m    500\u001b[0m \u001b[38;5;28;01mif\u001b[39;00m x\u001b[38;5;241m.\u001b[39mndim \u001b[38;5;241m>\u001b[39m \u001b[38;5;241m2\u001b[39m \u001b[38;5;129;01mor\u001b[39;00m y\u001b[38;5;241m.\u001b[39mndim \u001b[38;5;241m>\u001b[39m \u001b[38;5;241m2\u001b[39m:\n\u001b[0;32m    501\u001b[0m     \u001b[38;5;28;01mraise\u001b[39;00m \u001b[38;5;167;01mValueError\u001b[39;00m(\u001b[38;5;124mf\u001b[39m\u001b[38;5;124m\"\u001b[39m\u001b[38;5;124mx and y can be no greater than 2D, but have \u001b[39m\u001b[38;5;124m\"\u001b[39m\n\u001b[0;32m    502\u001b[0m                      \u001b[38;5;124mf\u001b[39m\u001b[38;5;124m\"\u001b[39m\u001b[38;5;124mshapes \u001b[39m\u001b[38;5;132;01m{\u001b[39;00mx\u001b[38;5;241m.\u001b[39mshape\u001b[38;5;132;01m}\u001b[39;00m\u001b[38;5;124m and \u001b[39m\u001b[38;5;132;01m{\u001b[39;00my\u001b[38;5;241m.\u001b[39mshape\u001b[38;5;132;01m}\u001b[39;00m\u001b[38;5;124m\"\u001b[39m)\n",
      "\u001b[1;31mValueError\u001b[0m: x and y must have same first dimension, but have shapes (1, 1666) and (1666,)"
     ]
    }
   ],
   "source": []
  },
  {
   "cell_type": "code",
   "execution_count": null,
   "id": "6843dbac-ca85-465f-8cf0-be5d3f967b0b",
   "metadata": {},
   "outputs": [],
   "source": [
    "# calculate PNL for a given strategy\n",
    "# if sentiment positive go long, else go short\n",
    "# fees are assumed to be 0.75% (taker fee from BITMEX)\n",
    "\n",
    "def strategy(price_data, signal_a, signal_b, window_1 = 24 * 7, window_2 = 24*7,buy_sell_fee = 0.0075, pnl_0 = 1.0):    \n",
    "    sent_score = ah.nb_calc_sentiment_score_a(signal_a,signal_b,window_1,window_2)\n",
    "    pnl = ah.nb_backtest_a(price_data, sent_score, 1.0, buy_sell_fee)\n",
    "    return pnl\n",
    "\n",
    "# PNL of various moving window size for a given combination of topics\n",
    "def window_combination(price_data,top_a,top_b,end_day_x,end_day_y,start_day_x=0,start_day_y=0,buy_sell_fee=0.0075):\n",
    "    total_comb = np.zeros(shape=(end_day_x,end_day_y))\n",
    "    print(\"Calculating...\")\n",
    "    for i in range(start_day_x,end_day_x):\n",
    "        for j in range(start_day_y,end_day_y):\n",
    "            total_comb[i][j] = strategy(price_data,top_a,top_b,window_1=24*(i+1),window_2=24*(j+1),buy_sell_fee = 0.0075)[-1]\n",
    "    print(\"Done.\")\n",
    "    return total_comb[start_day_x:end_day_x,start_day_y:end_day_y]"
   ]
  },
  {
   "cell_type": "code",
   "execution_count": null,
   "id": "0e78c251-5068-4f0d-ad29-9268f8792cfa",
   "metadata": {},
   "outputs": [],
   "source": [
    "\n"
   ]
  },
  {
   "cell_type": "code",
   "execution_count": null,
   "id": "3097caba-e0ba-480c-ae71-2be665ffa950",
   "metadata": {},
   "outputs": [],
   "source": []
  }
 ],
 "metadata": {
  "kernelspec": {
   "display_name": "Python 3 (ipykernel)",
   "language": "python",
   "name": "python3"
  },
  "language_info": {
   "codemirror_mode": {
    "name": "ipython",
    "version": 3
   },
   "file_extension": ".py",
   "mimetype": "text/x-python",
   "name": "python",
   "nbconvert_exporter": "python",
   "pygments_lexer": "ipython3",
   "version": "3.9.7"
  }
 },
 "nbformat": 4,
 "nbformat_minor": 5
}
