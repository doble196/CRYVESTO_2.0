{
 "cells": [
  {
   "cell_type": "code",
   "execution_count": null,
   "id": "661f9452-8a0c-4741-9db1-e8e9dea98dcc",
   "metadata": {},
   "outputs": [],
   "source": [
    "!pip install nltk"
   ]
  },
  {
   "cell_type": "code",
   "execution_count": 1,
   "id": "47ad7505-ce42-4b96-85ee-8181e8ce6e3a",
   "metadata": {},
   "outputs": [],
   "source": [
    "import nltk\n",
    "import pandas as pd\n",
    "import json\n",
    "import os \n",
    "import sys\n",
    "import requests\n",
    "import datetime as dt\n",
    "import time\n",
    "import zlib\n",
    "import msgpack\n",
    "import os.path\n",
    "import yfinance as yfin\n",
    "from pandas_datareader import data as pdr"
   ]
  },
  {
   "cell_type": "code",
   "execution_count": null,
   "id": "d6a21730-cbab-400f-b05a-b121b7f00a52",
   "metadata": {},
   "outputs": [],
   "source": [
    "nltk.download('vader_lexicon') # one time only\n"
   ]
  },
  {
   "cell_type": "code",
   "execution_count": 6,
   "id": "d8386d41-ad2f-4184-98f5-96cf3e9f5d82",
   "metadata": {},
   "outputs": [],
   "source": [
    "from nltk.sentiment.vader import SentimentIntensityAnalyzer\n"
   ]
  },
  {
   "cell_type": "code",
   "execution_count": 7,
   "id": "a1736aab-e966-400f-8c82-18951308eba7",
   "metadata": {},
   "outputs": [],
   "source": [
    "# name the vader analysis tool\n",
    "vader = SentimentIntensityAnalyzer() \n"
   ]
  },
  {
   "cell_type": "code",
   "execution_count": 8,
   "id": "51fb5bab-2cb0-43d7-bc66-942509a9e832",
   "metadata": {},
   "outputs": [],
   "source": [
    "# sample\n",
    "sample = 'I really dont\\' love NVIDIA'"
   ]
  },
  {
   "cell_type": "code",
   "execution_count": 9,
   "id": "4ecafb32-c82c-485a-b197-1eb4654bc70b",
   "metadata": {},
   "outputs": [
    {
     "data": {
      "text/plain": [
       "{'neg': 0.549, 'neu': 0.451, 'pos': 0.0, 'compound': -0.5642}"
      ]
     },
     "execution_count": 9,
     "metadata": {},
     "output_type": "execute_result"
    }
   ],
   "source": [
    "SentimentIntensityAnalyzer().polarity_scores(sample)"
   ]
  },
  {
   "cell_type": "code",
   "execution_count": 10,
   "id": "eaccdcb8-ee13-4328-86e0-8cb9eb1668aa",
   "metadata": {},
   "outputs": [],
   "source": [
    "# import files from src\n",
    "sys.path.insert(0, \"src\")\n",
    "from pathlib import Path\n",
    "import numpy as np"
   ]
  },
  {
   "cell_type": "code",
   "execution_count": 11,
   "id": "fe118ee7-4e67-4353-8e42-ada8b82029aa",
   "metadata": {},
   "outputs": [
    {
     "name": "stdout",
     "output_type": "stream",
     "text": [
      "True\n"
     ]
    }
   ],
   "source": [
    "# define the location of the input file\n",
    "\n",
    "file_augmento_topics = Path(\"../Project-2/Project_2/augmento_topics.msgpack.zlib\")\n",
    "isExist = os.path.exists(file_augmento_topics)\n",
    "print(isExist)"
   ]
  },
  {
   "cell_type": "code",
   "execution_count": 12,
   "id": "2beaf5f4-e59e-4916-a4c9-83bd29174830",
   "metadata": {},
   "outputs": [],
   "source": [
    "# load the topics\n",
    "with open(file_augmento_topics, \"rb\") as f:\n",
    "    augmento_topics = msgpack.unpackb(zlib.decompress(f.read()))"
   ]
  },
  {
   "cell_type": "code",
   "execution_count": 13,
   "id": "7737683f-9f4f-4b0f-aea0-1a3767b29f8e",
   "metadata": {},
   "outputs": [
    {
     "name": "stdout",
     "output_type": "stream",
     "text": [
      "True\n"
     ]
    }
   ],
   "source": [
    "file_augmento_data = Path('../Project-2/Project_2/augmento_data.msgpack.zlib')\n",
    "isExist = os.path.exists(file_augmento_data)\n",
    "print(isExist)"
   ]
  },
  {
   "cell_type": "code",
   "execution_count": null,
   "id": "d3274c17-545c-4206-9e1a-b88cccf0662d",
   "metadata": {},
   "outputs": [],
   "source": [
    "print(json.dumps(augmento_topics))"
   ]
  },
  {
   "cell_type": "code",
   "execution_count": 72,
   "id": "9526816a-78c5-4810-8299-e35b634d20a4",
   "metadata": {},
   "outputs": [],
   "source": [
    "# load the data\n",
    "with open(file_augmento_data, \"rb\") as f:\n",
    "    augmento_data = msgpack.unpackb(zlib.decompress(f.read()))\n",
    "    t_aug_data = np.array([el[\"t_epoch\"] for el in augmento_data], dtype=np.float64)\n",
    "    aug_data = np.array([el[\"counts\"] for el in augmento_data], dtype=np.int32)"
   ]
  },
  {
   "cell_type": "code",
   "execution_count": 73,
   "id": "17abc269-5f6c-4f89-bd90-1e64dbac220f",
   "metadata": {},
   "outputs": [
    {
     "data": {
      "text/plain": [
       "array([1.4832288e+09, 1.4833152e+09, 1.4834016e+09, ..., 1.6537824e+09,\n",
       "       1.6538688e+09, 1.6539552e+09])"
      ]
     },
     "execution_count": 73,
     "metadata": {},
     "output_type": "execute_result"
    }
   ],
   "source": [
    "t_aug_data"
   ]
  },
  {
   "cell_type": "code",
   "execution_count": 14,
   "id": "152be4bf-d9d2-4213-b388-14d98b57dea2",
   "metadata": {},
   "outputs": [
    {
     "name": "stdout",
     "output_type": "stream",
     "text": [
      "True\n"
     ]
    }
   ],
   "source": [
    "file_eth_data = Path('../Project-2/Project_2/eth_data.msgpack.zlib')\n",
    "isExist = os.path.exists(file_eth_data)\n",
    "print(isExist)"
   ]
  },
  {
   "cell_type": "code",
   "execution_count": 30,
   "id": "69119d43-70b5-4e21-a8c8-45f7e8729a53",
   "metadata": {},
   "outputs": [],
   "source": [
    "\t# load the price data\n",
    "with open(file_eth_data, \"rb\") as f:\n",
    "    temp = msgpack.unpackb(zlib.decompress(f.read()))\n",
    "    eth_data = pd.DataFrame(temp['data'])\n",
    "    t_price_data = np.array('data' in temp).astype('float64')\n",
    "\t#price_data = np.array([el[\"open\"] for el in temp], dtype=np.float64)\n",
    "    price_data = np.array(eth_data['Close'], dtype=np.float64)"
   ]
  },
  {
   "cell_type": "code",
   "execution_count": 31,
   "id": "7a51e720-770b-4624-83d5-7f64b5026576",
   "metadata": {},
   "outputs": [
    {
     "data": {
      "text/plain": [
       "array(1.)"
      ]
     },
     "execution_count": 31,
     "metadata": {},
     "output_type": "execute_result"
    }
   ],
   "source": [
    "t_price_data"
   ]
  },
  {
   "cell_type": "code",
   "execution_count": 34,
   "id": "e3dd9084-c0ae-4080-97c3-eff407c3758a",
   "metadata": {},
   "outputs": [],
   "source": [
    "eth_data = pd.DataFrame(temp['data'])"
   ]
  },
  {
   "cell_type": "code",
   "execution_count": 41,
   "id": "c1694b03-69f3-4b82-8382-6d04b0759631",
   "metadata": {},
   "outputs": [
    {
     "data": {
      "text/html": [
       "<div>\n",
       "<style scoped>\n",
       "    .dataframe tbody tr th:only-of-type {\n",
       "        vertical-align: middle;\n",
       "    }\n",
       "\n",
       "    .dataframe tbody tr th {\n",
       "        vertical-align: top;\n",
       "    }\n",
       "\n",
       "    .dataframe thead th {\n",
       "        text-align: right;\n",
       "    }\n",
       "</style>\n",
       "<table border=\"1\" class=\"dataframe\">\n",
       "  <thead>\n",
       "    <tr style=\"text-align: right;\">\n",
       "      <th></th>\n",
       "      <th>Date</th>\n",
       "      <th>Close</th>\n",
       "    </tr>\n",
       "  </thead>\n",
       "  <tbody>\n",
       "    <tr>\n",
       "      <th>0</th>\n",
       "      <td>2017-11-09T00:00:00.000Z</td>\n",
       "      <td>320.884003</td>\n",
       "    </tr>\n",
       "    <tr>\n",
       "      <th>1</th>\n",
       "      <td>2017-11-10T00:00:00.000Z</td>\n",
       "      <td>299.252991</td>\n",
       "    </tr>\n",
       "    <tr>\n",
       "      <th>2</th>\n",
       "      <td>2017-11-11T00:00:00.000Z</td>\n",
       "      <td>314.681000</td>\n",
       "    </tr>\n",
       "    <tr>\n",
       "      <th>3</th>\n",
       "      <td>2017-11-12T00:00:00.000Z</td>\n",
       "      <td>307.907990</td>\n",
       "    </tr>\n",
       "    <tr>\n",
       "      <th>4</th>\n",
       "      <td>2017-11-13T00:00:00.000Z</td>\n",
       "      <td>316.716003</td>\n",
       "    </tr>\n",
       "  </tbody>\n",
       "</table>\n",
       "</div>"
      ],
      "text/plain": [
       "                       Date       Close\n",
       "0  2017-11-09T00:00:00.000Z  320.884003\n",
       "1  2017-11-10T00:00:00.000Z  299.252991\n",
       "2  2017-11-11T00:00:00.000Z  314.681000\n",
       "3  2017-11-12T00:00:00.000Z  307.907990\n",
       "4  2017-11-13T00:00:00.000Z  316.716003"
      ]
     },
     "metadata": {},
     "output_type": "display_data"
    },
    {
     "data": {
      "text/html": [
       "<div>\n",
       "<style scoped>\n",
       "    .dataframe tbody tr th:only-of-type {\n",
       "        vertical-align: middle;\n",
       "    }\n",
       "\n",
       "    .dataframe tbody tr th {\n",
       "        vertical-align: top;\n",
       "    }\n",
       "\n",
       "    .dataframe thead th {\n",
       "        text-align: right;\n",
       "    }\n",
       "</style>\n",
       "<table border=\"1\" class=\"dataframe\">\n",
       "  <thead>\n",
       "    <tr style=\"text-align: right;\">\n",
       "      <th></th>\n",
       "      <th>Date</th>\n",
       "      <th>Close</th>\n",
       "    </tr>\n",
       "  </thead>\n",
       "  <tbody>\n",
       "    <tr>\n",
       "      <th>1661</th>\n",
       "      <td>2022-05-28T00:00:00.000Z</td>\n",
       "      <td>1757.941772</td>\n",
       "    </tr>\n",
       "    <tr>\n",
       "      <th>1662</th>\n",
       "      <td>2022-05-29T00:00:00.000Z</td>\n",
       "      <td>1812.031006</td>\n",
       "    </tr>\n",
       "    <tr>\n",
       "      <th>1663</th>\n",
       "      <td>2022-05-30T00:00:00.000Z</td>\n",
       "      <td>1996.441284</td>\n",
       "    </tr>\n",
       "    <tr>\n",
       "      <th>1664</th>\n",
       "      <td>2022-05-31T00:00:00.000Z</td>\n",
       "      <td>1942.328003</td>\n",
       "    </tr>\n",
       "    <tr>\n",
       "      <th>1665</th>\n",
       "      <td>2022-06-01T00:00:00.000Z</td>\n",
       "      <td>1823.569336</td>\n",
       "    </tr>\n",
       "  </tbody>\n",
       "</table>\n",
       "</div>"
      ],
      "text/plain": [
       "                          Date        Close\n",
       "1661  2022-05-28T00:00:00.000Z  1757.941772\n",
       "1662  2022-05-29T00:00:00.000Z  1812.031006\n",
       "1663  2022-05-30T00:00:00.000Z  1996.441284\n",
       "1664  2022-05-31T00:00:00.000Z  1942.328003\n",
       "1665  2022-06-01T00:00:00.000Z  1823.569336"
      ]
     },
     "metadata": {},
     "output_type": "display_data"
    }
   ],
   "source": [
    "display(eth_data.head())\n",
    "display(eth_data.tail())"
   ]
  },
  {
   "cell_type": "code",
   "execution_count": 39,
   "id": "e0cb4b8a-abf6-42a8-825e-013750b7e246",
   "metadata": {},
   "outputs": [
    {
     "data": {
      "text/plain": [
       "array([ 320.88400269,  299.25299072,  314.68099976, ..., 1996.44128418,\n",
       "       1942.32800293, 1823.56933594])"
      ]
     },
     "execution_count": 39,
     "metadata": {},
     "output_type": "execute_result"
    }
   ],
   "source": [
    "price = np.array(eth_data['Close'], dtype=np.float64)\n",
    "price"
   ]
  },
  {
   "cell_type": "code",
   "execution_count": 66,
   "id": "869ac39b-d1e9-4a42-bced-2c676c95b713",
   "metadata": {},
   "outputs": [
    {
     "name": "stdout",
     "output_type": "stream",
     "text": [
      "datetime64[ms]\n"
     ]
    },
    {
     "name": "stderr",
     "output_type": "stream",
     "text": [
      "C:\\Users\\kraso\\AppData\\Local\\Temp\\ipykernel_13016\\1452870568.py:1: DeprecationWarning: parsing timezone aware datetimes is deprecated; this will raise an error in the future\n",
      "  t_price = eth_data['Date'].to_numpy().astype('datetime64')\n"
     ]
    }
   ],
   "source": [
    "t_price = eth_data['Date'].to_numpy().astype('datetime64')\n",
    "print(t_price.dtype)"
   ]
  },
  {
   "cell_type": "code",
   "execution_count": 54,
   "id": "f61141fc-6469-40ad-97e5-79db76d2b781",
   "metadata": {},
   "outputs": [],
   "source": [
    "from dateutil import parser"
   ]
  },
  {
   "cell_type": "code",
   "execution_count": 69,
   "id": "d825b84e-b624-4645-bc23-658e6d529e51",
   "metadata": {},
   "outputs": [],
   "source": [
    "t_price_ = t_price.astype('float64')"
   ]
  },
  {
   "cell_type": "code",
   "execution_count": 70,
   "id": "22510395-a5a9-451e-878e-2e0bdb2a27a2",
   "metadata": {},
   "outputs": [
    {
     "data": {
      "text/plain": [
       "array([1.5101856e+12, 1.5102720e+12, 1.5103584e+12, ..., 1.6538688e+12,\n",
       "       1.6539552e+12, 1.6540416e+12])"
      ]
     },
     "execution_count": 70,
     "metadata": {},
     "output_type": "execute_result"
    }
   ],
   "source": [
    "t_price_"
   ]
  },
  {
   "cell_type": "code",
   "execution_count": null,
   "id": "484ef47e-9e57-43b8-b245-c4a1ca1b1aea",
   "metadata": {},
   "outputs": [],
   "source": []
  }
 ],
 "metadata": {
  "kernelspec": {
   "display_name": "Python 3 (ipykernel)",
   "language": "python",
   "name": "python3"
  },
  "language_info": {
   "codemirror_mode": {
    "name": "ipython",
    "version": 3
   },
   "file_extension": ".py",
   "mimetype": "text/x-python",
   "name": "python",
   "nbconvert_exporter": "python",
   "pygments_lexer": "ipython3",
   "version": "3.9.7"
  }
 },
 "nbformat": 4,
 "nbformat_minor": 5
}
