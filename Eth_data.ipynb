{
 "cells": [
  {
   "cell_type": "code",
   "execution_count": 1,
   "id": "df625cfb-770f-45a9-8f48-b9e03fa40809",
   "metadata": {},
   "outputs": [],
   "source": [
    "import sys\n",
    "import requests\n",
    "import datetime as dt\n",
    "import time\n",
    "import zlib\n",
    "import msgpack\n",
    "import json\n",
    "import os.path\n",
    "import yfinance as yfin\n",
    "from pandas_datareader import data as pdr\n",
    "# import files from src\n",
    "sys.path.insert(0, \"src\")"
   ]
  },
  {
   "cell_type": "code",
   "execution_count": 2,
   "id": "3fcf28a2-9b3f-4656-8675-269513fe564c",
   "metadata": {},
   "outputs": [
    {
     "name": "stdout",
     "output_type": "stream",
     "text": [
      "True\n"
     ]
    }
   ],
   "source": [
    "# define where we're going to save the data\n",
    "path_save_data = \"Project_2\"\n",
    "\n",
    "# Check whether the specified path exists or not\n",
    "isExist = os.path.exists(path_save_data)\n",
    "\n",
    "print(isExist)"
   ]
  },
  {
   "cell_type": "code",
   "execution_count": 3,
   "id": "6f79caa1-bbeb-4d79-9628-d9eb1d6bf8d1",
   "metadata": {},
   "outputs": [],
   "source": [
    "# get the data from yfinance\n",
    "yfin.pdr_override()\n",
    "\n",
    "\n",
    "\n",
    "\n",
    "# define where we're going to save the data\n",
    "path_save_data = \"Project_2\"\n",
    "filename_save_data = \"{:s}/eth_data.msgpack.zlib\".format(path_save_data)\n"
   ]
  },
  {
   "cell_type": "code",
   "execution_count": 8,
   "id": "6624fcc5-daf1-4df9-949d-ed880166d480",
   "metadata": {},
   "outputs": [
    {
     "name": "stdout",
     "output_type": "stream",
     "text": [
      "[*********************100%***********************]  1 of 1 completed\n",
      "\n",
      "1 Failed download:\n",
      "- ETH-USD: No data found for this date range, symbol may be delisted\n"
     ]
    }
   ],
   "source": [
    "# get the crypto \n",
    "cryptoList = ['ETH-USD']\n",
    "\n",
    "\n",
    "startDate = dt.datetime(2017, 1, 1)\n",
    "endDate = dt.datetime(2022, 6, 1)\n",
    "\n",
    "eth_data = pdr.get_data_yahoo(cryptoList, startDate, endDate)\n",
    "\n",
    "eth_close = eth_data['Close']\n",
    "\n",
    "\n",
    "# define a start pointer to track multiple requests\n",
    "start_ptr = 0\n",
    "count_ptr = 750\n",
    "\n",
    "    # if the request was ok, add the data and increment the start_ptr\n",
    "    # else return an error\n",
    "\n",
    "temp_data = eth_close.to_json(date_format='iso', orient='table')\n",
    "\n"
   ]
  },
  {
   "cell_type": "code",
   "execution_count": null,
   "id": "f91f42f5-75d2-4378-a547-62559ad0d2fe",
   "metadata": {},
   "outputs": [],
   "source": []
  },
  {
   "cell_type": "code",
   "execution_count": null,
   "id": "999d6729-6171-43de-bcae-06d7ef2703b8",
   "metadata": {},
   "outputs": [],
   "source": [
    "# parsed = json.loads(temp_data)\n",
    "# print(json.dumps(parsed, indent=4, sort_keys=True))"
   ]
  },
  {
   "cell_type": "code",
   "execution_count": null,
   "id": "85140a07-1aaf-43bf-8651-85c8830a1cc7",
   "metadata": {},
   "outputs": [],
   "source": [
    "start_ptr += count_ptr\n",
    "        \n",
    "    # if we didn't get any data, assume we've got all the data\n",
    "    # else add the data to the data store\n",
    "if len(parsed) == 0:\n",
    "    start_ptr = -1\n",
    "else:\n",
    "    # convert the iso timestamps to epoch times\n",
    " #   for td in temp_data:\n",
    "  #      t_epoch = datetime.strftime(td[\"timestamp\"], \"%Y-%m-%dT%H:%M:%S.000Z\")\n",
    "   #     epoch_time = (t_epoch - datetime(2022,6,1)).total_seconds()\n",
    "   #     td.update({\"t_epoch\" : t_epoch})\n",
    "            \n",
    "        # extend the data store\n",
    "     #   market_data.extend(temp_data)\n",
    "        \n",
    "        # print the progress\n",
    "        str_print = \"got data from {:s} to {:s}\".format(*parsed)\n",
    "        \n",
    "        print(str_print)\n",
    "        \n",
    "    # sleep\n",
    "time.sleep(.2)\n",
    "\n",
    "# check if the data path exists\n",
    "ifExist = os.path.exists(path_save_data)\n",
    "print(ifExist)"
   ]
  },
  {
   "cell_type": "code",
   "execution_count": null,
   "id": "da088c6d-6f70-4433-bfa0-a62037bb4f92",
   "metadata": {},
   "outputs": [],
   "source": [
    "# save the data\n",
    "print(\"saving data to {:s}\".format(filename_save_data))\n",
    "with open(filename_save_data, \"wb\") as f:\n",
    "\tf.write(zlib.compress(msgpack.packb(parsed)))\n",
    "\n",
    "print(\"done!\")"
   ]
  },
  {
   "cell_type": "markdown",
   "id": "f1019969-e69a-4b6c-a157-88c7ab16eb95",
   "metadata": {},
   "source": [
    "\n",
    "   "
   ]
  },
  {
   "cell_type": "code",
   "execution_count": null,
   "id": "0f3f3d5d-8628-4fc3-ab78-d37c2c362ee8",
   "metadata": {},
   "outputs": [],
   "source": []
  }
 ],
 "metadata": {
  "kernelspec": {
   "display_name": "Python 3 (ipykernel)",
   "language": "python",
   "name": "python3"
  },
  "language_info": {
   "codemirror_mode": {
    "name": "ipython",
    "version": 3
   },
   "file_extension": ".py",
   "mimetype": "text/x-python",
   "name": "python",
   "nbconvert_exporter": "python",
   "pygments_lexer": "ipython3",
   "version": "3.9.7"
  }
 },
 "nbformat": 4,
 "nbformat_minor": 5
}
