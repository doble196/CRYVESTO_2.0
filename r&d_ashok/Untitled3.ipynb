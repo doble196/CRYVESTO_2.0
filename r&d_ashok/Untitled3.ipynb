{
 "cells": [
  {
   "cell_type": "code",
   "execution_count": 11,
   "id": "a321bf34-a599-4aaf-b30d-a9f3f7e1c72e",
   "metadata": {},
   "outputs": [],
   "source": [
    "x = 'A'\n",
    "\n",
    "y=lambda x: 'pos' if x =='A' else 'neg' if x=='B' else 'neutral'"
   ]
  },
  {
   "cell_type": "code",
   "execution_count": 13,
   "id": "aa9dd6bb-a43c-4c09-8794-af23d63cfb39",
   "metadata": {},
   "outputs": [
    {
     "name": "stdout",
     "output_type": "stream",
     "text": [
      "pos\n"
     ]
    }
   ],
   "source": [
    "print (y('A'))"
   ]
  },
  {
   "cell_type": "code",
   "execution_count": null,
   "id": "7eca386f-4148-4d40-9d25-c50100e32331",
   "metadata": {},
   "outputs": [],
   "source": []
  }
 ],
 "metadata": {
  "kernelspec": {
   "display_name": "dev",
   "language": "python",
   "name": "dev"
  },
  "language_info": {
   "codemirror_mode": {
    "name": "ipython",
    "version": 3
   },
   "file_extension": ".py",
   "mimetype": "text/x-python",
   "name": "python",
   "nbconvert_exporter": "python",
   "pygments_lexer": "ipython3",
   "version": "3.7.11"
  }
 },
 "nbformat": 4,
 "nbformat_minor": 5
}
