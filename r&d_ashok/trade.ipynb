{
 "cells": [
  {
   "cell_type": "code",
   "execution_count": 11,
   "id": "a236cb02-dcf2-4815-9053-791b6a898dff",
   "metadata": {},
   "outputs": [],
   "source": [
    "import pandas as pd\n",
    "import os\n",
    "from dotenv import load_dotenv\n",
    "import alpaca_trade_api as tradeapi\n",
    "\n"
   ]
  },
  {
   "cell_type": "code",
   "execution_count": 12,
   "id": "6362d659-4c14-4474-916c-42e12f3dc850",
   "metadata": {},
   "outputs": [
    {
     "data": {
      "text/plain": [
       "True"
      ]
     },
     "execution_count": 12,
     "metadata": {},
     "output_type": "execute_result"
    }
   ],
   "source": [
    "load_dotenv('my_api.env')"
   ]
  },
  {
   "cell_type": "code",
   "execution_count": 13,
   "id": "f322373c-844c-4820-ac74-79c1a8b5a5fa",
   "metadata": {},
   "outputs": [],
   "source": [
    "## HARD CODING FOR NOW..FOR AWS LAMBDA..JUST SO I CAN TEST\n",
    "## HAS TO BE CHANGED TO DO A LOADENV\n",
    "\n",
    "alpaca_secret_key='QrWTvuqjdWDgx7Klqe5iWIR8K5iESy6DFugfV4Xy'\n",
    "alpaca_api_key='PKSYV8TUR5L9XAGR5AHC'"
   ]
  },
  {
   "cell_type": "code",
   "execution_count": 14,
   "id": "58073320-8c8a-4cf9-a471-d3452dd99338",
   "metadata": {},
   "outputs": [
    {
     "data": {
      "text/plain": [
       "'PKSYV8TUR5L9XAGR5AHC'"
      ]
     },
     "execution_count": 14,
     "metadata": {},
     "output_type": "execute_result"
    }
   ],
   "source": [
    "alpaca_api_key"
   ]
  },
  {
   "cell_type": "code",
   "execution_count": 15,
   "id": "7ea5c2b2-6aa3-447f-b4d1-b87fea188989",
   "metadata": {},
   "outputs": [],
   "source": [
    "# Set the variables for the Alpaca API and secret keys\n",
    "#alpaca_api_key = os.getenv('ALPACA_API_KEY')\n",
    "#alpaca_secret_key = os.getenv('ALPACA_SECRET_KEY')\n",
    "\n",
    "# Create the Alpaca tradeapi.REST object\n",
    "# YOUR CODE HERE\n",
    "api = tradeapi.REST(\n",
    "    alpaca_api_key,\n",
    "    alpaca_secret_key,\n",
    " #   api_version='v2'\n",
    "    'https://paper-api.alpaca.markets'\n",
    ")"
   ]
  },
  {
   "cell_type": "code",
   "execution_count": 17,
   "id": "185dc083-09b0-4d15-b1e0-e6f04ab9b2bb",
   "metadata": {},
   "outputs": [
    {
     "data": {
      "text/plain": [
       "[Order({   'asset_class': 'us_equity',\n",
       "     'asset_id': '03fb07bb-5db1-4077-8dea-5d711b272625',\n",
       "     'canceled_at': None,\n",
       "     'client_order_id': '8e29d1db-2f4f-49d1-a9e4-dfc6c1fa2529',\n",
       "     'created_at': '2022-07-03T02:58:32.296419Z',\n",
       "     'expired_at': None,\n",
       "     'extended_hours': False,\n",
       "     'failed_at': None,\n",
       "     'filled_at': None,\n",
       "     'filled_avg_price': None,\n",
       "     'filled_qty': '0',\n",
       "     'hwm': None,\n",
       "     'id': '8f8a030e-b55f-4e97-b730-b3235c2e750a',\n",
       "     'legs': None,\n",
       "     'limit_price': '20.5',\n",
       "     'notional': None,\n",
       "     'order_class': '',\n",
       "     'order_type': 'limit',\n",
       "     'qty': '1',\n",
       "     'replaced_at': None,\n",
       "     'replaced_by': None,\n",
       "     'replaces': None,\n",
       "     'side': 'sell',\n",
       "     'source': 'access_key',\n",
       "     'status': 'accepted',\n",
       "     'stop_price': None,\n",
       "     'submitted_at': '2022-07-03T02:58:32.294411Z',\n",
       "     'subtag': None,\n",
       "     'symbol': 'AMD',\n",
       "     'time_in_force': 'opg',\n",
       "     'trail_percent': None,\n",
       "     'trail_price': None,\n",
       "     'type': 'limit',\n",
       "     'updated_at': '2022-07-03T02:58:32.296419Z'}),\n",
       " Order({   'asset_class': 'us_equity',\n",
       "     'asset_id': '03fb07bb-5db1-4077-8dea-5d711b272625',\n",
       "     'canceled_at': None,\n",
       "     'client_order_id': 'fa6be5b0-9a6a-4071-b2d5-0b8713aa4955',\n",
       "     'created_at': '2022-07-02T11:57:22.762442Z',\n",
       "     'expired_at': None,\n",
       "     'extended_hours': False,\n",
       "     'failed_at': None,\n",
       "     'filled_at': None,\n",
       "     'filled_avg_price': None,\n",
       "     'filled_qty': '0',\n",
       "     'hwm': None,\n",
       "     'id': 'e9899e39-920b-4007-bab1-bcd8c7642380',\n",
       "     'legs': None,\n",
       "     'limit_price': '20.5',\n",
       "     'notional': None,\n",
       "     'order_class': '',\n",
       "     'order_type': 'limit',\n",
       "     'qty': '1',\n",
       "     'replaced_at': None,\n",
       "     'replaced_by': None,\n",
       "     'replaces': None,\n",
       "     'side': 'sell',\n",
       "     'source': 'access_key',\n",
       "     'status': 'accepted',\n",
       "     'stop_price': None,\n",
       "     'submitted_at': '2022-07-02T11:57:22.761519Z',\n",
       "     'subtag': None,\n",
       "     'symbol': 'AMD',\n",
       "     'time_in_force': 'opg',\n",
       "     'trail_percent': None,\n",
       "     'trail_price': None,\n",
       "     'type': 'limit',\n",
       "     'updated_at': '2022-07-02T11:57:22.762442Z'}),\n",
       " Order({   'asset_class': 'us_equity',\n",
       "     'asset_id': 'b0b6dd9d-8b9b-48a9-ba46-b9d54906e415',\n",
       "     'canceled_at': None,\n",
       "     'client_order_id': '5ac217d6-4e48-4b7d-817d-ff06c6a44e78',\n",
       "     'created_at': '2022-07-02T11:57:22.518102Z',\n",
       "     'expired_at': None,\n",
       "     'extended_hours': False,\n",
       "     'failed_at': None,\n",
       "     'filled_at': None,\n",
       "     'filled_avg_price': None,\n",
       "     'filled_qty': '0',\n",
       "     'hwm': None,\n",
       "     'id': 'de0a264d-194b-44d7-a84b-4ee3dee51feb',\n",
       "     'legs': None,\n",
       "     'limit_price': None,\n",
       "     'notional': None,\n",
       "     'order_class': '',\n",
       "     'order_type': 'market',\n",
       "     'qty': '1',\n",
       "     'replaced_at': None,\n",
       "     'replaced_by': None,\n",
       "     'replaces': None,\n",
       "     'side': 'buy',\n",
       "     'source': 'access_key',\n",
       "     'status': 'accepted',\n",
       "     'stop_price': None,\n",
       "     'submitted_at': '2022-07-02T11:57:22.517131Z',\n",
       "     'subtag': None,\n",
       "     'symbol': 'AAPL',\n",
       "     'time_in_force': 'gtc',\n",
       "     'trail_percent': None,\n",
       "     'trail_price': None,\n",
       "     'type': 'market',\n",
       "     'updated_at': '2022-07-02T11:57:22.518102Z'})]"
      ]
     },
     "execution_count": 17,
     "metadata": {},
     "output_type": "execute_result"
    }
   ],
   "source": [
    "api.get_portfolio_history()\n",
    "api.list_orders()"
   ]
  },
  {
   "cell_type": "code",
   "execution_count": 6,
   "id": "fb35aa6c-efba-439a-bf4d-51d14dcfd1c8",
   "metadata": {},
   "outputs": [],
   "source": [
    "\n",
    "\n",
    "# Submit a market order to buy 1 share of Apple at market price\n",
    "order_result= api.submit_order(\n",
    "    symbol='BTCUSD',\n",
    "    qty=1,\n",
    "    side='buy',\n",
    "    type='market',\n",
    "    time_in_force='gtc'\n",
    ")\n",
    "\n"
   ]
  },
  {
   "cell_type": "code",
   "execution_count": 7,
   "id": "1f8079b0-8aa6-4d77-8307-96426ba397f7",
   "metadata": {},
   "outputs": [
    {
     "data": {
      "text/plain": [
       "Order({   'asset_class': 'crypto',\n",
       "    'asset_id': '64bbff51-59d6-4b3c-9351-13ad85e3c752',\n",
       "    'canceled_at': None,\n",
       "    'client_order_id': '9665c4d3-f028-4b3a-a0aa-e656a0da14e9',\n",
       "    'commission': '57.708',\n",
       "    'created_at': '2022-07-03T02:58:32.022503317Z',\n",
       "    'expired_at': None,\n",
       "    'extended_hours': False,\n",
       "    'failed_at': None,\n",
       "    'filled_at': None,\n",
       "    'filled_avg_price': None,\n",
       "    'filled_qty': '0',\n",
       "    'hwm': None,\n",
       "    'id': 'd7a28b6a-bf8a-4b05-a1b5-1e389f8010b8',\n",
       "    'legs': None,\n",
       "    'limit_price': None,\n",
       "    'notional': None,\n",
       "    'order_class': '',\n",
       "    'order_type': 'market',\n",
       "    'qty': '1',\n",
       "    'replaced_at': None,\n",
       "    'replaced_by': None,\n",
       "    'replaces': None,\n",
       "    'side': 'buy',\n",
       "    'source': None,\n",
       "    'status': 'pending_new',\n",
       "    'stop_price': None,\n",
       "    'submitted_at': '2022-07-03T02:58:32.019066938Z',\n",
       "    'subtag': None,\n",
       "    'symbol': 'BTCUSD',\n",
       "    'time_in_force': 'gtc',\n",
       "    'trail_percent': None,\n",
       "    'trail_price': None,\n",
       "    'type': 'market',\n",
       "    'updated_at': '2022-07-03T02:58:32.022559137Z'})"
      ]
     },
     "execution_count": 7,
     "metadata": {},
     "output_type": "execute_result"
    }
   ],
   "source": [
    "order_result"
   ]
  },
  {
   "cell_type": "code",
   "execution_count": 8,
   "id": "3035a4d8-2773-4741-afe9-eb4f2f735ebd",
   "metadata": {},
   "outputs": [
    {
     "data": {
      "text/plain": [
       "Order({   'asset_class': 'us_equity',\n",
       "    'asset_id': '03fb07bb-5db1-4077-8dea-5d711b272625',\n",
       "    'canceled_at': None,\n",
       "    'client_order_id': '8e29d1db-2f4f-49d1-a9e4-dfc6c1fa2529',\n",
       "    'created_at': '2022-07-03T02:58:32.296418883Z',\n",
       "    'expired_at': None,\n",
       "    'extended_hours': False,\n",
       "    'failed_at': None,\n",
       "    'filled_at': None,\n",
       "    'filled_avg_price': None,\n",
       "    'filled_qty': '0',\n",
       "    'hwm': None,\n",
       "    'id': '8f8a030e-b55f-4e97-b730-b3235c2e750a',\n",
       "    'legs': None,\n",
       "    'limit_price': '20.5',\n",
       "    'notional': None,\n",
       "    'order_class': '',\n",
       "    'order_type': 'limit',\n",
       "    'qty': '1',\n",
       "    'replaced_at': None,\n",
       "    'replaced_by': None,\n",
       "    'replaces': None,\n",
       "    'side': 'sell',\n",
       "    'source': None,\n",
       "    'status': 'accepted',\n",
       "    'stop_price': None,\n",
       "    'submitted_at': '2022-07-03T02:58:32.294410973Z',\n",
       "    'subtag': None,\n",
       "    'symbol': 'AMD',\n",
       "    'time_in_force': 'opg',\n",
       "    'trail_percent': None,\n",
       "    'trail_price': None,\n",
       "    'type': 'limit',\n",
       "    'updated_at': '2022-07-03T02:58:32.296418883Z'})"
      ]
     },
     "execution_count": 8,
     "metadata": {},
     "output_type": "execute_result"
    }
   ],
   "source": [
    "# Submit a limit order to attempt to sell 1 share of AMD at a\n",
    "# particular price ($20.50) when the market opens\n",
    "api.submit_order(\n",
    "    symbol='AMD',\n",
    "    qty=1,\n",
    "    side='sell',\n",
    "    type='limit',\n",
    "    time_in_force='opg',\n",
    "    limit_price=20.50\n",
    ")"
   ]
  },
  {
   "cell_type": "code",
   "execution_count": 9,
   "id": "b4d630ce-164e-4894-a96e-7e44e5b057f5",
   "metadata": {},
   "outputs": [
    {
     "name": "stdout",
     "output_type": "stream",
     "text": [
      "Price was $19156\n"
     ]
    }
   ],
   "source": [
    "my_order = api.get_order_by_client_order_id('5b064140-f675-4777-b522-bdf0f62b5a50')\n",
    "print('Price was ${}'.format(my_order.filled_avg_price))\n",
    "\n"
   ]
  },
  {
   "cell_type": "code",
   "execution_count": 10,
   "id": "b9113811-5d1a-4749-a852-036f9bb29024",
   "metadata": {},
   "outputs": [
    {
     "name": "stdout",
     "output_type": "stream",
     "text": [
      "[Order({   'asset_class': 'crypto',\n",
      "    'asset_id': '64bbff51-59d6-4b3c-9351-13ad85e3c752',\n",
      "    'canceled_at': None,\n",
      "    'client_order_id': '9665c4d3-f028-4b3a-a0aa-e656a0da14e9',\n",
      "    'commission': '57.708',\n",
      "    'created_at': '2022-07-03T02:58:32.022503317Z',\n",
      "    'expired_at': None,\n",
      "    'extended_hours': False,\n",
      "    'failed_at': None,\n",
      "    'filled_at': '2022-07-03T02:58:32.04605095Z',\n",
      "    'filled_avg_price': '19236',\n",
      "    'filled_qty': '1',\n",
      "    'hwm': None,\n",
      "    'id': 'd7a28b6a-bf8a-4b05-a1b5-1e389f8010b8',\n",
      "    'legs': None,\n",
      "    'limit_price': None,\n",
      "    'notional': None,\n",
      "    'order_class': '',\n",
      "    'order_type': 'market',\n",
      "    'qty': '1',\n",
      "    'replaced_at': None,\n",
      "    'replaced_by': None,\n",
      "    'replaces': None,\n",
      "    'side': 'buy',\n",
      "    'source': None,\n",
      "    'status': 'filled',\n",
      "    'stop_price': None,\n",
      "    'submitted_at': '2022-07-03T02:58:32.019066938Z',\n",
      "    'subtag': None,\n",
      "    'symbol': 'BTCUSD',\n",
      "    'time_in_force': 'gtc',\n",
      "    'trail_percent': None,\n",
      "    'trail_price': None,\n",
      "    'type': 'market',\n",
      "    'updated_at': '2022-07-03T02:58:32.049584446Z'}), Order({   'asset_class': 'crypto',\n",
      "    'asset_id': '64bbff51-59d6-4b3c-9351-13ad85e3c752',\n",
      "    'canceled_at': None,\n",
      "    'client_order_id': '5b064140-f675-4777-b522-bdf0f62b5a50',\n",
      "    'commission': '57.468',\n",
      "    'created_at': '2022-07-02T12:01:05.53710459Z',\n",
      "    'expired_at': None,\n",
      "    'extended_hours': False,\n",
      "    'failed_at': None,\n",
      "    'filled_at': '2022-07-02T12:01:05.637749275Z',\n",
      "    'filled_avg_price': '19156',\n",
      "    'filled_qty': '1',\n",
      "    'hwm': None,\n",
      "    'id': '30d99109-85ea-42a1-aa43-e77d29bceb6e',\n",
      "    'legs': None,\n",
      "    'limit_price': None,\n",
      "    'notional': None,\n",
      "    'order_class': '',\n",
      "    'order_type': 'market',\n",
      "    'qty': '1',\n",
      "    'replaced_at': None,\n",
      "    'replaced_by': None,\n",
      "    'replaces': None,\n",
      "    'side': 'buy',\n",
      "    'source': None,\n",
      "    'status': 'filled',\n",
      "    'stop_price': None,\n",
      "    'submitted_at': '2022-07-02T12:01:05.53300852Z',\n",
      "    'subtag': None,\n",
      "    'symbol': 'BTCUSD',\n",
      "    'time_in_force': 'gtc',\n",
      "    'trail_percent': None,\n",
      "    'trail_price': None,\n",
      "    'type': 'market',\n",
      "    'updated_at': '2022-07-02T12:01:05.641034891Z'}), Order({   'asset_class': 'crypto',\n",
      "    'asset_id': '64bbff51-59d6-4b3c-9351-13ad85e3c752',\n",
      "    'canceled_at': None,\n",
      "    'client_order_id': 'cf4de736-43ef-4823-b392-55ccb71b8298',\n",
      "    'commission': '57.501',\n",
      "    'created_at': '2022-07-02T11:58:58.621202029Z',\n",
      "    'expired_at': None,\n",
      "    'extended_hours': False,\n",
      "    'failed_at': None,\n",
      "    'filled_at': '2022-07-02T11:58:58.71813619Z',\n",
      "    'filled_avg_price': '19167',\n",
      "    'filled_qty': '1',\n",
      "    'hwm': None,\n",
      "    'id': '456b5ffd-2772-4ee7-836d-4cf492756fd5',\n",
      "    'legs': None,\n",
      "    'limit_price': None,\n",
      "    'notional': None,\n",
      "    'order_class': '',\n",
      "    'order_type': 'market',\n",
      "    'qty': '1',\n",
      "    'replaced_at': None,\n",
      "    'replaced_by': None,\n",
      "    'replaces': None,\n",
      "    'side': 'buy',\n",
      "    'source': None,\n",
      "    'status': 'filled',\n",
      "    'stop_price': None,\n",
      "    'submitted_at': '2022-07-02T11:58:58.618003999Z',\n",
      "    'subtag': None,\n",
      "    'symbol': 'BTCUSD',\n",
      "    'time_in_force': 'gtc',\n",
      "    'trail_percent': None,\n",
      "    'trail_price': None,\n",
      "    'type': 'market',\n",
      "    'updated_at': '2022-07-02T11:58:58.721798761Z'})]\n"
     ]
    },
    {
     "ename": "NameError",
     "evalue": "name 'Copy' is not defined",
     "output_type": "error",
     "traceback": [
      "\u001b[0;31m---------------------------------------------------------------------------\u001b[0m",
      "\u001b[0;31mNameError\u001b[0m                                 Traceback (most recent call last)",
      "\u001b[0;32m/var/folders/wg/dbmj0v8x4k91_3hgslxt96p40000gn/T/ipykernel_30634/1764927100.py\u001b[0m in \u001b[0;36m<module>\u001b[0;34m\u001b[0m\n\u001b[1;32m      9\u001b[0m \u001b[0mclosed_aapl_orders\u001b[0m \u001b[0;34m=\u001b[0m \u001b[0;34m[\u001b[0m\u001b[0mo\u001b[0m \u001b[0;32mfor\u001b[0m \u001b[0mo\u001b[0m \u001b[0;32min\u001b[0m \u001b[0mclosed_orders\u001b[0m \u001b[0;32mif\u001b[0m \u001b[0mo\u001b[0m\u001b[0;34m.\u001b[0m\u001b[0msymbol\u001b[0m \u001b[0;34m==\u001b[0m \u001b[0;34m'BTCUSD'\u001b[0m\u001b[0;34m]\u001b[0m\u001b[0;34m\u001b[0m\u001b[0;34m\u001b[0m\u001b[0m\n\u001b[1;32m     10\u001b[0m \u001b[0mprint\u001b[0m\u001b[0;34m(\u001b[0m\u001b[0mclosed_aapl_orders\u001b[0m\u001b[0;34m)\u001b[0m\u001b[0;34m\u001b[0m\u001b[0;34m\u001b[0m\u001b[0m\n\u001b[0;32m---> 11\u001b[0;31m \u001b[0mCopy\u001b[0m\u001b[0;34m\u001b[0m\u001b[0;34m\u001b[0m\u001b[0m\n\u001b[0m",
      "\u001b[0;31mNameError\u001b[0m: name 'Copy' is not defined"
     ]
    }
   ],
   "source": [
    "# Get the last 100 of our closed orders\n",
    "closed_orders = api.list_orders(\n",
    "    status='closed',\n",
    "    limit=100,\n",
    "    nested=True  # show nested multi-leg orders\n",
    ")\n",
    "\n",
    "# Get only the closed orders for a particular stock\n",
    "closed_aapl_orders = [o for o in closed_orders if o.symbol == 'BTCUSD']\n",
    "print(closed_aapl_orders)\n",
    "Copy\n"
   ]
  },
  {
   "cell_type": "code",
   "execution_count": null,
   "id": "8683952e-7346-459c-8bbc-178072f1e844",
   "metadata": {},
   "outputs": [],
   "source": []
  }
 ],
 "metadata": {
  "kernelspec": {
   "display_name": "dev",
   "language": "python",
   "name": "dev"
  },
  "language_info": {
   "codemirror_mode": {
    "name": "ipython",
    "version": 3
   },
   "file_extension": ".py",
   "mimetype": "text/x-python",
   "name": "python",
   "nbconvert_exporter": "python",
   "pygments_lexer": "ipython3",
   "version": "3.7.11"
  }
 },
 "nbformat": 4,
 "nbformat_minor": 5
}
