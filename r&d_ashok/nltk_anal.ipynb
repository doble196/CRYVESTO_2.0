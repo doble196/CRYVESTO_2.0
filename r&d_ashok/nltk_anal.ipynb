{
 "cells": [
  {
   "cell_type": "code",
   "execution_count": 1,
   "id": "38f76570-3fbb-487d-b416-186be35ec9a8",
   "metadata": {},
   "outputs": [
    {
     "name": "stdout",
     "output_type": "stream",
     "text": [
      "Requirement already satisfied: nltk in /Users/ashokpandey/opt/anaconda3/envs/dev/lib/python3.7/site-packages (3.7)\n",
      "Requirement already satisfied: tqdm in /Users/ashokpandey/opt/anaconda3/envs/dev/lib/python3.7/site-packages (from nltk) (4.62.3)\n",
      "Requirement already satisfied: click in /Users/ashokpandey/opt/anaconda3/envs/dev/lib/python3.7/site-packages (from nltk) (8.0.4)\n",
      "Requirement already satisfied: regex>=2021.8.3 in /Users/ashokpandey/opt/anaconda3/envs/dev/lib/python3.7/site-packages (from nltk) (2021.11.2)\n",
      "Requirement already satisfied: joblib in /Users/ashokpandey/opt/anaconda3/envs/dev/lib/python3.7/site-packages (from nltk) (1.1.0)\n",
      "Requirement already satisfied: importlib-metadata in /Users/ashokpandey/opt/anaconda3/envs/dev/lib/python3.7/site-packages (from click->nltk) (4.8.2)\n",
      "Requirement already satisfied: typing-extensions>=3.6.4 in /Users/ashokpandey/opt/anaconda3/envs/dev/lib/python3.7/site-packages (from importlib-metadata->click->nltk) (3.10.0.2)\n",
      "Requirement already satisfied: zipp>=0.5 in /Users/ashokpandey/opt/anaconda3/envs/dev/lib/python3.7/site-packages (from importlib-metadata->click->nltk) (3.7.0)\n"
     ]
    }
   ],
   "source": [
    "!pip install nltk\n"
   ]
  },
  {
   "cell_type": "code",
   "execution_count": 2,
   "id": "82f1ee55-1851-4cfb-bcb1-098236f2d0ae",
   "metadata": {},
   "outputs": [],
   "source": [
    "import nltk"
   ]
  },
  {
   "cell_type": "code",
   "execution_count": 3,
   "id": "07ef5e21-35f7-47d2-9902-324a04624304",
   "metadata": {},
   "outputs": [
    {
     "name": "stderr",
     "output_type": "stream",
     "text": [
      "[nltk_data] Downloading package vader_lexicon to\n",
      "[nltk_data]     /Users/ashokpandey/nltk_data...\n",
      "[nltk_data]   Package vader_lexicon is already up-to-date!\n"
     ]
    },
    {
     "data": {
      "text/plain": [
       "True"
      ]
     },
     "execution_count": 3,
     "metadata": {},
     "output_type": "execute_result"
    }
   ],
   "source": [
    "nltk.download('vader_lexicon') # one time only"
   ]
  },
  {
   "cell_type": "code",
   "execution_count": 4,
   "id": "2b6004e3-8a75-417d-b615-9355932557a3",
   "metadata": {},
   "outputs": [],
   "source": [
    "from nltk.sentiment.vader import SentimentIntensityAnalyzer"
   ]
  },
  {
   "cell_type": "code",
   "execution_count": 5,
   "id": "6950c480-23ad-4b2c-aeb4-05fd149c6fc2",
   "metadata": {},
   "outputs": [],
   "source": [
    "vader = SentimentIntensityAnalyzer() # or whatever you want to call it\n"
   ]
  },
  {
   "cell_type": "code",
   "execution_count": 6,
   "id": "17f44464-1802-4248-8f0d-668644fd7969",
   "metadata": {},
   "outputs": [
    {
     "data": {
      "text/plain": [
       "{'neg': 0.0, 'neu': 0.308, 'pos': 0.692, 'compound': 0.6697}"
      ]
     },
     "execution_count": 6,
     "metadata": {},
     "output_type": "execute_result"
    }
   ],
   "source": [
    "sample = 'I really love NVIDIA'\n",
    "vader.polarity_scores(sample)\n"
   ]
  },
  {
   "cell_type": "code",
   "execution_count": 7,
   "id": "9dd193c5-46da-41ef-935a-fbcfe2862bbc",
   "metadata": {},
   "outputs": [
    {
     "data": {
      "text/plain": [
       "{'neg': 0.549, 'neu': 0.451, 'pos': 0.0, 'compound': -0.5642}"
      ]
     },
     "execution_count": 7,
     "metadata": {},
     "output_type": "execute_result"
    }
   ],
   "source": [
    "sample = 'I really don\\'t love NVIDIA'\n",
    "vader.polarity_scores(sample)\n"
   ]
  },
  {
   "cell_type": "code",
   "execution_count": 8,
   "id": "68cd17fe-7e73-439f-acf5-7f761428d30b",
   "metadata": {},
   "outputs": [
    {
     "data": {
      "text/html": [
       "<div>\n",
       "<style scoped>\n",
       "    .dataframe tbody tr th:only-of-type {\n",
       "        vertical-align: middle;\n",
       "    }\n",
       "\n",
       "    .dataframe tbody tr th {\n",
       "        vertical-align: top;\n",
       "    }\n",
       "\n",
       "    .dataframe thead th {\n",
       "        text-align: right;\n",
       "    }\n",
       "</style>\n",
       "<table border=\"1\" class=\"dataframe\">\n",
       "  <thead>\n",
       "    <tr style=\"text-align: right;\">\n",
       "      <th></th>\n",
       "      <th>Unnamed: 0</th>\n",
       "      <th>Date</th>\n",
       "      <th>Headline</th>\n",
       "      <th>Category</th>\n",
       "    </tr>\n",
       "  </thead>\n",
       "  <tbody>\n",
       "    <tr>\n",
       "      <th>0</th>\n",
       "      <td>6935</td>\n",
       "      <td>1/7/98</td>\n",
       "      <td>China to Cut Tariffs on Some Imports</td>\n",
       "      <td>Business and Finance - Asia</td>\n",
       "    </tr>\n",
       "    <tr>\n",
       "      <th>1</th>\n",
       "      <td>15717</td>\n",
       "      <td>2/12/98</td>\n",
       "      <td>Ogden Argentina Seal Pact</td>\n",
       "      <td>Major Business News</td>\n",
       "    </tr>\n",
       "    <tr>\n",
       "      <th>2</th>\n",
       "      <td>7118</td>\n",
       "      <td>3/26/98</td>\n",
       "      <td>The Euro Club</td>\n",
       "      <td>Review &amp; Outlook</td>\n",
       "    </tr>\n",
       "    <tr>\n",
       "      <th>3</th>\n",
       "      <td>18502</td>\n",
       "      <td>5/3/98</td>\n",
       "      <td>ECB Squabble Sours EU's Launch of Euro</td>\n",
       "      <td>Business and Finance - Europe</td>\n",
       "    </tr>\n",
       "    <tr>\n",
       "      <th>4</th>\n",
       "      <td>1477</td>\n",
       "      <td>5/4/98</td>\n",
       "      <td>Hongkong Telecom's Revenue Fell</td>\n",
       "      <td>Business and Finance - Asia</td>\n",
       "    </tr>\n",
       "  </tbody>\n",
       "</table>\n",
       "</div>"
      ],
      "text/plain": [
       "   Unnamed: 0     Date                                Headline  \\\n",
       "0        6935   1/7/98    China to Cut Tariffs on Some Imports   \n",
       "1       15717  2/12/98               Ogden Argentina Seal Pact   \n",
       "2        7118  3/26/98                           The Euro Club   \n",
       "3       18502   5/3/98  ECB Squabble Sours EU's Launch of Euro   \n",
       "4        1477   5/4/98         Hongkong Telecom's Revenue Fell   \n",
       "\n",
       "                        Category  \n",
       "0    Business and Finance - Asia  \n",
       "1            Major Business News  \n",
       "2               Review & Outlook  \n",
       "3  Business and Finance - Europe  \n",
       "4    Business and Finance - Asia  "
      ]
     },
     "execution_count": 8,
     "metadata": {},
     "output_type": "execute_result"
    }
   ],
   "source": [
    "import numpy as np\n",
    "import pandas as pd\n",
    "df = pd.read_csv('wsj_headlines.csv')\n",
    "#df = pd.read_csv('amazonreviews.csv', sep='\\t')\n",
    "df.head()"
   ]
  },
  {
   "cell_type": "code",
   "execution_count": 9,
   "id": "0e9d8d98-a2e7-4fe4-bbf3-6cde6a14abcc",
   "metadata": {},
   "outputs": [],
   "source": [
    "#df['label'].value_counts()\n"
   ]
  },
  {
   "cell_type": "code",
   "execution_count": 10,
   "id": "9f5da3c1-5c97-464d-9c94-d64980c55e44",
   "metadata": {},
   "outputs": [
    {
     "ename": "SyntaxError",
     "evalue": "EOF while scanning triple-quoted string literal (3463613355.py, line 8)",
     "output_type": "error",
     "traceback": [
      "\u001b[0;36m  File \u001b[0;32m\"/var/folders/wg/dbmj0v8x4k91_3hgslxt96p40000gn/T/ipykernel_54823/3463613355.py\"\u001b[0;36m, line \u001b[0;32m8\u001b[0m\n\u001b[0;31m    df.drop(empty_objects, inplace=True)\u001b[0m\n\u001b[0m                                        \n^\u001b[0m\n\u001b[0;31mSyntaxError\u001b[0m\u001b[0;31m:\u001b[0m EOF while scanning triple-quoted string literal\n"
     ]
    }
   ],
   "source": [
    "'''df.dropna(inplace=True)\n",
    "empty_objects = []\n",
    "for index, label, review in df.itertuples():\n",
    "    if type(review)==str:\n",
    "        if review.isspace():\n",
    "            empty_objects.append(i)\n",
    " \n",
    "df.drop(empty_objects, inplace=True)"
   ]
  },
  {
   "cell_type": "code",
   "execution_count": null,
   "id": "da0ffcc2-f5f1-439c-a030-62642a368812",
   "metadata": {},
   "outputs": [],
   "source": [
    "df.head()"
   ]
  },
  {
   "cell_type": "code",
   "execution_count": null,
   "id": "f2de9d3c-9252-4ff5-a1cc-3a4babb34511",
   "metadata": {},
   "outputs": [],
   "source": [
    "df['scores'] = df['Headline'].apply(lambda headline: vader.polarity_scores(headline))\n",
    "df.head()"
   ]
  },
  {
   "cell_type": "code",
   "execution_count": null,
   "id": "85ee5498-f2b8-457c-b5b6-7bedbbd1866d",
   "metadata": {},
   "outputs": [],
   "source": [
    "df['scores'] = df['scores'].apply(lambda x : x['compound'])"
   ]
  },
  {
   "cell_type": "code",
   "execution_count": null,
   "id": "01643617-e331-4b11-b72f-fa5c2f2ea0eb",
   "metadata": {},
   "outputs": [],
   "source": [
    "df[df['scores']==0]"
   ]
  },
  {
   "cell_type": "code",
   "execution_count": null,
   "id": "28c4ac22-54c1-43e2-80d9-6f04f7882720",
   "metadata": {},
   "outputs": [],
   "source": [
    "df ['signal'] = df['scores'].apply(lambda x: 'pos' if x > 0 else 'neg' if x < 0 else 'neutral')"
   ]
  },
  {
   "cell_type": "code",
   "execution_count": null,
   "id": "50f3048e-469c-4984-a7ab-d3a248b32b77",
   "metadata": {},
   "outputs": [],
   "source": [
    "df[df['signal'] == 'neutral']"
   ]
  },
  {
   "cell_type": "code",
   "execution_count": null,
   "id": "86dcc333-248e-4341-b04e-dd05a9750df2",
   "metadata": {},
   "outputs": [],
   "source": [
    "df['signal'].value_counts()"
   ]
  },
  {
   "cell_type": "code",
   "execution_count": 13,
   "id": "64ca5001-0c0a-4455-ba13-123b5f2b2201",
   "metadata": {},
   "outputs": [],
   "source": [
    "import requests"
   ]
  },
  {
   "cell_type": "code",
   "execution_count": 14,
   "id": "6c7830db-d78d-46a2-9b7d-0042b3a15268",
   "metadata": {},
   "outputs": [],
   "source": [
    "query_params = {\n",
    "      #\"source\": \"bbc-news\",\n",
    "      \"country\":'us',\n",
    "      \"sortBy\": \"top\",\n",
    "      \"apiKey\": \"408bc0e41ad1474581aadc918b65e44e\"\n",
    "    }\n",
    "main_url = \" https://newsapi.org/v2/top-headlines\"\n",
    " \n",
    "    # fetching data in json format\n",
    "res = requests.get(main_url, params=query_params)\n",
    "open_news_page = res.json()\n",
    " \n",
    "    # getting all articles in a string article . actually a DICT\n",
    "article = open_news_page[\"articles\"]"
   ]
  },
  {
   "cell_type": "code",
   "execution_count": 17,
   "id": "ce6143f8-c03d-4f13-88da-3c789ae94b50",
   "metadata": {},
   "outputs": [
    {
     "data": {
      "text/plain": [
       "\"Shop today's 60+ best 4th of July sales at Amazon, Walmart, Lowe's and more - USA TODAY\""
      ]
     },
     "execution_count": 17,
     "metadata": {},
     "output_type": "execute_result"
    }
   ],
   "source": [
    "article[0]['title']"
   ]
  },
  {
   "cell_type": "code",
   "execution_count": 18,
   "id": "3fe08c4c-6b76-4885-a2d0-2a09fed4844d",
   "metadata": {},
   "outputs": [],
   "source": [
    "df=pd.DataFrame(article)"
   ]
  },
  {
   "cell_type": "code",
   "execution_count": 21,
   "id": "bd0b053b-8e21-4704-8dcf-2f80ff592190",
   "metadata": {},
   "outputs": [
    {
     "data": {
      "text/html": [
       "<div>\n",
       "<style scoped>\n",
       "    .dataframe tbody tr th:only-of-type {\n",
       "        vertical-align: middle;\n",
       "    }\n",
       "\n",
       "    .dataframe tbody tr th {\n",
       "        vertical-align: top;\n",
       "    }\n",
       "\n",
       "    .dataframe thead th {\n",
       "        text-align: right;\n",
       "    }\n",
       "</style>\n",
       "<table border=\"1\" class=\"dataframe\">\n",
       "  <thead>\n",
       "    <tr style=\"text-align: right;\">\n",
       "      <th></th>\n",
       "      <th>source</th>\n",
       "      <th>author</th>\n",
       "      <th>title</th>\n",
       "      <th>description</th>\n",
       "      <th>url</th>\n",
       "      <th>urlToImage</th>\n",
       "      <th>publishedAt</th>\n",
       "      <th>content</th>\n",
       "    </tr>\n",
       "  </thead>\n",
       "  <tbody>\n",
       "    <tr>\n",
       "      <th>0</th>\n",
       "      <td>{'id': 'usa-today', 'name': 'USA Today'}</td>\n",
       "      <td>Elsie Boskamp, USA TODAY</td>\n",
       "      <td>Shop today's 60+ best 4th of July sales at Ama...</td>\n",
       "      <td>Celebrate Independence Day with today's best 4...</td>\n",
       "      <td>https://www.usatoday.com/story/money/reviewed/...</td>\n",
       "      <td>https://www.gannett-cdn.com/presto/2022/06/29/...</td>\n",
       "      <td>2022-07-04T12:41:58Z</td>\n",
       "      <td>— Recommendations are independently chosen by ...</td>\n",
       "    </tr>\n",
       "    <tr>\n",
       "      <th>1</th>\n",
       "      <td>{'id': None, 'name': 'New York Times'}</td>\n",
       "      <td>Natasha Singer, Veronica Majerol, Jason Karaian</td>\n",
       "      <td>Fourth of July Live Updates: Hot Dog Eating Co...</td>\n",
       "      <td>More than 1,400 U.S. flights were canceled ove...</td>\n",
       "      <td>https://www.nytimes.com/live/2022/07/04/us/july-4</td>\n",
       "      <td>https://static01.nyt.com/images/2022/07/04/us/...</td>\n",
       "      <td>2022-07-04T12:18:04Z</td>\n",
       "      <td>The night skies of some American cities will r...</td>\n",
       "    </tr>\n",
       "    <tr>\n",
       "      <th>2</th>\n",
       "      <td>{'id': None, 'name': 'CNBC'}</td>\n",
       "      <td>Arjun Kharpal</td>\n",
       "      <td>Another crypto lender Vauld pauses withdrawals...</td>\n",
       "      <td>Vauld is the latest victim of the cryptocurren...</td>\n",
       "      <td>https://www.cnbc.com/2022/07/04/crypto-lender-...</td>\n",
       "      <td>https://image.cnbcfm.com/api/v1/image/10708091...</td>\n",
       "      <td>2022-07-04T11:39:39Z</td>\n",
       "      <td>Crypto lender Vauld on Monday paused all withd...</td>\n",
       "    </tr>\n",
       "    <tr>\n",
       "      <th>3</th>\n",
       "      <td>{'id': None, 'name': 'The Guardian'}</td>\n",
       "      <td>Nicola Slawson</td>\n",
       "      <td>First Thing: Fox and friends face billion-doll...</td>\n",
       "      <td>Rightwing networks Fox News, OAN and Newsmax c...</td>\n",
       "      <td>https://amp.theguardian.com/us-news/2022/jul/0...</td>\n",
       "      <td>https://i.guim.co.uk/img/media/d132665e2d63160...</td>\n",
       "      <td>2022-07-04T10:05:00Z</td>\n",
       "      <td>Good morning.\\r\\nIn the months following the 2...</td>\n",
       "    </tr>\n",
       "    <tr>\n",
       "      <th>4</th>\n",
       "      <td>{'id': 'google-news', 'name': 'Google News'}</td>\n",
       "      <td>None</td>\n",
       "      <td>Cassidy Hutchinson testimony prompts reassessm...</td>\n",
       "      <td>None</td>\n",
       "      <td>https://news.google.com/__i/rss/rd/articles/CB...</td>\n",
       "      <td>None</td>\n",
       "      <td>2022-07-04T10:00:00Z</td>\n",
       "      <td>None</td>\n",
       "    </tr>\n",
       "    <tr>\n",
       "      <th>5</th>\n",
       "      <td>{'id': 'abc-news', 'name': 'ABC News'}</td>\n",
       "      <td>ABC News</td>\n",
       "      <td>2 women killed in shark attacks in Egypt's Red...</td>\n",
       "      <td>Two women were killed in shark attacks in Egyp...</td>\n",
       "      <td>https://abcnews.go.com/International/women-kil...</td>\n",
       "      <td>https://s.abcnews.com/images/International/red...</td>\n",
       "      <td>2022-07-04T09:47:19Z</td>\n",
       "      <td>CAIRO and LONDON -- Two women were killed in s...</td>\n",
       "    </tr>\n",
       "    <tr>\n",
       "      <th>6</th>\n",
       "      <td>{'id': 'the-washington-post', 'name': 'The Was...</td>\n",
       "      <td>Bryan Pietsch, Victoria Bisset, Annabelle Timsit</td>\n",
       "      <td>Latest Russia-Ukraine war news: Live updates -...</td>\n",
       "      <td>The loss of Lysychansk means Russia has seized...</td>\n",
       "      <td>https://www.washingtonpost.com/world/2022/07/0...</td>\n",
       "      <td>https://www.washingtonpost.com/wp-apps/imrs.ph...</td>\n",
       "      <td>2022-07-04T09:30:00Z</td>\n",
       "      <td>As the war in Ukraine continues to disrupt agr...</td>\n",
       "    </tr>\n",
       "    <tr>\n",
       "      <th>7</th>\n",
       "      <td>{'id': None, 'name': 'TMZ'}</td>\n",
       "      <td>TMZ Staff</td>\n",
       "      <td>Josh Duggar's Military-Style Life Behind Bars ...</td>\n",
       "      <td>Josh Duggar's life in federal prison, followin...</td>\n",
       "      <td>https://www.tmz.com/2022/07/04/josh-duggar-lif...</td>\n",
       "      <td>https://imagez.tmz.com/image/47/16by9/2022/06/...</td>\n",
       "      <td>2022-07-04T08:00:00Z</td>\n",
       "      <td>Josh Duggar is set to spend the next 12 years ...</td>\n",
       "    </tr>\n",
       "    <tr>\n",
       "      <th>8</th>\n",
       "      <td>{'id': None, 'name': 'TMZ'}</td>\n",
       "      <td>TMZ Staff</td>\n",
       "      <td>D.L. Hughley Says Donald Trump Belongs in Jail...</td>\n",
       "      <td>D.L. Hughley says Donald Trump committed treas...</td>\n",
       "      <td>https://www.tmz.com/2022/07/04/dl-hughley-dona...</td>\n",
       "      <td>https://imagez.tmz.com/image/2a/16by9/2022/06/...</td>\n",
       "      <td>2022-07-04T07:50:00Z</td>\n",
       "      <td>D.L. Hughley says Donald Trump belongs behind ...</td>\n",
       "    </tr>\n",
       "    <tr>\n",
       "      <th>9</th>\n",
       "      <td>{'id': 'usa-today', 'name': 'USA Today'}</td>\n",
       "      <td>Damon Brooks Jr., USA TODAY</td>\n",
       "      <td>Nathan's Hot Dog Eating Contest: Start time, T...</td>\n",
       "      <td>The Nathan’s Famous Hot Dog Eating Contest wil...</td>\n",
       "      <td>https://www.usatoday.com/story/sports/2022/07/...</td>\n",
       "      <td>https://www.gannett-cdn.com/presto/2022/07/04/...</td>\n",
       "      <td>2022-07-04T07:30:34Z</td>\n",
       "      <td>An American tradition is returning to its root...</td>\n",
       "    </tr>\n",
       "    <tr>\n",
       "      <th>10</th>\n",
       "      <td>{'id': 'associated-press', 'name': 'Associated...</td>\n",
       "      <td>None</td>\n",
       "      <td>3 feet of rain sets up 4th round of flood mise...</td>\n",
       "      <td>SYDNEY (AP) — More than 30,000 residents of Sy...</td>\n",
       "      <td>https://apnews.com/article/floods-sydney-austr...</td>\n",
       "      <td>https://storage.googleapis.com/afs-prod/media/...</td>\n",
       "      <td>2022-07-04T06:52:54Z</td>\n",
       "      <td>SYDNEY (AP) More than 30,000 residents of Sydn...</td>\n",
       "    </tr>\n",
       "    <tr>\n",
       "      <th>11</th>\n",
       "      <td>{'id': 'cnn', 'name': 'CNN'}</td>\n",
       "      <td>Kathleen Magramo, Lauren Lau</td>\n",
       "      <td>Hong Kong said 'miracle' needed to find more s...</td>\n",
       "      <td>A rescue team from mainland China saved a crew...</td>\n",
       "      <td>https://www.cnn.com/2022/07/04/asia/hong-kong-...</td>\n",
       "      <td>https://media.cnn.com/api/v1/images/stellar/pr...</td>\n",
       "      <td>2022-07-04T06:35:00Z</td>\n",
       "      <td>A rescue team from mainland China saved a crew...</td>\n",
       "    </tr>\n",
       "    <tr>\n",
       "      <th>12</th>\n",
       "      <td>{'id': None, 'name': 'BBC News'}</td>\n",
       "      <td>https://www.facebook.com/bbcnews</td>\n",
       "      <td>Copenhagen shooting: Gunman kills three in Fie...</td>\n",
       "      <td>Shoppers flee in panic after gunfire inside on...</td>\n",
       "      <td>https://www.bbc.com/news/world-europe-62030919</td>\n",
       "      <td>https://ichef.bbci.co.uk/news/1024/branded_new...</td>\n",
       "      <td>2022-07-04T06:25:07Z</td>\n",
       "      <td>By Alys DaviesBBC News\\r\\nMedia caption, Watch...</td>\n",
       "    </tr>\n",
       "    <tr>\n",
       "      <th>13</th>\n",
       "      <td>{'id': None, 'name': 'SciTechDaily'}</td>\n",
       "      <td>None</td>\n",
       "      <td>Astronomer Says New Webb Space Telescope Image...</td>\n",
       "      <td>The scientific and astronomical communities ar...</td>\n",
       "      <td>https://scitechdaily.com/astronomer-says-new-w...</td>\n",
       "      <td>https://scitechdaily.com/images/Evolution-of-I...</td>\n",
       "      <td>2022-07-04T04:24:09Z</td>\n",
       "      <td>SPACE &amp;amp; TIMEI would like to introduce to y...</td>\n",
       "    </tr>\n",
       "    <tr>\n",
       "      <th>14</th>\n",
       "      <td>{'id': None, 'name': 'Daily Mail'}</td>\n",
       "      <td>Christopher Carbone</td>\n",
       "      <td>10th anniversary of the Higgs Boson discovery:...</td>\n",
       "      <td>Many Americans will mark the country's birthda...</td>\n",
       "      <td>https://www.dailymail.co.uk/sciencetech/articl...</td>\n",
       "      <td>https://i.dailymail.co.uk/1s/2022/07/03/15/597...</td>\n",
       "      <td>2022-07-04T04:00:46Z</td>\n",
       "      <td>Many Americans will mark the country's birthda...</td>\n",
       "    </tr>\n",
       "    <tr>\n",
       "      <th>15</th>\n",
       "      <td>{'id': None, 'name': 'YouTube'}</td>\n",
       "      <td>None</td>\n",
       "      <td>Video shows 'ambush' shooting of Haltom City o...</td>\n",
       "      <td>GRAPHIC WARNING: Video shows the moment a gunm...</td>\n",
       "      <td>https://www.youtube.com/watch?v=ureCEy4lm9E</td>\n",
       "      <td>https://i.ytimg.com/vi/ureCEy4lm9E/hqdefault.jpg</td>\n",
       "      <td>2022-07-04T03:13:23Z</td>\n",
       "      <td>None</td>\n",
       "    </tr>\n",
       "    <tr>\n",
       "      <th>16</th>\n",
       "      <td>{'id': None, 'name': 'NBCSports.com'}</td>\n",
       "      <td>Mike Florio</td>\n",
       "      <td>Birmingham Stallions win USFL championship, 33...</td>\n",
       "      <td>With 10 minutes to play, the Philadelphia Star...</td>\n",
       "      <td>https://profootballtalk.nbcsports.com/2022/07/...</td>\n",
       "      <td>https://profootballtalk.nbcsports.com/wp-conte...</td>\n",
       "      <td>2022-07-04T03:07:00Z</td>\n",
       "      <td>With 10 minutes to play, the Philadelphia Star...</td>\n",
       "    </tr>\n",
       "    <tr>\n",
       "      <th>17</th>\n",
       "      <td>{'id': 'reuters', 'name': 'Reuters'}</td>\n",
       "      <td>None</td>\n",
       "      <td>Bezos slams Biden's call for gasoline stations...</td>\n",
       "      <td>Amazon.com Inc &lt;a href=\"https://www.reuters.co...</td>\n",
       "      <td>https://www.reuters.com/business/energy/bezos-...</td>\n",
       "      <td>https://www.reuters.com/resizer/n8fFBzC5wGqYPw...</td>\n",
       "      <td>2022-07-04T01:47:00Z</td>\n",
       "      <td>July 3 (Reuters) - Amazon.com Inc (AMZN.O) fou...</td>\n",
       "    </tr>\n",
       "    <tr>\n",
       "      <th>18</th>\n",
       "      <td>{'id': 'cnn', 'name': 'CNN'}</td>\n",
       "      <td>Samantha Beech, Dakin Andone</td>\n",
       "      <td>Jayland Walker suffered at least 60 wounds in ...</td>\n",
       "      <td>Jayland Walker suffered at least 60 gunshot wo...</td>\n",
       "      <td>https://www.cnn.com/2022/07/03/us/jayland-walk...</td>\n",
       "      <td>https://media.cnn.com/api/v1/images/stellar/pr...</td>\n",
       "      <td>2022-07-04T01:45:00Z</td>\n",
       "      <td>Jayland Walker suffered at least 60 gunshot wo...</td>\n",
       "    </tr>\n",
       "    <tr>\n",
       "      <th>19</th>\n",
       "      <td>{'id': None, 'name': 'CBS Sports'}</td>\n",
       "      <td>Patrick McDonald</td>\n",
       "      <td>2022 John Deere Classic leaderboard, grades: J...</td>\n",
       "      <td>After a runner-up finish last week, J.T. Posto...</td>\n",
       "      <td>https://www.cbssports.com/golf/news/2022-john-...</td>\n",
       "      <td>https://sportshub.cbsistatic.com/i/r/2022/07/0...</td>\n",
       "      <td>2022-07-04T01:18:00Z</td>\n",
       "      <td>From start to finish, J.T. Poston was the clea...</td>\n",
       "    </tr>\n",
       "  </tbody>\n",
       "</table>\n",
       "</div>"
      ],
      "text/plain": [
       "                                               source  \\\n",
       "0            {'id': 'usa-today', 'name': 'USA Today'}   \n",
       "1              {'id': None, 'name': 'New York Times'}   \n",
       "2                        {'id': None, 'name': 'CNBC'}   \n",
       "3                {'id': None, 'name': 'The Guardian'}   \n",
       "4        {'id': 'google-news', 'name': 'Google News'}   \n",
       "5              {'id': 'abc-news', 'name': 'ABC News'}   \n",
       "6   {'id': 'the-washington-post', 'name': 'The Was...   \n",
       "7                         {'id': None, 'name': 'TMZ'}   \n",
       "8                         {'id': None, 'name': 'TMZ'}   \n",
       "9            {'id': 'usa-today', 'name': 'USA Today'}   \n",
       "10  {'id': 'associated-press', 'name': 'Associated...   \n",
       "11                       {'id': 'cnn', 'name': 'CNN'}   \n",
       "12                   {'id': None, 'name': 'BBC News'}   \n",
       "13               {'id': None, 'name': 'SciTechDaily'}   \n",
       "14                 {'id': None, 'name': 'Daily Mail'}   \n",
       "15                    {'id': None, 'name': 'YouTube'}   \n",
       "16              {'id': None, 'name': 'NBCSports.com'}   \n",
       "17               {'id': 'reuters', 'name': 'Reuters'}   \n",
       "18                       {'id': 'cnn', 'name': 'CNN'}   \n",
       "19                 {'id': None, 'name': 'CBS Sports'}   \n",
       "\n",
       "                                              author  \\\n",
       "0                           Elsie Boskamp, USA TODAY   \n",
       "1    Natasha Singer, Veronica Majerol, Jason Karaian   \n",
       "2                                      Arjun Kharpal   \n",
       "3                                     Nicola Slawson   \n",
       "4                                               None   \n",
       "5                                           ABC News   \n",
       "6   Bryan Pietsch, Victoria Bisset, Annabelle Timsit   \n",
       "7                                          TMZ Staff   \n",
       "8                                          TMZ Staff   \n",
       "9                        Damon Brooks Jr., USA TODAY   \n",
       "10                                              None   \n",
       "11                      Kathleen Magramo, Lauren Lau   \n",
       "12                  https://www.facebook.com/bbcnews   \n",
       "13                                              None   \n",
       "14                               Christopher Carbone   \n",
       "15                                              None   \n",
       "16                                       Mike Florio   \n",
       "17                                              None   \n",
       "18                      Samantha Beech, Dakin Andone   \n",
       "19                                  Patrick McDonald   \n",
       "\n",
       "                                                title  \\\n",
       "0   Shop today's 60+ best 4th of July sales at Ama...   \n",
       "1   Fourth of July Live Updates: Hot Dog Eating Co...   \n",
       "2   Another crypto lender Vauld pauses withdrawals...   \n",
       "3   First Thing: Fox and friends face billion-doll...   \n",
       "4   Cassidy Hutchinson testimony prompts reassessm...   \n",
       "5   2 women killed in shark attacks in Egypt's Red...   \n",
       "6   Latest Russia-Ukraine war news: Live updates -...   \n",
       "7   Josh Duggar's Military-Style Life Behind Bars ...   \n",
       "8   D.L. Hughley Says Donald Trump Belongs in Jail...   \n",
       "9   Nathan's Hot Dog Eating Contest: Start time, T...   \n",
       "10  3 feet of rain sets up 4th round of flood mise...   \n",
       "11  Hong Kong said 'miracle' needed to find more s...   \n",
       "12  Copenhagen shooting: Gunman kills three in Fie...   \n",
       "13  Astronomer Says New Webb Space Telescope Image...   \n",
       "14  10th anniversary of the Higgs Boson discovery:...   \n",
       "15  Video shows 'ambush' shooting of Haltom City o...   \n",
       "16  Birmingham Stallions win USFL championship, 33...   \n",
       "17  Bezos slams Biden's call for gasoline stations...   \n",
       "18  Jayland Walker suffered at least 60 wounds in ...   \n",
       "19  2022 John Deere Classic leaderboard, grades: J...   \n",
       "\n",
       "                                          description  \\\n",
       "0   Celebrate Independence Day with today's best 4...   \n",
       "1   More than 1,400 U.S. flights were canceled ove...   \n",
       "2   Vauld is the latest victim of the cryptocurren...   \n",
       "3   Rightwing networks Fox News, OAN and Newsmax c...   \n",
       "4                                                None   \n",
       "5   Two women were killed in shark attacks in Egyp...   \n",
       "6   The loss of Lysychansk means Russia has seized...   \n",
       "7   Josh Duggar's life in federal prison, followin...   \n",
       "8   D.L. Hughley says Donald Trump committed treas...   \n",
       "9   The Nathan’s Famous Hot Dog Eating Contest wil...   \n",
       "10  SYDNEY (AP) — More than 30,000 residents of Sy...   \n",
       "11  A rescue team from mainland China saved a crew...   \n",
       "12  Shoppers flee in panic after gunfire inside on...   \n",
       "13  The scientific and astronomical communities ar...   \n",
       "14  Many Americans will mark the country's birthda...   \n",
       "15  GRAPHIC WARNING: Video shows the moment a gunm...   \n",
       "16  With 10 minutes to play, the Philadelphia Star...   \n",
       "17  Amazon.com Inc <a href=\"https://www.reuters.co...   \n",
       "18  Jayland Walker suffered at least 60 gunshot wo...   \n",
       "19  After a runner-up finish last week, J.T. Posto...   \n",
       "\n",
       "                                                  url  \\\n",
       "0   https://www.usatoday.com/story/money/reviewed/...   \n",
       "1   https://www.nytimes.com/live/2022/07/04/us/july-4   \n",
       "2   https://www.cnbc.com/2022/07/04/crypto-lender-...   \n",
       "3   https://amp.theguardian.com/us-news/2022/jul/0...   \n",
       "4   https://news.google.com/__i/rss/rd/articles/CB...   \n",
       "5   https://abcnews.go.com/International/women-kil...   \n",
       "6   https://www.washingtonpost.com/world/2022/07/0...   \n",
       "7   https://www.tmz.com/2022/07/04/josh-duggar-lif...   \n",
       "8   https://www.tmz.com/2022/07/04/dl-hughley-dona...   \n",
       "9   https://www.usatoday.com/story/sports/2022/07/...   \n",
       "10  https://apnews.com/article/floods-sydney-austr...   \n",
       "11  https://www.cnn.com/2022/07/04/asia/hong-kong-...   \n",
       "12     https://www.bbc.com/news/world-europe-62030919   \n",
       "13  https://scitechdaily.com/astronomer-says-new-w...   \n",
       "14  https://www.dailymail.co.uk/sciencetech/articl...   \n",
       "15        https://www.youtube.com/watch?v=ureCEy4lm9E   \n",
       "16  https://profootballtalk.nbcsports.com/2022/07/...   \n",
       "17  https://www.reuters.com/business/energy/bezos-...   \n",
       "18  https://www.cnn.com/2022/07/03/us/jayland-walk...   \n",
       "19  https://www.cbssports.com/golf/news/2022-john-...   \n",
       "\n",
       "                                           urlToImage           publishedAt  \\\n",
       "0   https://www.gannett-cdn.com/presto/2022/06/29/...  2022-07-04T12:41:58Z   \n",
       "1   https://static01.nyt.com/images/2022/07/04/us/...  2022-07-04T12:18:04Z   \n",
       "2   https://image.cnbcfm.com/api/v1/image/10708091...  2022-07-04T11:39:39Z   \n",
       "3   https://i.guim.co.uk/img/media/d132665e2d63160...  2022-07-04T10:05:00Z   \n",
       "4                                                None  2022-07-04T10:00:00Z   \n",
       "5   https://s.abcnews.com/images/International/red...  2022-07-04T09:47:19Z   \n",
       "6   https://www.washingtonpost.com/wp-apps/imrs.ph...  2022-07-04T09:30:00Z   \n",
       "7   https://imagez.tmz.com/image/47/16by9/2022/06/...  2022-07-04T08:00:00Z   \n",
       "8   https://imagez.tmz.com/image/2a/16by9/2022/06/...  2022-07-04T07:50:00Z   \n",
       "9   https://www.gannett-cdn.com/presto/2022/07/04/...  2022-07-04T07:30:34Z   \n",
       "10  https://storage.googleapis.com/afs-prod/media/...  2022-07-04T06:52:54Z   \n",
       "11  https://media.cnn.com/api/v1/images/stellar/pr...  2022-07-04T06:35:00Z   \n",
       "12  https://ichef.bbci.co.uk/news/1024/branded_new...  2022-07-04T06:25:07Z   \n",
       "13  https://scitechdaily.com/images/Evolution-of-I...  2022-07-04T04:24:09Z   \n",
       "14  https://i.dailymail.co.uk/1s/2022/07/03/15/597...  2022-07-04T04:00:46Z   \n",
       "15   https://i.ytimg.com/vi/ureCEy4lm9E/hqdefault.jpg  2022-07-04T03:13:23Z   \n",
       "16  https://profootballtalk.nbcsports.com/wp-conte...  2022-07-04T03:07:00Z   \n",
       "17  https://www.reuters.com/resizer/n8fFBzC5wGqYPw...  2022-07-04T01:47:00Z   \n",
       "18  https://media.cnn.com/api/v1/images/stellar/pr...  2022-07-04T01:45:00Z   \n",
       "19  https://sportshub.cbsistatic.com/i/r/2022/07/0...  2022-07-04T01:18:00Z   \n",
       "\n",
       "                                              content  \n",
       "0   — Recommendations are independently chosen by ...  \n",
       "1   The night skies of some American cities will r...  \n",
       "2   Crypto lender Vauld on Monday paused all withd...  \n",
       "3   Good morning.\\r\\nIn the months following the 2...  \n",
       "4                                                None  \n",
       "5   CAIRO and LONDON -- Two women were killed in s...  \n",
       "6   As the war in Ukraine continues to disrupt agr...  \n",
       "7   Josh Duggar is set to spend the next 12 years ...  \n",
       "8   D.L. Hughley says Donald Trump belongs behind ...  \n",
       "9   An American tradition is returning to its root...  \n",
       "10  SYDNEY (AP) More than 30,000 residents of Sydn...  \n",
       "11  A rescue team from mainland China saved a crew...  \n",
       "12  By Alys DaviesBBC News\\r\\nMedia caption, Watch...  \n",
       "13  SPACE &amp; TIMEI would like to introduce to y...  \n",
       "14  Many Americans will mark the country's birthda...  \n",
       "15                                               None  \n",
       "16  With 10 minutes to play, the Philadelphia Star...  \n",
       "17  July 3 (Reuters) - Amazon.com Inc (AMZN.O) fou...  \n",
       "18  Jayland Walker suffered at least 60 gunshot wo...  \n",
       "19  From start to finish, J.T. Poston was the clea...  "
      ]
     },
     "execution_count": 21,
     "metadata": {},
     "output_type": "execute_result"
    }
   ],
   "source": [
    "df"
   ]
  },
  {
   "cell_type": "code",
   "execution_count": 22,
   "id": "f2e2377f-da94-4021-9e6e-b3600bc73273",
   "metadata": {},
   "outputs": [],
   "source": [
    "df['scores'] = df['title'].apply(lambda headline: vader.polarity_scores(headline))\n"
   ]
  },
  {
   "cell_type": "code",
   "execution_count": 23,
   "id": "622aac99-f09b-4f82-aea7-8be4cc3ee6c1",
   "metadata": {},
   "outputs": [],
   "source": [
    "df['scores'] = df['scores'].apply(lambda x : x['compound'])"
   ]
  },
  {
   "cell_type": "code",
   "execution_count": 24,
   "id": "426c0dc3-1949-4d37-9d91-b1ea70b563d8",
   "metadata": {},
   "outputs": [
    {
     "data": {
      "text/plain": [
       "0     0.7096\n",
       "1     0.0000\n",
       "2    -0.4019\n",
       "3     0.3612\n",
       "4     0.1280\n",
       "5    -0.8126\n",
       "6    -0.5994\n",
       "7     0.0000\n",
       "8     0.0000\n",
       "9     0.0000\n",
       "10   -0.5719\n",
       "11    0.0000\n",
       "12   -0.5423\n",
       "13    0.0000\n",
       "14    0.2732\n",
       "15    0.0000\n",
       "16    0.7717\n",
       "17   -0.2732\n",
       "18   -0.7717\n",
       "19    0.0000\n",
       "Name: scores, dtype: float64"
      ]
     },
     "execution_count": 24,
     "metadata": {},
     "output_type": "execute_result"
    }
   ],
   "source": [
    "df['scores']"
   ]
  },
  {
   "cell_type": "code",
   "execution_count": null,
   "id": "1617db26-6aab-42cd-aea3-6a18c1e3e1db",
   "metadata": {},
   "outputs": [],
   "source": []
  }
 ],
 "metadata": {
  "kernelspec": {
   "display_name": "dev",
   "language": "python",
   "name": "dev"
  },
  "language_info": {
   "codemirror_mode": {
    "name": "ipython",
    "version": 3
   },
   "file_extension": ".py",
   "mimetype": "text/x-python",
   "name": "python",
   "nbconvert_exporter": "python",
   "pygments_lexer": "ipython3",
   "version": "3.7.11"
  }
 },
 "nbformat": 4,
 "nbformat_minor": 5
}
