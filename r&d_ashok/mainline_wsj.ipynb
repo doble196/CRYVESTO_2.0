{
 "cells": [
  {
   "cell_type": "code",
   "execution_count": 56,
   "id": "e3d526f1-6580-49f4-8e4c-6ac50dfd450d",
   "metadata": {},
   "outputs": [],
   "source": [
    "import pandas as pd\n",
    "import requests\n",
    "from pathlib import Path\n",
    "import json\n",
    "import datetime\n",
    "\n",
    "import numpy as np\n",
    "\n",
    "import load_data as ld\n",
    "import os\n",
    "\n",
    "import twitter_lib as tl\n",
    "import wsj_lib as wsj"
   ]
  },
  {
   "cell_type": "code",
   "execution_count": 57,
   "id": "1baf2dfc-5b20-42cd-8e7e-b20b31431b43",
   "metadata": {},
   "outputs": [],
   "source": [
    "coin = 'ethereum'\n",
    "coin_ticker='ETH-USD'\n",
    "num_of_periods = 1000 # 1000 days\n",
    "\n",
    "start=\"2018-04-01T00:00:00Z\"\n",
    "end =\"2022-04-30T00:00:00Z\"\n",
    "#default bin size of 24H, but we will provide ...just..\n",
    "bin_size='24H'"
   ]
  },
  {
   "cell_type": "code",
   "execution_count": 58,
   "id": "4c7499af-92cf-4ed0-bb23-bb809c4dec59",
   "metadata": {},
   "outputs": [],
   "source": [
    "#sentiment_df = tl.get_crypto_sentiment_from_twitter(coin, num_of_periods, start, end, bin_size)"
   ]
  },
  {
   "cell_type": "code",
   "execution_count": 59,
   "id": "1fa3c5b0-e907-46b5-b6e5-94bdbe123429",
   "metadata": {},
   "outputs": [],
   "source": [
    "#bear_sentiment"
   ]
  },
  {
   "cell_type": "code",
   "execution_count": 60,
   "id": "ad78e442-6ad2-4f59-b3d5-3d995513e2b0",
   "metadata": {},
   "outputs": [],
   "source": [
    "#bull_sentiment"
   ]
  },
  {
   "cell_type": "code",
   "execution_count": 61,
   "id": "44b7f22a-a426-42f9-8a1f-fbebd8863258",
   "metadata": {},
   "outputs": [],
   "source": [
    "#sentiment_df.head()"
   ]
  },
  {
   "cell_type": "code",
   "execution_count": 62,
   "id": "68cbab49-5943-45ca-8bfa-8a2c929f2727",
   "metadata": {},
   "outputs": [],
   "source": [
    "wsj_sentiment=wsj.get_sentiments_from_wsj()"
   ]
  },
  {
   "cell_type": "code",
   "execution_count": 63,
   "id": "abbd519a-2c17-4d39-9d04-d6b51ce2857c",
   "metadata": {},
   "outputs": [
    {
     "data": {
      "text/plain": [
       "Index(['1/1/00', '1/1/01', '1/1/02', '1/1/03', '1/1/04', '1/1/06', '1/1/07',\n",
       "       '1/1/08', '1/1/09', '1/1/10',\n",
       "       ...\n",
       "       '9/9/11', '9/9/12', '9/9/13', '9/9/15', '9/9/16', '9/9/17', '9/9/18',\n",
       "       '9/9/19', '9/9/20', '9/9/98'],\n",
       "      dtype='object', name='Date', length=7977)"
      ]
     },
     "execution_count": 63,
     "metadata": {},
     "output_type": "execute_result"
    }
   ],
   "source": [
    "wsj_sentiment.index"
   ]
  },
  {
   "cell_type": "code",
   "execution_count": 64,
   "id": "ed4b1f04-104e-4bda-8108-cd5f30d29e24",
   "metadata": {},
   "outputs": [],
   "source": [
    "#sentiment_df = pd.merge(bear_sentiment['Bear_sum'], bull_sentiment['Bull_sum'], how='inner', left_on='Date', right_on='Date')\n",
    "#sentiment_df = pd.merge(bear_sentiment, bull_sentiment, how='inner', left_on='Date', right_on='Date')"
   ]
  },
  {
   "cell_type": "code",
   "execution_count": 65,
   "id": "41a6e316-6d3e-438c-ae73-e4aa9d32a0a9",
   "metadata": {},
   "outputs": [],
   "source": [
    "#sentiment_df=sentiment_df.reset_index()"
   ]
  },
  {
   "cell_type": "code",
   "execution_count": 66,
   "id": "da01aa11-10dc-475d-beed-3221551fc122",
   "metadata": {},
   "outputs": [],
   "source": [
    "#sentiment_df['Date']=pd.to_datetime(sentiment_df['Date'])"
   ]
  },
  {
   "cell_type": "code",
   "execution_count": 67,
   "id": "2cbc1b41-f502-45fc-81a8-bb29304db865",
   "metadata": {},
   "outputs": [],
   "source": [
    "#df_cd = pd.merge(df_SN7577i_c, df_SN7577i_d, how='inner', left_on = 'Id', right_on = 'Id')\n",
    "#sentiment_df = pd.merge(sentiment_df[['Bear_sum','Bull_sum']], wsj_sentiment['sentiment'], how='inner', left_on='Date', right_on='Date')"
   ]
  },
  {
   "cell_type": "code",
   "execution_count": 68,
   "id": "41b9e1d0-74d6-4451-afa9-de7baeb110d5",
   "metadata": {},
   "outputs": [],
   "source": [
    "#sentiment_df.set_index('Date')"
   ]
  },
  {
   "cell_type": "code",
   "execution_count": 69,
   "id": "79319cc9-7a74-46c1-a12f-89249c88b7bb",
   "metadata": {},
   "outputs": [],
   "source": [
    "wsj_sentiment=wsj_sentiment.reset_index()"
   ]
  },
  {
   "cell_type": "code",
   "execution_count": 70,
   "id": "0ee2f36e-ea22-47cd-aeb9-42c9aa5fc68e",
   "metadata": {},
   "outputs": [],
   "source": [
    "wsj_sentiment['Date']=pd.to_datetime(wsj_sentiment['Date'])"
   ]
  },
  {
   "cell_type": "code",
   "execution_count": 71,
   "id": "571f7b42-e840-4a85-9c35-97ad83c1eda4",
   "metadata": {},
   "outputs": [],
   "source": [
    "wsj_sentiment=wsj_sentiment.set_index('Date')"
   ]
  },
  {
   "cell_type": "code",
   "execution_count": 72,
   "id": "21db856a-ced3-450c-9504-6136adf644bb",
   "metadata": {},
   "outputs": [],
   "source": [
    "wsj_sentiment=wsj_sentiment.groupby(by='Date').mean()"
   ]
  },
  {
   "cell_type": "code",
   "execution_count": 73,
   "id": "66f214c3-e2f5-41c8-9e4d-b018a90bd5b0",
   "metadata": {},
   "outputs": [
    {
     "data": {
      "text/html": [
       "<div>\n",
       "<style scoped>\n",
       "    .dataframe tbody tr th:only-of-type {\n",
       "        vertical-align: middle;\n",
       "    }\n",
       "\n",
       "    .dataframe tbody tr th {\n",
       "        vertical-align: top;\n",
       "    }\n",
       "\n",
       "    .dataframe thead th {\n",
       "        text-align: right;\n",
       "    }\n",
       "</style>\n",
       "<table border=\"1\" class=\"dataframe\">\n",
       "  <thead>\n",
       "    <tr style=\"text-align: right;\">\n",
       "      <th></th>\n",
       "      <th>scores</th>\n",
       "    </tr>\n",
       "    <tr>\n",
       "      <th>Date</th>\n",
       "      <th></th>\n",
       "    </tr>\n",
       "  </thead>\n",
       "  <tbody>\n",
       "    <tr>\n",
       "      <th>1998-01-07</th>\n",
       "      <td>-0.273200</td>\n",
       "    </tr>\n",
       "    <tr>\n",
       "      <th>1998-02-12</th>\n",
       "      <td>0.000000</td>\n",
       "    </tr>\n",
       "    <tr>\n",
       "      <th>1998-03-26</th>\n",
       "      <td>0.000000</td>\n",
       "    </tr>\n",
       "    <tr>\n",
       "      <th>1998-05-03</th>\n",
       "      <td>0.000000</td>\n",
       "    </tr>\n",
       "    <tr>\n",
       "      <th>1998-05-04</th>\n",
       "      <td>0.000000</td>\n",
       "    </tr>\n",
       "    <tr>\n",
       "      <th>...</th>\n",
       "      <td>...</td>\n",
       "    </tr>\n",
       "    <tr>\n",
       "      <th>2021-06-26</th>\n",
       "      <td>0.152933</td>\n",
       "    </tr>\n",
       "    <tr>\n",
       "      <th>2021-06-27</th>\n",
       "      <td>0.000000</td>\n",
       "    </tr>\n",
       "    <tr>\n",
       "      <th>2021-06-28</th>\n",
       "      <td>-0.273200</td>\n",
       "    </tr>\n",
       "    <tr>\n",
       "      <th>2021-06-29</th>\n",
       "      <td>0.058233</td>\n",
       "    </tr>\n",
       "    <tr>\n",
       "      <th>2021-06-30</th>\n",
       "      <td>-0.159175</td>\n",
       "    </tr>\n",
       "  </tbody>\n",
       "</table>\n",
       "<p>7977 rows × 1 columns</p>\n",
       "</div>"
      ],
      "text/plain": [
       "              scores\n",
       "Date                \n",
       "1998-01-07 -0.273200\n",
       "1998-02-12  0.000000\n",
       "1998-03-26  0.000000\n",
       "1998-05-03  0.000000\n",
       "1998-05-04  0.000000\n",
       "...              ...\n",
       "2021-06-26  0.152933\n",
       "2021-06-27  0.000000\n",
       "2021-06-28 -0.273200\n",
       "2021-06-29  0.058233\n",
       "2021-06-30 -0.159175\n",
       "\n",
       "[7977 rows x 1 columns]"
      ]
     },
     "execution_count": 73,
     "metadata": {},
     "output_type": "execute_result"
    }
   ],
   "source": [
    "wsj_sentiment"
   ]
  },
  {
   "cell_type": "code",
   "execution_count": 74,
   "id": "bf5fa941-347f-4be0-874d-0f04a05f1262",
   "metadata": {},
   "outputs": [],
   "source": [
    "#sentiment_df = pd.merge(sentiment_df, wsj_sentiment, how='inner', left_on='Date', right_on='Date')"
   ]
  },
  {
   "cell_type": "code",
   "execution_count": 75,
   "id": "dca280b8-dc43-4373-b1b2-d313fb34452b",
   "metadata": {},
   "outputs": [],
   "source": [
    "#sentiment_df = sentiment_df.set_index('Date')"
   ]
  },
  {
   "cell_type": "code",
   "execution_count": 76,
   "id": "f15b769e-705e-44f5-aef2-5be20a9d9340",
   "metadata": {},
   "outputs": [],
   "source": [
    "#ONLY WSJ in the SENTIMENT ANALYSIS\n",
    "sentiment_df = wsj_sentiment.copy()"
   ]
  },
  {
   "cell_type": "code",
   "execution_count": 77,
   "id": "09a31be7-2802-4328-8932-7a937ad49bad",
   "metadata": {},
   "outputs": [],
   "source": [
    "df_coin= ld.load_from_yahoo([coin_ticker], start,end)"
   ]
  },
  {
   "cell_type": "code",
   "execution_count": 78,
   "id": "eb45e2fe-db0d-4638-95de-760d46ecad6f",
   "metadata": {},
   "outputs": [
    {
     "data": {
      "text/plain": [
       "\"short_window=10\\nlong_window = 100\\ndf_coins=pd.DataFrame(df_coin[coin_ticker]['close'])\\ndf_coins['sig']=0.0\\ndf_coins['SMA_short'] = df_coins['close'].rolling(window=short_window).mean()\\ndf_coins['SMA_long'] = df_coins['close'].rolling(window=long_window).mean()\\ndf_coins['sig'][short_window:] = np.where(\\n    df_coins['SMA_short'][short_window:] > df_coins['SMA_long'][short_window:], 1.0, 0.0\\n    )\\ndf_coins['signal'] = df_coins['sig'].diff()\\n    \\ndf_coins[df_coins['signal']==-1]\\n\""
      ]
     },
     "execution_count": 78,
     "metadata": {},
     "output_type": "execute_result"
    }
   ],
   "source": [
    "'''short_window=10\n",
    "long_window = 100\n",
    "df_coins=pd.DataFrame(df_coin[coin_ticker]['close'])\n",
    "df_coins['sig']=0.0\n",
    "df_coins['SMA_short'] = df_coins['close'].rolling(window=short_window).mean()\n",
    "df_coins['SMA_long'] = df_coins['close'].rolling(window=long_window).mean()\n",
    "df_coins['sig'][short_window:] = np.where(\n",
    "    df_coins['SMA_short'][short_window:] > df_coins['SMA_long'][short_window:], 1.0, 0.0\n",
    "    )\n",
    "df_coins['signal'] = df_coins['sig'].diff()\n",
    "    \n",
    "df_coins[df_coins['signal']==-1]\n",
    "'''"
   ]
  },
  {
   "cell_type": "code",
   "execution_count": null,
   "id": "37272283-273f-48e5-b590-4f3a1c5d4016",
   "metadata": {},
   "outputs": [],
   "source": []
  },
  {
   "cell_type": "code",
   "execution_count": null,
   "id": "a8b2f3cb-1ef8-46be-8729-df07e8f55d6b",
   "metadata": {},
   "outputs": [],
   "source": []
  },
  {
   "cell_type": "code",
   "execution_count": null,
   "id": "036a9b1c-ce6c-4752-a74b-dd4ced6c4438",
   "metadata": {},
   "outputs": [],
   "source": []
  },
  {
   "cell_type": "code",
   "execution_count": 79,
   "id": "131dc72b-a1f2-4a7e-adca-c718f30dcdcf",
   "metadata": {},
   "outputs": [
    {
     "data": {
      "text/plain": [
       "DatetimeIndex(['2018-03-31', '2018-04-01', '2018-04-02', '2018-04-03',\n",
       "               '2018-04-04', '2018-04-05', '2018-04-06', '2018-04-07',\n",
       "               '2018-04-08', '2018-04-09',\n",
       "               ...\n",
       "               '2022-04-21', '2022-04-22', '2022-04-23', '2022-04-24',\n",
       "               '2022-04-25', '2022-04-26', '2022-04-27', '2022-04-28',\n",
       "               '2022-04-29', '2022-04-30'],\n",
       "              dtype='datetime64[ns]', name='Date', length=1492, freq=None)"
      ]
     },
     "execution_count": 79,
     "metadata": {},
     "output_type": "execute_result"
    }
   ],
   "source": [
    "df_coin.index"
   ]
  },
  {
   "cell_type": "code",
   "execution_count": 80,
   "id": "3867aeca-603f-4c75-acf9-06d36e7c704f",
   "metadata": {},
   "outputs": [],
   "source": [
    "joined_df = sentiment_df.join(df_coin[coin_ticker]['close'])"
   ]
  },
  {
   "cell_type": "code",
   "execution_count": 81,
   "id": "099da49e-8650-474e-84a3-c0e125d31c6c",
   "metadata": {},
   "outputs": [],
   "source": [
    "joined_df['daily_ret']=joined_df['close'].pct_change().shift()"
   ]
  },
  {
   "cell_type": "code",
   "execution_count": 82,
   "id": "e2700a91-1d81-4103-abd5-df561f2fb542",
   "metadata": {},
   "outputs": [
    {
     "data": {
      "text/html": [
       "<div>\n",
       "<style scoped>\n",
       "    .dataframe tbody tr th:only-of-type {\n",
       "        vertical-align: middle;\n",
       "    }\n",
       "\n",
       "    .dataframe tbody tr th {\n",
       "        vertical-align: top;\n",
       "    }\n",
       "\n",
       "    .dataframe thead th {\n",
       "        text-align: right;\n",
       "    }\n",
       "</style>\n",
       "<table border=\"1\" class=\"dataframe\">\n",
       "  <thead>\n",
       "    <tr style=\"text-align: right;\">\n",
       "      <th></th>\n",
       "      <th>scores</th>\n",
       "      <th>close</th>\n",
       "      <th>daily_ret</th>\n",
       "    </tr>\n",
       "    <tr>\n",
       "      <th>Date</th>\n",
       "      <th></th>\n",
       "      <th></th>\n",
       "      <th></th>\n",
       "    </tr>\n",
       "  </thead>\n",
       "  <tbody>\n",
       "    <tr>\n",
       "      <th>1998-01-07</th>\n",
       "      <td>-0.273200</td>\n",
       "      <td>NaN</td>\n",
       "      <td>NaN</td>\n",
       "    </tr>\n",
       "    <tr>\n",
       "      <th>1998-02-12</th>\n",
       "      <td>0.000000</td>\n",
       "      <td>NaN</td>\n",
       "      <td>NaN</td>\n",
       "    </tr>\n",
       "    <tr>\n",
       "      <th>1998-03-26</th>\n",
       "      <td>0.000000</td>\n",
       "      <td>NaN</td>\n",
       "      <td>NaN</td>\n",
       "    </tr>\n",
       "    <tr>\n",
       "      <th>1998-05-03</th>\n",
       "      <td>0.000000</td>\n",
       "      <td>NaN</td>\n",
       "      <td>NaN</td>\n",
       "    </tr>\n",
       "    <tr>\n",
       "      <th>1998-05-04</th>\n",
       "      <td>0.000000</td>\n",
       "      <td>NaN</td>\n",
       "      <td>NaN</td>\n",
       "    </tr>\n",
       "    <tr>\n",
       "      <th>...</th>\n",
       "      <td>...</td>\n",
       "      <td>...</td>\n",
       "      <td>...</td>\n",
       "    </tr>\n",
       "    <tr>\n",
       "      <th>2021-06-26</th>\n",
       "      <td>0.152933</td>\n",
       "      <td>1829.239258</td>\n",
       "      <td>-0.088128</td>\n",
       "    </tr>\n",
       "    <tr>\n",
       "      <th>2021-06-27</th>\n",
       "      <td>0.000000</td>\n",
       "      <td>1978.894653</td>\n",
       "      <td>0.008836</td>\n",
       "    </tr>\n",
       "    <tr>\n",
       "      <th>2021-06-28</th>\n",
       "      <td>-0.273200</td>\n",
       "      <td>2079.657471</td>\n",
       "      <td>0.081813</td>\n",
       "    </tr>\n",
       "    <tr>\n",
       "      <th>2021-06-29</th>\n",
       "      <td>0.058233</td>\n",
       "      <td>2160.768311</td>\n",
       "      <td>0.050919</td>\n",
       "    </tr>\n",
       "    <tr>\n",
       "      <th>2021-06-30</th>\n",
       "      <td>-0.159175</td>\n",
       "      <td>2274.547607</td>\n",
       "      <td>0.039002</td>\n",
       "    </tr>\n",
       "  </tbody>\n",
       "</table>\n",
       "<p>7977 rows × 3 columns</p>\n",
       "</div>"
      ],
      "text/plain": [
       "              scores        close  daily_ret\n",
       "Date                                        \n",
       "1998-01-07 -0.273200          NaN        NaN\n",
       "1998-02-12  0.000000          NaN        NaN\n",
       "1998-03-26  0.000000          NaN        NaN\n",
       "1998-05-03  0.000000          NaN        NaN\n",
       "1998-05-04  0.000000          NaN        NaN\n",
       "...              ...          ...        ...\n",
       "2021-06-26  0.152933  1829.239258  -0.088128\n",
       "2021-06-27  0.000000  1978.894653   0.008836\n",
       "2021-06-28 -0.273200  2079.657471   0.081813\n",
       "2021-06-29  0.058233  2160.768311   0.050919\n",
       "2021-06-30 -0.159175  2274.547607   0.039002\n",
       "\n",
       "[7977 rows x 3 columns]"
      ]
     },
     "execution_count": 82,
     "metadata": {},
     "output_type": "execute_result"
    }
   ],
   "source": [
    "joined_df"
   ]
  },
  {
   "cell_type": "code",
   "execution_count": 83,
   "id": "0bbd3c7b-4c84-49f5-8308-9862cd9b7753",
   "metadata": {},
   "outputs": [
    {
     "data": {
      "text/plain": [
       "\"#polarity=[]\\n#subj=[]\\nsignal=[]\\ncnt=True\\n#for i in f_df['Headline']:\\nfor i in joined_df.index:\\n    #Bear_sum\\tBull_sum\\tscores\\t\\n    if cnt : \\n        i_previous = i\\n        signal.append(0)\\n        cnt = False\\n        continue\\n    if (joined_df['daily_ret'][i] >0 and joined_df['daily_ret'][i_previous] > 0) :\\n        signal.append(1)\\n    elif (joined_df['daily_ret'][i] < 0 and joined_df['daily_ret'][i_previous] < 0):\\n        signal.append(-1)\\n    else:\\n        signal.append(0)\\n    \\n    i_previous = i\\n\\n\""
      ]
     },
     "execution_count": 83,
     "metadata": {},
     "output_type": "execute_result"
    }
   ],
   "source": [
    "'''#polarity=[]\n",
    "#subj=[]\n",
    "signal=[]\n",
    "cnt=True\n",
    "#for i in f_df['Headline']:\n",
    "for i in joined_df.index:\n",
    "    #Bear_sum\tBull_sum\tscores\t\n",
    "    if cnt : \n",
    "        i_previous = i\n",
    "        signal.append(0)\n",
    "        cnt = False\n",
    "        continue\n",
    "    if (joined_df['daily_ret'][i] >0 and joined_df['daily_ret'][i_previous] > 0) :\n",
    "        signal.append(1)\n",
    "    elif (joined_df['daily_ret'][i] < 0 and joined_df['daily_ret'][i_previous] < 0):\n",
    "        signal.append(-1)\n",
    "    else:\n",
    "        signal.append(0)\n",
    "    \n",
    "    i_previous = i\n",
    "\n",
    "'''"
   ]
  },
  {
   "cell_type": "code",
   "execution_count": 84,
   "id": "dc92c7fe-ea92-48d6-a0be-af05ac0d791d",
   "metadata": {},
   "outputs": [],
   "source": [
    "only_price_change_signal=True"
   ]
  },
  {
   "cell_type": "code",
   "execution_count": 85,
   "id": "6abecf90-ce4c-445b-9324-d348c7a28bc7",
   "metadata": {},
   "outputs": [],
   "source": [
    "#USE DIFF FUNCTION TO DECIDE SIGNAL\n",
    "if only_price_change_signal:\n",
    "    joined_df['Diff'] = joined_df['daily_ret'].diff()\n",
    "    joined_df['signal'] = joined_df['Diff'].apply(lambda x: 1 if x > 0.07 else -1 if x < 0.03 else 0)\n",
    "    joined_df.drop(columns=['Diff'], inplace=True)\n",
    "else:\n",
    "    signal=[]\n",
    "    #for i in f_df['Headline']:\n",
    "    for i in joined_df.index:\n",
    "        if (joined_df['scores'][i] > .5) and joined_df['daily_ret'][i] >0:\n",
    "            signal.append(1)\n",
    "        elif (joined_df['scores'][i]>0.0 and joined_df['scores'][i] <= .5) and joined_df['daily_ret'][i] < 0:\n",
    "            signal.append(-1)\n",
    "        else:\n",
    "            signal.append(0)\n",
    "    joined_df['signal']= signal"
   ]
  },
  {
   "cell_type": "code",
   "execution_count": null,
   "id": "b70389e5-364d-428e-8b9f-f16be72d4f91",
   "metadata": {},
   "outputs": [],
   "source": []
  },
  {
   "cell_type": "code",
   "execution_count": 86,
   "id": "652e878b-6a21-4544-b04b-3ee8197df0a1",
   "metadata": {},
   "outputs": [
    {
     "data": {
      "text/plain": [
       "Date\n",
       "1998-01-07    0\n",
       "1998-02-12    0\n",
       "1998-03-26    0\n",
       "1998-05-03    0\n",
       "1998-05-04    0\n",
       "             ..\n",
       "2021-06-26   -1\n",
       "2021-06-27    1\n",
       "2021-06-28    1\n",
       "2021-06-29   -1\n",
       "2021-06-30   -1\n",
       "Name: signal, Length: 7977, dtype: int64"
      ]
     },
     "execution_count": 86,
     "metadata": {},
     "output_type": "execute_result"
    }
   ],
   "source": [
    "joined_df['signal']"
   ]
  },
  {
   "cell_type": "code",
   "execution_count": 87,
   "id": "acb1564b-f3ef-4e89-b10d-5718e6e3fc5a",
   "metadata": {},
   "outputs": [
    {
     "data": {
      "text/html": [
       "<div>\n",
       "<style scoped>\n",
       "    .dataframe tbody tr th:only-of-type {\n",
       "        vertical-align: middle;\n",
       "    }\n",
       "\n",
       "    .dataframe tbody tr th {\n",
       "        vertical-align: top;\n",
       "    }\n",
       "\n",
       "    .dataframe thead th {\n",
       "        text-align: right;\n",
       "    }\n",
       "</style>\n",
       "<table border=\"1\" class=\"dataframe\">\n",
       "  <thead>\n",
       "    <tr style=\"text-align: right;\">\n",
       "      <th></th>\n",
       "      <th>scores</th>\n",
       "      <th>close</th>\n",
       "      <th>daily_ret</th>\n",
       "      <th>signal</th>\n",
       "    </tr>\n",
       "    <tr>\n",
       "      <th>Date</th>\n",
       "      <th></th>\n",
       "      <th></th>\n",
       "      <th></th>\n",
       "      <th></th>\n",
       "    </tr>\n",
       "  </thead>\n",
       "  <tbody>\n",
       "    <tr>\n",
       "      <th>1998-01-07</th>\n",
       "      <td>-0.273200</td>\n",
       "      <td>NaN</td>\n",
       "      <td>NaN</td>\n",
       "      <td>0</td>\n",
       "    </tr>\n",
       "    <tr>\n",
       "      <th>1998-02-12</th>\n",
       "      <td>0.000000</td>\n",
       "      <td>NaN</td>\n",
       "      <td>NaN</td>\n",
       "      <td>0</td>\n",
       "    </tr>\n",
       "    <tr>\n",
       "      <th>1998-03-26</th>\n",
       "      <td>0.000000</td>\n",
       "      <td>NaN</td>\n",
       "      <td>NaN</td>\n",
       "      <td>0</td>\n",
       "    </tr>\n",
       "    <tr>\n",
       "      <th>1998-05-03</th>\n",
       "      <td>0.000000</td>\n",
       "      <td>NaN</td>\n",
       "      <td>NaN</td>\n",
       "      <td>0</td>\n",
       "    </tr>\n",
       "    <tr>\n",
       "      <th>1998-05-04</th>\n",
       "      <td>0.000000</td>\n",
       "      <td>NaN</td>\n",
       "      <td>NaN</td>\n",
       "      <td>0</td>\n",
       "    </tr>\n",
       "    <tr>\n",
       "      <th>...</th>\n",
       "      <td>...</td>\n",
       "      <td>...</td>\n",
       "      <td>...</td>\n",
       "      <td>...</td>\n",
       "    </tr>\n",
       "    <tr>\n",
       "      <th>2021-06-26</th>\n",
       "      <td>0.152933</td>\n",
       "      <td>1829.239258</td>\n",
       "      <td>-0.088128</td>\n",
       "      <td>-1</td>\n",
       "    </tr>\n",
       "    <tr>\n",
       "      <th>2021-06-27</th>\n",
       "      <td>0.000000</td>\n",
       "      <td>1978.894653</td>\n",
       "      <td>0.008836</td>\n",
       "      <td>1</td>\n",
       "    </tr>\n",
       "    <tr>\n",
       "      <th>2021-06-28</th>\n",
       "      <td>-0.273200</td>\n",
       "      <td>2079.657471</td>\n",
       "      <td>0.081813</td>\n",
       "      <td>1</td>\n",
       "    </tr>\n",
       "    <tr>\n",
       "      <th>2021-06-29</th>\n",
       "      <td>0.058233</td>\n",
       "      <td>2160.768311</td>\n",
       "      <td>0.050919</td>\n",
       "      <td>-1</td>\n",
       "    </tr>\n",
       "    <tr>\n",
       "      <th>2021-06-30</th>\n",
       "      <td>-0.159175</td>\n",
       "      <td>2274.547607</td>\n",
       "      <td>0.039002</td>\n",
       "      <td>-1</td>\n",
       "    </tr>\n",
       "  </tbody>\n",
       "</table>\n",
       "<p>7977 rows × 4 columns</p>\n",
       "</div>"
      ],
      "text/plain": [
       "              scores        close  daily_ret  signal\n",
       "Date                                                \n",
       "1998-01-07 -0.273200          NaN        NaN       0\n",
       "1998-02-12  0.000000          NaN        NaN       0\n",
       "1998-03-26  0.000000          NaN        NaN       0\n",
       "1998-05-03  0.000000          NaN        NaN       0\n",
       "1998-05-04  0.000000          NaN        NaN       0\n",
       "...              ...          ...        ...     ...\n",
       "2021-06-26  0.152933  1829.239258  -0.088128      -1\n",
       "2021-06-27  0.000000  1978.894653   0.008836       1\n",
       "2021-06-28 -0.273200  2079.657471   0.081813       1\n",
       "2021-06-29  0.058233  2160.768311   0.050919      -1\n",
       "2021-06-30 -0.159175  2274.547607   0.039002      -1\n",
       "\n",
       "[7977 rows x 4 columns]"
      ]
     },
     "execution_count": 87,
     "metadata": {},
     "output_type": "execute_result"
    }
   ],
   "source": [
    "joined_df"
   ]
  },
  {
   "cell_type": "code",
   "execution_count": 88,
   "id": "3291ed40-4f25-47f7-a78e-670a3d17c329",
   "metadata": {},
   "outputs": [],
   "source": [
    "joined_df=joined_df.dropna()"
   ]
  },
  {
   "cell_type": "code",
   "execution_count": 89,
   "id": "9896ab57-8e92-4c77-9737-c3997350f90e",
   "metadata": {},
   "outputs": [
    {
     "data": {
      "text/html": [
       "<div>\n",
       "<style scoped>\n",
       "    .dataframe tbody tr th:only-of-type {\n",
       "        vertical-align: middle;\n",
       "    }\n",
       "\n",
       "    .dataframe tbody tr th {\n",
       "        vertical-align: top;\n",
       "    }\n",
       "\n",
       "    .dataframe thead th {\n",
       "        text-align: right;\n",
       "    }\n",
       "</style>\n",
       "<table border=\"1\" class=\"dataframe\">\n",
       "  <thead>\n",
       "    <tr style=\"text-align: right;\">\n",
       "      <th></th>\n",
       "      <th>scores</th>\n",
       "      <th>close</th>\n",
       "      <th>daily_ret</th>\n",
       "      <th>signal</th>\n",
       "    </tr>\n",
       "    <tr>\n",
       "      <th>Date</th>\n",
       "      <th></th>\n",
       "      <th></th>\n",
       "      <th></th>\n",
       "      <th></th>\n",
       "    </tr>\n",
       "  </thead>\n",
       "  <tbody>\n",
       "    <tr>\n",
       "      <th>2018-04-02</th>\n",
       "      <td>-0.045900</td>\n",
       "      <td>386.424988</td>\n",
       "      <td>-0.042501</td>\n",
       "      <td>0</td>\n",
       "    </tr>\n",
       "    <tr>\n",
       "      <th>2018-04-03</th>\n",
       "      <td>-0.458800</td>\n",
       "      <td>416.893005</td>\n",
       "      <td>0.017961</td>\n",
       "      <td>0</td>\n",
       "    </tr>\n",
       "    <tr>\n",
       "      <th>2018-04-04</th>\n",
       "      <td>0.000000</td>\n",
       "      <td>380.542999</td>\n",
       "      <td>0.078846</td>\n",
       "      <td>0</td>\n",
       "    </tr>\n",
       "    <tr>\n",
       "      <th>2018-04-05</th>\n",
       "      <td>-0.309633</td>\n",
       "      <td>383.231995</td>\n",
       "      <td>-0.087193</td>\n",
       "      <td>-1</td>\n",
       "    </tr>\n",
       "    <tr>\n",
       "      <th>2018-04-06</th>\n",
       "      <td>-0.007550</td>\n",
       "      <td>370.285004</td>\n",
       "      <td>0.007066</td>\n",
       "      <td>1</td>\n",
       "    </tr>\n",
       "    <tr>\n",
       "      <th>...</th>\n",
       "      <td>...</td>\n",
       "      <td>...</td>\n",
       "      <td>...</td>\n",
       "      <td>...</td>\n",
       "    </tr>\n",
       "    <tr>\n",
       "      <th>2021-06-26</th>\n",
       "      <td>0.152933</td>\n",
       "      <td>1829.239258</td>\n",
       "      <td>-0.088128</td>\n",
       "      <td>-1</td>\n",
       "    </tr>\n",
       "    <tr>\n",
       "      <th>2021-06-27</th>\n",
       "      <td>0.000000</td>\n",
       "      <td>1978.894653</td>\n",
       "      <td>0.008836</td>\n",
       "      <td>1</td>\n",
       "    </tr>\n",
       "    <tr>\n",
       "      <th>2021-06-28</th>\n",
       "      <td>-0.273200</td>\n",
       "      <td>2079.657471</td>\n",
       "      <td>0.081813</td>\n",
       "      <td>1</td>\n",
       "    </tr>\n",
       "    <tr>\n",
       "      <th>2021-06-29</th>\n",
       "      <td>0.058233</td>\n",
       "      <td>2160.768311</td>\n",
       "      <td>0.050919</td>\n",
       "      <td>-1</td>\n",
       "    </tr>\n",
       "    <tr>\n",
       "      <th>2021-06-30</th>\n",
       "      <td>-0.159175</td>\n",
       "      <td>2274.547607</td>\n",
       "      <td>0.039002</td>\n",
       "      <td>-1</td>\n",
       "    </tr>\n",
       "  </tbody>\n",
       "</table>\n",
       "<p>1142 rows × 4 columns</p>\n",
       "</div>"
      ],
      "text/plain": [
       "              scores        close  daily_ret  signal\n",
       "Date                                                \n",
       "2018-04-02 -0.045900   386.424988  -0.042501       0\n",
       "2018-04-03 -0.458800   416.893005   0.017961       0\n",
       "2018-04-04  0.000000   380.542999   0.078846       0\n",
       "2018-04-05 -0.309633   383.231995  -0.087193      -1\n",
       "2018-04-06 -0.007550   370.285004   0.007066       1\n",
       "...              ...          ...        ...     ...\n",
       "2021-06-26  0.152933  1829.239258  -0.088128      -1\n",
       "2021-06-27  0.000000  1978.894653   0.008836       1\n",
       "2021-06-28 -0.273200  2079.657471   0.081813       1\n",
       "2021-06-29  0.058233  2160.768311   0.050919      -1\n",
       "2021-06-30 -0.159175  2274.547607   0.039002      -1\n",
       "\n",
       "[1142 rows x 4 columns]"
      ]
     },
     "execution_count": 89,
     "metadata": {},
     "output_type": "execute_result"
    }
   ],
   "source": [
    "joined_df"
   ]
  },
  {
   "cell_type": "code",
   "execution_count": 90,
   "id": "65c0be13-d583-4903-8f39-c9355dd15043",
   "metadata": {},
   "outputs": [],
   "source": [
    "from sklearn.model_selection import train_test_split\n",
    "from sklearn.preprocessing import StandardScaler\n",
    "from sklearn.linear_model import LogisticRegression\n"
   ]
  },
  {
   "cell_type": "code",
   "execution_count": null,
   "id": "2aa2cf50-6bbc-4055-8613-4b624af9d3ad",
   "metadata": {},
   "outputs": [],
   "source": []
  },
  {
   "cell_type": "code",
   "execution_count": null,
   "id": "dae6b6f0-d2b6-4fae-904d-9be61c38172f",
   "metadata": {},
   "outputs": [],
   "source": []
  },
  {
   "cell_type": "code",
   "execution_count": 91,
   "id": "7d2203b2-202b-4204-99e0-4e555c39d761",
   "metadata": {},
   "outputs": [],
   "source": [
    "y = joined_df['signal']\n",
    "if only_price_change_signal:\n",
    "    X = joined_df.drop(columns=['daily_ret', 'close', 'signal'])\n",
    "else:\n",
    "    X = joined_df.drop(columns=['scores', 'daily_ret', 'close', 'signal'])"
   ]
  },
  {
   "cell_type": "code",
   "execution_count": 92,
   "id": "beb38915-7043-417c-998e-36fd8f4357b2",
   "metadata": {},
   "outputs": [],
   "source": [
    "X.to_csv('X.csv')\n",
    "y.to_csv('y.csv')"
   ]
  },
  {
   "cell_type": "code",
   "execution_count": 93,
   "id": "c8cdee48-ce04-499b-a83f-29fede18e0e8",
   "metadata": {},
   "outputs": [
    {
     "data": {
      "text/html": [
       "<div>\n",
       "<style scoped>\n",
       "    .dataframe tbody tr th:only-of-type {\n",
       "        vertical-align: middle;\n",
       "    }\n",
       "\n",
       "    .dataframe tbody tr th {\n",
       "        vertical-align: top;\n",
       "    }\n",
       "\n",
       "    .dataframe thead th {\n",
       "        text-align: right;\n",
       "    }\n",
       "</style>\n",
       "<table border=\"1\" class=\"dataframe\">\n",
       "  <thead>\n",
       "    <tr style=\"text-align: right;\">\n",
       "      <th></th>\n",
       "      <th>scores</th>\n",
       "    </tr>\n",
       "    <tr>\n",
       "      <th>Date</th>\n",
       "      <th></th>\n",
       "    </tr>\n",
       "  </thead>\n",
       "  <tbody>\n",
       "    <tr>\n",
       "      <th>2018-12-16</th>\n",
       "      <td>-0.142867</td>\n",
       "    </tr>\n",
       "    <tr>\n",
       "      <th>2019-04-07</th>\n",
       "      <td>0.113333</td>\n",
       "    </tr>\n",
       "    <tr>\n",
       "      <th>2021-01-24</th>\n",
       "      <td>-0.299700</td>\n",
       "    </tr>\n",
       "    <tr>\n",
       "      <th>2020-03-11</th>\n",
       "      <td>-0.021200</td>\n",
       "    </tr>\n",
       "    <tr>\n",
       "      <th>2020-08-04</th>\n",
       "      <td>-0.170000</td>\n",
       "    </tr>\n",
       "    <tr>\n",
       "      <th>...</th>\n",
       "      <td>...</td>\n",
       "    </tr>\n",
       "    <tr>\n",
       "      <th>2020-03-04</th>\n",
       "      <td>0.263350</td>\n",
       "    </tr>\n",
       "    <tr>\n",
       "      <th>2021-05-24</th>\n",
       "      <td>0.059300</td>\n",
       "    </tr>\n",
       "    <tr>\n",
       "      <th>2020-02-24</th>\n",
       "      <td>0.139350</td>\n",
       "    </tr>\n",
       "    <tr>\n",
       "      <th>2020-02-14</th>\n",
       "      <td>0.092800</td>\n",
       "    </tr>\n",
       "    <tr>\n",
       "      <th>2019-12-28</th>\n",
       "      <td>-0.206500</td>\n",
       "    </tr>\n",
       "  </tbody>\n",
       "</table>\n",
       "<p>856 rows × 1 columns</p>\n",
       "</div>"
      ],
      "text/plain": [
       "              scores\n",
       "Date                \n",
       "2018-12-16 -0.142867\n",
       "2019-04-07  0.113333\n",
       "2021-01-24 -0.299700\n",
       "2020-03-11 -0.021200\n",
       "2020-08-04 -0.170000\n",
       "...              ...\n",
       "2020-03-04  0.263350\n",
       "2021-05-24  0.059300\n",
       "2020-02-24  0.139350\n",
       "2020-02-14  0.092800\n",
       "2019-12-28 -0.206500\n",
       "\n",
       "[856 rows x 1 columns]"
      ]
     },
     "execution_count": 93,
     "metadata": {},
     "output_type": "execute_result"
    }
   ],
   "source": [
    "X_train, X_test, y_train, y_test = train_test_split(X, y)\n",
    "X_train"
   ]
  },
  {
   "cell_type": "code",
   "execution_count": null,
   "id": "2b6e0f58-6c29-40d4-8208-71406781db36",
   "metadata": {},
   "outputs": [],
   "source": []
  },
  {
   "cell_type": "code",
   "execution_count": 94,
   "id": "5d7cfe67-de49-4fa6-b8b5-56b10b26f132",
   "metadata": {},
   "outputs": [],
   "source": [
    "# Scale the data\n",
    "scaler = StandardScaler()\n",
    "X_scaler = scaler.fit(X_train)\n",
    "X_train_scaled = X_scaler.transform(X_train)\n",
    "X_test_scaled = X_scaler.transform(X_test)"
   ]
  },
  {
   "cell_type": "code",
   "execution_count": 95,
   "id": "a1697ae9-b29e-4900-a6f9-a63b8d50b907",
   "metadata": {},
   "outputs": [
    {
     "data": {
      "text/plain": [
       "(856, 1)"
      ]
     },
     "execution_count": 95,
     "metadata": {},
     "output_type": "execute_result"
    }
   ],
   "source": [
    "X_train_scaled.shape"
   ]
  },
  {
   "cell_type": "code",
   "execution_count": 96,
   "id": "b3b493fe-1246-4eb3-8d27-e1ed0d3cb4ae",
   "metadata": {},
   "outputs": [
    {
     "name": "stderr",
     "output_type": "stream",
     "text": [
      "/Users/ashokpandey/opt/anaconda3/envs/dev/lib/python3.7/site-packages/imblearn/under_sampling/_prototype_generation/_cluster_centroids.py:172: ConvergenceWarning: Number of distinct clusters (117) found smaller than n_clusters (118). Possibly due to duplicate points in X.\n",
      "  self.estimator_.fit(X[y == target_class])\n"
     ]
    }
   ],
   "source": [
    "# Import ClusterCentroids from imblearn\n",
    "from imblearn.under_sampling import ClusterCentroids\n",
    "\n",
    "# Instantiate a ClusterCentroids instance\n",
    "cc_sampler = ClusterCentroids(random_state=1)\n",
    "# Fit the training data to the cluster centroids model\n",
    "X_resampled, y_resampled = cc_sampler.fit_resample(X_train_scaled, y_train)"
   ]
  },
  {
   "cell_type": "code",
   "execution_count": 97,
   "id": "53fb4f9e-878a-467e-9006-24a593be1c97",
   "metadata": {},
   "outputs": [
    {
     "data": {
      "text/plain": [
       "-1    118\n",
       " 0    118\n",
       " 1    118\n",
       "Name: signal, dtype: int64"
      ]
     },
     "execution_count": 97,
     "metadata": {},
     "output_type": "execute_result"
    }
   ],
   "source": [
    "# Count distinct values for the resampled target data\n",
    "y_resampled.value_counts()"
   ]
  },
  {
   "cell_type": "code",
   "execution_count": 98,
   "id": "c19a960d-9ec4-4845-a14e-8b7334ea9fa4",
   "metadata": {},
   "outputs": [],
   "source": [
    "lr = LogisticRegression()"
   ]
  },
  {
   "cell_type": "code",
   "execution_count": 99,
   "id": "873a2c7d-7313-4fcd-ba06-42adcb4199f8",
   "metadata": {},
   "outputs": [
    {
     "data": {
      "text/html": [
       "<div>\n",
       "<style scoped>\n",
       "    .dataframe tbody tr th:only-of-type {\n",
       "        vertical-align: middle;\n",
       "    }\n",
       "\n",
       "    .dataframe tbody tr th {\n",
       "        vertical-align: top;\n",
       "    }\n",
       "\n",
       "    .dataframe thead th {\n",
       "        text-align: right;\n",
       "    }\n",
       "</style>\n",
       "<table border=\"1\" class=\"dataframe\">\n",
       "  <thead>\n",
       "    <tr style=\"text-align: right;\">\n",
       "      <th></th>\n",
       "      <th>Prediction</th>\n",
       "      <th>Actual</th>\n",
       "    </tr>\n",
       "  </thead>\n",
       "  <tbody>\n",
       "    <tr>\n",
       "      <th>0</th>\n",
       "      <td>1</td>\n",
       "      <td>-1</td>\n",
       "    </tr>\n",
       "    <tr>\n",
       "      <th>1</th>\n",
       "      <td>0</td>\n",
       "      <td>-1</td>\n",
       "    </tr>\n",
       "    <tr>\n",
       "      <th>2</th>\n",
       "      <td>1</td>\n",
       "      <td>-1</td>\n",
       "    </tr>\n",
       "    <tr>\n",
       "      <th>3</th>\n",
       "      <td>1</td>\n",
       "      <td>0</td>\n",
       "    </tr>\n",
       "    <tr>\n",
       "      <th>4</th>\n",
       "      <td>1</td>\n",
       "      <td>-1</td>\n",
       "    </tr>\n",
       "  </tbody>\n",
       "</table>\n",
       "</div>"
      ],
      "text/plain": [
       "   Prediction  Actual\n",
       "0           1      -1\n",
       "1           0      -1\n",
       "2           1      -1\n",
       "3           1       0\n",
       "4           1      -1"
      ]
     },
     "execution_count": 99,
     "metadata": {},
     "output_type": "execute_result"
    }
   ],
   "source": [
    "lr.fit(X_resampled, y_resampled)\n",
    "# Make predictions using the test data\n",
    "y_pred = lr.predict(X_test_scaled)\n",
    "\n",
    "results = pd.DataFrame({\n",
    "    \"Prediction\": y_pred, \n",
    "    \"Actual\": y_test\n",
    "}).reset_index(drop=True)\n",
    "\n",
    "results.head()\n"
   ]
  },
  {
   "cell_type": "code",
   "execution_count": 100,
   "id": "7f9033cc-52ff-4395-a76b-4225fad2471f",
   "metadata": {},
   "outputs": [
    {
     "data": {
      "text/html": [
       "<div>\n",
       "<style scoped>\n",
       "    .dataframe tbody tr th:only-of-type {\n",
       "        vertical-align: middle;\n",
       "    }\n",
       "\n",
       "    .dataframe tbody tr th {\n",
       "        vertical-align: top;\n",
       "    }\n",
       "\n",
       "    .dataframe thead th {\n",
       "        text-align: right;\n",
       "    }\n",
       "</style>\n",
       "<table border=\"1\" class=\"dataframe\">\n",
       "  <thead>\n",
       "    <tr style=\"text-align: right;\">\n",
       "      <th></th>\n",
       "      <th>Prediction</th>\n",
       "      <th>Actual</th>\n",
       "    </tr>\n",
       "  </thead>\n",
       "  <tbody>\n",
       "    <tr>\n",
       "      <th>0</th>\n",
       "      <td>1</td>\n",
       "      <td>-1</td>\n",
       "    </tr>\n",
       "    <tr>\n",
       "      <th>1</th>\n",
       "      <td>0</td>\n",
       "      <td>-1</td>\n",
       "    </tr>\n",
       "    <tr>\n",
       "      <th>2</th>\n",
       "      <td>1</td>\n",
       "      <td>-1</td>\n",
       "    </tr>\n",
       "    <tr>\n",
       "      <th>3</th>\n",
       "      <td>1</td>\n",
       "      <td>0</td>\n",
       "    </tr>\n",
       "    <tr>\n",
       "      <th>4</th>\n",
       "      <td>1</td>\n",
       "      <td>-1</td>\n",
       "    </tr>\n",
       "  </tbody>\n",
       "</table>\n",
       "</div>"
      ],
      "text/plain": [
       "   Prediction  Actual\n",
       "0           1      -1\n",
       "1           0      -1\n",
       "2           1      -1\n",
       "3           1       0\n",
       "4           1      -1"
      ]
     },
     "execution_count": 100,
     "metadata": {},
     "output_type": "execute_result"
    }
   ],
   "source": [
    "# Make predictions using the test data\n",
    "y_pred = lr.predict(X_test_scaled)\n",
    "\n",
    "results = pd.DataFrame({\n",
    "    \"Prediction\": y_pred, \n",
    "    \"Actual\": y_test\n",
    "}).reset_index(drop=True)\n",
    "\n",
    "results.head()"
   ]
  },
  {
   "cell_type": "code",
   "execution_count": 101,
   "id": "1aa5b44d-ebf2-46cb-bcf6-bf5de641c221",
   "metadata": {},
   "outputs": [],
   "source": [
    "# Import Modules\n",
    "from sklearn.metrics import confusion_matrix,classification_report"
   ]
  },
  {
   "cell_type": "code",
   "execution_count": 102,
   "id": "3fad2be8-da9d-4409-b619-65fa2cc1378e",
   "metadata": {},
   "outputs": [
    {
     "name": "stdout",
     "output_type": "stream",
     "text": [
      "[[  4 111  94]\n",
      " [  1  22  14]\n",
      " [  2  27  11]]\n"
     ]
    }
   ],
   "source": [
    "# Print confusion matrix\n",
    "print(confusion_matrix(y_test, y_pred))"
   ]
  },
  {
   "cell_type": "code",
   "execution_count": 103,
   "id": "a4403efa-653c-4686-9bd7-9551d242cde0",
   "metadata": {},
   "outputs": [
    {
     "name": "stdout",
     "output_type": "stream",
     "text": [
      "              precision    recall  f1-score   support\n",
      "\n",
      "          -1       0.57      0.02      0.04       209\n",
      "           0       0.14      0.59      0.22        37\n",
      "           1       0.09      0.28      0.14        40\n",
      "\n",
      "    accuracy                           0.13       286\n",
      "   macro avg       0.27      0.30      0.13       286\n",
      "weighted avg       0.45      0.13      0.08       286\n",
      "\n"
     ]
    }
   ],
   "source": [
    "# Print classification report\n",
    "print(classification_report(y_test, y_pred))"
   ]
  },
  {
   "cell_type": "code",
   "execution_count": 104,
   "id": "3ae9ef52-3550-4508-bde8-56bf1ec1a338",
   "metadata": {},
   "outputs": [],
   "source": [
    "#get the current news and data from augmento\n",
    "#run the data prep to get the X_test_scaled data so it can be tested\n"
   ]
  },
  {
   "cell_type": "code",
   "execution_count": 105,
   "id": "a3c154a4-f81e-4e5c-a2be-3af42d3e7ecc",
   "metadata": {},
   "outputs": [
    {
     "name": "stdout",
     "output_type": "stream",
     "text": [
      "              precision    recall  f1-score   support\n",
      "\n",
      "          -1       0.00      0.00      0.00       209\n",
      "           0       0.14      0.59      0.22        37\n",
      "           1       0.10      0.33      0.16        40\n",
      "\n",
      "    accuracy                           0.12       286\n",
      "   macro avg       0.08      0.31      0.13       286\n",
      "weighted avg       0.03      0.12      0.05       286\n",
      "\n"
     ]
    },
    {
     "name": "stderr",
     "output_type": "stream",
     "text": [
      "/Users/ashokpandey/opt/anaconda3/envs/dev/lib/python3.7/site-packages/sklearn/metrics/_classification.py:1248: UndefinedMetricWarning: Precision and F-score are ill-defined and being set to 0.0 in labels with no predicted samples. Use `zero_division` parameter to control this behavior.\n",
      "  _warn_prf(average, modifier, msg_start, len(result))\n",
      "/Users/ashokpandey/opt/anaconda3/envs/dev/lib/python3.7/site-packages/sklearn/metrics/_classification.py:1248: UndefinedMetricWarning: Precision and F-score are ill-defined and being set to 0.0 in labels with no predicted samples. Use `zero_division` parameter to control this behavior.\n",
      "  _warn_prf(average, modifier, msg_start, len(result))\n",
      "/Users/ashokpandey/opt/anaconda3/envs/dev/lib/python3.7/site-packages/sklearn/metrics/_classification.py:1248: UndefinedMetricWarning: Precision and F-score are ill-defined and being set to 0.0 in labels with no predicted samples. Use `zero_division` parameter to control this behavior.\n",
      "  _warn_prf(average, modifier, msg_start, len(result))\n"
     ]
    }
   ],
   "source": [
    "# Instantiate a linear SVM model\n",
    "from sklearn.svm import SVC\n",
    "svm = SVC(kernel='linear')\n",
    "# Fit the data\n",
    "svm.fit(X_resampled, y_resampled)\n",
    "# Make predictions using the test data\n",
    "y_pred = svm.predict(X_test_scaled)\n",
    "\n",
    "results = pd.DataFrame({\n",
    "    \"Prediction\": y_pred, \n",
    "    \"Actual\": y_test\n",
    "}).reset_index(drop=True)\n",
    "\n",
    "results.head()\n",
    "# Print classification report\n",
    "print(classification_report(y_test, y_pred))"
   ]
  },
  {
   "cell_type": "code",
   "execution_count": null,
   "id": "896c530a-79e3-4bb1-9d27-be3b69d70267",
   "metadata": {},
   "outputs": [],
   "source": []
  },
  {
   "cell_type": "code",
   "execution_count": 106,
   "id": "84587a54-7501-4ad1-93cb-02a1443c7ace",
   "metadata": {},
   "outputs": [
    {
     "data": {
      "text/plain": [
       "'\\nc_rep=[]\\nc_rep.append(classification_report(y_test, y_pred, output_dict=True))\\nc_rep[0][\\'Name\\']=\"twitter\"\\nc_rep[0]\\n'"
      ]
     },
     "execution_count": 106,
     "metadata": {},
     "output_type": "execute_result"
    }
   ],
   "source": [
    "'''\n",
    "c_rep=[]\n",
    "c_rep.append(classification_report(y_test, y_pred, output_dict=True))\n",
    "c_rep[0]['Name']=\"twitter\"\n",
    "c_rep[0]\n",
    "'''"
   ]
  },
  {
   "cell_type": "code",
   "execution_count": 107,
   "id": "b7e77911-8f3c-4991-919a-1f152734d72b",
   "metadata": {},
   "outputs": [],
   "source": [
    "#c_df.transpose"
   ]
  },
  {
   "cell_type": "code",
   "execution_count": 108,
   "id": "bca92f26-5b9b-4f6f-a302-c679c377500a",
   "metadata": {},
   "outputs": [
    {
     "name": "stdout",
     "output_type": "stream",
     "text": [
      "I m done..\n"
     ]
    }
   ],
   "source": [
    "print('I m done..')"
   ]
  },
  {
   "cell_type": "code",
   "execution_count": 53,
   "id": "aad1f5a7-1caa-4580-accf-fa197bf57f2e",
   "metadata": {},
   "outputs": [
    {
     "data": {
      "text/plain": [
       "'/Users/ashokpandey/Desktop/Fintech-Workspace/Project 2/r&d_ashok'"
      ]
     },
     "execution_count": 53,
     "metadata": {},
     "output_type": "execute_result"
    }
   ],
   "source": [
    "import os\n",
    "os.getcwd()"
   ]
  },
  {
   "cell_type": "code",
   "execution_count": 54,
   "id": "d8e41aa0-f074-427e-b7f5-46a2121ee690",
   "metadata": {},
   "outputs": [],
   "source": [
    "X.to_csv('X_eth.csv')"
   ]
  },
  {
   "cell_type": "code",
   "execution_count": null,
   "id": "0c2b8a71-8e3a-4915-92d8-9809891251d5",
   "metadata": {},
   "outputs": [],
   "source": []
  },
  {
   "cell_type": "code",
   "execution_count": null,
   "id": "babdc8eb-a530-4a4c-8d79-2d1df1c22c25",
   "metadata": {},
   "outputs": [],
   "source": []
  }
 ],
 "metadata": {
  "kernelspec": {
   "display_name": "dev",
   "language": "python",
   "name": "dev"
  },
  "language_info": {
   "codemirror_mode": {
    "name": "ipython",
    "version": 3
   },
   "file_extension": ".py",
   "mimetype": "text/x-python",
   "name": "python",
   "nbconvert_exporter": "python",
   "pygments_lexer": "ipython3",
   "version": "3.7.11"
  }
 },
 "nbformat": 4,
 "nbformat_minor": 5
}
