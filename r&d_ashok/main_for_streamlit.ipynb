{
 "cells": [
  {
   "cell_type": "code",
   "execution_count": 36,
   "id": "1c88e0b9-ad59-43be-9850-6e9acf5ad81e",
   "metadata": {},
   "outputs": [
    {
     "name": "stdout",
     "output_type": "stream",
     "text": [
      "Purchase price for 1 share(s) was USD 19156 per share\n"
     ]
    }
   ],
   "source": [
    "import pandas as pd\n",
    "import os\n",
    "from dotenv import load_dotenv\n",
    "import alpaca_trade_api as tradeapi\n",
    "\n",
    "# our private library alpaca_trade_lib.py which does the trading using alpaca. \n",
    "\n",
    "import alpaca_trade_lib as ta\n",
    "\n",
    "\n",
    "# comment these after uncommenting loadenv \n",
    "#alpaca_secret_key='QrWTvuqjdWDgx7Klqe5iWIR8K5iESy6DFugfV4Xy'\n",
    "#alpaca_api_key='PKSYV8TUR5L9XAGR5AHC'\n",
    "\n",
    "## THE KEYS HAVE TO BE RETRIEVED via LOAD_DOTENV. \n",
    "# Uncomment the load_dotenv line and the key setting lines below \n",
    "# after commenting the key lines above\n",
    "\n",
    "load_dotenv('my_api.env')\n",
    "# Set the variables for the Alpaca API and secret keys\n",
    "alpaca_api_key = os.getenv('ALPACA_API_KEY')\n",
    "alpaca_secret_key = os.getenv('ALPACA_SECRET_KEY')\n",
    "\n",
    "#get the alpaca tradeapi object\n",
    "api = ta.get_alpaca_tradeapi_object(alpaca_api_key, alpaca_secret_key)\n",
    "\n",
    "# buy 1 BTC coin\n",
    "crypto = 'BTCUSD'\n",
    "number_of_shares = 1\n",
    "buy_or_sell = 'buy'\n",
    "\n",
    "#do a trade\n",
    "try:\n",
    "    order_result = ta.submit_crypto_order(api, crypto, buy_or_sell, number_of_shares)\n",
    "except Exception as exception:\n",
    "    print (exception)\n",
    "  #if exception.__str__() == 'position does not exist':\n",
    "   # pos_qty = 0\n",
    "\n",
    "#see what trade price we got\n",
    "#print (order_result.client_order_id)\n",
    "price = ta.get_my_order_filled_price (api, order_result.client_order_id)\n",
    "print (f\"Purchase price for {number_of_shares} share(s) was USD {price} per share\")"
   ]
  },
  {
   "cell_type": "code",
   "execution_count": 14,
   "id": "64bb93cd-bf0f-4909-b9d9-58a9cc6cbb5c",
   "metadata": {},
   "outputs": [],
   "source": [
    "#REMEMBER WE HAVE ONLY $100000 in OUR PAPER TRADING ACCOUNT, SO IF YOU GO OVER THIS LIMIT, SELL SOME SHARES BEFORE BUYING"
   ]
  },
  {
   "cell_type": "code",
   "execution_count": 37,
   "id": "8bce35df-d182-4a98-9dc9-fca4b80e461d",
   "metadata": {},
   "outputs": [
    {
     "name": "stdout",
     "output_type": "stream",
     "text": [
      "Selling price for 1 share(s) was USD 19156 per share\n"
     ]
    }
   ],
   "source": [
    "#sell one BTC coin\n",
    "# buy 1 BTC coin\n",
    "crypto = 'BTCUSD'\n",
    "number_of_shares = 1\n",
    "buy_or_sell = 'sell'\n",
    "\n",
    "#do a trade\n",
    "try:\n",
    "    order_result = ta.submit_crypto_order(api, crypto, buy_or_sell, number_of_shares)\n",
    "except Exception as exception:\n",
    "    print(exception)\n",
    "\n",
    "\n",
    "#see what trade price we got\n",
    "price = ta.get_my_order_filled_price (api, order_result.client_order_id)\n",
    "print (f\"Selling price for {number_of_shares} share(s) was USD {price} per share\")"
   ]
  },
  {
   "cell_type": "code",
   "execution_count": null,
   "id": "6a50f437-b95f-4af3-bc27-9681b91ccb5f",
   "metadata": {},
   "outputs": [],
   "source": []
  },
  {
   "cell_type": "code",
   "execution_count": null,
   "id": "fd9ebcab-d4c1-4619-8478-da90ad02af1f",
   "metadata": {},
   "outputs": [],
   "source": []
  }
 ],
 "metadata": {
  "kernelspec": {
   "display_name": "dev",
   "language": "python",
   "name": "dev"
  },
  "language_info": {
   "codemirror_mode": {
    "name": "ipython",
    "version": 3
   },
   "file_extension": ".py",
   "mimetype": "text/x-python",
   "name": "python",
   "nbconvert_exporter": "python",
   "pygments_lexer": "ipython3",
   "version": "3.7.11"
  }
 },
 "nbformat": 4,
 "nbformat_minor": 5
}
