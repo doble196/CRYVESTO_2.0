{
 "cells": [
  {
   "cell_type": "code",
   "execution_count": 1,
   "id": "e3d526f1-6580-49f4-8e4c-6ac50dfd450d",
   "metadata": {},
   "outputs": [],
   "source": [
    "import pandas as pd\n",
    "import requests\n",
    "from pathlib import Path\n",
    "import json\n",
    "import datetime\n",
    "\n",
    "import numpy as np\n",
    "\n",
    "import load_data as ld\n",
    "import os\n",
    "\n",
    "import twitter_lib as tl\n",
    "import wsj_lib as wsj\n",
    "import matplotlib.pyplot as plt\n",
    "# Import ClusterCentroids from imblearn\n",
    "from imblearn.under_sampling import ClusterCentroids\n",
    "from sklearn.metrics import confusion_matrix,classification_report\n",
    "\n",
    "from sklearn.model_selection import train_test_split\n",
    "from sklearn.preprocessing import StandardScaler\n",
    "from sklearn.linear_model import LogisticRegression\n"
   ]
  },
  {
   "cell_type": "code",
   "execution_count": 2,
   "id": "1baf2dfc-5b20-42cd-8e7e-b20b31431b43",
   "metadata": {},
   "outputs": [],
   "source": [
    "coin = 'ethereum'\n",
    "prefix='eth'\n",
    "coin_ticker='ETH-USD'\n",
    "num_of_periods = 1000 # 1000 days\n",
    "\n",
    "start=\"2019-04-01T00:00:00Z\"\n",
    "end =\"2022-01-30T00:00:00Z\"\n",
    "#default bin size of 24H, but we will provide ...just..\n",
    "bin_size='24H'"
   ]
  },
  {
   "cell_type": "code",
   "execution_count": null,
   "id": "44b7f22a-a426-42f9-8a1f-fbebd8863258",
   "metadata": {},
   "outputs": [],
   "source": []
  },
  {
   "cell_type": "code",
   "execution_count": 3,
   "id": "68cbab49-5943-45ca-8bfa-8a2c929f2727",
   "metadata": {},
   "outputs": [],
   "source": [
    "wsj_sentiment=wsj.get_sentiments_from_wsj()"
   ]
  },
  {
   "cell_type": "code",
   "execution_count": 4,
   "id": "abbd519a-2c17-4d39-9d04-d6b51ce2857c",
   "metadata": {},
   "outputs": [
    {
     "data": {
      "text/html": [
       "<div>\n",
       "<style scoped>\n",
       "    .dataframe tbody tr th:only-of-type {\n",
       "        vertical-align: middle;\n",
       "    }\n",
       "\n",
       "    .dataframe tbody tr th {\n",
       "        vertical-align: top;\n",
       "    }\n",
       "\n",
       "    .dataframe thead th {\n",
       "        text-align: right;\n",
       "    }\n",
       "</style>\n",
       "<table border=\"1\" class=\"dataframe\">\n",
       "  <thead>\n",
       "    <tr style=\"text-align: right;\">\n",
       "      <th></th>\n",
       "      <th>scores</th>\n",
       "      <th>sentiment</th>\n",
       "    </tr>\n",
       "    <tr>\n",
       "      <th>Date</th>\n",
       "      <th></th>\n",
       "      <th></th>\n",
       "    </tr>\n",
       "  </thead>\n",
       "  <tbody>\n",
       "    <tr>\n",
       "      <th>1/1/00</th>\n",
       "      <td>0.00000</td>\n",
       "      <td>neutral</td>\n",
       "    </tr>\n",
       "    <tr>\n",
       "      <th>1/1/01</th>\n",
       "      <td>-0.09545</td>\n",
       "      <td>neg</td>\n",
       "    </tr>\n",
       "    <tr>\n",
       "      <th>1/1/02</th>\n",
       "      <td>-0.14800</td>\n",
       "      <td>neg</td>\n",
       "    </tr>\n",
       "    <tr>\n",
       "      <th>1/1/03</th>\n",
       "      <td>0.14985</td>\n",
       "      <td>pos</td>\n",
       "    </tr>\n",
       "    <tr>\n",
       "      <th>1/1/04</th>\n",
       "      <td>0.00000</td>\n",
       "      <td>neutral</td>\n",
       "    </tr>\n",
       "  </tbody>\n",
       "</table>\n",
       "</div>"
      ],
      "text/plain": [
       "         scores sentiment\n",
       "Date                     \n",
       "1/1/00  0.00000   neutral\n",
       "1/1/01 -0.09545       neg\n",
       "1/1/02 -0.14800       neg\n",
       "1/1/03  0.14985       pos\n",
       "1/1/04  0.00000   neutral"
      ]
     },
     "execution_count": 4,
     "metadata": {},
     "output_type": "execute_result"
    }
   ],
   "source": [
    "wsj_sentiment.head()"
   ]
  },
  {
   "cell_type": "code",
   "execution_count": null,
   "id": "755f7f47-4f7f-40d0-9546-2f437535133f",
   "metadata": {},
   "outputs": [],
   "source": []
  },
  {
   "cell_type": "code",
   "execution_count": 5,
   "id": "79319cc9-7a74-46c1-a12f-89249c88b7bb",
   "metadata": {},
   "outputs": [],
   "source": [
    "wsj_sentiment=wsj_sentiment.reset_index()"
   ]
  },
  {
   "cell_type": "code",
   "execution_count": 6,
   "id": "0ee2f36e-ea22-47cd-aeb9-42c9aa5fc68e",
   "metadata": {},
   "outputs": [],
   "source": [
    "wsj_sentiment['Date']=pd.to_datetime(wsj_sentiment['Date'])"
   ]
  },
  {
   "cell_type": "code",
   "execution_count": 7,
   "id": "571f7b42-e840-4a85-9c35-97ad83c1eda4",
   "metadata": {},
   "outputs": [],
   "source": [
    "wsj_sentiment=wsj_sentiment.set_index('Date')"
   ]
  },
  {
   "cell_type": "code",
   "execution_count": 8,
   "id": "21db856a-ced3-450c-9504-6136adf644bb",
   "metadata": {},
   "outputs": [],
   "source": [
    "wsj_sentiment=wsj_sentiment.groupby(by='Date').mean()"
   ]
  },
  {
   "cell_type": "code",
   "execution_count": 9,
   "id": "66f214c3-e2f5-41c8-9e4d-b018a90bd5b0",
   "metadata": {},
   "outputs": [
    {
     "data": {
      "text/html": [
       "<div>\n",
       "<style scoped>\n",
       "    .dataframe tbody tr th:only-of-type {\n",
       "        vertical-align: middle;\n",
       "    }\n",
       "\n",
       "    .dataframe tbody tr th {\n",
       "        vertical-align: top;\n",
       "    }\n",
       "\n",
       "    .dataframe thead th {\n",
       "        text-align: right;\n",
       "    }\n",
       "</style>\n",
       "<table border=\"1\" class=\"dataframe\">\n",
       "  <thead>\n",
       "    <tr style=\"text-align: right;\">\n",
       "      <th></th>\n",
       "      <th>scores</th>\n",
       "    </tr>\n",
       "    <tr>\n",
       "      <th>Date</th>\n",
       "      <th></th>\n",
       "    </tr>\n",
       "  </thead>\n",
       "  <tbody>\n",
       "    <tr>\n",
       "      <th>1998-01-07</th>\n",
       "      <td>-0.273200</td>\n",
       "    </tr>\n",
       "    <tr>\n",
       "      <th>1998-02-12</th>\n",
       "      <td>0.000000</td>\n",
       "    </tr>\n",
       "    <tr>\n",
       "      <th>1998-03-26</th>\n",
       "      <td>0.000000</td>\n",
       "    </tr>\n",
       "    <tr>\n",
       "      <th>1998-05-03</th>\n",
       "      <td>0.000000</td>\n",
       "    </tr>\n",
       "    <tr>\n",
       "      <th>1998-05-04</th>\n",
       "      <td>0.000000</td>\n",
       "    </tr>\n",
       "    <tr>\n",
       "      <th>...</th>\n",
       "      <td>...</td>\n",
       "    </tr>\n",
       "    <tr>\n",
       "      <th>2021-06-26</th>\n",
       "      <td>0.152933</td>\n",
       "    </tr>\n",
       "    <tr>\n",
       "      <th>2021-06-27</th>\n",
       "      <td>0.000000</td>\n",
       "    </tr>\n",
       "    <tr>\n",
       "      <th>2021-06-28</th>\n",
       "      <td>-0.273200</td>\n",
       "    </tr>\n",
       "    <tr>\n",
       "      <th>2021-06-29</th>\n",
       "      <td>0.058233</td>\n",
       "    </tr>\n",
       "    <tr>\n",
       "      <th>2021-06-30</th>\n",
       "      <td>-0.159175</td>\n",
       "    </tr>\n",
       "  </tbody>\n",
       "</table>\n",
       "<p>7977 rows × 1 columns</p>\n",
       "</div>"
      ],
      "text/plain": [
       "              scores\n",
       "Date                \n",
       "1998-01-07 -0.273200\n",
       "1998-02-12  0.000000\n",
       "1998-03-26  0.000000\n",
       "1998-05-03  0.000000\n",
       "1998-05-04  0.000000\n",
       "...              ...\n",
       "2021-06-26  0.152933\n",
       "2021-06-27  0.000000\n",
       "2021-06-28 -0.273200\n",
       "2021-06-29  0.058233\n",
       "2021-06-30 -0.159175\n",
       "\n",
       "[7977 rows x 1 columns]"
      ]
     },
     "execution_count": 9,
     "metadata": {},
     "output_type": "execute_result"
    }
   ],
   "source": [
    "wsj_sentiment"
   ]
  },
  {
   "cell_type": "code",
   "execution_count": 10,
   "id": "dca280b8-dc43-4373-b1b2-d313fb34452b",
   "metadata": {},
   "outputs": [],
   "source": [
    "sentiment_df = wsj_sentiment.copy()"
   ]
  },
  {
   "cell_type": "code",
   "execution_count": 11,
   "id": "ad73ddff-3abe-49b1-abdc-c3994eae5cf5",
   "metadata": {},
   "outputs": [
    {
     "data": {
      "text/html": [
       "<div>\n",
       "<style scoped>\n",
       "    .dataframe tbody tr th:only-of-type {\n",
       "        vertical-align: middle;\n",
       "    }\n",
       "\n",
       "    .dataframe tbody tr th {\n",
       "        vertical-align: top;\n",
       "    }\n",
       "\n",
       "    .dataframe thead th {\n",
       "        text-align: right;\n",
       "    }\n",
       "</style>\n",
       "<table border=\"1\" class=\"dataframe\">\n",
       "  <thead>\n",
       "    <tr style=\"text-align: right;\">\n",
       "      <th></th>\n",
       "      <th>scores</th>\n",
       "    </tr>\n",
       "    <tr>\n",
       "      <th>Date</th>\n",
       "      <th></th>\n",
       "    </tr>\n",
       "  </thead>\n",
       "  <tbody>\n",
       "    <tr>\n",
       "      <th>1998-01-07</th>\n",
       "      <td>-0.273200</td>\n",
       "    </tr>\n",
       "    <tr>\n",
       "      <th>1998-02-12</th>\n",
       "      <td>0.000000</td>\n",
       "    </tr>\n",
       "    <tr>\n",
       "      <th>1998-03-26</th>\n",
       "      <td>0.000000</td>\n",
       "    </tr>\n",
       "    <tr>\n",
       "      <th>1998-05-03</th>\n",
       "      <td>0.000000</td>\n",
       "    </tr>\n",
       "    <tr>\n",
       "      <th>1998-05-04</th>\n",
       "      <td>0.000000</td>\n",
       "    </tr>\n",
       "    <tr>\n",
       "      <th>...</th>\n",
       "      <td>...</td>\n",
       "    </tr>\n",
       "    <tr>\n",
       "      <th>2021-06-26</th>\n",
       "      <td>0.152933</td>\n",
       "    </tr>\n",
       "    <tr>\n",
       "      <th>2021-06-27</th>\n",
       "      <td>0.000000</td>\n",
       "    </tr>\n",
       "    <tr>\n",
       "      <th>2021-06-28</th>\n",
       "      <td>-0.273200</td>\n",
       "    </tr>\n",
       "    <tr>\n",
       "      <th>2021-06-29</th>\n",
       "      <td>0.058233</td>\n",
       "    </tr>\n",
       "    <tr>\n",
       "      <th>2021-06-30</th>\n",
       "      <td>-0.159175</td>\n",
       "    </tr>\n",
       "  </tbody>\n",
       "</table>\n",
       "<p>7977 rows × 1 columns</p>\n",
       "</div>"
      ],
      "text/plain": [
       "              scores\n",
       "Date                \n",
       "1998-01-07 -0.273200\n",
       "1998-02-12  0.000000\n",
       "1998-03-26  0.000000\n",
       "1998-05-03  0.000000\n",
       "1998-05-04  0.000000\n",
       "...              ...\n",
       "2021-06-26  0.152933\n",
       "2021-06-27  0.000000\n",
       "2021-06-28 -0.273200\n",
       "2021-06-29  0.058233\n",
       "2021-06-30 -0.159175\n",
       "\n",
       "[7977 rows x 1 columns]"
      ]
     },
     "execution_count": 11,
     "metadata": {},
     "output_type": "execute_result"
    }
   ],
   "source": [
    "sentiment_df"
   ]
  },
  {
   "cell_type": "code",
   "execution_count": 12,
   "id": "09a31be7-2802-4328-8932-7a937ad49bad",
   "metadata": {},
   "outputs": [],
   "source": [
    "df_coin= ld.load_from_yahoo([coin_ticker], start,end)"
   ]
  },
  {
   "cell_type": "code",
   "execution_count": 13,
   "id": "eb45e2fe-db0d-4638-95de-760d46ecad6f",
   "metadata": {},
   "outputs": [
    {
     "data": {
      "text/plain": [
       "\"short_window=10\\nlong_window = 100\\ndf_coins=pd.DataFrame(df_coin[coin_ticker]['close'])\\ndf_coins['sig']=0.0\\ndf_coins['SMA_short'] = df_coins['close'].rolling(window=short_window).mean()\\ndf_coins['SMA_long'] = df_coins['close'].rolling(window=long_window).mean()\\ndf_coins['sig'][short_window:] = np.where(\\n    df_coins['SMA_short'][short_window:] > df_coins['SMA_long'][short_window:], 1.0, 0.0\\n    )\\ndf_coins['signal'] = df_coins['sig'].diff()\\n    \\ndf_coins[df_coins['signal']==-1]\\n\""
      ]
     },
     "execution_count": 13,
     "metadata": {},
     "output_type": "execute_result"
    }
   ],
   "source": [
    "'''short_window=10\n",
    "long_window = 100\n",
    "df_coins=pd.DataFrame(df_coin[coin_ticker]['close'])\n",
    "df_coins['sig']=0.0\n",
    "df_coins['SMA_short'] = df_coins['close'].rolling(window=short_window).mean()\n",
    "df_coins['SMA_long'] = df_coins['close'].rolling(window=long_window).mean()\n",
    "df_coins['sig'][short_window:] = np.where(\n",
    "    df_coins['SMA_short'][short_window:] > df_coins['SMA_long'][short_window:], 1.0, 0.0\n",
    "    )\n",
    "df_coins['signal'] = df_coins['sig'].diff()\n",
    "    \n",
    "df_coins[df_coins['signal']==-1]\n",
    "'''"
   ]
  },
  {
   "cell_type": "code",
   "execution_count": 14,
   "id": "37272283-273f-48e5-b590-4f3a1c5d4016",
   "metadata": {},
   "outputs": [
    {
     "data": {
      "text/html": [
       "<div>\n",
       "<style scoped>\n",
       "    .dataframe tbody tr th:only-of-type {\n",
       "        vertical-align: middle;\n",
       "    }\n",
       "\n",
       "    .dataframe tbody tr th {\n",
       "        vertical-align: top;\n",
       "    }\n",
       "\n",
       "    .dataframe thead tr th {\n",
       "        text-align: left;\n",
       "    }\n",
       "\n",
       "    .dataframe thead tr:last-of-type th {\n",
       "        text-align: right;\n",
       "    }\n",
       "</style>\n",
       "<table border=\"1\" class=\"dataframe\">\n",
       "  <thead>\n",
       "    <tr>\n",
       "      <th></th>\n",
       "      <th colspan=\"6\" halign=\"left\">ETH-USD</th>\n",
       "    </tr>\n",
       "    <tr>\n",
       "      <th></th>\n",
       "      <th>high</th>\n",
       "      <th>low</th>\n",
       "      <th>open</th>\n",
       "      <th>close</th>\n",
       "      <th>volume</th>\n",
       "      <th>adj close</th>\n",
       "    </tr>\n",
       "    <tr>\n",
       "      <th>Date</th>\n",
       "      <th></th>\n",
       "      <th></th>\n",
       "      <th></th>\n",
       "      <th></th>\n",
       "      <th></th>\n",
       "      <th></th>\n",
       "    </tr>\n",
       "  </thead>\n",
       "  <tbody>\n",
       "    <tr>\n",
       "      <th>2019-03-31</th>\n",
       "      <td>142.189209</td>\n",
       "      <td>140.697372</td>\n",
       "      <td>142.139221</td>\n",
       "      <td>141.514099</td>\n",
       "      <td>4249050197</td>\n",
       "      <td>141.514099</td>\n",
       "    </tr>\n",
       "    <tr>\n",
       "      <th>2019-04-01</th>\n",
       "      <td>142.733994</td>\n",
       "      <td>140.737564</td>\n",
       "      <td>141.465485</td>\n",
       "      <td>141.830322</td>\n",
       "      <td>4611999536</td>\n",
       "      <td>141.830322</td>\n",
       "    </tr>\n",
       "    <tr>\n",
       "      <th>2019-04-02</th>\n",
       "      <td>165.226822</td>\n",
       "      <td>141.636459</td>\n",
       "      <td>141.839523</td>\n",
       "      <td>163.961746</td>\n",
       "      <td>9826645698</td>\n",
       "      <td>163.961746</td>\n",
       "    </tr>\n",
       "    <tr>\n",
       "      <th>2019-04-03</th>\n",
       "      <td>178.322052</td>\n",
       "      <td>157.322144</td>\n",
       "      <td>164.008636</td>\n",
       "      <td>161.458801</td>\n",
       "      <td>10622456246</td>\n",
       "      <td>161.458801</td>\n",
       "    </tr>\n",
       "    <tr>\n",
       "      <th>2019-04-04</th>\n",
       "      <td>164.929214</td>\n",
       "      <td>155.241104</td>\n",
       "      <td>161.431763</td>\n",
       "      <td>158.052536</td>\n",
       "      <td>7953123529</td>\n",
       "      <td>158.052536</td>\n",
       "    </tr>\n",
       "    <tr>\n",
       "      <th>...</th>\n",
       "      <td>...</td>\n",
       "      <td>...</td>\n",
       "      <td>...</td>\n",
       "      <td>...</td>\n",
       "      <td>...</td>\n",
       "      <td>...</td>\n",
       "    </tr>\n",
       "    <tr>\n",
       "      <th>2022-01-26</th>\n",
       "      <td>2705.784180</td>\n",
       "      <td>2417.683105</td>\n",
       "      <td>2455.579102</td>\n",
       "      <td>2468.030273</td>\n",
       "      <td>21229909340</td>\n",
       "      <td>2468.030273</td>\n",
       "    </tr>\n",
       "    <tr>\n",
       "      <th>2022-01-27</th>\n",
       "      <td>2510.451660</td>\n",
       "      <td>2328.452148</td>\n",
       "      <td>2467.188477</td>\n",
       "      <td>2423.001221</td>\n",
       "      <td>16126522783</td>\n",
       "      <td>2423.001221</td>\n",
       "    </tr>\n",
       "    <tr>\n",
       "      <th>2022-01-28</th>\n",
       "      <td>2548.778564</td>\n",
       "      <td>2367.833740</td>\n",
       "      <td>2421.646973</td>\n",
       "      <td>2547.092041</td>\n",
       "      <td>14666227351</td>\n",
       "      <td>2547.092041</td>\n",
       "    </tr>\n",
       "    <tr>\n",
       "      <th>2022-01-29</th>\n",
       "      <td>2627.609375</td>\n",
       "      <td>2526.989746</td>\n",
       "      <td>2546.590576</td>\n",
       "      <td>2597.084717</td>\n",
       "      <td>11172062661</td>\n",
       "      <td>2597.084717</td>\n",
       "    </tr>\n",
       "    <tr>\n",
       "      <th>2022-01-30</th>\n",
       "      <td>2631.408447</td>\n",
       "      <td>2550.460938</td>\n",
       "      <td>2598.564941</td>\n",
       "      <td>2603.466553</td>\n",
       "      <td>9501221177</td>\n",
       "      <td>2603.466553</td>\n",
       "    </tr>\n",
       "  </tbody>\n",
       "</table>\n",
       "<p>1037 rows × 6 columns</p>\n",
       "</div>"
      ],
      "text/plain": [
       "                ETH-USD                                                      \\\n",
       "                   high          low         open        close       volume   \n",
       "Date                                                                          \n",
       "2019-03-31   142.189209   140.697372   142.139221   141.514099   4249050197   \n",
       "2019-04-01   142.733994   140.737564   141.465485   141.830322   4611999536   \n",
       "2019-04-02   165.226822   141.636459   141.839523   163.961746   9826645698   \n",
       "2019-04-03   178.322052   157.322144   164.008636   161.458801  10622456246   \n",
       "2019-04-04   164.929214   155.241104   161.431763   158.052536   7953123529   \n",
       "...                 ...          ...          ...          ...          ...   \n",
       "2022-01-26  2705.784180  2417.683105  2455.579102  2468.030273  21229909340   \n",
       "2022-01-27  2510.451660  2328.452148  2467.188477  2423.001221  16126522783   \n",
       "2022-01-28  2548.778564  2367.833740  2421.646973  2547.092041  14666227351   \n",
       "2022-01-29  2627.609375  2526.989746  2546.590576  2597.084717  11172062661   \n",
       "2022-01-30  2631.408447  2550.460938  2598.564941  2603.466553   9501221177   \n",
       "\n",
       "                         \n",
       "              adj close  \n",
       "Date                     \n",
       "2019-03-31   141.514099  \n",
       "2019-04-01   141.830322  \n",
       "2019-04-02   163.961746  \n",
       "2019-04-03   161.458801  \n",
       "2019-04-04   158.052536  \n",
       "...                 ...  \n",
       "2022-01-26  2468.030273  \n",
       "2022-01-27  2423.001221  \n",
       "2022-01-28  2547.092041  \n",
       "2022-01-29  2597.084717  \n",
       "2022-01-30  2603.466553  \n",
       "\n",
       "[1037 rows x 6 columns]"
      ]
     },
     "execution_count": 14,
     "metadata": {},
     "output_type": "execute_result"
    }
   ],
   "source": [
    "df_coin"
   ]
  },
  {
   "cell_type": "code",
   "execution_count": 15,
   "id": "131dc72b-a1f2-4a7e-adca-c718f30dcdcf",
   "metadata": {},
   "outputs": [
    {
     "data": {
      "text/plain": [
       "DatetimeIndex(['2019-03-31', '2019-04-01', '2019-04-02', '2019-04-03',\n",
       "               '2019-04-04', '2019-04-05', '2019-04-06', '2019-04-07',\n",
       "               '2019-04-08', '2019-04-09',\n",
       "               ...\n",
       "               '2022-01-21', '2022-01-22', '2022-01-23', '2022-01-24',\n",
       "               '2022-01-25', '2022-01-26', '2022-01-27', '2022-01-28',\n",
       "               '2022-01-29', '2022-01-30'],\n",
       "              dtype='datetime64[ns]', name='Date', length=1037, freq=None)"
      ]
     },
     "execution_count": 15,
     "metadata": {},
     "output_type": "execute_result"
    }
   ],
   "source": [
    "df_coin.index"
   ]
  },
  {
   "cell_type": "code",
   "execution_count": 16,
   "id": "3867aeca-603f-4c75-acf9-06d36e7c704f",
   "metadata": {},
   "outputs": [],
   "source": [
    "joined_df = sentiment_df.join(df_coin[coin_ticker]['close'])"
   ]
  },
  {
   "cell_type": "code",
   "execution_count": 17,
   "id": "099da49e-8650-474e-84a3-c0e125d31c6c",
   "metadata": {},
   "outputs": [],
   "source": [
    "joined_df['daily_ret']=joined_df['close'].pct_change().shift()"
   ]
  },
  {
   "cell_type": "code",
   "execution_count": 18,
   "id": "1fb4d73d-f4b9-4456-aa4b-d67a2646179a",
   "metadata": {},
   "outputs": [],
   "source": [
    "short_window = 6\n",
    "long_window = 100"
   ]
  },
  {
   "cell_type": "code",
   "execution_count": 19,
   "id": "ec9448f1-7b62-4421-ae95-eea4e0d406b4",
   "metadata": {},
   "outputs": [],
   "source": [
    "joined_df['SENTIMENT_short_wsj']=joined_df['scores'].rolling(window=short_window).mean()\n",
    "joined_df['SENTIMENT_long_wsj']=joined_df['scores'].rolling(window=long_window).mean()"
   ]
  },
  {
   "cell_type": "code",
   "execution_count": 20,
   "id": "9951bdf8-56c9-407a-ae0d-33fd2521fb05",
   "metadata": {},
   "outputs": [],
   "source": [
    "X=joined_df[['SENTIMENT_short_wsj', 'SENTIMENT_long_wsj']].copy()"
   ]
  },
  {
   "cell_type": "code",
   "execution_count": 21,
   "id": "a0047824-8eda-4805-b818-7cf63c941f96",
   "metadata": {},
   "outputs": [],
   "source": [
    "joined_df['signal'] = 0.0\n",
    "joined_df.loc[(joined_df['daily_ret'] >= 0), 'signal'] = 1\n",
    "joined_df.loc[(joined_df['daily_ret'] < 0), 'signal'] = -1\n"
   ]
  },
  {
   "cell_type": "code",
   "execution_count": 22,
   "id": "b4ae0dda-697f-4213-9faf-b29b0f957c12",
   "metadata": {},
   "outputs": [
    {
     "data": {
      "text/html": [
       "<div>\n",
       "<style scoped>\n",
       "    .dataframe tbody tr th:only-of-type {\n",
       "        vertical-align: middle;\n",
       "    }\n",
       "\n",
       "    .dataframe tbody tr th {\n",
       "        vertical-align: top;\n",
       "    }\n",
       "\n",
       "    .dataframe thead th {\n",
       "        text-align: right;\n",
       "    }\n",
       "</style>\n",
       "<table border=\"1\" class=\"dataframe\">\n",
       "  <thead>\n",
       "    <tr style=\"text-align: right;\">\n",
       "      <th></th>\n",
       "      <th>scores</th>\n",
       "      <th>close</th>\n",
       "      <th>daily_ret</th>\n",
       "      <th>SENTIMENT_short_wsj</th>\n",
       "      <th>SENTIMENT_long_wsj</th>\n",
       "      <th>signal</th>\n",
       "    </tr>\n",
       "    <tr>\n",
       "      <th>Date</th>\n",
       "      <th></th>\n",
       "      <th></th>\n",
       "      <th></th>\n",
       "      <th></th>\n",
       "      <th></th>\n",
       "      <th></th>\n",
       "    </tr>\n",
       "  </thead>\n",
       "  <tbody>\n",
       "    <tr>\n",
       "      <th>1998-01-07</th>\n",
       "      <td>-0.273200</td>\n",
       "      <td>NaN</td>\n",
       "      <td>NaN</td>\n",
       "      <td>NaN</td>\n",
       "      <td>NaN</td>\n",
       "      <td>0.0</td>\n",
       "    </tr>\n",
       "    <tr>\n",
       "      <th>1998-02-12</th>\n",
       "      <td>0.000000</td>\n",
       "      <td>NaN</td>\n",
       "      <td>NaN</td>\n",
       "      <td>NaN</td>\n",
       "      <td>NaN</td>\n",
       "      <td>0.0</td>\n",
       "    </tr>\n",
       "    <tr>\n",
       "      <th>1998-03-26</th>\n",
       "      <td>0.000000</td>\n",
       "      <td>NaN</td>\n",
       "      <td>NaN</td>\n",
       "      <td>NaN</td>\n",
       "      <td>NaN</td>\n",
       "      <td>0.0</td>\n",
       "    </tr>\n",
       "    <tr>\n",
       "      <th>1998-05-03</th>\n",
       "      <td>0.000000</td>\n",
       "      <td>NaN</td>\n",
       "      <td>NaN</td>\n",
       "      <td>NaN</td>\n",
       "      <td>NaN</td>\n",
       "      <td>0.0</td>\n",
       "    </tr>\n",
       "    <tr>\n",
       "      <th>1998-05-04</th>\n",
       "      <td>0.000000</td>\n",
       "      <td>NaN</td>\n",
       "      <td>NaN</td>\n",
       "      <td>NaN</td>\n",
       "      <td>NaN</td>\n",
       "      <td>0.0</td>\n",
       "    </tr>\n",
       "    <tr>\n",
       "      <th>...</th>\n",
       "      <td>...</td>\n",
       "      <td>...</td>\n",
       "      <td>...</td>\n",
       "      <td>...</td>\n",
       "      <td>...</td>\n",
       "      <td>...</td>\n",
       "    </tr>\n",
       "    <tr>\n",
       "      <th>2021-06-26</th>\n",
       "      <td>0.152933</td>\n",
       "      <td>1829.239258</td>\n",
       "      <td>-0.088128</td>\n",
       "      <td>0.053076</td>\n",
       "      <td>0.019236</td>\n",
       "      <td>-1.0</td>\n",
       "    </tr>\n",
       "    <tr>\n",
       "      <th>2021-06-27</th>\n",
       "      <td>0.000000</td>\n",
       "      <td>1978.894653</td>\n",
       "      <td>0.008836</td>\n",
       "      <td>-0.023390</td>\n",
       "      <td>0.017457</td>\n",
       "      <td>1.0</td>\n",
       "    </tr>\n",
       "    <tr>\n",
       "      <th>2021-06-28</th>\n",
       "      <td>-0.273200</td>\n",
       "      <td>2079.657471</td>\n",
       "      <td>0.081813</td>\n",
       "      <td>-0.083586</td>\n",
       "      <td>0.013043</td>\n",
       "      <td>1.0</td>\n",
       "    </tr>\n",
       "    <tr>\n",
       "      <th>2021-06-29</th>\n",
       "      <td>0.058233</td>\n",
       "      <td>2160.768311</td>\n",
       "      <td>0.050919</td>\n",
       "      <td>-0.027431</td>\n",
       "      <td>0.016810</td>\n",
       "      <td>1.0</td>\n",
       "    </tr>\n",
       "    <tr>\n",
       "      <th>2021-06-30</th>\n",
       "      <td>-0.159175</td>\n",
       "      <td>2274.547607</td>\n",
       "      <td>0.039002</td>\n",
       "      <td>-0.084060</td>\n",
       "      <td>0.011465</td>\n",
       "      <td>1.0</td>\n",
       "    </tr>\n",
       "  </tbody>\n",
       "</table>\n",
       "<p>7977 rows × 6 columns</p>\n",
       "</div>"
      ],
      "text/plain": [
       "              scores        close  daily_ret  SENTIMENT_short_wsj  \\\n",
       "Date                                                                \n",
       "1998-01-07 -0.273200          NaN        NaN                  NaN   \n",
       "1998-02-12  0.000000          NaN        NaN                  NaN   \n",
       "1998-03-26  0.000000          NaN        NaN                  NaN   \n",
       "1998-05-03  0.000000          NaN        NaN                  NaN   \n",
       "1998-05-04  0.000000          NaN        NaN                  NaN   \n",
       "...              ...          ...        ...                  ...   \n",
       "2021-06-26  0.152933  1829.239258  -0.088128             0.053076   \n",
       "2021-06-27  0.000000  1978.894653   0.008836            -0.023390   \n",
       "2021-06-28 -0.273200  2079.657471   0.081813            -0.083586   \n",
       "2021-06-29  0.058233  2160.768311   0.050919            -0.027431   \n",
       "2021-06-30 -0.159175  2274.547607   0.039002            -0.084060   \n",
       "\n",
       "            SENTIMENT_long_wsj  signal  \n",
       "Date                                    \n",
       "1998-01-07                 NaN     0.0  \n",
       "1998-02-12                 NaN     0.0  \n",
       "1998-03-26                 NaN     0.0  \n",
       "1998-05-03                 NaN     0.0  \n",
       "1998-05-04                 NaN     0.0  \n",
       "...                        ...     ...  \n",
       "2021-06-26            0.019236    -1.0  \n",
       "2021-06-27            0.017457     1.0  \n",
       "2021-06-28            0.013043     1.0  \n",
       "2021-06-29            0.016810     1.0  \n",
       "2021-06-30            0.011465     1.0  \n",
       "\n",
       "[7977 rows x 6 columns]"
      ]
     },
     "execution_count": 22,
     "metadata": {},
     "output_type": "execute_result"
    }
   ],
   "source": [
    "joined_df"
   ]
  },
  {
   "cell_type": "code",
   "execution_count": 23,
   "id": "38b9164f-02f2-4075-8ee7-61a06a2d7450",
   "metadata": {},
   "outputs": [],
   "source": [
    "joined_df=joined_df.dropna()"
   ]
  },
  {
   "cell_type": "code",
   "execution_count": 24,
   "id": "18741c2b-de0f-4455-afef-f18240bae130",
   "metadata": {},
   "outputs": [],
   "source": [
    "#joined_df['diff_signal'] = joined_df['signal'].diff()"
   ]
  },
  {
   "cell_type": "code",
   "execution_count": 25,
   "id": "8831cca9-a090-46b5-9202-0f91a0f9449b",
   "metadata": {},
   "outputs": [],
   "source": [
    "joined_df=joined_df.dropna()"
   ]
  },
  {
   "cell_type": "code",
   "execution_count": 26,
   "id": "ca6826d4-0b0e-4852-b3f0-5cb6fbef4889",
   "metadata": {},
   "outputs": [],
   "source": [
    "X=joined_df[['SENTIMENT_short_wsj', 'SENTIMENT_long_wsj']].copy()\n",
    "y = joined_df['signal'].copy()"
   ]
  },
  {
   "cell_type": "code",
   "execution_count": 27,
   "id": "31eb24f6-a72e-432c-809a-17cf1ff91372",
   "metadata": {},
   "outputs": [],
   "source": [
    "X=pd.DataFrame(joined_df['scores'])"
   ]
  },
  {
   "cell_type": "code",
   "execution_count": 28,
   "id": "5ee0a864-755a-47d2-bb75-a027509e166f",
   "metadata": {},
   "outputs": [
    {
     "data": {
      "text/html": [
       "<div>\n",
       "<style scoped>\n",
       "    .dataframe tbody tr th:only-of-type {\n",
       "        vertical-align: middle;\n",
       "    }\n",
       "\n",
       "    .dataframe tbody tr th {\n",
       "        vertical-align: top;\n",
       "    }\n",
       "\n",
       "    .dataframe thead th {\n",
       "        text-align: right;\n",
       "    }\n",
       "</style>\n",
       "<table border=\"1\" class=\"dataframe\">\n",
       "  <thead>\n",
       "    <tr style=\"text-align: right;\">\n",
       "      <th></th>\n",
       "      <th>scores</th>\n",
       "    </tr>\n",
       "    <tr>\n",
       "      <th>Date</th>\n",
       "      <th></th>\n",
       "    </tr>\n",
       "  </thead>\n",
       "  <tbody>\n",
       "    <tr>\n",
       "      <th>2019-04-02</th>\n",
       "      <td>0.000000</td>\n",
       "    </tr>\n",
       "    <tr>\n",
       "      <th>2019-04-03</th>\n",
       "      <td>0.042100</td>\n",
       "    </tr>\n",
       "    <tr>\n",
       "      <th>2019-04-04</th>\n",
       "      <td>0.120400</td>\n",
       "    </tr>\n",
       "    <tr>\n",
       "      <th>2019-04-05</th>\n",
       "      <td>0.000000</td>\n",
       "    </tr>\n",
       "    <tr>\n",
       "      <th>2019-04-06</th>\n",
       "      <td>0.273400</td>\n",
       "    </tr>\n",
       "    <tr>\n",
       "      <th>...</th>\n",
       "      <td>...</td>\n",
       "    </tr>\n",
       "    <tr>\n",
       "      <th>2021-06-26</th>\n",
       "      <td>0.152933</td>\n",
       "    </tr>\n",
       "    <tr>\n",
       "      <th>2021-06-27</th>\n",
       "      <td>0.000000</td>\n",
       "    </tr>\n",
       "    <tr>\n",
       "      <th>2021-06-28</th>\n",
       "      <td>-0.273200</td>\n",
       "    </tr>\n",
       "    <tr>\n",
       "      <th>2021-06-29</th>\n",
       "      <td>0.058233</td>\n",
       "    </tr>\n",
       "    <tr>\n",
       "      <th>2021-06-30</th>\n",
       "      <td>-0.159175</td>\n",
       "    </tr>\n",
       "  </tbody>\n",
       "</table>\n",
       "<p>797 rows × 1 columns</p>\n",
       "</div>"
      ],
      "text/plain": [
       "              scores\n",
       "Date                \n",
       "2019-04-02  0.000000\n",
       "2019-04-03  0.042100\n",
       "2019-04-04  0.120400\n",
       "2019-04-05  0.000000\n",
       "2019-04-06  0.273400\n",
       "...              ...\n",
       "2021-06-26  0.152933\n",
       "2021-06-27  0.000000\n",
       "2021-06-28 -0.273200\n",
       "2021-06-29  0.058233\n",
       "2021-06-30 -0.159175\n",
       "\n",
       "[797 rows x 1 columns]"
      ]
     },
     "execution_count": 28,
     "metadata": {},
     "output_type": "execute_result"
    }
   ],
   "source": [
    "X"
   ]
  },
  {
   "cell_type": "code",
   "execution_count": 29,
   "id": "22b0df1f-6820-41c7-89ed-e525a758ecbc",
   "metadata": {},
   "outputs": [
    {
     "data": {
      "text/plain": [
       "Date\n",
       "2019-04-02    1.0\n",
       "2019-04-03    1.0\n",
       "2019-04-04   -1.0\n",
       "2019-04-05   -1.0\n",
       "2019-04-06    1.0\n",
       "             ... \n",
       "2021-06-26   -1.0\n",
       "2021-06-27    1.0\n",
       "2021-06-28    1.0\n",
       "2021-06-29    1.0\n",
       "2021-06-30    1.0\n",
       "Name: signal, Length: 797, dtype: float64"
      ]
     },
     "execution_count": 29,
     "metadata": {},
     "output_type": "execute_result"
    }
   ],
   "source": [
    "y"
   ]
  },
  {
   "cell_type": "code",
   "execution_count": null,
   "id": "eab80226-6ab0-4dfc-8ac9-e0fc39069485",
   "metadata": {},
   "outputs": [],
   "source": []
  },
  {
   "cell_type": "code",
   "execution_count": 30,
   "id": "beb38915-7043-417c-998e-36fd8f4357b2",
   "metadata": {},
   "outputs": [],
   "source": [
    "X.to_csv('X.csv')\n",
    "y.to_csv('y.csv')"
   ]
  },
  {
   "cell_type": "code",
   "execution_count": 31,
   "id": "c8cdee48-ce04-499b-a83f-29fede18e0e8",
   "metadata": {},
   "outputs": [
    {
     "data": {
      "text/html": [
       "<div>\n",
       "<style scoped>\n",
       "    .dataframe tbody tr th:only-of-type {\n",
       "        vertical-align: middle;\n",
       "    }\n",
       "\n",
       "    .dataframe tbody tr th {\n",
       "        vertical-align: top;\n",
       "    }\n",
       "\n",
       "    .dataframe thead th {\n",
       "        text-align: right;\n",
       "    }\n",
       "</style>\n",
       "<table border=\"1\" class=\"dataframe\">\n",
       "  <thead>\n",
       "    <tr style=\"text-align: right;\">\n",
       "      <th></th>\n",
       "      <th>scores</th>\n",
       "    </tr>\n",
       "    <tr>\n",
       "      <th>Date</th>\n",
       "      <th></th>\n",
       "    </tr>\n",
       "  </thead>\n",
       "  <tbody>\n",
       "    <tr>\n",
       "      <th>2019-05-21</th>\n",
       "      <td>0.000000</td>\n",
       "    </tr>\n",
       "    <tr>\n",
       "      <th>2021-05-06</th>\n",
       "      <td>0.535600</td>\n",
       "    </tr>\n",
       "    <tr>\n",
       "      <th>2020-07-05</th>\n",
       "      <td>0.156000</td>\n",
       "    </tr>\n",
       "    <tr>\n",
       "      <th>2019-11-20</th>\n",
       "      <td>-0.127267</td>\n",
       "    </tr>\n",
       "    <tr>\n",
       "      <th>2019-09-28</th>\n",
       "      <td>-0.495650</td>\n",
       "    </tr>\n",
       "    <tr>\n",
       "      <th>...</th>\n",
       "      <td>...</td>\n",
       "    </tr>\n",
       "    <tr>\n",
       "      <th>2021-02-24</th>\n",
       "      <td>-0.472567</td>\n",
       "    </tr>\n",
       "    <tr>\n",
       "      <th>2019-10-13</th>\n",
       "      <td>0.000000</td>\n",
       "    </tr>\n",
       "    <tr>\n",
       "      <th>2019-05-19</th>\n",
       "      <td>0.184100</td>\n",
       "    </tr>\n",
       "    <tr>\n",
       "      <th>2019-11-01</th>\n",
       "      <td>-0.190900</td>\n",
       "    </tr>\n",
       "    <tr>\n",
       "      <th>2021-03-12</th>\n",
       "      <td>-0.295333</td>\n",
       "    </tr>\n",
       "  </tbody>\n",
       "</table>\n",
       "<p>597 rows × 1 columns</p>\n",
       "</div>"
      ],
      "text/plain": [
       "              scores\n",
       "Date                \n",
       "2019-05-21  0.000000\n",
       "2021-05-06  0.535600\n",
       "2020-07-05  0.156000\n",
       "2019-11-20 -0.127267\n",
       "2019-09-28 -0.495650\n",
       "...              ...\n",
       "2021-02-24 -0.472567\n",
       "2019-10-13  0.000000\n",
       "2019-05-19  0.184100\n",
       "2019-11-01 -0.190900\n",
       "2021-03-12 -0.295333\n",
       "\n",
       "[597 rows x 1 columns]"
      ]
     },
     "execution_count": 31,
     "metadata": {},
     "output_type": "execute_result"
    }
   ],
   "source": [
    "X_train, X_test, y_train, y_test = train_test_split(X, y)\n",
    "X_train"
   ]
  },
  {
   "cell_type": "code",
   "execution_count": 32,
   "id": "5d7cfe67-de49-4fa6-b8b5-56b10b26f132",
   "metadata": {},
   "outputs": [],
   "source": [
    "# Scale the data\n",
    "scaler = StandardScaler()\n",
    "X_scaler = scaler.fit(X_train)\n",
    "X_train_scaled = X_scaler.transform(X_train)\n",
    "X_test_scaled = X_scaler.transform(X_test)"
   ]
  },
  {
   "cell_type": "code",
   "execution_count": 33,
   "id": "a1697ae9-b29e-4900-a6f9-a63b8d50b907",
   "metadata": {},
   "outputs": [
    {
     "data": {
      "text/plain": [
       "(597, 1)"
      ]
     },
     "execution_count": 33,
     "metadata": {},
     "output_type": "execute_result"
    }
   ],
   "source": [
    "X_train_scaled.shape"
   ]
  },
  {
   "cell_type": "code",
   "execution_count": 34,
   "id": "b3b493fe-1246-4eb3-8d27-e1ed0d3cb4ae",
   "metadata": {},
   "outputs": [
    {
     "name": "stderr",
     "output_type": "stream",
     "text": [
      "/Users/ashokpandey/opt/anaconda3/envs/dev/lib/python3.7/site-packages/imblearn/under_sampling/_prototype_generation/_cluster_centroids.py:172: ConvergenceWarning: Number of distinct clusters (226) found smaller than n_clusters (272). Possibly due to duplicate points in X.\n",
      "  self.estimator_.fit(X[y == target_class])\n"
     ]
    }
   ],
   "source": [
    "\n",
    "\n",
    "# Instantiate a ClusterCentroids instance\n",
    "cc_sampler = ClusterCentroids(random_state=1)\n",
    "# Fit the training data to the cluster centroids model\n",
    "X_resampled, y_resampled = cc_sampler.fit_resample(X_train_scaled, y_train)"
   ]
  },
  {
   "cell_type": "code",
   "execution_count": 35,
   "id": "53fb4f9e-878a-467e-9006-24a593be1c97",
   "metadata": {},
   "outputs": [
    {
     "data": {
      "text/plain": [
       "-1.0    272\n",
       " 1.0    272\n",
       "Name: signal, dtype: int64"
      ]
     },
     "execution_count": 35,
     "metadata": {},
     "output_type": "execute_result"
    }
   ],
   "source": [
    "# Count distinct values for the resampled target data\n",
    "y_resampled.value_counts()"
   ]
  },
  {
   "cell_type": "code",
   "execution_count": 36,
   "id": "c19a960d-9ec4-4845-a14e-8b7334ea9fa4",
   "metadata": {},
   "outputs": [],
   "source": [
    "lr = LogisticRegression()"
   ]
  },
  {
   "cell_type": "code",
   "execution_count": 37,
   "id": "873a2c7d-7313-4fcd-ba06-42adcb4199f8",
   "metadata": {},
   "outputs": [],
   "source": [
    "lr.fit(X_resampled, y_resampled)\n",
    "# Make predictions using the test data\n",
    "y_pred = lr.predict(X_test_scaled)"
   ]
  },
  {
   "cell_type": "code",
   "execution_count": 38,
   "id": "7f9033cc-52ff-4395-a76b-4225fad2471f",
   "metadata": {},
   "outputs": [],
   "source": [
    "# Create a predictions DataFrame\n",
    "predictions_df = pd.DataFrame()\n",
    "    \n",
    "predictions_df['Predicted'] = y_pred \n",
    "predictions_df.index=X_test.index\n",
    "# Add the actual returns to the DataFrame\n",
    "x = joined_df.loc[X_test.index[0]:]\n",
    "predictions_df['Actual Returns'] = x['daily_ret']\n",
    "# Add the strategy returns to the DataFrame\n",
    "predictions_df['Strategy Returns'] = predictions_df['Actual Returns'] * predictions_df['Predicted']\n",
    "predictions_df.dropna()\n",
    "# Plot the actual returns versus the strategy returns\n",
    "cum_ret=(1+predictions_df[['Strategy Returns', 'Actual Returns']]).cumprod()"
   ]
  },
  {
   "cell_type": "code",
   "execution_count": 39,
   "id": "1aa5b44d-ebf2-46cb-bcf6-bf5de641c221",
   "metadata": {},
   "outputs": [
    {
     "data": {
      "image/png": "[encoded data removed]",
      "text/plain": [
       "<Figure size 432x288 with 1 Axes>"
      ]
     },
     "metadata": {
      "needs_background": "light"
     },
     "output_type": "display_data"
    }
   ],
   "source": [
    "cum_ret.plot(title=coin_ticker+' Logistic Regression w short=6 long=100)')\n",
    "plt.savefig(prefix+'_Log_reg_SMA_short6_long100.png')"
   ]
  },
  {
   "cell_type": "code",
   "execution_count": null,
   "id": "7a0ea9dd-75ac-4d13-8d0d-4f0ffca29104",
   "metadata": {},
   "outputs": [],
   "source": []
  },
  {
   "cell_type": "code",
   "execution_count": 40,
   "id": "3fad2be8-da9d-4409-b619-65fa2cc1378e",
   "metadata": {},
   "outputs": [
    {
     "name": "stdout",
     "output_type": "stream",
     "text": [
      "[[50 47]\n",
      " [56 47]]\n"
     ]
    }
   ],
   "source": [
    "# Print confusion matrix\n",
    "print(confusion_matrix(y_test, y_pred))"
   ]
  },
  {
   "cell_type": "code",
   "execution_count": 41,
   "id": "a4403efa-653c-4686-9bd7-9551d242cde0",
   "metadata": {},
   "outputs": [
    {
     "name": "stdout",
     "output_type": "stream",
     "text": [
      "              precision    recall  f1-score   support\n",
      "\n",
      "        -1.0       0.47      0.52      0.49        97\n",
      "         1.0       0.50      0.46      0.48       103\n",
      "\n",
      "    accuracy                           0.48       200\n",
      "   macro avg       0.49      0.49      0.48       200\n",
      "weighted avg       0.49      0.48      0.48       200\n",
      "\n"
     ]
    }
   ],
   "source": [
    "# Print classification report\n",
    "print(classification_report(y_test, y_pred))"
   ]
  },
  {
   "cell_type": "code",
   "execution_count": 42,
   "id": "3ae9ef52-3550-4508-bde8-56bf1ec1a338",
   "metadata": {},
   "outputs": [],
   "source": [
    "#get the current news and data from augmento\n",
    "#run the data prep to get the X_test_scaled data so it can be tested\n"
   ]
  },
  {
   "cell_type": "code",
   "execution_count": 43,
   "id": "043ca62d-b624-4101-ad1a-ea3d70243872",
   "metadata": {},
   "outputs": [],
   "source": [
    "#pred_cumprod = ml.get_Strategy_and_Actual_returns(X_test.index, y_pred, signals_test_df )"
   ]
  },
  {
   "cell_type": "code",
   "execution_count": 44,
   "id": "a3c154a4-f81e-4e5c-a2be-3af42d3e7ecc",
   "metadata": {},
   "outputs": [
    {
     "name": "stdout",
     "output_type": "stream",
     "text": [
      "              precision    recall  f1-score   support\n",
      "\n",
      "        -1.0       0.44      0.58      0.50        97\n",
      "         1.0       0.45      0.32      0.37       103\n",
      "\n",
      "    accuracy                           0.45       200\n",
      "   macro avg       0.45      0.45      0.44       200\n",
      "weighted avg       0.45      0.45      0.44       200\n",
      "\n"
     ]
    }
   ],
   "source": [
    "# Instantiate a linear SVM model\n",
    "from sklearn.svm import SVC\n",
    "svm = SVC(kernel='linear')\n",
    "# Fit the data\n",
    "svm.fit(X_resampled, y_resampled)\n",
    "# Make predictions using the test data\n",
    "y_pred = svm.predict(X_test_scaled)\n",
    "\n",
    "# Print classification report\n",
    "print(classification_report(y_test, y_pred))"
   ]
  },
  {
   "cell_type": "code",
   "execution_count": 45,
   "id": "151368a1-2985-4dcb-9c98-4101b2246702",
   "metadata": {},
   "outputs": [],
   "source": [
    "# Create a predictions DataFrame\n",
    "predictions_df = pd.DataFrame()\n",
    "    \n",
    "predictions_df['Predicted'] = y_pred \n",
    "predictions_df.index=X_test.index\n",
    "# Add the actual returns to the DataFrame\n",
    "x = joined_df.loc[X_test.index[0]:]\n",
    "predictions_df['Actual Returns'] = x['daily_ret']\n",
    "# Add the strategy returns to the DataFrame\n",
    "predictions_df['Strategy Returns'] = predictions_df['Actual Returns'] * predictions_df['Predicted']\n",
    "predictions_df.dropna()\n",
    "# Plot the actual returns versus the strategy returns\n",
    "cum_ret=(1+predictions_df[['Strategy Returns', 'Actual Returns']]).cumprod()"
   ]
  },
  {
   "cell_type": "code",
   "execution_count": 46,
   "id": "896c530a-79e3-4bb1-9d27-be3b69d70267",
   "metadata": {},
   "outputs": [
    {
     "data": {
      "image/png": "[encoded data removed]",
      "text/plain": [
       "<Figure size 432x288 with 1 Axes>"
      ]
     },
     "metadata": {
      "needs_background": "light"
     },
     "output_type": "display_data"
    }
   ],
   "source": [
    "cum_ret.plot(title=coin_ticker+ ' SVC Model w short=6 long=100)')\n",
    "plt.savefig(prefix+ '_SVC_SMA_short6_long100.png')"
   ]
  },
  {
   "cell_type": "code",
   "execution_count": null,
   "id": "84587a54-7501-4ad1-93cb-02a1443c7ace",
   "metadata": {},
   "outputs": [],
   "source": []
  },
  {
   "cell_type": "code",
   "execution_count": null,
   "id": "b7e77911-8f3c-4991-919a-1f152734d72b",
   "metadata": {},
   "outputs": [],
   "source": []
  },
  {
   "cell_type": "code",
   "execution_count": null,
   "id": "bca92f26-5b9b-4f6f-a302-c679c377500a",
   "metadata": {},
   "outputs": [],
   "source": []
  },
  {
   "cell_type": "code",
   "execution_count": null,
   "id": "aad1f5a7-1caa-4580-accf-fa197bf57f2e",
   "metadata": {},
   "outputs": [],
   "source": []
  },
  {
   "cell_type": "code",
   "execution_count": null,
   "id": "d8e41aa0-f074-427e-b7f5-46a2121ee690",
   "metadata": {},
   "outputs": [],
   "source": []
  },
  {
   "cell_type": "code",
   "execution_count": null,
   "id": "0c2b8a71-8e3a-4915-92d8-9809891251d5",
   "metadata": {},
   "outputs": [],
   "source": []
  },
  {
   "cell_type": "code",
   "execution_count": null,
   "id": "babdc8eb-a530-4a4c-8d79-2d1df1c22c25",
   "metadata": {},
   "outputs": [],
   "source": []
  }
 ],
 "metadata": {
  "kernelspec": {
   "display_name": "dev",
   "language": "python",
   "name": "dev"
  },
  "language_info": {
   "codemirror_mode": {
    "name": "ipython",
    "version": 3
   },
   "file_extension": ".py",
   "mimetype": "text/x-python",
   "name": "python",
   "nbconvert_exporter": "python",
   "pygments_lexer": "ipython3",
   "version": "3.7.11"
  }
 },
 "nbformat": 4,
 "nbformat_minor": 5
}
