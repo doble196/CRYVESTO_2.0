{
 "cells": [
  {
   "cell_type": "code",
   "execution_count": null,
   "id": "1430e2a9-bc4f-41c0-b95f-7d5532e0674c",
   "metadata": {},
   "outputs": [],
   "source": [
    "# Import the required libraries and dependencies\n",
    "import os\n",
    "import json\n",
    "import pandas as pd\n",
    "import datetime as dt\n",
    "import yfinance as yfin\n",
    "from pandas_datareader import data as pdr"
   ]
  },
  {
   "cell_type": "code",
   "execution_count": null,
   "id": "3722cd19-a86e-473b-84ae-53f964005124",
   "metadata": {},
   "outputs": [],
   "source": [
    "# bypass yahoo\n",
    "yfin.pdr_override()\n"
   ]
  },
  {
   "cell_type": "code",
   "execution_count": null,
   "id": "994e4c90-b78c-4d0c-84bb-b23d302f5a8f",
   "metadata": {},
   "outputs": [],
   "source": [
    "# crypto_2016_present[\"Close\"].tail()\n",
    "cryptoList = ['BTC-USD']\n",
    "\n",
    "\n",
    "startDate = dt.datetime(2017, 1, 1)\n",
    "endDate = dt.datetime(2022, 6, 1)\n",
    "\n",
    "btc = pdr.get_data_yahoo(cryptoList, startDate, endDate)\n",
    "\n",
    "btc_close = btc['Close']\n",
    "\n",
    "display(btc_eth_close.head())\n",
    "display(btc_eth_close.tail())"
   ]
  },
  {
   "cell_type": "code",
   "execution_count": null,
   "id": "e00c8e3a-5ef8-43a2-927a-4f299d934770",
   "metadata": {},
   "outputs": [],
   "source": []
  }
 ],
 "metadata": {
  "kernelspec": {
   "display_name": "Python 3 (ipykernel)",
   "language": "python",
   "name": "python3"
  },
  "language_info": {
   "codemirror_mode": {
    "name": "ipython",
    "version": 3
   },
   "file_extension": ".py",
   "mimetype": "text/x-python",
   "name": "python",
   "nbconvert_exporter": "python",
   "pygments_lexer": "ipython3",
   "version": "3.9.7"
  }
 },
 "nbformat": 4,
 "nbformat_minor": 5
}
