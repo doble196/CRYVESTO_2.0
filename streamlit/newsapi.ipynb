{
 "cells": [
  {
   "cell_type": "code",
   "execution_count": 5,
   "id": "26610d70-4ff3-4d9d-80e1-ce86b20b2811",
   "metadata": {},
   "outputs": [],
   "source": [
    "import pandas as pd\n",
    "import requests \n",
    "from pathlib import Path\n",
    "\n",
    "import nltk\n",
    "#nltk.download('vader_lexicon') # one time only\n",
    "from nltk.sentiment.vader import SentimentIntensityAnalyzer\n",
    "\n",
    "def get_headlines_from_newsapi():\n",
    "    \n",
    "    # news api\n",
    "    # following query parameters are used\n",
    "    # source, sortBy and apiKey\n",
    "    query_params = {\n",
    "      #\"source\": \"bbc-news\",\n",
    "      \"country\":'us',\n",
    "      \"sortBy\": \"top\",\n",
    "      \"apiKey\": \"408bc0e41ad1474581aadc918b65e44e\"\n",
    "    }\n",
    "    main_url = \" https://newsapi.org/v2/top-headlines\"\n",
    " \n",
    "    # fetching data in json format\n",
    "    res = requests.get(main_url, params=query_params)\n",
    "    open_news_page = res.json()\n",
    " \n",
    "    # getting all articles in a string article . actually a DICT\n",
    "    article = open_news_page[\"articles\"]\n",
    "    \n",
    "    df = pd.DataFrame(article)\n",
    "    \n",
    "    return df"
   ]
  },
  {
   "cell_type": "code",
   "execution_count": 8,
   "id": "be800465-604f-4f00-94a4-defd469fa9e6",
   "metadata": {},
   "outputs": [],
   "source": [
    "def get_sentiments_from_newsapi():\n",
    "    vader = SentimentIntensityAnalyzer() # or whatever you want to call it\n",
    "\n",
    "\n",
    "   # df = pd.read_csv('wsj_headlines.csv')\n",
    "    df = df.drop(columns=['Unnamed: 0'])\n",
    "\n",
    "    df['scores'] = df['Headline'].apply(lambda headline: vader.polarity_scores(headline))\n",
    "    df['scores'] = df['scores'].apply(lambda x : x['compound'])\n",
    "\n",
    "    df = df.groupby(by='Date').mean()\n",
    "\n",
    "    df ['sentiment'] = df['scores'].apply(lambda x: 'pos' if x > 0 else 'neg' if x < 0 else 'neutral')\n",
    "\n",
    "    return df"
   ]
  },
  {
   "cell_type": "code",
   "execution_count": 10,
   "id": "8c8eb993-3574-479f-bedd-92e782d99e3f",
   "metadata": {},
   "outputs": [
    {
     "ename": "NameError",
     "evalue": "name 'df' is not defined",
     "output_type": "error",
     "traceback": [
      "\u001b[1;31m---------------------------------------------------------------------------\u001b[0m",
      "\u001b[1;31mNameError\u001b[0m                                 Traceback (most recent call last)",
      "\u001b[1;32m~\\AppData\\Local\\Temp\\ipykernel_3200\\400103009.py\u001b[0m in \u001b[0;36m<module>\u001b[1;34m\u001b[0m\n\u001b[1;32m----> 1\u001b[1;33m \u001b[0mprint\u001b[0m\u001b[1;33m(\u001b[0m\u001b[0mdf\u001b[0m\u001b[1;33m)\u001b[0m\u001b[1;33m\u001b[0m\u001b[1;33m\u001b[0m\u001b[0m\n\u001b[0m",
      "\u001b[1;31mNameError\u001b[0m: name 'df' is not defined"
     ]
    }
   ],
   "source": []
  },
  {
   "cell_type": "code",
   "execution_count": null,
   "id": "113972dd-b0c8-4349-a5b2-d60de8f5fdc4",
   "metadata": {},
   "outputs": [],
   "source": []
  }
 ],
 "metadata": {
  "kernelspec": {
   "display_name": "dev",
   "language": "python",
   "name": "dev"
  },
  "language_info": {
   "codemirror_mode": {
    "name": "ipython",
    "version": 3
   },
   "file_extension": ".py",
   "mimetype": "text/x-python",
   "name": "python",
   "nbconvert_exporter": "python",
   "pygments_lexer": "ipython3",
   "version": "3.7.11"
  }
 },
 "nbformat": 4,
 "nbformat_minor": 5
}
