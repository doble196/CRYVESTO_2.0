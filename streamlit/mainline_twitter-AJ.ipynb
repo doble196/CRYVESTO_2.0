{
 "cells": [
  {
   "cell_type": "code",
   "execution_count": 51,
   "id": "e3d526f1-6580-49f4-8e4c-6ac50dfd450d",
   "metadata": {},
   "outputs": [],
   "source": [
    "import pandas as pd\n",
    "import requests\n",
    "from pathlib import Path\n",
    "import json\n",
    "import datetime\n",
    "import numpy as np\n",
    "import os\n",
    "\n",
    "import matplotlib.pyplot as plt\n",
    "# Import ClusterCentroids from imblearn\n",
    "from imblearn.under_sampling import ClusterCentroids\n",
    "from sklearn.metrics import confusion_matrix,classification_report\n",
    "\n",
    "from sklearn.model_selection import train_test_split\n",
    "from sklearn.preprocessing import StandardScaler\n",
    "from sklearn.linear_model import LogisticRegression\n",
    "from sklearn.ensemble import AdaBoostClassifier\n",
    "from sklearn.svm import SVC\n",
    "from sklearn.ensemble import RandomForestClassifier\n",
    "#from sklearn.ensemble import ExtraTreesClassifier\n",
    "\n",
    "\n",
    "#my private libraries\n",
    "import load_data as ld\n",
    "import twitter_lib as tl\n",
    "import wsj_lib as wsj\n",
    "import ml_lib as ml\n"
   ]
  },
  {
   "cell_type": "code",
   "execution_count": 2,
   "id": "1baf2dfc-5b20-42cd-8e7e-b20b31431b43",
   "metadata": {},
   "outputs": [],
   "source": [
    "prefix='btc'  # used for creating file name\n",
    "coin_ticker='BTC-USD'\n",
    "source = 'twitter'      # for augmento\n",
    "\n",
    "coin = 'bitcoin'       # used in Augmento \n",
    "num_of_periods = 1000   # 1000 days  usedin Augmento\n",
    "bin_size='24H'          #default bin size for Augmento\n",
    "\n",
    "# used by Augmento and Yahoo Finance Apis\n",
    "start=\"2019-04-01T00:00:00Z\"\n",
    "end =\"2022-01-30T00:00:00Z\"\n"
   ]
  },
  {
   "cell_type": "code",
   "execution_count": 3,
   "id": "909fe874-42ee-4b0f-b53c-411b800096af",
   "metadata": {},
   "outputs": [],
   "source": [
    "# Get sentiment from twitter/ reddit data obtained from augmento site \n",
    "sentiment_df = tl.get_crypto_sentiment_from_augmento(source, coin, num_of_periods, start, end, bin_size)"
   ]
  },
  {
   "cell_type": "code",
   "execution_count": 4,
   "id": "298edbd1-b14e-42f5-827a-e11c0fc39642",
   "metadata": {},
   "outputs": [
    {
     "data": {
      "text/html": [
       "<div>\n",
       "<style scoped>\n",
       "    .dataframe tbody tr th:only-of-type {\n",
       "        vertical-align: middle;\n",
       "    }\n",
       "\n",
       "    .dataframe tbody tr th {\n",
       "        vertical-align: top;\n",
       "    }\n",
       "\n",
       "    .dataframe thead th {\n",
       "        text-align: right;\n",
       "    }\n",
       "</style>\n",
       "<table border=\"1\" class=\"dataframe\">\n",
       "  <thead>\n",
       "    <tr style=\"text-align: right;\">\n",
       "      <th></th>\n",
       "      <th>FOMO</th>\n",
       "      <th>Uncertain</th>\n",
       "      <th>Hopeful</th>\n",
       "      <th>Bearish</th>\n",
       "      <th>Pessimistic/Doubtful</th>\n",
       "      <th>Sad</th>\n",
       "      <th>Fearful/Concerned</th>\n",
       "      <th>Angry</th>\n",
       "      <th>Mistrustful</th>\n",
       "      <th>Panicking</th>\n",
       "      <th>Annoyed/Frustrated</th>\n",
       "      <th>Bullish</th>\n",
       "      <th>Optimistic</th>\n",
       "      <th>Happy</th>\n",
       "      <th>Euphoric/Excited</th>\n",
       "    </tr>\n",
       "    <tr>\n",
       "      <th>Date</th>\n",
       "      <th></th>\n",
       "      <th></th>\n",
       "      <th></th>\n",
       "      <th></th>\n",
       "      <th></th>\n",
       "      <th></th>\n",
       "      <th></th>\n",
       "      <th></th>\n",
       "      <th></th>\n",
       "      <th></th>\n",
       "      <th></th>\n",
       "      <th></th>\n",
       "      <th></th>\n",
       "      <th></th>\n",
       "      <th></th>\n",
       "    </tr>\n",
       "  </thead>\n",
       "  <tbody>\n",
       "    <tr>\n",
       "      <th>2019-04-01</th>\n",
       "      <td>14.0</td>\n",
       "      <td>81.0</td>\n",
       "      <td>23.0</td>\n",
       "      <td>123.0</td>\n",
       "      <td>14.0</td>\n",
       "      <td>3.0</td>\n",
       "      <td>17.0</td>\n",
       "      <td>9.0</td>\n",
       "      <td>4.0</td>\n",
       "      <td>0.0</td>\n",
       "      <td>1.0</td>\n",
       "      <td>233.0</td>\n",
       "      <td>82.0</td>\n",
       "      <td>11.0</td>\n",
       "      <td>76.0</td>\n",
       "    </tr>\n",
       "    <tr>\n",
       "      <th>2019-04-02</th>\n",
       "      <td>58.0</td>\n",
       "      <td>216.0</td>\n",
       "      <td>78.0</td>\n",
       "      <td>199.0</td>\n",
       "      <td>42.0</td>\n",
       "      <td>7.0</td>\n",
       "      <td>35.0</td>\n",
       "      <td>32.0</td>\n",
       "      <td>1.0</td>\n",
       "      <td>10.0</td>\n",
       "      <td>2.0</td>\n",
       "      <td>523.0</td>\n",
       "      <td>129.0</td>\n",
       "      <td>58.0</td>\n",
       "      <td>223.0</td>\n",
       "    </tr>\n",
       "    <tr>\n",
       "      <th>2019-04-03</th>\n",
       "      <td>49.0</td>\n",
       "      <td>198.0</td>\n",
       "      <td>42.0</td>\n",
       "      <td>163.0</td>\n",
       "      <td>28.0</td>\n",
       "      <td>11.0</td>\n",
       "      <td>22.0</td>\n",
       "      <td>21.0</td>\n",
       "      <td>5.0</td>\n",
       "      <td>3.0</td>\n",
       "      <td>9.0</td>\n",
       "      <td>433.0</td>\n",
       "      <td>103.0</td>\n",
       "      <td>22.0</td>\n",
       "      <td>164.0</td>\n",
       "    </tr>\n",
       "    <tr>\n",
       "      <th>2019-04-04</th>\n",
       "      <td>20.0</td>\n",
       "      <td>115.0</td>\n",
       "      <td>35.0</td>\n",
       "      <td>145.0</td>\n",
       "      <td>19.0</td>\n",
       "      <td>4.0</td>\n",
       "      <td>22.0</td>\n",
       "      <td>9.0</td>\n",
       "      <td>4.0</td>\n",
       "      <td>2.0</td>\n",
       "      <td>2.0</td>\n",
       "      <td>262.0</td>\n",
       "      <td>90.0</td>\n",
       "      <td>19.0</td>\n",
       "      <td>81.0</td>\n",
       "    </tr>\n",
       "    <tr>\n",
       "      <th>2019-04-05</th>\n",
       "      <td>17.0</td>\n",
       "      <td>112.0</td>\n",
       "      <td>24.0</td>\n",
       "      <td>90.0</td>\n",
       "      <td>17.0</td>\n",
       "      <td>1.0</td>\n",
       "      <td>29.0</td>\n",
       "      <td>6.0</td>\n",
       "      <td>4.0</td>\n",
       "      <td>2.0</td>\n",
       "      <td>1.0</td>\n",
       "      <td>245.0</td>\n",
       "      <td>103.0</td>\n",
       "      <td>18.0</td>\n",
       "      <td>65.0</td>\n",
       "    </tr>\n",
       "  </tbody>\n",
       "</table>\n",
       "</div>"
      ],
      "text/plain": [
       "            FOMO  Uncertain  Hopeful  Bearish  Pessimistic/Doubtful   Sad  \\\n",
       "Date                                                                        \n",
       "2019-04-01  14.0       81.0     23.0    123.0                  14.0   3.0   \n",
       "2019-04-02  58.0      216.0     78.0    199.0                  42.0   7.0   \n",
       "2019-04-03  49.0      198.0     42.0    163.0                  28.0  11.0   \n",
       "2019-04-04  20.0      115.0     35.0    145.0                  19.0   4.0   \n",
       "2019-04-05  17.0      112.0     24.0     90.0                  17.0   1.0   \n",
       "\n",
       "            Fearful/Concerned  Angry  Mistrustful  Panicking  \\\n",
       "Date                                                           \n",
       "2019-04-01               17.0    9.0          4.0        0.0   \n",
       "2019-04-02               35.0   32.0          1.0       10.0   \n",
       "2019-04-03               22.0   21.0          5.0        3.0   \n",
       "2019-04-04               22.0    9.0          4.0        2.0   \n",
       "2019-04-05               29.0    6.0          4.0        2.0   \n",
       "\n",
       "            Annoyed/Frustrated  Bullish  Optimistic  Happy  Euphoric/Excited  \n",
       "Date                                                                          \n",
       "2019-04-01                 1.0    233.0        82.0   11.0              76.0  \n",
       "2019-04-02                 2.0    523.0       129.0   58.0             223.0  \n",
       "2019-04-03                 9.0    433.0       103.0   22.0             164.0  \n",
       "2019-04-04                 2.0    262.0        90.0   19.0              81.0  \n",
       "2019-04-05                 1.0    245.0       103.0   18.0              65.0  "
      ]
     },
     "execution_count": 4,
     "metadata": {},
     "output_type": "execute_result"
    }
   ],
   "source": [
    "sentiment_df.head()"
   ]
  },
  {
   "cell_type": "code",
   "execution_count": 30,
   "id": "68cbab49-5943-45ca-8bfa-8a2c929f2727",
   "metadata": {},
   "outputs": [],
   "source": [
    "# Get sentiment from WSJ data using NLTK library\n",
    "#wsj_sentiment=wsj.get_sentiments_from_wsj()"
   ]
  },
  {
   "cell_type": "code",
   "execution_count": 31,
   "id": "abbd519a-2c17-4d39-9d04-d6b51ce2857c",
   "metadata": {},
   "outputs": [],
   "source": [
    "#wsj_sentiment.head()"
   ]
  },
  {
   "cell_type": "code",
   "execution_count": 32,
   "id": "79319cc9-7a74-46c1-a12f-89249c88b7bb",
   "metadata": {},
   "outputs": [
    {
     "data": {
      "text/plain": [
       "\"\\nwsj_sentiment=wsj_sentiment.reset_index()\\nwsj_sentiment['Date']=pd.to_datetime(wsj_sentiment['Date'])\\nwsj_sentiment=wsj_sentiment.set_index('Date')\\nwsj_sentiment=wsj_sentiment.groupby(by='Date').mean()\\n\""
      ]
     },
     "execution_count": 32,
     "metadata": {},
     "output_type": "execute_result"
    }
   ],
   "source": [
    "'''\n",
    "wsj_sentiment=wsj_sentiment.reset_index()\n",
    "wsj_sentiment['Date']=pd.to_datetime(wsj_sentiment['Date'])\n",
    "wsj_sentiment=wsj_sentiment.set_index('Date')\n",
    "wsj_sentiment=wsj_sentiment.groupby(by='Date').mean()\n",
    "'''"
   ]
  },
  {
   "cell_type": "code",
   "execution_count": 5,
   "id": "dca280b8-dc43-4373-b1b2-d313fb34452b",
   "metadata": {},
   "outputs": [
    {
     "data": {
      "text/plain": [
       "Index([2019-04-01, 2019-04-02, 2019-04-03, 2019-04-04, 2019-04-05, 2019-04-06,\n",
       "       2019-04-07, 2019-04-08, 2019-04-09, 2019-04-10,\n",
       "       ...\n",
       "       2021-12-16, 2021-12-17, 2021-12-18, 2021-12-19, 2021-12-20, 2021-12-21,\n",
       "       2021-12-22, 2021-12-23, 2021-12-24, 2021-12-25],\n",
       "      dtype='object', name='Date', length=1000)"
      ]
     },
     "execution_count": 5,
     "metadata": {},
     "output_type": "execute_result"
    }
   ],
   "source": [
    "#sentiment_df = wsj_sentiment.copy()\n",
    "sentiment_df.index"
   ]
  },
  {
   "cell_type": "code",
   "execution_count": 6,
   "id": "b82932dc-6a7a-42fa-b136-ab8a0d93f2ab",
   "metadata": {},
   "outputs": [],
   "source": [
    "# sentiment_df index is of 'object' type. needs to change to datetime index, like the coin index from yahoo fin\n",
    "sentiment_df=sentiment_df.reset_index()\n",
    "sentiment_df['Date']=pd.to_datetime(sentiment_df['Date'])\n",
    "sentiment_df=sentiment_df.set_index('Date')"
   ]
  },
  {
   "cell_type": "code",
   "execution_count": 7,
   "id": "8ed83954-29fa-44ef-9c80-40c505077007",
   "metadata": {},
   "outputs": [
    {
     "data": {
      "text/html": [
       "<div>\n",
       "<style scoped>\n",
       "    .dataframe tbody tr th:only-of-type {\n",
       "        vertical-align: middle;\n",
       "    }\n",
       "\n",
       "    .dataframe tbody tr th {\n",
       "        vertical-align: top;\n",
       "    }\n",
       "\n",
       "    .dataframe thead th {\n",
       "        text-align: right;\n",
       "    }\n",
       "</style>\n",
       "<table border=\"1\" class=\"dataframe\">\n",
       "  <thead>\n",
       "    <tr style=\"text-align: right;\">\n",
       "      <th></th>\n",
       "      <th>FOMO</th>\n",
       "      <th>Uncertain</th>\n",
       "      <th>Hopeful</th>\n",
       "      <th>Bearish</th>\n",
       "      <th>Pessimistic/Doubtful</th>\n",
       "      <th>Sad</th>\n",
       "      <th>Fearful/Concerned</th>\n",
       "      <th>Angry</th>\n",
       "      <th>Mistrustful</th>\n",
       "      <th>Panicking</th>\n",
       "      <th>Annoyed/Frustrated</th>\n",
       "      <th>Bullish</th>\n",
       "      <th>Optimistic</th>\n",
       "      <th>Happy</th>\n",
       "      <th>Euphoric/Excited</th>\n",
       "    </tr>\n",
       "    <tr>\n",
       "      <th>Date</th>\n",
       "      <th></th>\n",
       "      <th></th>\n",
       "      <th></th>\n",
       "      <th></th>\n",
       "      <th></th>\n",
       "      <th></th>\n",
       "      <th></th>\n",
       "      <th></th>\n",
       "      <th></th>\n",
       "      <th></th>\n",
       "      <th></th>\n",
       "      <th></th>\n",
       "      <th></th>\n",
       "      <th></th>\n",
       "      <th></th>\n",
       "    </tr>\n",
       "  </thead>\n",
       "  <tbody>\n",
       "    <tr>\n",
       "      <th>2019-04-01</th>\n",
       "      <td>14.0</td>\n",
       "      <td>81.0</td>\n",
       "      <td>23.0</td>\n",
       "      <td>123.0</td>\n",
       "      <td>14.0</td>\n",
       "      <td>3.0</td>\n",
       "      <td>17.0</td>\n",
       "      <td>9.0</td>\n",
       "      <td>4.0</td>\n",
       "      <td>0.0</td>\n",
       "      <td>1.0</td>\n",
       "      <td>233.0</td>\n",
       "      <td>82.0</td>\n",
       "      <td>11.0</td>\n",
       "      <td>76.0</td>\n",
       "    </tr>\n",
       "    <tr>\n",
       "      <th>2019-04-02</th>\n",
       "      <td>58.0</td>\n",
       "      <td>216.0</td>\n",
       "      <td>78.0</td>\n",
       "      <td>199.0</td>\n",
       "      <td>42.0</td>\n",
       "      <td>7.0</td>\n",
       "      <td>35.0</td>\n",
       "      <td>32.0</td>\n",
       "      <td>1.0</td>\n",
       "      <td>10.0</td>\n",
       "      <td>2.0</td>\n",
       "      <td>523.0</td>\n",
       "      <td>129.0</td>\n",
       "      <td>58.0</td>\n",
       "      <td>223.0</td>\n",
       "    </tr>\n",
       "    <tr>\n",
       "      <th>2019-04-03</th>\n",
       "      <td>49.0</td>\n",
       "      <td>198.0</td>\n",
       "      <td>42.0</td>\n",
       "      <td>163.0</td>\n",
       "      <td>28.0</td>\n",
       "      <td>11.0</td>\n",
       "      <td>22.0</td>\n",
       "      <td>21.0</td>\n",
       "      <td>5.0</td>\n",
       "      <td>3.0</td>\n",
       "      <td>9.0</td>\n",
       "      <td>433.0</td>\n",
       "      <td>103.0</td>\n",
       "      <td>22.0</td>\n",
       "      <td>164.0</td>\n",
       "    </tr>\n",
       "    <tr>\n",
       "      <th>2019-04-04</th>\n",
       "      <td>20.0</td>\n",
       "      <td>115.0</td>\n",
       "      <td>35.0</td>\n",
       "      <td>145.0</td>\n",
       "      <td>19.0</td>\n",
       "      <td>4.0</td>\n",
       "      <td>22.0</td>\n",
       "      <td>9.0</td>\n",
       "      <td>4.0</td>\n",
       "      <td>2.0</td>\n",
       "      <td>2.0</td>\n",
       "      <td>262.0</td>\n",
       "      <td>90.0</td>\n",
       "      <td>19.0</td>\n",
       "      <td>81.0</td>\n",
       "    </tr>\n",
       "    <tr>\n",
       "      <th>2019-04-05</th>\n",
       "      <td>17.0</td>\n",
       "      <td>112.0</td>\n",
       "      <td>24.0</td>\n",
       "      <td>90.0</td>\n",
       "      <td>17.0</td>\n",
       "      <td>1.0</td>\n",
       "      <td>29.0</td>\n",
       "      <td>6.0</td>\n",
       "      <td>4.0</td>\n",
       "      <td>2.0</td>\n",
       "      <td>1.0</td>\n",
       "      <td>245.0</td>\n",
       "      <td>103.0</td>\n",
       "      <td>18.0</td>\n",
       "      <td>65.0</td>\n",
       "    </tr>\n",
       "  </tbody>\n",
       "</table>\n",
       "</div>"
      ],
      "text/plain": [
       "            FOMO  Uncertain  Hopeful  Bearish  Pessimistic/Doubtful   Sad  \\\n",
       "Date                                                                        \n",
       "2019-04-01  14.0       81.0     23.0    123.0                  14.0   3.0   \n",
       "2019-04-02  58.0      216.0     78.0    199.0                  42.0   7.0   \n",
       "2019-04-03  49.0      198.0     42.0    163.0                  28.0  11.0   \n",
       "2019-04-04  20.0      115.0     35.0    145.0                  19.0   4.0   \n",
       "2019-04-05  17.0      112.0     24.0     90.0                  17.0   1.0   \n",
       "\n",
       "            Fearful/Concerned  Angry  Mistrustful  Panicking  \\\n",
       "Date                                                           \n",
       "2019-04-01               17.0    9.0          4.0        0.0   \n",
       "2019-04-02               35.0   32.0          1.0       10.0   \n",
       "2019-04-03               22.0   21.0          5.0        3.0   \n",
       "2019-04-04               22.0    9.0          4.0        2.0   \n",
       "2019-04-05               29.0    6.0          4.0        2.0   \n",
       "\n",
       "            Annoyed/Frustrated  Bullish  Optimistic  Happy  Euphoric/Excited  \n",
       "Date                                                                          \n",
       "2019-04-01                 1.0    233.0        82.0   11.0              76.0  \n",
       "2019-04-02                 2.0    523.0       129.0   58.0             223.0  \n",
       "2019-04-03                 9.0    433.0       103.0   22.0             164.0  \n",
       "2019-04-04                 2.0    262.0        90.0   19.0              81.0  \n",
       "2019-04-05                 1.0    245.0       103.0   18.0              65.0  "
      ]
     },
     "execution_count": 7,
     "metadata": {},
     "output_type": "execute_result"
    }
   ],
   "source": [
    "sentiment_df.head()"
   ]
  },
  {
   "cell_type": "code",
   "execution_count": 8,
   "id": "09a31be7-2802-4328-8932-7a937ad49bad",
   "metadata": {},
   "outputs": [],
   "source": [
    "df_coin= ld.load_from_yahoo([coin_ticker], start,end)"
   ]
  },
  {
   "cell_type": "code",
   "execution_count": 9,
   "id": "37272283-273f-48e5-b590-4f3a1c5d4016",
   "metadata": {},
   "outputs": [
    {
     "data": {
      "text/html": [
       "<div>\n",
       "<style scoped>\n",
       "    .dataframe tbody tr th:only-of-type {\n",
       "        vertical-align: middle;\n",
       "    }\n",
       "\n",
       "    .dataframe tbody tr th {\n",
       "        vertical-align: top;\n",
       "    }\n",
       "\n",
       "    .dataframe thead tr th {\n",
       "        text-align: left;\n",
       "    }\n",
       "\n",
       "    .dataframe thead tr:last-of-type th {\n",
       "        text-align: right;\n",
       "    }\n",
       "</style>\n",
       "<table border=\"1\" class=\"dataframe\">\n",
       "  <thead>\n",
       "    <tr>\n",
       "      <th></th>\n",
       "      <th colspan=\"6\" halign=\"left\">BTC-USD</th>\n",
       "    </tr>\n",
       "    <tr>\n",
       "      <th></th>\n",
       "      <th>high</th>\n",
       "      <th>low</th>\n",
       "      <th>open</th>\n",
       "      <th>close</th>\n",
       "      <th>volume</th>\n",
       "      <th>adj close</th>\n",
       "    </tr>\n",
       "    <tr>\n",
       "      <th>Date</th>\n",
       "      <th></th>\n",
       "      <th></th>\n",
       "      <th></th>\n",
       "      <th></th>\n",
       "      <th></th>\n",
       "      <th></th>\n",
       "    </tr>\n",
       "  </thead>\n",
       "  <tbody>\n",
       "    <tr>\n",
       "      <th>2019-04-01</th>\n",
       "      <td>4164.953125</td>\n",
       "      <td>4096.901367</td>\n",
       "      <td>4105.362305</td>\n",
       "      <td>4158.183105</td>\n",
       "      <td>10157794171</td>\n",
       "      <td>4158.183105</td>\n",
       "    </tr>\n",
       "    <tr>\n",
       "      <th>2019-04-02</th>\n",
       "      <td>4905.954590</td>\n",
       "      <td>4155.316895</td>\n",
       "      <td>4156.919434</td>\n",
       "      <td>4879.877930</td>\n",
       "      <td>21315047816</td>\n",
       "      <td>4879.877930</td>\n",
       "    </tr>\n",
       "    <tr>\n",
       "      <th>2019-04-03</th>\n",
       "      <td>5307.003418</td>\n",
       "      <td>4876.621094</td>\n",
       "      <td>4879.958008</td>\n",
       "      <td>4973.021973</td>\n",
       "      <td>22899891582</td>\n",
       "      <td>4973.021973</td>\n",
       "    </tr>\n",
       "    <tr>\n",
       "      <th>2019-04-04</th>\n",
       "      <td>5063.159668</td>\n",
       "      <td>4836.793945</td>\n",
       "      <td>4971.307617</td>\n",
       "      <td>4922.798828</td>\n",
       "      <td>18251810240</td>\n",
       "      <td>4922.798828</td>\n",
       "    </tr>\n",
       "    <tr>\n",
       "      <th>2019-04-05</th>\n",
       "      <td>5053.509766</td>\n",
       "      <td>4919.491699</td>\n",
       "      <td>4922.806152</td>\n",
       "      <td>5036.681152</td>\n",
       "      <td>16837325387</td>\n",
       "      <td>5036.681152</td>\n",
       "    </tr>\n",
       "  </tbody>\n",
       "</table>\n",
       "</div>"
      ],
      "text/plain": [
       "                BTC-USD                                                      \\\n",
       "                   high          low         open        close       volume   \n",
       "Date                                                                          \n",
       "2019-04-01  4164.953125  4096.901367  4105.362305  4158.183105  10157794171   \n",
       "2019-04-02  4905.954590  4155.316895  4156.919434  4879.877930  21315047816   \n",
       "2019-04-03  5307.003418  4876.621094  4879.958008  4973.021973  22899891582   \n",
       "2019-04-04  5063.159668  4836.793945  4971.307617  4922.798828  18251810240   \n",
       "2019-04-05  5053.509766  4919.491699  4922.806152  5036.681152  16837325387   \n",
       "\n",
       "                         \n",
       "              adj close  \n",
       "Date                     \n",
       "2019-04-01  4158.183105  \n",
       "2019-04-02  4879.877930  \n",
       "2019-04-03  4973.021973  \n",
       "2019-04-04  4922.798828  \n",
       "2019-04-05  5036.681152  "
      ]
     },
     "execution_count": 9,
     "metadata": {},
     "output_type": "execute_result"
    }
   ],
   "source": [
    "df_coin.head()"
   ]
  },
  {
   "cell_type": "code",
   "execution_count": 38,
   "id": "131dc72b-a1f2-4a7e-adca-c718f30dcdcf",
   "metadata": {},
   "outputs": [
    {
     "data": {
      "text/plain": [
       "DatetimeIndex(['2019-04-01', '2019-04-02', '2019-04-03', '2019-04-04',\n",
       "               '2019-04-05', '2019-04-06', '2019-04-07', '2019-04-08',\n",
       "               '2019-04-09', '2019-04-10',\n",
       "               ...\n",
       "               '2022-01-22', '2022-01-23', '2022-01-24', '2022-01-25',\n",
       "               '2022-01-26', '2022-01-27', '2022-01-28', '2022-01-29',\n",
       "               '2022-01-30', '2022-01-31'],\n",
       "              dtype='datetime64[ns]', name='Date', length=1037, freq=None)"
      ]
     },
     "execution_count": 38,
     "metadata": {},
     "output_type": "execute_result"
    }
   ],
   "source": [
    "df_coin.index"
   ]
  },
  {
   "cell_type": "code",
   "execution_count": 10,
   "id": "3867aeca-603f-4c75-acf9-06d36e7c704f",
   "metadata": {},
   "outputs": [],
   "source": [
    "joined_df = sentiment_df.join(df_coin[coin_ticker]['close'])\n",
    "joined_df['daily_ret']=joined_df['close'].pct_change()\n",
    "#joined_df['daily_ret']=joined_df['close'].pct_change().shift()"
   ]
  },
  {
   "cell_type": "code",
   "execution_count": 40,
   "id": "1fb4d73d-f4b9-4456-aa4b-d67a2646179a",
   "metadata": {},
   "outputs": [],
   "source": [
    "# Create short and long window for sentiment averaging, just like we do for daily_returns. This is \n",
    "# smoothing out the sentiment in a short and long window of time.\n",
    "\n",
    "short_window = 0\n",
    "long_window = 0"
   ]
  },
  {
   "cell_type": "code",
   "execution_count": 41,
   "id": "ec9448f1-7b62-4421-ae95-eea4e0d406b4",
   "metadata": {},
   "outputs": [],
   "source": [
    "#joined_df['SENTIMENT_short_wsj']=joined_df['scores'].rolling(window=short_window).mean()\n",
    "#joined_df['SENTIMENT_long_wsj']=joined_df['scores'].rolling(window=long_window).mean()"
   ]
  },
  {
   "cell_type": "code",
   "execution_count": 42,
   "id": "9951bdf8-56c9-407a-ae0d-33fd2521fb05",
   "metadata": {},
   "outputs": [],
   "source": [
    "#X=joined_df[['SENTIMENT_short_wsj', 'SENTIMENT_long_wsj']].shift().copy()\n",
    "#X=joined_df[['SENTIMENT_short_wsj', 'SENTIMENT_long_wsj']].copy()"
   ]
  },
  {
   "cell_type": "code",
   "execution_count": 11,
   "id": "a0047824-8eda-4805-b818-7cf63c941f96",
   "metadata": {},
   "outputs": [],
   "source": [
    "# Create a strategy for making a signal. if the daily_ret is >= 0 then it is a buy signal or 1, and\n",
    "# if daily_ret is <0 then it is a sell signal or -1.\n",
    "joined_df['signal'] = 0.0\n",
    "joined_df.loc[(joined_df['daily_ret'] >= 0), 'signal'] = 1\n",
    "joined_df.loc[(joined_df['daily_ret'] < 0), 'signal'] = -1\n"
   ]
  },
  {
   "cell_type": "code",
   "execution_count": 12,
   "id": "b4ae0dda-697f-4213-9faf-b29b0f957c12",
   "metadata": {},
   "outputs": [
    {
     "data": {
      "text/html": [
       "<div>\n",
       "<style scoped>\n",
       "    .dataframe tbody tr th:only-of-type {\n",
       "        vertical-align: middle;\n",
       "    }\n",
       "\n",
       "    .dataframe tbody tr th {\n",
       "        vertical-align: top;\n",
       "    }\n",
       "\n",
       "    .dataframe thead th {\n",
       "        text-align: right;\n",
       "    }\n",
       "</style>\n",
       "<table border=\"1\" class=\"dataframe\">\n",
       "  <thead>\n",
       "    <tr style=\"text-align: right;\">\n",
       "      <th></th>\n",
       "      <th>FOMO</th>\n",
       "      <th>Uncertain</th>\n",
       "      <th>Hopeful</th>\n",
       "      <th>Bearish</th>\n",
       "      <th>Pessimistic/Doubtful</th>\n",
       "      <th>Sad</th>\n",
       "      <th>Fearful/Concerned</th>\n",
       "      <th>Angry</th>\n",
       "      <th>Mistrustful</th>\n",
       "      <th>Panicking</th>\n",
       "      <th>Annoyed/Frustrated</th>\n",
       "      <th>Bullish</th>\n",
       "      <th>Optimistic</th>\n",
       "      <th>Happy</th>\n",
       "      <th>Euphoric/Excited</th>\n",
       "      <th>close</th>\n",
       "      <th>daily_ret</th>\n",
       "      <th>signal</th>\n",
       "    </tr>\n",
       "    <tr>\n",
       "      <th>Date</th>\n",
       "      <th></th>\n",
       "      <th></th>\n",
       "      <th></th>\n",
       "      <th></th>\n",
       "      <th></th>\n",
       "      <th></th>\n",
       "      <th></th>\n",
       "      <th></th>\n",
       "      <th></th>\n",
       "      <th></th>\n",
       "      <th></th>\n",
       "      <th></th>\n",
       "      <th></th>\n",
       "      <th></th>\n",
       "      <th></th>\n",
       "      <th></th>\n",
       "      <th></th>\n",
       "      <th></th>\n",
       "    </tr>\n",
       "  </thead>\n",
       "  <tbody>\n",
       "    <tr>\n",
       "      <th>2021-12-21</th>\n",
       "      <td>7.0</td>\n",
       "      <td>59.0</td>\n",
       "      <td>18.0</td>\n",
       "      <td>44.0</td>\n",
       "      <td>14.0</td>\n",
       "      <td>3.0</td>\n",
       "      <td>7.0</td>\n",
       "      <td>5.0</td>\n",
       "      <td>1.0</td>\n",
       "      <td>0.0</td>\n",
       "      <td>2.0</td>\n",
       "      <td>128.0</td>\n",
       "      <td>72.0</td>\n",
       "      <td>14.0</td>\n",
       "      <td>37.0</td>\n",
       "      <td>48936.613281</td>\n",
       "      <td>0.043864</td>\n",
       "      <td>1.0</td>\n",
       "    </tr>\n",
       "    <tr>\n",
       "      <th>2021-12-22</th>\n",
       "      <td>10.0</td>\n",
       "      <td>31.0</td>\n",
       "      <td>16.0</td>\n",
       "      <td>32.0</td>\n",
       "      <td>8.0</td>\n",
       "      <td>1.0</td>\n",
       "      <td>6.0</td>\n",
       "      <td>2.0</td>\n",
       "      <td>2.0</td>\n",
       "      <td>2.0</td>\n",
       "      <td>2.0</td>\n",
       "      <td>99.0</td>\n",
       "      <td>48.0</td>\n",
       "      <td>16.0</td>\n",
       "      <td>35.0</td>\n",
       "      <td>48628.511719</td>\n",
       "      <td>-0.006296</td>\n",
       "      <td>-1.0</td>\n",
       "    </tr>\n",
       "    <tr>\n",
       "      <th>2021-12-23</th>\n",
       "      <td>9.0</td>\n",
       "      <td>53.0</td>\n",
       "      <td>17.0</td>\n",
       "      <td>30.0</td>\n",
       "      <td>8.0</td>\n",
       "      <td>3.0</td>\n",
       "      <td>8.0</td>\n",
       "      <td>3.0</td>\n",
       "      <td>2.0</td>\n",
       "      <td>1.0</td>\n",
       "      <td>2.0</td>\n",
       "      <td>106.0</td>\n",
       "      <td>55.0</td>\n",
       "      <td>11.0</td>\n",
       "      <td>46.0</td>\n",
       "      <td>50784.539062</td>\n",
       "      <td>0.044337</td>\n",
       "      <td>1.0</td>\n",
       "    </tr>\n",
       "    <tr>\n",
       "      <th>2021-12-24</th>\n",
       "      <td>6.0</td>\n",
       "      <td>39.0</td>\n",
       "      <td>18.0</td>\n",
       "      <td>13.0</td>\n",
       "      <td>7.0</td>\n",
       "      <td>3.0</td>\n",
       "      <td>8.0</td>\n",
       "      <td>1.0</td>\n",
       "      <td>1.0</td>\n",
       "      <td>0.0</td>\n",
       "      <td>1.0</td>\n",
       "      <td>81.0</td>\n",
       "      <td>26.0</td>\n",
       "      <td>27.0</td>\n",
       "      <td>20.0</td>\n",
       "      <td>50822.195312</td>\n",
       "      <td>0.000741</td>\n",
       "      <td>1.0</td>\n",
       "    </tr>\n",
       "    <tr>\n",
       "      <th>2021-12-25</th>\n",
       "      <td>6.0</td>\n",
       "      <td>23.0</td>\n",
       "      <td>9.0</td>\n",
       "      <td>21.0</td>\n",
       "      <td>5.0</td>\n",
       "      <td>2.0</td>\n",
       "      <td>7.0</td>\n",
       "      <td>1.0</td>\n",
       "      <td>2.0</td>\n",
       "      <td>0.0</td>\n",
       "      <td>0.0</td>\n",
       "      <td>44.0</td>\n",
       "      <td>24.0</td>\n",
       "      <td>14.0</td>\n",
       "      <td>22.0</td>\n",
       "      <td>50429.859375</td>\n",
       "      <td>-0.007720</td>\n",
       "      <td>-1.0</td>\n",
       "    </tr>\n",
       "  </tbody>\n",
       "</table>\n",
       "</div>"
      ],
      "text/plain": [
       "            FOMO  Uncertain  Hopeful  Bearish  Pessimistic/Doubtful  Sad  \\\n",
       "Date                                                                       \n",
       "2021-12-21   7.0       59.0     18.0     44.0                  14.0  3.0   \n",
       "2021-12-22  10.0       31.0     16.0     32.0                   8.0  1.0   \n",
       "2021-12-23   9.0       53.0     17.0     30.0                   8.0  3.0   \n",
       "2021-12-24   6.0       39.0     18.0     13.0                   7.0  3.0   \n",
       "2021-12-25   6.0       23.0      9.0     21.0                   5.0  2.0   \n",
       "\n",
       "            Fearful/Concerned  Angry  Mistrustful  Panicking  \\\n",
       "Date                                                           \n",
       "2021-12-21                7.0    5.0          1.0        0.0   \n",
       "2021-12-22                6.0    2.0          2.0        2.0   \n",
       "2021-12-23                8.0    3.0          2.0        1.0   \n",
       "2021-12-24                8.0    1.0          1.0        0.0   \n",
       "2021-12-25                7.0    1.0          2.0        0.0   \n",
       "\n",
       "            Annoyed/Frustrated  Bullish  Optimistic  Happy  Euphoric/Excited  \\\n",
       "Date                                                                           \n",
       "2021-12-21                 2.0    128.0        72.0   14.0              37.0   \n",
       "2021-12-22                 2.0     99.0        48.0   16.0              35.0   \n",
       "2021-12-23                 2.0    106.0        55.0   11.0              46.0   \n",
       "2021-12-24                 1.0     81.0        26.0   27.0              20.0   \n",
       "2021-12-25                 0.0     44.0        24.0   14.0              22.0   \n",
       "\n",
       "                   close  daily_ret  signal  \n",
       "Date                                         \n",
       "2021-12-21  48936.613281   0.043864     1.0  \n",
       "2021-12-22  48628.511719  -0.006296    -1.0  \n",
       "2021-12-23  50784.539062   0.044337     1.0  \n",
       "2021-12-24  50822.195312   0.000741     1.0  \n",
       "2021-12-25  50429.859375  -0.007720    -1.0  "
      ]
     },
     "execution_count": 12,
     "metadata": {},
     "output_type": "execute_result"
    }
   ],
   "source": [
    "joined_df.tail()"
   ]
  },
  {
   "cell_type": "code",
   "execution_count": 13,
   "id": "38b9164f-02f2-4075-8ee7-61a06a2d7450",
   "metadata": {},
   "outputs": [],
   "source": [
    "joined_df=joined_df.dropna()"
   ]
  },
  {
   "cell_type": "code",
   "execution_count": 14,
   "id": "8de776a4-90e4-4ad6-bb85-29fe3a404ffd",
   "metadata": {},
   "outputs": [
    {
     "data": {
      "text/html": [
       "<div>\n",
       "<style scoped>\n",
       "    .dataframe tbody tr th:only-of-type {\n",
       "        vertical-align: middle;\n",
       "    }\n",
       "\n",
       "    .dataframe tbody tr th {\n",
       "        vertical-align: top;\n",
       "    }\n",
       "\n",
       "    .dataframe thead th {\n",
       "        text-align: right;\n",
       "    }\n",
       "</style>\n",
       "<table border=\"1\" class=\"dataframe\">\n",
       "  <thead>\n",
       "    <tr style=\"text-align: right;\">\n",
       "      <th></th>\n",
       "      <th>FOMO</th>\n",
       "      <th>Uncertain</th>\n",
       "      <th>Hopeful</th>\n",
       "      <th>Bearish</th>\n",
       "      <th>Pessimistic/Doubtful</th>\n",
       "      <th>Sad</th>\n",
       "      <th>Fearful/Concerned</th>\n",
       "      <th>Angry</th>\n",
       "      <th>Mistrustful</th>\n",
       "      <th>Panicking</th>\n",
       "      <th>Annoyed/Frustrated</th>\n",
       "      <th>Bullish</th>\n",
       "      <th>Optimistic</th>\n",
       "      <th>Happy</th>\n",
       "      <th>Euphoric/Excited</th>\n",
       "      <th>close</th>\n",
       "      <th>daily_ret</th>\n",
       "      <th>signal</th>\n",
       "    </tr>\n",
       "    <tr>\n",
       "      <th>Date</th>\n",
       "      <th></th>\n",
       "      <th></th>\n",
       "      <th></th>\n",
       "      <th></th>\n",
       "      <th></th>\n",
       "      <th></th>\n",
       "      <th></th>\n",
       "      <th></th>\n",
       "      <th></th>\n",
       "      <th></th>\n",
       "      <th></th>\n",
       "      <th></th>\n",
       "      <th></th>\n",
       "      <th></th>\n",
       "      <th></th>\n",
       "      <th></th>\n",
       "      <th></th>\n",
       "      <th></th>\n",
       "    </tr>\n",
       "  </thead>\n",
       "  <tbody>\n",
       "    <tr>\n",
       "      <th>2019-04-02</th>\n",
       "      <td>58.0</td>\n",
       "      <td>216.0</td>\n",
       "      <td>78.0</td>\n",
       "      <td>199.0</td>\n",
       "      <td>42.0</td>\n",
       "      <td>7.0</td>\n",
       "      <td>35.0</td>\n",
       "      <td>32.0</td>\n",
       "      <td>1.0</td>\n",
       "      <td>10.0</td>\n",
       "      <td>2.0</td>\n",
       "      <td>523.0</td>\n",
       "      <td>129.0</td>\n",
       "      <td>58.0</td>\n",
       "      <td>223.0</td>\n",
       "      <td>4879.877930</td>\n",
       "      <td>0.173560</td>\n",
       "      <td>1.0</td>\n",
       "    </tr>\n",
       "    <tr>\n",
       "      <th>2019-04-03</th>\n",
       "      <td>49.0</td>\n",
       "      <td>198.0</td>\n",
       "      <td>42.0</td>\n",
       "      <td>163.0</td>\n",
       "      <td>28.0</td>\n",
       "      <td>11.0</td>\n",
       "      <td>22.0</td>\n",
       "      <td>21.0</td>\n",
       "      <td>5.0</td>\n",
       "      <td>3.0</td>\n",
       "      <td>9.0</td>\n",
       "      <td>433.0</td>\n",
       "      <td>103.0</td>\n",
       "      <td>22.0</td>\n",
       "      <td>164.0</td>\n",
       "      <td>4973.021973</td>\n",
       "      <td>0.019087</td>\n",
       "      <td>1.0</td>\n",
       "    </tr>\n",
       "    <tr>\n",
       "      <th>2019-04-04</th>\n",
       "      <td>20.0</td>\n",
       "      <td>115.0</td>\n",
       "      <td>35.0</td>\n",
       "      <td>145.0</td>\n",
       "      <td>19.0</td>\n",
       "      <td>4.0</td>\n",
       "      <td>22.0</td>\n",
       "      <td>9.0</td>\n",
       "      <td>4.0</td>\n",
       "      <td>2.0</td>\n",
       "      <td>2.0</td>\n",
       "      <td>262.0</td>\n",
       "      <td>90.0</td>\n",
       "      <td>19.0</td>\n",
       "      <td>81.0</td>\n",
       "      <td>4922.798828</td>\n",
       "      <td>-0.010099</td>\n",
       "      <td>-1.0</td>\n",
       "    </tr>\n",
       "    <tr>\n",
       "      <th>2019-04-05</th>\n",
       "      <td>17.0</td>\n",
       "      <td>112.0</td>\n",
       "      <td>24.0</td>\n",
       "      <td>90.0</td>\n",
       "      <td>17.0</td>\n",
       "      <td>1.0</td>\n",
       "      <td>29.0</td>\n",
       "      <td>6.0</td>\n",
       "      <td>4.0</td>\n",
       "      <td>2.0</td>\n",
       "      <td>1.0</td>\n",
       "      <td>245.0</td>\n",
       "      <td>103.0</td>\n",
       "      <td>18.0</td>\n",
       "      <td>65.0</td>\n",
       "      <td>5036.681152</td>\n",
       "      <td>0.023134</td>\n",
       "      <td>1.0</td>\n",
       "    </tr>\n",
       "    <tr>\n",
       "      <th>2019-04-06</th>\n",
       "      <td>12.0</td>\n",
       "      <td>86.0</td>\n",
       "      <td>24.0</td>\n",
       "      <td>84.0</td>\n",
       "      <td>25.0</td>\n",
       "      <td>3.0</td>\n",
       "      <td>14.0</td>\n",
       "      <td>6.0</td>\n",
       "      <td>3.0</td>\n",
       "      <td>2.0</td>\n",
       "      <td>1.0</td>\n",
       "      <td>243.0</td>\n",
       "      <td>60.0</td>\n",
       "      <td>11.0</td>\n",
       "      <td>63.0</td>\n",
       "      <td>5059.817383</td>\n",
       "      <td>0.004594</td>\n",
       "      <td>1.0</td>\n",
       "    </tr>\n",
       "  </tbody>\n",
       "</table>\n",
       "</div>"
      ],
      "text/plain": [
       "            FOMO  Uncertain  Hopeful  Bearish  Pessimistic/Doubtful   Sad  \\\n",
       "Date                                                                        \n",
       "2019-04-02  58.0      216.0     78.0    199.0                  42.0   7.0   \n",
       "2019-04-03  49.0      198.0     42.0    163.0                  28.0  11.0   \n",
       "2019-04-04  20.0      115.0     35.0    145.0                  19.0   4.0   \n",
       "2019-04-05  17.0      112.0     24.0     90.0                  17.0   1.0   \n",
       "2019-04-06  12.0       86.0     24.0     84.0                  25.0   3.0   \n",
       "\n",
       "            Fearful/Concerned  Angry  Mistrustful  Panicking  \\\n",
       "Date                                                           \n",
       "2019-04-02               35.0   32.0          1.0       10.0   \n",
       "2019-04-03               22.0   21.0          5.0        3.0   \n",
       "2019-04-04               22.0    9.0          4.0        2.0   \n",
       "2019-04-05               29.0    6.0          4.0        2.0   \n",
       "2019-04-06               14.0    6.0          3.0        2.0   \n",
       "\n",
       "            Annoyed/Frustrated  Bullish  Optimistic  Happy  Euphoric/Excited  \\\n",
       "Date                                                                           \n",
       "2019-04-02                 2.0    523.0       129.0   58.0             223.0   \n",
       "2019-04-03                 9.0    433.0       103.0   22.0             164.0   \n",
       "2019-04-04                 2.0    262.0        90.0   19.0              81.0   \n",
       "2019-04-05                 1.0    245.0       103.0   18.0              65.0   \n",
       "2019-04-06                 1.0    243.0        60.0   11.0              63.0   \n",
       "\n",
       "                  close  daily_ret  signal  \n",
       "Date                                        \n",
       "2019-04-02  4879.877930   0.173560     1.0  \n",
       "2019-04-03  4973.021973   0.019087     1.0  \n",
       "2019-04-04  4922.798828  -0.010099    -1.0  \n",
       "2019-04-05  5036.681152   0.023134     1.0  \n",
       "2019-04-06  5059.817383   0.004594     1.0  "
      ]
     },
     "execution_count": 14,
     "metadata": {},
     "output_type": "execute_result"
    }
   ],
   "source": [
    "joined_df.head()"
   ]
  },
  {
   "cell_type": "code",
   "execution_count": 15,
   "id": "ca6826d4-0b0e-4852-b3f0-5cb6fbef4889",
   "metadata": {},
   "outputs": [],
   "source": [
    "# Make the 'features' and 'target' dataframes\n",
    "y = joined_df['signal'].copy()\n",
    "X=joined_df.drop(columns=['daily_ret', 'close', 'signal']).copy()\n"
   ]
  },
  {
   "cell_type": "code",
   "execution_count": 16,
   "id": "31eb24f6-a72e-432c-809a-17cf1ff91372",
   "metadata": {},
   "outputs": [],
   "source": [
    "# This is just to test without any SMA stragetgy. Purely on daily sentiments\n",
    "#X=pd.DataFrame(joined_df['scores'])\n"
   ]
  },
  {
   "cell_type": "code",
   "execution_count": 17,
   "id": "5ee0a864-755a-47d2-bb75-a027509e166f",
   "metadata": {},
   "outputs": [
    {
     "data": {
      "text/html": [
       "<div>\n",
       "<style scoped>\n",
       "    .dataframe tbody tr th:only-of-type {\n",
       "        vertical-align: middle;\n",
       "    }\n",
       "\n",
       "    .dataframe tbody tr th {\n",
       "        vertical-align: top;\n",
       "    }\n",
       "\n",
       "    .dataframe thead th {\n",
       "        text-align: right;\n",
       "    }\n",
       "</style>\n",
       "<table border=\"1\" class=\"dataframe\">\n",
       "  <thead>\n",
       "    <tr style=\"text-align: right;\">\n",
       "      <th></th>\n",
       "      <th>FOMO</th>\n",
       "      <th>Uncertain</th>\n",
       "      <th>Hopeful</th>\n",
       "      <th>Bearish</th>\n",
       "      <th>Pessimistic/Doubtful</th>\n",
       "      <th>Sad</th>\n",
       "      <th>Fearful/Concerned</th>\n",
       "      <th>Angry</th>\n",
       "      <th>Mistrustful</th>\n",
       "      <th>Panicking</th>\n",
       "      <th>Annoyed/Frustrated</th>\n",
       "      <th>Bullish</th>\n",
       "      <th>Optimistic</th>\n",
       "      <th>Happy</th>\n",
       "      <th>Euphoric/Excited</th>\n",
       "    </tr>\n",
       "    <tr>\n",
       "      <th>Date</th>\n",
       "      <th></th>\n",
       "      <th></th>\n",
       "      <th></th>\n",
       "      <th></th>\n",
       "      <th></th>\n",
       "      <th></th>\n",
       "      <th></th>\n",
       "      <th></th>\n",
       "      <th></th>\n",
       "      <th></th>\n",
       "      <th></th>\n",
       "      <th></th>\n",
       "      <th></th>\n",
       "      <th></th>\n",
       "      <th></th>\n",
       "    </tr>\n",
       "  </thead>\n",
       "  <tbody>\n",
       "    <tr>\n",
       "      <th>2019-04-02</th>\n",
       "      <td>58.0</td>\n",
       "      <td>216.0</td>\n",
       "      <td>78.0</td>\n",
       "      <td>199.0</td>\n",
       "      <td>42.0</td>\n",
       "      <td>7.0</td>\n",
       "      <td>35.0</td>\n",
       "      <td>32.0</td>\n",
       "      <td>1.0</td>\n",
       "      <td>10.0</td>\n",
       "      <td>2.0</td>\n",
       "      <td>523.0</td>\n",
       "      <td>129.0</td>\n",
       "      <td>58.0</td>\n",
       "      <td>223.0</td>\n",
       "    </tr>\n",
       "    <tr>\n",
       "      <th>2019-04-03</th>\n",
       "      <td>49.0</td>\n",
       "      <td>198.0</td>\n",
       "      <td>42.0</td>\n",
       "      <td>163.0</td>\n",
       "      <td>28.0</td>\n",
       "      <td>11.0</td>\n",
       "      <td>22.0</td>\n",
       "      <td>21.0</td>\n",
       "      <td>5.0</td>\n",
       "      <td>3.0</td>\n",
       "      <td>9.0</td>\n",
       "      <td>433.0</td>\n",
       "      <td>103.0</td>\n",
       "      <td>22.0</td>\n",
       "      <td>164.0</td>\n",
       "    </tr>\n",
       "    <tr>\n",
       "      <th>2019-04-04</th>\n",
       "      <td>20.0</td>\n",
       "      <td>115.0</td>\n",
       "      <td>35.0</td>\n",
       "      <td>145.0</td>\n",
       "      <td>19.0</td>\n",
       "      <td>4.0</td>\n",
       "      <td>22.0</td>\n",
       "      <td>9.0</td>\n",
       "      <td>4.0</td>\n",
       "      <td>2.0</td>\n",
       "      <td>2.0</td>\n",
       "      <td>262.0</td>\n",
       "      <td>90.0</td>\n",
       "      <td>19.0</td>\n",
       "      <td>81.0</td>\n",
       "    </tr>\n",
       "    <tr>\n",
       "      <th>2019-04-05</th>\n",
       "      <td>17.0</td>\n",
       "      <td>112.0</td>\n",
       "      <td>24.0</td>\n",
       "      <td>90.0</td>\n",
       "      <td>17.0</td>\n",
       "      <td>1.0</td>\n",
       "      <td>29.0</td>\n",
       "      <td>6.0</td>\n",
       "      <td>4.0</td>\n",
       "      <td>2.0</td>\n",
       "      <td>1.0</td>\n",
       "      <td>245.0</td>\n",
       "      <td>103.0</td>\n",
       "      <td>18.0</td>\n",
       "      <td>65.0</td>\n",
       "    </tr>\n",
       "    <tr>\n",
       "      <th>2019-04-06</th>\n",
       "      <td>12.0</td>\n",
       "      <td>86.0</td>\n",
       "      <td>24.0</td>\n",
       "      <td>84.0</td>\n",
       "      <td>25.0</td>\n",
       "      <td>3.0</td>\n",
       "      <td>14.0</td>\n",
       "      <td>6.0</td>\n",
       "      <td>3.0</td>\n",
       "      <td>2.0</td>\n",
       "      <td>1.0</td>\n",
       "      <td>243.0</td>\n",
       "      <td>60.0</td>\n",
       "      <td>11.0</td>\n",
       "      <td>63.0</td>\n",
       "    </tr>\n",
       "  </tbody>\n",
       "</table>\n",
       "</div>"
      ],
      "text/plain": [
       "            FOMO  Uncertain  Hopeful  Bearish  Pessimistic/Doubtful   Sad  \\\n",
       "Date                                                                        \n",
       "2019-04-02  58.0      216.0     78.0    199.0                  42.0   7.0   \n",
       "2019-04-03  49.0      198.0     42.0    163.0                  28.0  11.0   \n",
       "2019-04-04  20.0      115.0     35.0    145.0                  19.0   4.0   \n",
       "2019-04-05  17.0      112.0     24.0     90.0                  17.0   1.0   \n",
       "2019-04-06  12.0       86.0     24.0     84.0                  25.0   3.0   \n",
       "\n",
       "            Fearful/Concerned  Angry  Mistrustful  Panicking  \\\n",
       "Date                                                           \n",
       "2019-04-02               35.0   32.0          1.0       10.0   \n",
       "2019-04-03               22.0   21.0          5.0        3.0   \n",
       "2019-04-04               22.0    9.0          4.0        2.0   \n",
       "2019-04-05               29.0    6.0          4.0        2.0   \n",
       "2019-04-06               14.0    6.0          3.0        2.0   \n",
       "\n",
       "            Annoyed/Frustrated  Bullish  Optimistic  Happy  Euphoric/Excited  \n",
       "Date                                                                          \n",
       "2019-04-02                 2.0    523.0       129.0   58.0             223.0  \n",
       "2019-04-03                 9.0    433.0       103.0   22.0             164.0  \n",
       "2019-04-04                 2.0    262.0        90.0   19.0              81.0  \n",
       "2019-04-05                 1.0    245.0       103.0   18.0              65.0  \n",
       "2019-04-06                 1.0    243.0        60.0   11.0              63.0  "
      ]
     },
     "execution_count": 17,
     "metadata": {},
     "output_type": "execute_result"
    }
   ],
   "source": [
    "X.head()"
   ]
  },
  {
   "cell_type": "code",
   "execution_count": 18,
   "id": "22b0df1f-6820-41c7-89ed-e525a758ecbc",
   "metadata": {},
   "outputs": [
    {
     "data": {
      "text/plain": [
       "Date\n",
       "2019-04-02    1.0\n",
       "2019-04-03    1.0\n",
       "2019-04-04   -1.0\n",
       "2019-04-05    1.0\n",
       "2019-04-06    1.0\n",
       "Name: signal, dtype: float64"
      ]
     },
     "execution_count": 18,
     "metadata": {},
     "output_type": "execute_result"
    }
   ],
   "source": [
    "y[:5]"
   ]
  },
  {
   "cell_type": "code",
   "execution_count": 19,
   "id": "beb38915-7043-417c-998e-36fd8f4357b2",
   "metadata": {},
   "outputs": [],
   "source": [
    "# save the X and Y to csv for use in Neural Network training\n",
    "X.to_csv('X.csv')\n",
    "y.to_csv('y.csv')"
   ]
  },
  {
   "cell_type": "code",
   "execution_count": 20,
   "id": "c8cdee48-ce04-499b-a83f-29fede18e0e8",
   "metadata": {},
   "outputs": [
    {
     "data": {
      "text/html": [
       "<div>\n",
       "<style scoped>\n",
       "    .dataframe tbody tr th:only-of-type {\n",
       "        vertical-align: middle;\n",
       "    }\n",
       "\n",
       "    .dataframe tbody tr th {\n",
       "        vertical-align: top;\n",
       "    }\n",
       "\n",
       "    .dataframe thead th {\n",
       "        text-align: right;\n",
       "    }\n",
       "</style>\n",
       "<table border=\"1\" class=\"dataframe\">\n",
       "  <thead>\n",
       "    <tr style=\"text-align: right;\">\n",
       "      <th></th>\n",
       "      <th>FOMO</th>\n",
       "      <th>Uncertain</th>\n",
       "      <th>Hopeful</th>\n",
       "      <th>Bearish</th>\n",
       "      <th>Pessimistic/Doubtful</th>\n",
       "      <th>Sad</th>\n",
       "      <th>Fearful/Concerned</th>\n",
       "      <th>Angry</th>\n",
       "      <th>Mistrustful</th>\n",
       "      <th>Panicking</th>\n",
       "      <th>Annoyed/Frustrated</th>\n",
       "      <th>Bullish</th>\n",
       "      <th>Optimistic</th>\n",
       "      <th>Happy</th>\n",
       "      <th>Euphoric/Excited</th>\n",
       "    </tr>\n",
       "    <tr>\n",
       "      <th>Date</th>\n",
       "      <th></th>\n",
       "      <th></th>\n",
       "      <th></th>\n",
       "      <th></th>\n",
       "      <th></th>\n",
       "      <th></th>\n",
       "      <th></th>\n",
       "      <th></th>\n",
       "      <th></th>\n",
       "      <th></th>\n",
       "      <th></th>\n",
       "      <th></th>\n",
       "      <th></th>\n",
       "      <th></th>\n",
       "      <th></th>\n",
       "    </tr>\n",
       "  </thead>\n",
       "  <tbody>\n",
       "    <tr>\n",
       "      <th>2021-04-05</th>\n",
       "      <td>15.0</td>\n",
       "      <td>58.0</td>\n",
       "      <td>21.0</td>\n",
       "      <td>29.0</td>\n",
       "      <td>10.0</td>\n",
       "      <td>2.0</td>\n",
       "      <td>15.0</td>\n",
       "      <td>4.0</td>\n",
       "      <td>0.0</td>\n",
       "      <td>1.0</td>\n",
       "      <td>1.0</td>\n",
       "      <td>134.0</td>\n",
       "      <td>60.0</td>\n",
       "      <td>16.0</td>\n",
       "      <td>51.0</td>\n",
       "    </tr>\n",
       "    <tr>\n",
       "      <th>2019-11-15</th>\n",
       "      <td>7.0</td>\n",
       "      <td>88.0</td>\n",
       "      <td>16.0</td>\n",
       "      <td>69.0</td>\n",
       "      <td>8.0</td>\n",
       "      <td>0.0</td>\n",
       "      <td>13.0</td>\n",
       "      <td>11.0</td>\n",
       "      <td>1.0</td>\n",
       "      <td>0.0</td>\n",
       "      <td>0.0</td>\n",
       "      <td>159.0</td>\n",
       "      <td>61.0</td>\n",
       "      <td>14.0</td>\n",
       "      <td>47.0</td>\n",
       "    </tr>\n",
       "    <tr>\n",
       "      <th>2019-09-17</th>\n",
       "      <td>6.0</td>\n",
       "      <td>72.0</td>\n",
       "      <td>22.0</td>\n",
       "      <td>67.0</td>\n",
       "      <td>24.0</td>\n",
       "      <td>0.0</td>\n",
       "      <td>17.0</td>\n",
       "      <td>14.0</td>\n",
       "      <td>2.0</td>\n",
       "      <td>1.0</td>\n",
       "      <td>1.0</td>\n",
       "      <td>147.0</td>\n",
       "      <td>80.0</td>\n",
       "      <td>14.0</td>\n",
       "      <td>64.0</td>\n",
       "    </tr>\n",
       "    <tr>\n",
       "      <th>2020-01-18</th>\n",
       "      <td>7.0</td>\n",
       "      <td>71.0</td>\n",
       "      <td>15.0</td>\n",
       "      <td>34.0</td>\n",
       "      <td>11.0</td>\n",
       "      <td>3.0</td>\n",
       "      <td>10.0</td>\n",
       "      <td>4.0</td>\n",
       "      <td>0.0</td>\n",
       "      <td>0.0</td>\n",
       "      <td>3.0</td>\n",
       "      <td>113.0</td>\n",
       "      <td>51.0</td>\n",
       "      <td>11.0</td>\n",
       "      <td>35.0</td>\n",
       "    </tr>\n",
       "    <tr>\n",
       "      <th>2020-08-16</th>\n",
       "      <td>2.0</td>\n",
       "      <td>51.0</td>\n",
       "      <td>20.0</td>\n",
       "      <td>29.0</td>\n",
       "      <td>9.0</td>\n",
       "      <td>3.0</td>\n",
       "      <td>6.0</td>\n",
       "      <td>12.0</td>\n",
       "      <td>1.0</td>\n",
       "      <td>2.0</td>\n",
       "      <td>4.0</td>\n",
       "      <td>140.0</td>\n",
       "      <td>68.0</td>\n",
       "      <td>11.0</td>\n",
       "      <td>46.0</td>\n",
       "    </tr>\n",
       "  </tbody>\n",
       "</table>\n",
       "</div>"
      ],
      "text/plain": [
       "            FOMO  Uncertain  Hopeful  Bearish  Pessimistic/Doubtful  Sad  \\\n",
       "Date                                                                       \n",
       "2021-04-05  15.0       58.0     21.0     29.0                  10.0  2.0   \n",
       "2019-11-15   7.0       88.0     16.0     69.0                   8.0  0.0   \n",
       "2019-09-17   6.0       72.0     22.0     67.0                  24.0  0.0   \n",
       "2020-01-18   7.0       71.0     15.0     34.0                  11.0  3.0   \n",
       "2020-08-16   2.0       51.0     20.0     29.0                   9.0  3.0   \n",
       "\n",
       "            Fearful/Concerned  Angry  Mistrustful  Panicking  \\\n",
       "Date                                                           \n",
       "2021-04-05               15.0    4.0          0.0        1.0   \n",
       "2019-11-15               13.0   11.0          1.0        0.0   \n",
       "2019-09-17               17.0   14.0          2.0        1.0   \n",
       "2020-01-18               10.0    4.0          0.0        0.0   \n",
       "2020-08-16                6.0   12.0          1.0        2.0   \n",
       "\n",
       "            Annoyed/Frustrated  Bullish  Optimistic  Happy  Euphoric/Excited  \n",
       "Date                                                                          \n",
       "2021-04-05                 1.0    134.0        60.0   16.0              51.0  \n",
       "2019-11-15                 0.0    159.0        61.0   14.0              47.0  \n",
       "2019-09-17                 1.0    147.0        80.0   14.0              64.0  \n",
       "2020-01-18                 3.0    113.0        51.0   11.0              35.0  \n",
       "2020-08-16                 4.0    140.0        68.0   11.0              46.0  "
      ]
     },
     "execution_count": 20,
     "metadata": {},
     "output_type": "execute_result"
    }
   ],
   "source": [
    "X_train, X_test, y_train, y_test = train_test_split(X, y)\n",
    "X_train.head()"
   ]
  },
  {
   "cell_type": "code",
   "execution_count": 21,
   "id": "5d7cfe67-de49-4fa6-b8b5-56b10b26f132",
   "metadata": {},
   "outputs": [],
   "source": [
    "# Scale the data\n",
    "scaler = StandardScaler()\n",
    "X_scaler = scaler.fit(X_train)\n",
    "X_train_scaled = X_scaler.transform(X_train)\n",
    "X_test_scaled = X_scaler.transform(X_test)"
   ]
  },
  {
   "cell_type": "code",
   "execution_count": 22,
   "id": "a1697ae9-b29e-4900-a6f9-a63b8d50b907",
   "metadata": {},
   "outputs": [
    {
     "data": {
      "text/plain": [
       "(749, 15)"
      ]
     },
     "execution_count": 22,
     "metadata": {},
     "output_type": "execute_result"
    }
   ],
   "source": [
    "X_train_scaled.shape"
   ]
  },
  {
   "cell_type": "code",
   "execution_count": null,
   "id": "a77662c7-6bb8-4f73-b758-06f9d2ed889a",
   "metadata": {},
   "outputs": [],
   "source": []
  },
  {
   "cell_type": "code",
   "execution_count": 26,
   "id": "b3b493fe-1246-4eb3-8d27-e1ed0d3cb4ae",
   "metadata": {},
   "outputs": [
    {
     "name": "stderr",
     "output_type": "stream",
     "text": [
      "C:\\Users\\kraso\\anaconda3\\lib\\site-packages\\sklearn\\cluster\\_kmeans.py:1332: UserWarning: KMeans is known to have a memory leak on Windows with MKL, when there are less chunks than available threads. You can avoid it by setting the environment variable OMP_NUM_THREADS=2.\n",
      "  warnings.warn(\n"
     ]
    },
    {
     "data": {
      "text/plain": [
       "-1.0    348\n",
       " 1.0    348\n",
       "Name: signal, dtype: int64"
      ]
     },
     "execution_count": 26,
     "metadata": {},
     "output_type": "execute_result"
    }
   ],
   "source": [
    "\n",
    "\n",
    "# Instantiate a ClusterCentroids instance\n",
    "cc_sampler = ClusterCentroids(random_state=1)\n",
    "# Fit the training data to the cluster centroids model\n",
    "X_resampled, y_resampled = cc_sampler.fit_resample(X_train_scaled, y_train)\n",
    "# Count distinct values for the resampled target data\n",
    "y_resampled.value_counts()"
   ]
  },
  {
   "cell_type": "code",
   "execution_count": null,
   "id": "53fb4f9e-878a-467e-9006-24a593be1c97",
   "metadata": {},
   "outputs": [],
   "source": []
  },
  {
   "cell_type": "code",
   "execution_count": 34,
   "id": "1aa5b44d-ebf2-46cb-bcf6-bf5de641c221",
   "metadata": {},
   "outputs": [
    {
     "data": {
      "image/png": "[encoded data removed]",
      "text/plain": [
       "<Figure size 432x288 with 1 Axes>"
      ]
     },
     "metadata": {
      "needs_background": "light"
     },
     "output_type": "display_data"
    }
   ],
   "source": [
    "#cum_ret.plot(title=coin_ticker+' Logistic Regression w short='+str(short_window)+' long='+str(long_window))\n",
    "#plt.savefig(source+'_'+prefix+'_Log_reg_SMA_short'+str(short_window)+'_long'+str(long_window)+'.png')\n",
    "cum_ret.plot(title=coin_ticker+' Logistic Regression with data from '+source)\n",
    "plt.savefig(source+'_'+prefix+'_Log_reg.png')"
   ]
  },
  {
   "cell_type": "code",
   "execution_count": null,
   "id": "7a0ea9dd-75ac-4d13-8d0d-4f0ffca29104",
   "metadata": {},
   "outputs": [],
   "source": []
  },
  {
   "cell_type": "code",
   "execution_count": 35,
   "id": "3fad2be8-da9d-4409-b619-65fa2cc1378e",
   "metadata": {},
   "outputs": [
    {
     "name": "stdout",
     "output_type": "stream",
     "text": [
      "[[81 42]\n",
      " [62 65]]\n"
     ]
    }
   ],
   "source": [
    "# Print confusion matrix\n",
    "print(confusion_matrix(y_test, y_pred))"
   ]
  },
  {
   "cell_type": "code",
   "execution_count": 36,
   "id": "a4403efa-653c-4686-9bd7-9551d242cde0",
   "metadata": {},
   "outputs": [
    {
     "name": "stdout",
     "output_type": "stream",
     "text": [
      "              precision    recall  f1-score   support\n",
      "\n",
      "        -1.0       0.57      0.66      0.61       123\n",
      "         1.0       0.61      0.51      0.56       127\n",
      "\n",
      "    accuracy                           0.58       250\n",
      "   macro avg       0.59      0.59      0.58       250\n",
      "weighted avg       0.59      0.58      0.58       250\n",
      "\n"
     ]
    }
   ],
   "source": [
    "# Print classification report\n",
    "class_rep = classification_report(y_test, y_pred, output_dict=True)\n",
    "print(classification_report(y_test, y_pred))"
   ]
  },
  {
   "cell_type": "code",
   "execution_count": 28,
   "id": "84587a54-7501-4ad1-93cb-02a1443c7ace",
   "metadata": {},
   "outputs": [],
   "source": [
    "model_abc = AdaBoostClassifier(n_estimators=80)\n",
    "y_pred = ml.model_fit_predict(model_abc, X_resampled, y_resampled, X_test_scaled)\n",
    "#y_pred = ml.model_fit_predict(model_abc, X_train_scaled, y_train, X_test_scaled)\n"
   ]
  },
  {
   "cell_type": "code",
   "execution_count": 29,
   "id": "b7e77911-8f3c-4991-919a-1f152734d72b",
   "metadata": {},
   "outputs": [
    {
     "name": "stdout",
     "output_type": "stream",
     "text": [
      "              precision    recall  f1-score   support\n",
      "\n",
      "        -1.0       0.56      0.48      0.52       120\n",
      "         1.0       0.58      0.65      0.61       130\n",
      "\n",
      "    accuracy                           0.57       250\n",
      "   macro avg       0.57      0.56      0.56       250\n",
      "weighted avg       0.57      0.57      0.57       250\n",
      "\n"
     ]
    }
   ],
   "source": [
    "class_rep = classification_report(y_test, y_pred, output_dict=True)\n",
    "print(classification_report(y_test, y_pred))"
   ]
  },
  {
   "cell_type": "code",
   "execution_count": 66,
   "id": "51271091-85cb-44ad-b9b3-b281678a38b5",
   "metadata": {},
   "outputs": [
    {
     "name": "stderr",
     "output_type": "stream",
     "text": [
      "C:\\Users\\kraso\\AppData\\Local\\Temp\\ipykernel_11460\\876585405.py:2: FutureWarning: The pandas.datetime class is deprecated and will be removed from pandas in a future version. Import from datetime module instead.\n",
      "  'Date': pd.datetime.today(),\n",
      "C:\\Users\\kraso\\AppData\\Local\\Temp\\ipykernel_11460\\876585405.py:14: FutureWarning: The frame.append method is deprecated and will be removed from pandas in a future version. Use pandas.concat instead.\n",
      "  results_df = results_df.append(results_dict, ignore_index=True)\n"
     ]
    }
   ],
   "source": [
    "results_dict = {\n",
    "    'Date': pd.datetime.today(),\n",
    "    \"Model\": 'AdaBoost Model',\n",
    "    'DataSource': source,\n",
    "    'Coin': coin_ticker,\n",
    "    'Short': short_window,\n",
    "    'Long': long_window,\n",
    "    'Accuracy':class_rep['accuracy'],\n",
    "    'Recall 1': class_rep['1.0']['recall'],\n",
    "    'Recall -1': class_rep['-1.0']['recall']\n",
    "}\n",
    "\n",
    "# To store classification report stats in a dataframe and then to a csv file for later retrieval\n",
    "results_df = results_df.append(results_dict, ignore_index=True)"
   ]
  },
  {
   "cell_type": "code",
   "execution_count": 30,
   "id": "95e96f6f-c41f-4bb5-be03-56b6f8f33f80",
   "metadata": {},
   "outputs": [],
   "source": [
    "cum_ret = ml.get_Strategy_and_Actual_returns(X_test.index, y_pred, X_test_df)"
   ]
  },
  {
   "cell_type": "code",
   "execution_count": 31,
   "id": "bca92f26-5b9b-4f6f-a302-c679c377500a",
   "metadata": {},
   "outputs": [
    {
     "data": {
      "text/plain": [
       "<AxesSubplot:title={'center':'BTC-USD Adaboost with Data from twitter'}, xlabel='Date'>"
      ]
     },
     "execution_count": 31,
     "metadata": {},
     "output_type": "execute_result"
    },
    {
     "data": {
      "image/png": "[encoded data removed]",
      "text/plain": [
       "<Figure size 432x288 with 1 Axes>"
      ]
     },
     "metadata": {
      "needs_background": "light"
     },
     "output_type": "display_data"
    }
   ],
   "source": [
    "#cum_ret.plot(title=coin_ticker+' Adaboost w short='+str(short_window)+' long='+str(long_window))\n",
    "#plt.savefig(source+'_'+prefix+'_Adaboost_SMA_short'+str(short_window)+'_long'+str(long_window)+'.png')\n",
    "cum_ret.plot(title=coin_ticker+' Adaboost with Data from '+source)\n",
    "#plt.savefig(source+'_'+prefix+'_Adaboost.png')\n",
    "#plt.savefig(source+'_'+prefix+'_Adaboost_SMA_short'+str(short_window)+'_long'+str(long_window)+'.png')\n",
    "\n",
    "#cum_ret.plot(title=coin_ticker+ ' Adaboost Model w short=6 long=100)')\n",
    "#plt.savefig(prefix+ '_Adaboost_SMA_short6_long100.png')"
   ]
  },
  {
   "cell_type": "code",
   "execution_count": 32,
   "id": "aad1f5a7-1caa-4580-accf-fa197bf57f2e",
   "metadata": {},
   "outputs": [],
   "source": [
    "model_rfc = RandomForestClassifier(n_estimators=6, max_depth=None,\n",
    "                               min_samples_split=2, random_state=0)\n",
    "# seems like Beyod n_estimators= 5, the accuracy begins to drop below 50%"
   ]
  },
  {
   "cell_type": "code",
   "execution_count": 33,
   "id": "d8e41aa0-f074-427e-b7f5-46a2121ee690",
   "metadata": {
    "tags": []
   },
   "outputs": [
    {
     "name": "stdout",
     "output_type": "stream",
     "text": [
      "              precision    recall  f1-score   support\n",
      "\n",
      "        -1.0       0.51      0.68      0.59       120\n",
      "         1.0       0.58      0.40      0.47       130\n",
      "\n",
      "    accuracy                           0.54       250\n",
      "   macro avg       0.55      0.54      0.53       250\n",
      "weighted avg       0.55      0.54      0.53       250\n",
      "\n"
     ]
    }
   ],
   "source": [
    "y_pred = ml.model_fit_predict(model_rfc, X_resampled, y_resampled, X_test_scaled)\n",
    "#y_pred = ml.model_fit_predict(model_rfc, X_train_scaled, y_train, X_test_scaled)\n",
    "\n",
    "cum_ret = ml.get_Strategy_and_Actual_returns(X_test.index, y_pred, X_test_df)\n",
    "class_rep = classification_report(y_test, y_pred, output_dict=True)\n",
    "print(classification_report(y_test, y_pred))"
   ]
  },
  {
   "cell_type": "code",
   "execution_count": 51,
   "id": "7f22639a-3d22-47e5-a232-032f47329e90",
   "metadata": {},
   "outputs": [],
   "source": [
    "results_df.to_csv(source+'_classification_reports.csv', mode='a', header=None)"
   ]
  },
  {
   "cell_type": "code",
   "execution_count": 39,
   "id": "4f02daad-c606-4f14-b800-ffa32fada829",
   "metadata": {},
   "outputs": [],
   "source": [
    "# Use the trained model to predict the trading signals for the testing data.\n",
    "testing_signal_predictions = model_abc.predict(X_test_scaled)"
   ]
  },
  {
   "cell_type": "code",
   "execution_count": 40,
   "id": "171e5cf8-4714-48ee-83d5-846c2b920b4a",
   "metadata": {},
   "outputs": [
    {
     "name": "stdout",
     "output_type": "stream",
     "text": [
      "              precision    recall  f1-score   support\n",
      "\n",
      "        -1.0       0.56      0.48      0.52       120\n",
      "         1.0       0.58      0.65      0.61       130\n",
      "\n",
      "    accuracy                           0.57       250\n",
      "   macro avg       0.57      0.56      0.56       250\n",
      "weighted avg       0.57      0.57      0.57       250\n",
      "\n"
     ]
    }
   ],
   "source": [
    "# Evaluate the model's ability to predict the trading signal for the testing data using a classification report\n",
    "training_report = classification_report(y_test, testing_signal_predictions)\n",
    "print(training_report)"
   ]
  },
  {
   "cell_type": "code",
   "execution_count": 41,
   "id": "c6c531a6-1023-4f1f-9933-e222e7d32013",
   "metadata": {},
   "outputs": [
    {
     "data": {
      "text/plain": [
       " 1.0    146\n",
       "-1.0    104\n",
       "Name: predicted_returns, dtype: int64"
      ]
     },
     "execution_count": 41,
     "metadata": {},
     "output_type": "execute_result"
    }
   ],
   "source": [
    "# Create a new empty predictions DataFrame using code provided below.\n",
    "predictions_df = pd.DataFrame(index=X_test.index)\n",
    "predictions_df['predicted_returns'] = testing_signal_predictions\n",
    "predictions_df['predicted_returns'].value_counts()"
   ]
  },
  {
   "cell_type": "code",
   "execution_count": 43,
   "id": "becbbd5b-7c25-40ef-b85b-59d6349bdae3",
   "metadata": {},
   "outputs": [
    {
     "data": {
      "text/html": [
       "<div>\n",
       "<style scoped>\n",
       "    .dataframe tbody tr th:only-of-type {\n",
       "        vertical-align: middle;\n",
       "    }\n",
       "\n",
       "    .dataframe tbody tr th {\n",
       "        vertical-align: top;\n",
       "    }\n",
       "\n",
       "    .dataframe thead th {\n",
       "        text-align: right;\n",
       "    }\n",
       "</style>\n",
       "<table border=\"1\" class=\"dataframe\">\n",
       "  <thead>\n",
       "    <tr style=\"text-align: right;\">\n",
       "      <th></th>\n",
       "      <th>predicted_returns</th>\n",
       "      <th>actual_returns</th>\n",
       "      <th>trading_algorithm_returns</th>\n",
       "    </tr>\n",
       "    <tr>\n",
       "      <th>Date</th>\n",
       "      <th></th>\n",
       "      <th></th>\n",
       "      <th></th>\n",
       "    </tr>\n",
       "  </thead>\n",
       "  <tbody>\n",
       "    <tr>\n",
       "      <th>2019-12-09</th>\n",
       "      <td>1.0</td>\n",
       "      <td>-0.021607</td>\n",
       "      <td>-0.021607</td>\n",
       "    </tr>\n",
       "    <tr>\n",
       "      <th>2019-06-08</th>\n",
       "      <td>1.0</td>\n",
       "      <td>-0.011167</td>\n",
       "      <td>-0.011167</td>\n",
       "    </tr>\n",
       "    <tr>\n",
       "      <th>2019-12-26</th>\n",
       "      <td>-1.0</td>\n",
       "      <td>-0.004974</td>\n",
       "      <td>0.004974</td>\n",
       "    </tr>\n",
       "    <tr>\n",
       "      <th>2020-09-29</th>\n",
       "      <td>-1.0</td>\n",
       "      <td>0.012604</td>\n",
       "      <td>-0.012604</td>\n",
       "    </tr>\n",
       "    <tr>\n",
       "      <th>2020-12-14</th>\n",
       "      <td>1.0</td>\n",
       "      <td>0.005447</td>\n",
       "      <td>0.005447</td>\n",
       "    </tr>\n",
       "    <tr>\n",
       "      <th>...</th>\n",
       "      <td>...</td>\n",
       "      <td>...</td>\n",
       "      <td>...</td>\n",
       "    </tr>\n",
       "    <tr>\n",
       "      <th>2020-11-17</th>\n",
       "      <td>1.0</td>\n",
       "      <td>0.055593</td>\n",
       "      <td>0.055593</td>\n",
       "    </tr>\n",
       "    <tr>\n",
       "      <th>2021-10-26</th>\n",
       "      <td>1.0</td>\n",
       "      <td>-0.042450</td>\n",
       "      <td>-0.042450</td>\n",
       "    </tr>\n",
       "    <tr>\n",
       "      <th>2020-07-02</th>\n",
       "      <td>1.0</td>\n",
       "      <td>-0.011369</td>\n",
       "      <td>-0.011369</td>\n",
       "    </tr>\n",
       "    <tr>\n",
       "      <th>2019-08-29</th>\n",
       "      <td>-1.0</td>\n",
       "      <td>-0.025037</td>\n",
       "      <td>0.025037</td>\n",
       "    </tr>\n",
       "    <tr>\n",
       "      <th>2020-07-04</th>\n",
       "      <td>-1.0</td>\n",
       "      <td>0.004972</td>\n",
       "      <td>-0.004972</td>\n",
       "    </tr>\n",
       "  </tbody>\n",
       "</table>\n",
       "<p>250 rows × 3 columns</p>\n",
       "</div>"
      ],
      "text/plain": [
       "            predicted_returns  actual_returns  trading_algorithm_returns\n",
       "Date                                                                    \n",
       "2019-12-09                1.0       -0.021607                  -0.021607\n",
       "2019-06-08                1.0       -0.011167                  -0.011167\n",
       "2019-12-26               -1.0       -0.004974                   0.004974\n",
       "2020-09-29               -1.0        0.012604                  -0.012604\n",
       "2020-12-14                1.0        0.005447                   0.005447\n",
       "...                       ...             ...                        ...\n",
       "2020-11-17                1.0        0.055593                   0.055593\n",
       "2021-10-26                1.0       -0.042450                  -0.042450\n",
       "2020-07-02                1.0       -0.011369                  -0.011369\n",
       "2019-08-29               -1.0       -0.025037                   0.025037\n",
       "2020-07-04               -1.0        0.004972                  -0.004972\n",
       "\n",
       "[250 rows x 3 columns]"
      ]
     },
     "execution_count": 43,
     "metadata": {},
     "output_type": "execute_result"
    }
   ],
   "source": [
    "# Add in actual returns and calculate trading returns\n",
    "predictions_df['actual_returns'] = joined_df['daily_ret']\n",
    "predictions_df['trading_algorithm_returns'] = predictions_df['actual_returns'] * predictions_df['predicted_returns']\n",
    "predictions_df"
   ]
  },
  {
   "cell_type": "code",
   "execution_count": 44,
   "id": "2e5c660e-8289-4c76-9cde-c821489db4b6",
   "metadata": {},
   "outputs": [
    {
     "data": {
      "text/plain": [
       "<AxesSubplot:xlabel='Date'>"
      ]
     },
     "execution_count": 44,
     "metadata": {},
     "output_type": "execute_result"
    },
    {
     "data": {
      "image/png": "[encoded data removed]",
      "text/plain": [
       "<Figure size 432x288 with 1 Axes>"
      ]
     },
     "metadata": {
      "needs_background": "light"
     },
     "output_type": "display_data"
    }
   ],
   "source": [
    "# Calculate and plot the cumulative returns for the `actual_returns` and the `trading_algorithm_returns`\n",
    "(1 + predictions_df[['actual_returns', 'trading_algorithm_returns']]).cumprod().plot()"
   ]
  },
  {
   "cell_type": "code",
   "execution_count": null,
   "id": "3d53a485-69f7-43d3-b26f-c0fce46b15a5",
   "metadata": {},
   "outputs": [],
   "source": []
  },
  {
   "cell_type": "code",
   "execution_count": null,
   "id": "53426268-e660-4993-bceb-4317784e8654",
   "metadata": {},
   "outputs": [],
   "source": []
  },
  {
   "cell_type": "code",
   "execution_count": 52,
   "id": "d1bd9d64-4053-4974-b8e3-5fa7338ef567",
   "metadata": {},
   "outputs": [],
   "source": [
    "# get the sentiment for the day\n",
    "prefix='btc'  # used for creating file name\n",
    "coin_ticker='BTC-USD'\n",
    "source = 'twitter'      # for augmento\n",
    "\n",
    "coin = 'bitcoin'       # used in Augmento \n",
    "num_of_periods = 100   # 1000 days  usedin Augmento\n",
    "bin_size='24H'          #default bin size for Augmento\n",
    "\n",
    "# used by Augmento and Yahoo Finance Apis\n",
    "start=\"2022-06-04T00:00:00Z\"\n",
    "end =\"2022-06-06T00:00:00Z\""
   ]
  },
  {
   "cell_type": "code",
   "execution_count": 53,
   "id": "7643690a-6f4b-4779-b96d-9ee366777589",
   "metadata": {},
   "outputs": [],
   "source": [
    "# Get sentiment from twitter/ reddit data obtained from augmento site \n",
    "sentiment_df_1 = tl.get_crypto_sentiment_from_augmento(source, coin, num_of_periods, start, end, bin_size)"
   ]
  },
  {
   "cell_type": "code",
   "execution_count": 54,
   "id": "353e30e7-3379-4038-8d86-f5a1f3387dcf",
   "metadata": {
    "tags": []
   },
   "outputs": [
    {
     "data": {
      "text/html": [
       "<div>\n",
       "<style scoped>\n",
       "    .dataframe tbody tr th:only-of-type {\n",
       "        vertical-align: middle;\n",
       "    }\n",
       "\n",
       "    .dataframe tbody tr th {\n",
       "        vertical-align: top;\n",
       "    }\n",
       "\n",
       "    .dataframe thead th {\n",
       "        text-align: right;\n",
       "    }\n",
       "</style>\n",
       "<table border=\"1\" class=\"dataframe\">\n",
       "  <thead>\n",
       "    <tr style=\"text-align: right;\">\n",
       "      <th></th>\n",
       "      <th>FOMO</th>\n",
       "      <th>Uncertain</th>\n",
       "      <th>Hopeful</th>\n",
       "      <th>Bearish</th>\n",
       "      <th>Pessimistic/Doubtful</th>\n",
       "      <th>Sad</th>\n",
       "      <th>Fearful/Concerned</th>\n",
       "      <th>Angry</th>\n",
       "      <th>Mistrustful</th>\n",
       "      <th>Panicking</th>\n",
       "      <th>Annoyed/Frustrated</th>\n",
       "      <th>Bullish</th>\n",
       "      <th>Optimistic</th>\n",
       "      <th>Happy</th>\n",
       "      <th>Euphoric/Excited</th>\n",
       "    </tr>\n",
       "    <tr>\n",
       "      <th>Date</th>\n",
       "      <th></th>\n",
       "      <th></th>\n",
       "      <th></th>\n",
       "      <th></th>\n",
       "      <th></th>\n",
       "      <th></th>\n",
       "      <th></th>\n",
       "      <th></th>\n",
       "      <th></th>\n",
       "      <th></th>\n",
       "      <th></th>\n",
       "      <th></th>\n",
       "      <th></th>\n",
       "      <th></th>\n",
       "      <th></th>\n",
       "    </tr>\n",
       "  </thead>\n",
       "  <tbody>\n",
       "    <tr>\n",
       "      <th>2022-06-04</th>\n",
       "      <td>2.0</td>\n",
       "      <td>28.0</td>\n",
       "      <td>5.0</td>\n",
       "      <td>47.0</td>\n",
       "      <td>8.0</td>\n",
       "      <td>4.0</td>\n",
       "      <td>4.0</td>\n",
       "      <td>5.0</td>\n",
       "      <td>0.0</td>\n",
       "      <td>1.0</td>\n",
       "      <td>0.0</td>\n",
       "      <td>45.0</td>\n",
       "      <td>25.0</td>\n",
       "      <td>1.0</td>\n",
       "      <td>15.0</td>\n",
       "    </tr>\n",
       "    <tr>\n",
       "      <th>2022-06-05</th>\n",
       "      <td>6.0</td>\n",
       "      <td>32.0</td>\n",
       "      <td>8.0</td>\n",
       "      <td>43.0</td>\n",
       "      <td>10.0</td>\n",
       "      <td>1.0</td>\n",
       "      <td>5.0</td>\n",
       "      <td>1.0</td>\n",
       "      <td>0.0</td>\n",
       "      <td>1.0</td>\n",
       "      <td>1.0</td>\n",
       "      <td>74.0</td>\n",
       "      <td>32.0</td>\n",
       "      <td>3.0</td>\n",
       "      <td>11.0</td>\n",
       "    </tr>\n",
       "  </tbody>\n",
       "</table>\n",
       "</div>"
      ],
      "text/plain": [
       "            FOMO  Uncertain  Hopeful  Bearish  Pessimistic/Doubtful  Sad  \\\n",
       "Date                                                                       \n",
       "2022-06-04   2.0       28.0      5.0     47.0                   8.0  4.0   \n",
       "2022-06-05   6.0       32.0      8.0     43.0                  10.0  1.0   \n",
       "\n",
       "            Fearful/Concerned  Angry  Mistrustful  Panicking  \\\n",
       "Date                                                           \n",
       "2022-06-04                4.0    5.0          0.0        1.0   \n",
       "2022-06-05                5.0    1.0          0.0        1.0   \n",
       "\n",
       "            Annoyed/Frustrated  Bullish  Optimistic  Happy  Euphoric/Excited  \n",
       "Date                                                                          \n",
       "2022-06-04                 0.0     45.0        25.0    1.0              15.0  \n",
       "2022-06-05                 1.0     74.0        32.0    3.0              11.0  "
      ]
     },
     "execution_count": 54,
     "metadata": {},
     "output_type": "execute_result"
    }
   ],
   "source": [
    "sentiment_df_1.head()"
   ]
  },
  {
   "cell_type": "code",
   "execution_count": 55,
   "id": "4b4376fd-d545-43f8-9d4a-f5bf8295f13b",
   "metadata": {},
   "outputs": [
    {
     "data": {
      "text/html": [
       "<div>\n",
       "<style scoped>\n",
       "    .dataframe tbody tr th:only-of-type {\n",
       "        vertical-align: middle;\n",
       "    }\n",
       "\n",
       "    .dataframe tbody tr th {\n",
       "        vertical-align: top;\n",
       "    }\n",
       "\n",
       "    .dataframe thead th {\n",
       "        text-align: right;\n",
       "    }\n",
       "</style>\n",
       "<table border=\"1\" class=\"dataframe\">\n",
       "  <thead>\n",
       "    <tr style=\"text-align: right;\">\n",
       "      <th></th>\n",
       "      <th>FOMO</th>\n",
       "      <th>Uncertain</th>\n",
       "      <th>Hopeful</th>\n",
       "      <th>Bearish</th>\n",
       "      <th>Pessimistic/Doubtful</th>\n",
       "      <th>Sad</th>\n",
       "      <th>Fearful/Concerned</th>\n",
       "      <th>Angry</th>\n",
       "      <th>Mistrustful</th>\n",
       "      <th>Panicking</th>\n",
       "      <th>Annoyed/Frustrated</th>\n",
       "      <th>Bullish</th>\n",
       "      <th>Optimistic</th>\n",
       "      <th>Happy</th>\n",
       "      <th>Euphoric/Excited</th>\n",
       "      <th>Senti_Sum</th>\n",
       "    </tr>\n",
       "    <tr>\n",
       "      <th>Date</th>\n",
       "      <th></th>\n",
       "      <th></th>\n",
       "      <th></th>\n",
       "      <th></th>\n",
       "      <th></th>\n",
       "      <th></th>\n",
       "      <th></th>\n",
       "      <th></th>\n",
       "      <th></th>\n",
       "      <th></th>\n",
       "      <th></th>\n",
       "      <th></th>\n",
       "      <th></th>\n",
       "      <th></th>\n",
       "      <th></th>\n",
       "      <th></th>\n",
       "    </tr>\n",
       "  </thead>\n",
       "  <tbody>\n",
       "    <tr>\n",
       "      <th>2022-06-04</th>\n",
       "      <td>2.0</td>\n",
       "      <td>28.0</td>\n",
       "      <td>5.0</td>\n",
       "      <td>47.0</td>\n",
       "      <td>8.0</td>\n",
       "      <td>4.0</td>\n",
       "      <td>4.0</td>\n",
       "      <td>5.0</td>\n",
       "      <td>0.0</td>\n",
       "      <td>1.0</td>\n",
       "      <td>0.0</td>\n",
       "      <td>45.0</td>\n",
       "      <td>25.0</td>\n",
       "      <td>1.0</td>\n",
       "      <td>15.0</td>\n",
       "      <td>190.0</td>\n",
       "    </tr>\n",
       "    <tr>\n",
       "      <th>2022-06-05</th>\n",
       "      <td>6.0</td>\n",
       "      <td>32.0</td>\n",
       "      <td>8.0</td>\n",
       "      <td>43.0</td>\n",
       "      <td>10.0</td>\n",
       "      <td>1.0</td>\n",
       "      <td>5.0</td>\n",
       "      <td>1.0</td>\n",
       "      <td>0.0</td>\n",
       "      <td>1.0</td>\n",
       "      <td>1.0</td>\n",
       "      <td>74.0</td>\n",
       "      <td>32.0</td>\n",
       "      <td>3.0</td>\n",
       "      <td>11.0</td>\n",
       "      <td>228.0</td>\n",
       "    </tr>\n",
       "  </tbody>\n",
       "</table>\n",
       "</div>"
      ],
      "text/plain": [
       "            FOMO  Uncertain  Hopeful  Bearish  Pessimistic/Doubtful  Sad  \\\n",
       "Date                                                                       \n",
       "2022-06-04   2.0       28.0      5.0     47.0                   8.0  4.0   \n",
       "2022-06-05   6.0       32.0      8.0     43.0                  10.0  1.0   \n",
       "\n",
       "            Fearful/Concerned  Angry  Mistrustful  Panicking  \\\n",
       "Date                                                           \n",
       "2022-06-04                4.0    5.0          0.0        1.0   \n",
       "2022-06-05                5.0    1.0          0.0        1.0   \n",
       "\n",
       "            Annoyed/Frustrated  Bullish  Optimistic  Happy  Euphoric/Excited  \\\n",
       "Date                                                                           \n",
       "2022-06-04                 0.0     45.0        25.0    1.0              15.0   \n",
       "2022-06-05                 1.0     74.0        32.0    3.0              11.0   \n",
       "\n",
       "            Senti_Sum  \n",
       "Date                   \n",
       "2022-06-04      190.0  \n",
       "2022-06-05      228.0  "
      ]
     },
     "execution_count": 55,
     "metadata": {},
     "output_type": "execute_result"
    }
   ],
   "source": [
    "# get the sum of the sentiment data for the day\n",
    "sentiment_df_1['Senti_Sum'] = sentiment_df_1.sum(axis=1)\n",
    "sentiment_df_1"
   ]
  },
  {
   "cell_type": "code",
   "execution_count": 56,
   "id": "917d5bde-4128-4019-8bbd-0866c761f1d8",
   "metadata": {},
   "outputs": [],
   "source": [
    "bearish=sentiment_df_1[[ 'Bearish', 'Pessimistic/Doubtful', 'Sad', 'Fearful/Concerned', 'Angry', 'Mistrustful', 'Panicking', 'Annoyed/Frustrated']]\n",
    "bullish=sentiment_df_1[[ 'Hopeful','Bullish', 'Optimistic', 'Happy', 'Euphoric/Excited']]"
   ]
  },
  {
   "cell_type": "code",
   "execution_count": 57,
   "id": "27d6aaea-fd32-4616-910a-a3161cf77349",
   "metadata": {},
   "outputs": [
    {
     "data": {
      "text/html": [
       "<div>\n",
       "<style scoped>\n",
       "    .dataframe tbody tr th:only-of-type {\n",
       "        vertical-align: middle;\n",
       "    }\n",
       "\n",
       "    .dataframe tbody tr th {\n",
       "        vertical-align: top;\n",
       "    }\n",
       "\n",
       "    .dataframe thead th {\n",
       "        text-align: right;\n",
       "    }\n",
       "</style>\n",
       "<table border=\"1\" class=\"dataframe\">\n",
       "  <thead>\n",
       "    <tr style=\"text-align: right;\">\n",
       "      <th></th>\n",
       "      <th>Bearish</th>\n",
       "      <th>Pessimistic/Doubtful</th>\n",
       "      <th>Sad</th>\n",
       "      <th>Fearful/Concerned</th>\n",
       "      <th>Angry</th>\n",
       "      <th>Mistrustful</th>\n",
       "      <th>Panicking</th>\n",
       "      <th>Annoyed/Frustrated</th>\n",
       "    </tr>\n",
       "    <tr>\n",
       "      <th>Date</th>\n",
       "      <th></th>\n",
       "      <th></th>\n",
       "      <th></th>\n",
       "      <th></th>\n",
       "      <th></th>\n",
       "      <th></th>\n",
       "      <th></th>\n",
       "      <th></th>\n",
       "    </tr>\n",
       "  </thead>\n",
       "  <tbody>\n",
       "    <tr>\n",
       "      <th>2022-06-04</th>\n",
       "      <td>47.0</td>\n",
       "      <td>8.0</td>\n",
       "      <td>4.0</td>\n",
       "      <td>4.0</td>\n",
       "      <td>5.0</td>\n",
       "      <td>0.0</td>\n",
       "      <td>1.0</td>\n",
       "      <td>0.0</td>\n",
       "    </tr>\n",
       "    <tr>\n",
       "      <th>2022-06-05</th>\n",
       "      <td>43.0</td>\n",
       "      <td>10.0</td>\n",
       "      <td>1.0</td>\n",
       "      <td>5.0</td>\n",
       "      <td>1.0</td>\n",
       "      <td>0.0</td>\n",
       "      <td>1.0</td>\n",
       "      <td>1.0</td>\n",
       "    </tr>\n",
       "  </tbody>\n",
       "</table>\n",
       "</div>"
      ],
      "text/plain": [
       "            Bearish  Pessimistic/Doubtful  Sad  Fearful/Concerned  Angry  \\\n",
       "Date                                                                       \n",
       "2022-06-04     47.0                   8.0  4.0                4.0    5.0   \n",
       "2022-06-05     43.0                  10.0  1.0                5.0    1.0   \n",
       "\n",
       "            Mistrustful  Panicking  Annoyed/Frustrated  \n",
       "Date                                                    \n",
       "2022-06-04          0.0        1.0                 0.0  \n",
       "2022-06-05          0.0        1.0                 1.0  "
      ]
     },
     "metadata": {},
     "output_type": "display_data"
    },
    {
     "data": {
      "text/html": [
       "<div>\n",
       "<style scoped>\n",
       "    .dataframe tbody tr th:only-of-type {\n",
       "        vertical-align: middle;\n",
       "    }\n",
       "\n",
       "    .dataframe tbody tr th {\n",
       "        vertical-align: top;\n",
       "    }\n",
       "\n",
       "    .dataframe thead th {\n",
       "        text-align: right;\n",
       "    }\n",
       "</style>\n",
       "<table border=\"1\" class=\"dataframe\">\n",
       "  <thead>\n",
       "    <tr style=\"text-align: right;\">\n",
       "      <th></th>\n",
       "      <th>Hopeful</th>\n",
       "      <th>Bullish</th>\n",
       "      <th>Optimistic</th>\n",
       "      <th>Happy</th>\n",
       "      <th>Euphoric/Excited</th>\n",
       "    </tr>\n",
       "    <tr>\n",
       "      <th>Date</th>\n",
       "      <th></th>\n",
       "      <th></th>\n",
       "      <th></th>\n",
       "      <th></th>\n",
       "      <th></th>\n",
       "    </tr>\n",
       "  </thead>\n",
       "  <tbody>\n",
       "    <tr>\n",
       "      <th>2022-06-04</th>\n",
       "      <td>5.0</td>\n",
       "      <td>45.0</td>\n",
       "      <td>25.0</td>\n",
       "      <td>1.0</td>\n",
       "      <td>15.0</td>\n",
       "    </tr>\n",
       "    <tr>\n",
       "      <th>2022-06-05</th>\n",
       "      <td>8.0</td>\n",
       "      <td>74.0</td>\n",
       "      <td>32.0</td>\n",
       "      <td>3.0</td>\n",
       "      <td>11.0</td>\n",
       "    </tr>\n",
       "  </tbody>\n",
       "</table>\n",
       "</div>"
      ],
      "text/plain": [
       "            Hopeful  Bullish  Optimistic  Happy  Euphoric/Excited\n",
       "Date                                                             \n",
       "2022-06-04      5.0     45.0        25.0    1.0              15.0\n",
       "2022-06-05      8.0     74.0        32.0    3.0              11.0"
      ]
     },
     "metadata": {},
     "output_type": "display_data"
    }
   ],
   "source": [
    "display(bearish)\n",
    "display(bullish)"
   ]
  },
  {
   "cell_type": "code",
   "execution_count": 58,
   "id": "c81fb8e4-2d34-4e40-8866-8a9df6614f8a",
   "metadata": {},
   "outputs": [
    {
     "name": "stderr",
     "output_type": "stream",
     "text": [
      "C:\\Users\\kraso\\AppData\\Local\\Temp\\ipykernel_10616\\729990496.py:1: SettingWithCopyWarning:\n",
      "\n",
      "\n",
      "A value is trying to be set on a copy of a slice from a DataFrame.\n",
      "Try using .loc[row_indexer,col_indexer] = value instead\n",
      "\n",
      "See the caveats in the documentation: https://pandas.pydata.org/pandas-docs/stable/user_guide/indexing.html#returning-a-view-versus-a-copy\n",
      "\n",
      "C:\\Users\\kraso\\AppData\\Local\\Temp\\ipykernel_10616\\729990496.py:2: SettingWithCopyWarning:\n",
      "\n",
      "\n",
      "A value is trying to be set on a copy of a slice from a DataFrame.\n",
      "Try using .loc[row_indexer,col_indexer] = value instead\n",
      "\n",
      "See the caveats in the documentation: https://pandas.pydata.org/pandas-docs/stable/user_guide/indexing.html#returning-a-view-versus-a-copy\n",
      "\n"
     ]
    }
   ],
   "source": [
    "bearish['Bear_sum'] = bearish.sum(axis=1)\n",
    "bullish['Bull_sum']=bullish.sum(axis=1)"
   ]
  },
  {
   "cell_type": "code",
   "execution_count": 59,
   "id": "7eb8edf7-0a5a-48be-991b-2405d4faa03f",
   "metadata": {},
   "outputs": [
    {
     "data": {
      "text/html": [
       "<div>\n",
       "<style scoped>\n",
       "    .dataframe tbody tr th:only-of-type {\n",
       "        vertical-align: middle;\n",
       "    }\n",
       "\n",
       "    .dataframe tbody tr th {\n",
       "        vertical-align: top;\n",
       "    }\n",
       "\n",
       "    .dataframe thead th {\n",
       "        text-align: right;\n",
       "    }\n",
       "</style>\n",
       "<table border=\"1\" class=\"dataframe\">\n",
       "  <thead>\n",
       "    <tr style=\"text-align: right;\">\n",
       "      <th></th>\n",
       "      <th>Bearish</th>\n",
       "      <th>Pessimistic/Doubtful</th>\n",
       "      <th>Sad</th>\n",
       "      <th>Fearful/Concerned</th>\n",
       "      <th>Angry</th>\n",
       "      <th>Mistrustful</th>\n",
       "      <th>Panicking</th>\n",
       "      <th>Annoyed/Frustrated</th>\n",
       "      <th>Bear_sum</th>\n",
       "    </tr>\n",
       "    <tr>\n",
       "      <th>Date</th>\n",
       "      <th></th>\n",
       "      <th></th>\n",
       "      <th></th>\n",
       "      <th></th>\n",
       "      <th></th>\n",
       "      <th></th>\n",
       "      <th></th>\n",
       "      <th></th>\n",
       "      <th></th>\n",
       "    </tr>\n",
       "  </thead>\n",
       "  <tbody>\n",
       "    <tr>\n",
       "      <th>2022-06-04</th>\n",
       "      <td>47.0</td>\n",
       "      <td>8.0</td>\n",
       "      <td>4.0</td>\n",
       "      <td>4.0</td>\n",
       "      <td>5.0</td>\n",
       "      <td>0.0</td>\n",
       "      <td>1.0</td>\n",
       "      <td>0.0</td>\n",
       "      <td>69.0</td>\n",
       "    </tr>\n",
       "    <tr>\n",
       "      <th>2022-06-05</th>\n",
       "      <td>43.0</td>\n",
       "      <td>10.0</td>\n",
       "      <td>1.0</td>\n",
       "      <td>5.0</td>\n",
       "      <td>1.0</td>\n",
       "      <td>0.0</td>\n",
       "      <td>1.0</td>\n",
       "      <td>1.0</td>\n",
       "      <td>62.0</td>\n",
       "    </tr>\n",
       "  </tbody>\n",
       "</table>\n",
       "</div>"
      ],
      "text/plain": [
       "            Bearish  Pessimistic/Doubtful  Sad  Fearful/Concerned  Angry  \\\n",
       "Date                                                                       \n",
       "2022-06-04     47.0                   8.0  4.0                4.0    5.0   \n",
       "2022-06-05     43.0                  10.0  1.0                5.0    1.0   \n",
       "\n",
       "            Mistrustful  Panicking  Annoyed/Frustrated  Bear_sum  \n",
       "Date                                                              \n",
       "2022-06-04          0.0        1.0                 0.0      69.0  \n",
       "2022-06-05          0.0        1.0                 1.0      62.0  "
      ]
     },
     "execution_count": 59,
     "metadata": {},
     "output_type": "execute_result"
    }
   ],
   "source": [
    "bearish"
   ]
  },
  {
   "cell_type": "code",
   "execution_count": 84,
   "id": "16775d26-2a08-4d84-ab57-0a2d8631587f",
   "metadata": {},
   "outputs": [],
   "source": [
    "sentiment_df_1['Bear_sum'] = bearish['Bear_sum']\n",
    "sentiment_df_1['Bull_sum'] = bullish['Bull_sum']"
   ]
  },
  {
   "cell_type": "code",
   "execution_count": 85,
   "id": "6662f330-d795-4d08-bb46-17e79a27eb20",
   "metadata": {},
   "outputs": [
    {
     "data": {
      "text/html": [
       "<div>\n",
       "<style scoped>\n",
       "    .dataframe tbody tr th:only-of-type {\n",
       "        vertical-align: middle;\n",
       "    }\n",
       "\n",
       "    .dataframe tbody tr th {\n",
       "        vertical-align: top;\n",
       "    }\n",
       "\n",
       "    .dataframe thead th {\n",
       "        text-align: right;\n",
       "    }\n",
       "</style>\n",
       "<table border=\"1\" class=\"dataframe\">\n",
       "  <thead>\n",
       "    <tr style=\"text-align: right;\">\n",
       "      <th></th>\n",
       "      <th>FOMO</th>\n",
       "      <th>Uncertain</th>\n",
       "      <th>Hopeful</th>\n",
       "      <th>Bearish</th>\n",
       "      <th>Pessimistic/Doubtful</th>\n",
       "      <th>Sad</th>\n",
       "      <th>Fearful/Concerned</th>\n",
       "      <th>Angry</th>\n",
       "      <th>Mistrustful</th>\n",
       "      <th>Panicking</th>\n",
       "      <th>Annoyed/Frustrated</th>\n",
       "      <th>Bullish</th>\n",
       "      <th>Optimistic</th>\n",
       "      <th>Happy</th>\n",
       "      <th>Euphoric/Excited</th>\n",
       "      <th>Senti_Sum</th>\n",
       "      <th>Bear_sum</th>\n",
       "      <th>Bull_sum</th>\n",
       "    </tr>\n",
       "    <tr>\n",
       "      <th>Date</th>\n",
       "      <th></th>\n",
       "      <th></th>\n",
       "      <th></th>\n",
       "      <th></th>\n",
       "      <th></th>\n",
       "      <th></th>\n",
       "      <th></th>\n",
       "      <th></th>\n",
       "      <th></th>\n",
       "      <th></th>\n",
       "      <th></th>\n",
       "      <th></th>\n",
       "      <th></th>\n",
       "      <th></th>\n",
       "      <th></th>\n",
       "      <th></th>\n",
       "      <th></th>\n",
       "      <th></th>\n",
       "    </tr>\n",
       "  </thead>\n",
       "  <tbody>\n",
       "    <tr>\n",
       "      <th>2022-06-04</th>\n",
       "      <td>2.0</td>\n",
       "      <td>28.0</td>\n",
       "      <td>5.0</td>\n",
       "      <td>47.0</td>\n",
       "      <td>8.0</td>\n",
       "      <td>4.0</td>\n",
       "      <td>4.0</td>\n",
       "      <td>5.0</td>\n",
       "      <td>0.0</td>\n",
       "      <td>1.0</td>\n",
       "      <td>0.0</td>\n",
       "      <td>45.0</td>\n",
       "      <td>25.0</td>\n",
       "      <td>1.0</td>\n",
       "      <td>15.0</td>\n",
       "      <td>190.0</td>\n",
       "      <td>69.0</td>\n",
       "      <td>91.0</td>\n",
       "    </tr>\n",
       "    <tr>\n",
       "      <th>2022-06-05</th>\n",
       "      <td>6.0</td>\n",
       "      <td>32.0</td>\n",
       "      <td>8.0</td>\n",
       "      <td>43.0</td>\n",
       "      <td>10.0</td>\n",
       "      <td>1.0</td>\n",
       "      <td>5.0</td>\n",
       "      <td>1.0</td>\n",
       "      <td>0.0</td>\n",
       "      <td>1.0</td>\n",
       "      <td>1.0</td>\n",
       "      <td>74.0</td>\n",
       "      <td>32.0</td>\n",
       "      <td>3.0</td>\n",
       "      <td>11.0</td>\n",
       "      <td>228.0</td>\n",
       "      <td>62.0</td>\n",
       "      <td>128.0</td>\n",
       "    </tr>\n",
       "  </tbody>\n",
       "</table>\n",
       "</div>"
      ],
      "text/plain": [
       "            FOMO  Uncertain  Hopeful  Bearish  Pessimistic/Doubtful  Sad  \\\n",
       "Date                                                                       \n",
       "2022-06-04   2.0       28.0      5.0     47.0                   8.0  4.0   \n",
       "2022-06-05   6.0       32.0      8.0     43.0                  10.0  1.0   \n",
       "\n",
       "            Fearful/Concerned  Angry  Mistrustful  Panicking  \\\n",
       "Date                                                           \n",
       "2022-06-04                4.0    5.0          0.0        1.0   \n",
       "2022-06-05                5.0    1.0          0.0        1.0   \n",
       "\n",
       "            Annoyed/Frustrated  Bullish  Optimistic  Happy  Euphoric/Excited  \\\n",
       "Date                                                                           \n",
       "2022-06-04                 0.0     45.0        25.0    1.0              15.0   \n",
       "2022-06-05                 1.0     74.0        32.0    3.0              11.0   \n",
       "\n",
       "            Senti_Sum  Bear_sum  Bull_sum  \n",
       "Date                                       \n",
       "2022-06-04      190.0      69.0      91.0  \n",
       "2022-06-05      228.0      62.0     128.0  "
      ]
     },
     "execution_count": 85,
     "metadata": {},
     "output_type": "execute_result"
    }
   ],
   "source": [
    "sentiment_df_1"
   ]
  },
  {
   "cell_type": "code",
   "execution_count": 86,
   "id": "3cf218ab-31f6-467e-bd58-5017ca882ee8",
   "metadata": {},
   "outputs": [
    {
     "data": {
      "text/html": [
       "<div>\n",
       "<style scoped>\n",
       "    .dataframe tbody tr th:only-of-type {\n",
       "        vertical-align: middle;\n",
       "    }\n",
       "\n",
       "    .dataframe tbody tr th {\n",
       "        vertical-align: top;\n",
       "    }\n",
       "\n",
       "    .dataframe thead th {\n",
       "        text-align: right;\n",
       "    }\n",
       "</style>\n",
       "<table border=\"1\" class=\"dataframe\">\n",
       "  <thead>\n",
       "    <tr style=\"text-align: right;\">\n",
       "      <th></th>\n",
       "      <th>FOMO</th>\n",
       "      <th>Uncertain</th>\n",
       "      <th>Hopeful</th>\n",
       "      <th>Bearish</th>\n",
       "      <th>Pessimistic/Doubtful</th>\n",
       "      <th>Sad</th>\n",
       "      <th>Fearful/Concerned</th>\n",
       "      <th>Angry</th>\n",
       "      <th>Mistrustful</th>\n",
       "      <th>Panicking</th>\n",
       "      <th>Annoyed/Frustrated</th>\n",
       "      <th>Bullish</th>\n",
       "      <th>Optimistic</th>\n",
       "      <th>Happy</th>\n",
       "      <th>Euphoric/Excited</th>\n",
       "      <th>Senti_Sum</th>\n",
       "      <th>Bear_sum</th>\n",
       "      <th>Bull_sum</th>\n",
       "      <th>Day_Sent</th>\n",
       "    </tr>\n",
       "    <tr>\n",
       "      <th>Date</th>\n",
       "      <th></th>\n",
       "      <th></th>\n",
       "      <th></th>\n",
       "      <th></th>\n",
       "      <th></th>\n",
       "      <th></th>\n",
       "      <th></th>\n",
       "      <th></th>\n",
       "      <th></th>\n",
       "      <th></th>\n",
       "      <th></th>\n",
       "      <th></th>\n",
       "      <th></th>\n",
       "      <th></th>\n",
       "      <th></th>\n",
       "      <th></th>\n",
       "      <th></th>\n",
       "      <th></th>\n",
       "      <th></th>\n",
       "    </tr>\n",
       "  </thead>\n",
       "  <tbody>\n",
       "    <tr>\n",
       "      <th>2022-06-04</th>\n",
       "      <td>2.0</td>\n",
       "      <td>28.0</td>\n",
       "      <td>5.0</td>\n",
       "      <td>47.0</td>\n",
       "      <td>8.0</td>\n",
       "      <td>4.0</td>\n",
       "      <td>4.0</td>\n",
       "      <td>5.0</td>\n",
       "      <td>0.0</td>\n",
       "      <td>1.0</td>\n",
       "      <td>0.0</td>\n",
       "      <td>45.0</td>\n",
       "      <td>25.0</td>\n",
       "      <td>1.0</td>\n",
       "      <td>15.0</td>\n",
       "      <td>190.0</td>\n",
       "      <td>69.0</td>\n",
       "      <td>91.0</td>\n",
       "      <td>22.0</td>\n",
       "    </tr>\n",
       "    <tr>\n",
       "      <th>2022-06-05</th>\n",
       "      <td>6.0</td>\n",
       "      <td>32.0</td>\n",
       "      <td>8.0</td>\n",
       "      <td>43.0</td>\n",
       "      <td>10.0</td>\n",
       "      <td>1.0</td>\n",
       "      <td>5.0</td>\n",
       "      <td>1.0</td>\n",
       "      <td>0.0</td>\n",
       "      <td>1.0</td>\n",
       "      <td>1.0</td>\n",
       "      <td>74.0</td>\n",
       "      <td>32.0</td>\n",
       "      <td>3.0</td>\n",
       "      <td>11.0</td>\n",
       "      <td>228.0</td>\n",
       "      <td>62.0</td>\n",
       "      <td>128.0</td>\n",
       "      <td>66.0</td>\n",
       "    </tr>\n",
       "  </tbody>\n",
       "</table>\n",
       "</div>"
      ],
      "text/plain": [
       "            FOMO  Uncertain  Hopeful  Bearish  Pessimistic/Doubtful  Sad  \\\n",
       "Date                                                                       \n",
       "2022-06-04   2.0       28.0      5.0     47.0                   8.0  4.0   \n",
       "2022-06-05   6.0       32.0      8.0     43.0                  10.0  1.0   \n",
       "\n",
       "            Fearful/Concerned  Angry  Mistrustful  Panicking  \\\n",
       "Date                                                           \n",
       "2022-06-04                4.0    5.0          0.0        1.0   \n",
       "2022-06-05                5.0    1.0          0.0        1.0   \n",
       "\n",
       "            Annoyed/Frustrated  Bullish  Optimistic  Happy  Euphoric/Excited  \\\n",
       "Date                                                                           \n",
       "2022-06-04                 0.0     45.0        25.0    1.0              15.0   \n",
       "2022-06-05                 1.0     74.0        32.0    3.0              11.0   \n",
       "\n",
       "            Senti_Sum  Bear_sum  Bull_sum  Day_Sent  \n",
       "Date                                                 \n",
       "2022-06-04      190.0      69.0      91.0      22.0  \n",
       "2022-06-05      228.0      62.0     128.0      66.0  "
      ]
     },
     "execution_count": 86,
     "metadata": {},
     "output_type": "execute_result"
    }
   ],
   "source": [
    "#sentiment_of_the_day = sum of all bullish -  sum of all bearish\n",
    "sentiment_df_1['Day_Sent'] = sentiment_df_1['Bull_sum'] - sentiment_df_1['Bear_sum']\n",
    "\n",
    "sentiment_df_1"
   ]
  },
  {
   "cell_type": "code",
   "execution_count": 87,
   "id": "4c6c5151-0194-4004-884b-e4606cf4831c",
   "metadata": {},
   "outputs": [],
   "source": [
    "# get the coin price for the day\n",
    "df_coin= ld.load_from_yahoo([coin_ticker], start,end)"
   ]
  },
  {
   "cell_type": "code",
   "execution_count": 88,
   "id": "647ef5bd-cb58-464a-b254-8a49437149de",
   "metadata": {},
   "outputs": [
    {
     "data": {
      "text/html": [
       "<div>\n",
       "<style scoped>\n",
       "    .dataframe tbody tr th:only-of-type {\n",
       "        vertical-align: middle;\n",
       "    }\n",
       "\n",
       "    .dataframe tbody tr th {\n",
       "        vertical-align: top;\n",
       "    }\n",
       "\n",
       "    .dataframe thead tr th {\n",
       "        text-align: left;\n",
       "    }\n",
       "\n",
       "    .dataframe thead tr:last-of-type th {\n",
       "        text-align: right;\n",
       "    }\n",
       "</style>\n",
       "<table border=\"1\" class=\"dataframe\">\n",
       "  <thead>\n",
       "    <tr>\n",
       "      <th></th>\n",
       "      <th colspan=\"6\" halign=\"left\">BTC-USD</th>\n",
       "    </tr>\n",
       "    <tr>\n",
       "      <th></th>\n",
       "      <th>high</th>\n",
       "      <th>low</th>\n",
       "      <th>open</th>\n",
       "      <th>close</th>\n",
       "      <th>volume</th>\n",
       "      <th>adj close</th>\n",
       "    </tr>\n",
       "    <tr>\n",
       "      <th>Date</th>\n",
       "      <th></th>\n",
       "      <th></th>\n",
       "      <th></th>\n",
       "      <th></th>\n",
       "      <th></th>\n",
       "      <th></th>\n",
       "    </tr>\n",
       "  </thead>\n",
       "  <tbody>\n",
       "    <tr>\n",
       "      <th>2022-06-04</th>\n",
       "      <td>29930.564453</td>\n",
       "      <td>29500.005859</td>\n",
       "      <td>29706.138672</td>\n",
       "      <td>29832.914062</td>\n",
       "      <td>16588370958</td>\n",
       "      <td>29832.914062</td>\n",
       "    </tr>\n",
       "    <tr>\n",
       "      <th>2022-06-05</th>\n",
       "      <td>30117.744141</td>\n",
       "      <td>29574.449219</td>\n",
       "      <td>29835.117188</td>\n",
       "      <td>29906.662109</td>\n",
       "      <td>17264085441</td>\n",
       "      <td>29906.662109</td>\n",
       "    </tr>\n",
       "    <tr>\n",
       "      <th>2022-06-06</th>\n",
       "      <td>31693.291016</td>\n",
       "      <td>29894.187500</td>\n",
       "      <td>29910.283203</td>\n",
       "      <td>31370.671875</td>\n",
       "      <td>31947336829</td>\n",
       "      <td>31370.671875</td>\n",
       "    </tr>\n",
       "    <tr>\n",
       "      <th>2022-06-07</th>\n",
       "      <td>31489.683594</td>\n",
       "      <td>29311.683594</td>\n",
       "      <td>31371.742188</td>\n",
       "      <td>31155.478516</td>\n",
       "      <td>40770974039</td>\n",
       "      <td>31155.478516</td>\n",
       "    </tr>\n",
       "  </tbody>\n",
       "</table>\n",
       "</div>"
      ],
      "text/plain": [
       "                 BTC-USD                                            \\\n",
       "                    high           low          open         close   \n",
       "Date                                                                 \n",
       "2022-06-04  29930.564453  29500.005859  29706.138672  29832.914062   \n",
       "2022-06-05  30117.744141  29574.449219  29835.117188  29906.662109   \n",
       "2022-06-06  31693.291016  29894.187500  29910.283203  31370.671875   \n",
       "2022-06-07  31489.683594  29311.683594  31371.742188  31155.478516   \n",
       "\n",
       "                                       \n",
       "                 volume     adj close  \n",
       "Date                                   \n",
       "2022-06-04  16588370958  29832.914062  \n",
       "2022-06-05  17264085441  29906.662109  \n",
       "2022-06-06  31947336829  31370.671875  \n",
       "2022-06-07  40770974039  31155.478516  "
      ]
     },
     "execution_count": 88,
     "metadata": {},
     "output_type": "execute_result"
    }
   ],
   "source": [
    "# review the df\n",
    "df_coin\n"
   ]
  },
  {
   "cell_type": "code",
   "execution_count": 89,
   "id": "f66f12ca-ce6b-4b24-925b-184374a05515",
   "metadata": {},
   "outputs": [
    {
     "data": {
      "text/html": [
       "<div>\n",
       "<style scoped>\n",
       "    .dataframe tbody tr th:only-of-type {\n",
       "        vertical-align: middle;\n",
       "    }\n",
       "\n",
       "    .dataframe tbody tr th {\n",
       "        vertical-align: top;\n",
       "    }\n",
       "\n",
       "    .dataframe thead th {\n",
       "        text-align: right;\n",
       "    }\n",
       "</style>\n",
       "<table border=\"1\" class=\"dataframe\">\n",
       "  <thead>\n",
       "    <tr style=\"text-align: right;\">\n",
       "      <th></th>\n",
       "      <th>FOMO</th>\n",
       "      <th>Uncertain</th>\n",
       "      <th>Hopeful</th>\n",
       "      <th>Bearish</th>\n",
       "      <th>Pessimistic/Doubtful</th>\n",
       "      <th>Sad</th>\n",
       "      <th>Fearful/Concerned</th>\n",
       "      <th>Angry</th>\n",
       "      <th>Mistrustful</th>\n",
       "      <th>Panicking</th>\n",
       "      <th>...</th>\n",
       "      <th>Bullish</th>\n",
       "      <th>Optimistic</th>\n",
       "      <th>Happy</th>\n",
       "      <th>Euphoric/Excited</th>\n",
       "      <th>Senti_Sum</th>\n",
       "      <th>Bear_sum</th>\n",
       "      <th>Bull_sum</th>\n",
       "      <th>Day_Sent</th>\n",
       "      <th>close</th>\n",
       "      <th>daily_ret</th>\n",
       "    </tr>\n",
       "    <tr>\n",
       "      <th>Date</th>\n",
       "      <th></th>\n",
       "      <th></th>\n",
       "      <th></th>\n",
       "      <th></th>\n",
       "      <th></th>\n",
       "      <th></th>\n",
       "      <th></th>\n",
       "      <th></th>\n",
       "      <th></th>\n",
       "      <th></th>\n",
       "      <th></th>\n",
       "      <th></th>\n",
       "      <th></th>\n",
       "      <th></th>\n",
       "      <th></th>\n",
       "      <th></th>\n",
       "      <th></th>\n",
       "      <th></th>\n",
       "      <th></th>\n",
       "      <th></th>\n",
       "      <th></th>\n",
       "    </tr>\n",
       "  </thead>\n",
       "  <tbody>\n",
       "    <tr>\n",
       "      <th>2022-06-04</th>\n",
       "      <td>2.0</td>\n",
       "      <td>28.0</td>\n",
       "      <td>5.0</td>\n",
       "      <td>47.0</td>\n",
       "      <td>8.0</td>\n",
       "      <td>4.0</td>\n",
       "      <td>4.0</td>\n",
       "      <td>5.0</td>\n",
       "      <td>0.0</td>\n",
       "      <td>1.0</td>\n",
       "      <td>...</td>\n",
       "      <td>45.0</td>\n",
       "      <td>25.0</td>\n",
       "      <td>1.0</td>\n",
       "      <td>15.0</td>\n",
       "      <td>190.0</td>\n",
       "      <td>69.0</td>\n",
       "      <td>91.0</td>\n",
       "      <td>22.0</td>\n",
       "      <td>29832.914062</td>\n",
       "      <td>NaN</td>\n",
       "    </tr>\n",
       "    <tr>\n",
       "      <th>2022-06-05</th>\n",
       "      <td>6.0</td>\n",
       "      <td>32.0</td>\n",
       "      <td>8.0</td>\n",
       "      <td>43.0</td>\n",
       "      <td>10.0</td>\n",
       "      <td>1.0</td>\n",
       "      <td>5.0</td>\n",
       "      <td>1.0</td>\n",
       "      <td>0.0</td>\n",
       "      <td>1.0</td>\n",
       "      <td>...</td>\n",
       "      <td>74.0</td>\n",
       "      <td>32.0</td>\n",
       "      <td>3.0</td>\n",
       "      <td>11.0</td>\n",
       "      <td>228.0</td>\n",
       "      <td>62.0</td>\n",
       "      <td>128.0</td>\n",
       "      <td>66.0</td>\n",
       "      <td>29906.662109</td>\n",
       "      <td>0.002472</td>\n",
       "    </tr>\n",
       "  </tbody>\n",
       "</table>\n",
       "<p>2 rows × 21 columns</p>\n",
       "</div>"
      ],
      "text/plain": [
       "            FOMO  Uncertain  Hopeful  Bearish  Pessimistic/Doubtful  Sad  \\\n",
       "Date                                                                       \n",
       "2022-06-04   2.0       28.0      5.0     47.0                   8.0  4.0   \n",
       "2022-06-05   6.0       32.0      8.0     43.0                  10.0  1.0   \n",
       "\n",
       "            Fearful/Concerned  Angry  Mistrustful  Panicking  ...  Bullish  \\\n",
       "Date                                                          ...            \n",
       "2022-06-04                4.0    5.0          0.0        1.0  ...     45.0   \n",
       "2022-06-05                5.0    1.0          0.0        1.0  ...     74.0   \n",
       "\n",
       "            Optimistic  Happy  Euphoric/Excited  Senti_Sum  Bear_sum  \\\n",
       "Date                                                                   \n",
       "2022-06-04        25.0    1.0              15.0      190.0      69.0   \n",
       "2022-06-05        32.0    3.0              11.0      228.0      62.0   \n",
       "\n",
       "            Bull_sum  Day_Sent         close  daily_ret  \n",
       "Date                                                     \n",
       "2022-06-04      91.0      22.0  29832.914062        NaN  \n",
       "2022-06-05     128.0      66.0  29906.662109   0.002472  \n",
       "\n",
       "[2 rows x 21 columns]"
      ]
     },
     "metadata": {},
     "output_type": "display_data"
    }
   ],
   "source": [
    "# join the sentiment and coin dfs together\n",
    "joined_df = sentiment_df_1.join(df_coin[coin_ticker]['close'])\n",
    "joined_df['daily_ret']=joined_df['close'].pct_change()\n",
    "#joined_df['daily_ret']= joined_df['close'].pct_change()\n",
    "#joined_df['daily_ret']=joined_df['close'].pct_change().shift()\n",
    "\n",
    "display(joined_df)\n"
   ]
  },
  {
   "cell_type": "code",
   "execution_count": 90,
   "id": "8760f5d7-5981-43fd-aae8-cd78e6e64af1",
   "metadata": {},
   "outputs": [],
   "source": [
    "# Create a strategy for making a signal. if the daily_ret is >= 0 then it is a buy signal or 1, and\n",
    "# if daily_ret is <500 then it is a sell signal or -1.\n",
    "joined_df['signal'] = 0.0\n",
    "joined_df.loc[(joined_df['daily_ret'] >= 0), 'signal'] = 1\n",
    "joined_df.loc[(joined_df['daily_ret'] < 0), 'signal'] = -1"
   ]
  },
  {
   "cell_type": "code",
   "execution_count": 105,
   "id": "06f94e00-dc66-4cb1-bec6-c283c5da964b",
   "metadata": {},
   "outputs": [
    {
     "data": {
      "text/html": [
       "<div>\n",
       "<style scoped>\n",
       "    .dataframe tbody tr th:only-of-type {\n",
       "        vertical-align: middle;\n",
       "    }\n",
       "\n",
       "    .dataframe tbody tr th {\n",
       "        vertical-align: top;\n",
       "    }\n",
       "\n",
       "    .dataframe thead th {\n",
       "        text-align: right;\n",
       "    }\n",
       "</style>\n",
       "<table border=\"1\" class=\"dataframe\">\n",
       "  <thead>\n",
       "    <tr style=\"text-align: right;\">\n",
       "      <th></th>\n",
       "      <th>FOMO</th>\n",
       "      <th>Uncertain</th>\n",
       "      <th>Hopeful</th>\n",
       "      <th>Bearish</th>\n",
       "      <th>Pessimistic/Doubtful</th>\n",
       "      <th>Sad</th>\n",
       "      <th>Fearful/Concerned</th>\n",
       "      <th>Angry</th>\n",
       "      <th>Mistrustful</th>\n",
       "      <th>Panicking</th>\n",
       "      <th>...</th>\n",
       "      <th>Optimistic</th>\n",
       "      <th>Happy</th>\n",
       "      <th>Euphoric/Excited</th>\n",
       "      <th>Senti_Sum</th>\n",
       "      <th>Bear_sum</th>\n",
       "      <th>Bull_sum</th>\n",
       "      <th>Day_Sent</th>\n",
       "      <th>close</th>\n",
       "      <th>daily_ret</th>\n",
       "      <th>signal</th>\n",
       "    </tr>\n",
       "    <tr>\n",
       "      <th>Date</th>\n",
       "      <th></th>\n",
       "      <th></th>\n",
       "      <th></th>\n",
       "      <th></th>\n",
       "      <th></th>\n",
       "      <th></th>\n",
       "      <th></th>\n",
       "      <th></th>\n",
       "      <th></th>\n",
       "      <th></th>\n",
       "      <th></th>\n",
       "      <th></th>\n",
       "      <th></th>\n",
       "      <th></th>\n",
       "      <th></th>\n",
       "      <th></th>\n",
       "      <th></th>\n",
       "      <th></th>\n",
       "      <th></th>\n",
       "      <th></th>\n",
       "      <th></th>\n",
       "    </tr>\n",
       "  </thead>\n",
       "  <tbody>\n",
       "    <tr>\n",
       "      <th>2022-06-04</th>\n",
       "      <td>2.0</td>\n",
       "      <td>28.0</td>\n",
       "      <td>5.0</td>\n",
       "      <td>47.0</td>\n",
       "      <td>8.0</td>\n",
       "      <td>4.0</td>\n",
       "      <td>4.0</td>\n",
       "      <td>5.0</td>\n",
       "      <td>0.0</td>\n",
       "      <td>1.0</td>\n",
       "      <td>...</td>\n",
       "      <td>25.0</td>\n",
       "      <td>1.0</td>\n",
       "      <td>15.0</td>\n",
       "      <td>190.0</td>\n",
       "      <td>69.0</td>\n",
       "      <td>91.0</td>\n",
       "      <td>22.0</td>\n",
       "      <td>29832.914062</td>\n",
       "      <td>NaN</td>\n",
       "      <td>0.0</td>\n",
       "    </tr>\n",
       "    <tr>\n",
       "      <th>2022-06-05</th>\n",
       "      <td>6.0</td>\n",
       "      <td>32.0</td>\n",
       "      <td>8.0</td>\n",
       "      <td>43.0</td>\n",
       "      <td>10.0</td>\n",
       "      <td>1.0</td>\n",
       "      <td>5.0</td>\n",
       "      <td>1.0</td>\n",
       "      <td>0.0</td>\n",
       "      <td>1.0</td>\n",
       "      <td>...</td>\n",
       "      <td>32.0</td>\n",
       "      <td>3.0</td>\n",
       "      <td>11.0</td>\n",
       "      <td>228.0</td>\n",
       "      <td>62.0</td>\n",
       "      <td>128.0</td>\n",
       "      <td>66.0</td>\n",
       "      <td>29906.662109</td>\n",
       "      <td>0.002472</td>\n",
       "      <td>1.0</td>\n",
       "    </tr>\n",
       "  </tbody>\n",
       "</table>\n",
       "<p>2 rows × 22 columns</p>\n",
       "</div>"
      ],
      "text/plain": [
       "            FOMO  Uncertain  Hopeful  Bearish  Pessimistic/Doubtful  Sad  \\\n",
       "Date                                                                       \n",
       "2022-06-04   2.0       28.0      5.0     47.0                   8.0  4.0   \n",
       "2022-06-05   6.0       32.0      8.0     43.0                  10.0  1.0   \n",
       "\n",
       "            Fearful/Concerned  Angry  Mistrustful  Panicking  ...  Optimistic  \\\n",
       "Date                                                          ...               \n",
       "2022-06-04                4.0    5.0          0.0        1.0  ...        25.0   \n",
       "2022-06-05                5.0    1.0          0.0        1.0  ...        32.0   \n",
       "\n",
       "            Happy  Euphoric/Excited  Senti_Sum  Bear_sum  Bull_sum  Day_Sent  \\\n",
       "Date                                                                           \n",
       "2022-06-04    1.0              15.0      190.0      69.0      91.0      22.0   \n",
       "2022-06-05    3.0              11.0      228.0      62.0     128.0      66.0   \n",
       "\n",
       "                   close  daily_ret  signal  \n",
       "Date                                         \n",
       "2022-06-04  29832.914062        NaN     0.0  \n",
       "2022-06-05  29906.662109   0.002472     1.0  \n",
       "\n",
       "[2 rows x 22 columns]"
      ]
     },
     "execution_count": 105,
     "metadata": {},
     "output_type": "execute_result"
    }
   ],
   "source": [
    "joined_df"
   ]
  },
  {
   "cell_type": "code",
   "execution_count": 142,
   "id": "b3337e6d-d47c-408b-90a8-bdaae73d1799",
   "metadata": {},
   "outputs": [
    {
     "data": {
      "text/plain": [
       "Date\n",
       "2022-06-04    0.115789\n",
       "2022-06-05    0.289474\n",
       "dtype: float64"
      ]
     },
     "execution_count": 142,
     "metadata": {},
     "output_type": "execute_result"
    }
   ],
   "source": [
    "\n",
    "sentiment_per = joined_df['Day_Sent'] / joined_df['Senti_Sum']\n",
    "sentiment_per\n",
    "#sentiment_of_the_day = sum of all bullish -  sum of all bearish"
   ]
  },
  {
   "cell_type": "code",
   "execution_count": null,
   "id": "1836a802-8d62-427e-b0ad-2ce197f1398b",
   "metadata": {},
   "outputs": [],
   "source": []
  },
  {
   "cell_type": "code",
   "execution_count": 144,
   "id": "09bcf260-b9d1-4804-bc83-3218ac416d17",
   "metadata": {},
   "outputs": [],
   "source": [
    "import plotly.graph_objects as go\n",
    "\n",
    "fig = go.Figure(go.Indicator(customdata = joined_df['signal'],\n",
    "            domain = {'x': [0, .75], 'y': [0, .75]},\n",
    "            mode = 'gauge+number',\n",
    "            value = .28,\n",
    "            gauge = {\n",
    "                'axis': {'range': [-1, 1], \n",
    "                'tickcolor':'blueviolet'},\n",
    "                'bar': {'color': 'blue'}},\n",
    "            title = {'text': 'Bullish or Bearish Sentiment of the Day'}))"
   ]
  },
  {
   "cell_type": "code",
   "execution_count": 145,
   "id": "6785f81c-af83-4a73-90ec-af6ebede0108",
   "metadata": {},
   "outputs": [
    {
     "data": {
      "application/vnd.plotly.v1+json": {
       "config": {
        "plotlyServerURL": "https://plot.ly"
       },
       "data": [
        {
         "customdata": [
          0,
          1
         ],
         "domain": {
          "x": [
           0,
           0.75
          ],
          "y": [
           0,
           0.75
          ]
         },
         "gauge": {
          "axis": {
           "range": [
            -1,
            1
           ],
           "tickcolor": "blueviolet"
          },
          "bar": {
           "color": "blue"
          }
         },
         "mode": "gauge+number",
         "title": {
          "text": "Bullish or Bearish Sentiment of the Day"
         },
         "type": "indicator",
         "value": 0.28
        }
       ],
       "layout": {
        "autosize": true,
        "template": {
         "data": {
          "bar": [
           {
            "error_x": {
             "color": "#2a3f5f"
            },
            "error_y": {
             "color": "#2a3f5f"
            },
            "marker": {
             "line": {
              "color": "#E5ECF6",
              "width": 0.5
             },
             "pattern": {
              "fillmode": "overlay",
              "size": 10,
              "solidity": 0.2
             }
            },
            "type": "bar"
           }
          ],
          "barpolar": [
           {
            "marker": {
             "line": {
              "color": "#E5ECF6",
              "width": 0.5
             },
             "pattern": {
              "fillmode": "overlay",
              "size": 10,
              "solidity": 0.2
             }
            },
            "type": "barpolar"
           }
          ],
          "carpet": [
           {
            "aaxis": {
             "endlinecolor": "#2a3f5f",
             "gridcolor": "white",
             "linecolor": "white",
             "minorgridcolor": "white",
             "startlinecolor": "#2a3f5f"
            },
            "baxis": {
             "endlinecolor": "#2a3f5f",
             "gridcolor": "white",
             "linecolor": "white",
             "minorgridcolor": "white",
             "startlinecolor": "#2a3f5f"
            },
            "type": "carpet"
           }
          ],
          "choropleth": [
           {
            "colorbar": {
             "outlinewidth": 0,
             "ticks": ""
            },
            "type": "choropleth"
           }
          ],
          "contour": [
           {
            "colorbar": {
             "outlinewidth": 0,
             "ticks": ""
            },
            "colorscale": [
             [
              0,
              "#0d0887"
             ],
             [
              0.1111111111111111,
              "#46039f"
             ],
             [
              0.2222222222222222,
              "#7201a8"
             ],
             [
              0.3333333333333333,
              "#9c179e"
             ],
             [
              0.4444444444444444,
              "#bd3786"
             ],
             [
              0.5555555555555556,
              "#d8576b"
             ],
             [
              0.6666666666666666,
              "#ed7953"
             ],
             [
              0.7777777777777778,
              "#fb9f3a"
             ],
             [
              0.8888888888888888,
              "#fdca26"
             ],
             [
              1,
              "#f0f921"
             ]
            ],
            "type": "contour"
           }
          ],
          "contourcarpet": [
           {
            "colorbar": {
             "outlinewidth": 0,
             "ticks": ""
            },
            "type": "contourcarpet"
           }
          ],
          "heatmap": [
           {
            "colorbar": {
             "outlinewidth": 0,
             "ticks": ""
            },
            "colorscale": [
             [
              0,
              "#0d0887"
             ],
             [
              0.1111111111111111,
              "#46039f"
             ],
             [
              0.2222222222222222,
              "#7201a8"
             ],
             [
              0.3333333333333333,
              "#9c179e"
             ],
             [
              0.4444444444444444,
              "#bd3786"
             ],
             [
              0.5555555555555556,
              "#d8576b"
             ],
             [
              0.6666666666666666,
              "#ed7953"
             ],
             [
              0.7777777777777778,
              "#fb9f3a"
             ],
             [
              0.8888888888888888,
              "#fdca26"
             ],
             [
              1,
              "#f0f921"
             ]
            ],
            "type": "heatmap"
           }
          ],
          "heatmapgl": [
           {
            "colorbar": {
             "outlinewidth": 0,
             "ticks": ""
            },
            "colorscale": [
             [
              0,
              "#0d0887"
             ],
             [
              0.1111111111111111,
              "#46039f"
             ],
             [
              0.2222222222222222,
              "#7201a8"
             ],
             [
              0.3333333333333333,
              "#9c179e"
             ],
             [
              0.4444444444444444,
              "#bd3786"
             ],
             [
              0.5555555555555556,
              "#d8576b"
             ],
             [
              0.6666666666666666,
              "#ed7953"
             ],
             [
              0.7777777777777778,
              "#fb9f3a"
             ],
             [
              0.8888888888888888,
              "#fdca26"
             ],
             [
              1,
              "#f0f921"
             ]
            ],
            "type": "heatmapgl"
           }
          ],
          "histogram": [
           {
            "marker": {
             "pattern": {
              "fillmode": "overlay",
              "size": 10,
              "solidity": 0.2
             }
            },
            "type": "histogram"
           }
          ],
          "histogram2d": [
           {
            "colorbar": {
             "outlinewidth": 0,
             "ticks": ""
            },
            "colorscale": [
             [
              0,
              "#0d0887"
             ],
             [
              0.1111111111111111,
              "#46039f"
             ],
             [
              0.2222222222222222,
              "#7201a8"
             ],
             [
              0.3333333333333333,
              "#9c179e"
             ],
             [
              0.4444444444444444,
              "#bd3786"
             ],
             [
              0.5555555555555556,
              "#d8576b"
             ],
             [
              0.6666666666666666,
              "#ed7953"
             ],
             [
              0.7777777777777778,
              "#fb9f3a"
             ],
             [
              0.8888888888888888,
              "#fdca26"
             ],
             [
              1,
              "#f0f921"
             ]
            ],
            "type": "histogram2d"
           }
          ],
          "histogram2dcontour": [
           {
            "colorbar": {
             "outlinewidth": 0,
             "ticks": ""
            },
            "colorscale": [
             [
              0,
              "#0d0887"
             ],
             [
              0.1111111111111111,
              "#46039f"
             ],
             [
              0.2222222222222222,
              "#7201a8"
             ],
             [
              0.3333333333333333,
              "#9c179e"
             ],
             [
              0.4444444444444444,
              "#bd3786"
             ],
             [
              0.5555555555555556,
              "#d8576b"
             ],
             [
              0.6666666666666666,
              "#ed7953"
             ],
             [
              0.7777777777777778,
              "#fb9f3a"
             ],
             [
              0.8888888888888888,
              "#fdca26"
             ],
             [
              1,
              "#f0f921"
             ]
            ],
            "type": "histogram2dcontour"
           }
          ],
          "mesh3d": [
           {
            "colorbar": {
             "outlinewidth": 0,
             "ticks": ""
            },
            "type": "mesh3d"
           }
          ],
          "parcoords": [
           {
            "line": {
             "colorbar": {
              "outlinewidth": 0,
              "ticks": ""
             }
            },
            "type": "parcoords"
           }
          ],
          "pie": [
           {
            "automargin": true,
            "type": "pie"
           }
          ],
          "scatter": [
           {
            "fillpattern": {
             "fillmode": "overlay",
             "size": 10,
             "solidity": 0.2
            },
            "type": "scatter"
           }
          ],
          "scatter3d": [
           {
            "line": {
             "colorbar": {
              "outlinewidth": 0,
              "ticks": ""
             }
            },
            "marker": {
             "colorbar": {
              "outlinewidth": 0,
              "ticks": ""
             }
            },
            "type": "scatter3d"
           }
          ],
          "scattercarpet": [
           {
            "marker": {
             "colorbar": {
              "outlinewidth": 0,
              "ticks": ""
             }
            },
            "type": "scattercarpet"
           }
          ],
          "scattergeo": [
           {
            "marker": {
             "colorbar": {
              "outlinewidth": 0,
              "ticks": ""
             }
            },
            "type": "scattergeo"
           }
          ],
          "scattergl": [
           {
            "marker": {
             "colorbar": {
              "outlinewidth": 0,
              "ticks": ""
             }
            },
            "type": "scattergl"
           }
          ],
          "scattermapbox": [
           {
            "marker": {
             "colorbar": {
              "outlinewidth": 0,
              "ticks": ""
             }
            },
            "type": "scattermapbox"
           }
          ],
          "scatterpolar": [
           {
            "marker": {
             "colorbar": {
              "outlinewidth": 0,
              "ticks": ""
             }
            },
            "type": "scatterpolar"
           }
          ],
          "scatterpolargl": [
           {
            "marker": {
             "colorbar": {
              "outlinewidth": 0,
              "ticks": ""
             }
            },
            "type": "scatterpolargl"
           }
          ],
          "scatterternary": [
           {
            "marker": {
             "colorbar": {
              "outlinewidth": 0,
              "ticks": ""
             }
            },
            "type": "scatterternary"
           }
          ],
          "surface": [
           {
            "colorbar": {
             "outlinewidth": 0,
             "ticks": ""
            },
            "colorscale": [
             [
              0,
              "#0d0887"
             ],
             [
              0.1111111111111111,
              "#46039f"
             ],
             [
              0.2222222222222222,
              "#7201a8"
             ],
             [
              0.3333333333333333,
              "#9c179e"
             ],
             [
              0.4444444444444444,
              "#bd3786"
             ],
             [
              0.5555555555555556,
              "#d8576b"
             ],
             [
              0.6666666666666666,
              "#ed7953"
             ],
             [
              0.7777777777777778,
              "#fb9f3a"
             ],
             [
              0.8888888888888888,
              "#fdca26"
             ],
             [
              1,
              "#f0f921"
             ]
            ],
            "type": "surface"
           }
          ],
          "table": [
           {
            "cells": {
             "fill": {
              "color": "#EBF0F8"
             },
             "line": {
              "color": "white"
             }
            },
            "header": {
             "fill": {
              "color": "#C8D4E3"
             },
             "line": {
              "color": "white"
             }
            },
            "type": "table"
           }
          ]
         },
         "layout": {
          "annotationdefaults": {
           "arrowcolor": "#2a3f5f",
           "arrowhead": 0,
           "arrowwidth": 1
          },
          "autotypenumbers": "strict",
          "coloraxis": {
           "colorbar": {
            "outlinewidth": 0,
            "ticks": ""
           }
          },
          "colorscale": {
           "diverging": [
            [
             0,
             "#8e0152"
            ],
            [
             0.1,
             "#c51b7d"
            ],
            [
             0.2,
             "#de77ae"
            ],
            [
             0.3,
             "#f1b6da"
            ],
            [
             0.4,
             "#fde0ef"
            ],
            [
             0.5,
             "#f7f7f7"
            ],
            [
             0.6,
             "#e6f5d0"
            ],
            [
             0.7,
             "#b8e186"
            ],
            [
             0.8,
             "#7fbc41"
            ],
            [
             0.9,
             "#4d9221"
            ],
            [
             1,
             "#276419"
            ]
           ],
           "sequential": [
            [
             0,
             "#0d0887"
            ],
            [
             0.1111111111111111,
             "#46039f"
            ],
            [
             0.2222222222222222,
             "#7201a8"
            ],
            [
             0.3333333333333333,
             "#9c179e"
            ],
            [
             0.4444444444444444,
             "#bd3786"
            ],
            [
             0.5555555555555556,
             "#d8576b"
            ],
            [
             0.6666666666666666,
             "#ed7953"
            ],
            [
             0.7777777777777778,
             "#fb9f3a"
            ],
            [
             0.8888888888888888,
             "#fdca26"
            ],
            [
             1,
             "#f0f921"
            ]
           ],
           "sequentialminus": [
            [
             0,
             "#0d0887"
            ],
            [
             0.1111111111111111,
             "#46039f"
            ],
            [
             0.2222222222222222,
             "#7201a8"
            ],
            [
             0.3333333333333333,
             "#9c179e"
            ],
            [
             0.4444444444444444,
             "#bd3786"
            ],
            [
             0.5555555555555556,
             "#d8576b"
            ],
            [
             0.6666666666666666,
             "#ed7953"
            ],
            [
             0.7777777777777778,
             "#fb9f3a"
            ],
            [
             0.8888888888888888,
             "#fdca26"
            ],
            [
             1,
             "#f0f921"
            ]
           ]
          },
          "colorway": [
           "#636efa",
           "#EF553B",
           "#00cc96",
           "#ab63fa",
           "#FFA15A",
           "#19d3f3",
           "#FF6692",
           "#B6E880",
           "#FF97FF",
           "#FECB52"
          ],
          "font": {
           "color": "#2a3f5f"
          },
          "geo": {
           "bgcolor": "white",
           "lakecolor": "white",
           "landcolor": "#E5ECF6",
           "showlakes": true,
           "showland": true,
           "subunitcolor": "white"
          },
          "hoverlabel": {
           "align": "left"
          },
          "hovermode": "closest",
          "mapbox": {
           "style": "light"
          },
          "paper_bgcolor": "white",
          "plot_bgcolor": "#E5ECF6",
          "polar": {
           "angularaxis": {
            "gridcolor": "white",
            "linecolor": "white",
            "ticks": ""
           },
           "bgcolor": "#E5ECF6",
           "radialaxis": {
            "gridcolor": "white",
            "linecolor": "white",
            "ticks": ""
           }
          },
          "scene": {
           "xaxis": {
            "backgroundcolor": "#E5ECF6",
            "gridcolor": "white",
            "gridwidth": 2,
            "linecolor": "white",
            "showbackground": true,
            "ticks": "",
            "zerolinecolor": "white"
           },
           "yaxis": {
            "backgroundcolor": "#E5ECF6",
            "gridcolor": "white",
            "gridwidth": 2,
            "linecolor": "white",
            "showbackground": true,
            "ticks": "",
            "zerolinecolor": "white"
           },
           "zaxis": {
            "backgroundcolor": "#E5ECF6",
            "gridcolor": "white",
            "gridwidth": 2,
            "linecolor": "white",
            "showbackground": true,
            "ticks": "",
            "zerolinecolor": "white"
           }
          },
          "shapedefaults": {
           "line": {
            "color": "#2a3f5f"
           }
          },
          "ternary": {
           "aaxis": {
            "gridcolor": "white",
            "linecolor": "white",
            "ticks": ""
           },
           "baxis": {
            "gridcolor": "white",
            "linecolor": "white",
            "ticks": ""
           },
           "bgcolor": "#E5ECF6",
           "caxis": {
            "gridcolor": "white",
            "linecolor": "white",
            "ticks": ""
           }
          },
          "title": {
           "x": 0.05
          },
          "xaxis": {
           "automargin": true,
           "gridcolor": "white",
           "linecolor": "white",
           "ticks": "",
           "title": {
            "standoff": 15
           },
           "zerolinecolor": "white",
           "zerolinewidth": 2
          },
          "yaxis": {
           "automargin": true,
           "gridcolor": "white",
           "linecolor": "white",
           "ticks": "",
           "title": {
            "standoff": 15
           },
           "zerolinecolor": "white",
           "zerolinewidth": 2
          }
         }
        }
       }
      },
      "image/png": "[encoded data removed]",
      "text/html": [
       "<div>                            <div id=\"25113940-8bd9-435e-b8f4-9358968f3c3c\" class=\"plotly-graph-div\" style=\"height:525px; width:100%;\"></div>            <script type=\"text/javascript\">                require([\"plotly\"], function(Plotly) {                    window.PLOTLYENV=window.PLOTLYENV || {};                                    if (document.getElementById(\"25113940-8bd9-435e-b8f4-9358968f3c3c\")) {                    Plotly.newPlot(                        \"25113940-8bd9-435e-b8f4-9358968f3c3c\",                        [{\"customdata\":[0.0,1.0],\"domain\":{\"x\":[0,0.75],\"y\":[0,0.75]},\"gauge\":{\"axis\":{\"range\":[-1,1],\"tickcolor\":\"blueviolet\"},\"bar\":{\"color\":\"blue\"}},\"mode\":\"gauge+number\",\"title\":{\"text\":\"Bullish or Bearish Sentiment of the Day\"},\"value\":0.28,\"type\":\"indicator\"}],                        {\"template\":{\"data\":{\"histogram2dcontour\":[{\"type\":\"histogram2dcontour\",\"colorbar\":{\"outlinewidth\":0,\"ticks\":\"\"},\"colorscale\":[[0.0,\"#0d0887\"],[0.1111111111111111,\"#46039f\"],[0.2222222222222222,\"#7201a8\"],[0.3333333333333333,\"#9c179e\"],[0.4444444444444444,\"#bd3786\"],[0.5555555555555556,\"#d8576b\"],[0.6666666666666666,\"#ed7953\"],[0.7777777777777778,\"#fb9f3a\"],[0.8888888888888888,\"#fdca26\"],[1.0,\"#f0f921\"]]}],\"choropleth\":[{\"type\":\"choropleth\",\"colorbar\":{\"outlinewidth\":0,\"ticks\":\"\"}}],\"histogram2d\":[{\"type\":\"histogram2d\",\"colorbar\":{\"outlinewidth\":0,\"ticks\":\"\"},\"colorscale\":[[0.0,\"#0d0887\"],[0.1111111111111111,\"#46039f\"],[0.2222222222222222,\"#7201a8\"],[0.3333333333333333,\"#9c179e\"],[0.4444444444444444,\"#bd3786\"],[0.5555555555555556,\"#d8576b\"],[0.6666666666666666,\"#ed7953\"],[0.7777777777777778,\"#fb9f3a\"],[0.8888888888888888,\"#fdca26\"],[1.0,\"#f0f921\"]]}],\"heatmap\":[{\"type\":\"heatmap\",\"colorbar\":{\"outlinewidth\":0,\"ticks\":\"\"},\"colorscale\":[[0.0,\"#0d0887\"],[0.1111111111111111,\"#46039f\"],[0.2222222222222222,\"#7201a8\"],[0.3333333333333333,\"#9c179e\"],[0.4444444444444444,\"#bd3786\"],[0.5555555555555556,\"#d8576b\"],[0.6666666666666666,\"#ed7953\"],[0.7777777777777778,\"#fb9f3a\"],[0.8888888888888888,\"#fdca26\"],[1.0,\"#f0f921\"]]}],\"heatmapgl\":[{\"type\":\"heatmapgl\",\"colorbar\":{\"outlinewidth\":0,\"ticks\":\"\"},\"colorscale\":[[0.0,\"#0d0887\"],[0.1111111111111111,\"#46039f\"],[0.2222222222222222,\"#7201a8\"],[0.3333333333333333,\"#9c179e\"],[0.4444444444444444,\"#bd3786\"],[0.5555555555555556,\"#d8576b\"],[0.6666666666666666,\"#ed7953\"],[0.7777777777777778,\"#fb9f3a\"],[0.8888888888888888,\"#fdca26\"],[1.0,\"#f0f921\"]]}],\"contourcarpet\":[{\"type\":\"contourcarpet\",\"colorbar\":{\"outlinewidth\":0,\"ticks\":\"\"}}],\"contour\":[{\"type\":\"contour\",\"colorbar\":{\"outlinewidth\":0,\"ticks\":\"\"},\"colorscale\":[[0.0,\"#0d0887\"],[0.1111111111111111,\"#46039f\"],[0.2222222222222222,\"#7201a8\"],[0.3333333333333333,\"#9c179e\"],[0.4444444444444444,\"#bd3786\"],[0.5555555555555556,\"#d8576b\"],[0.6666666666666666,\"#ed7953\"],[0.7777777777777778,\"#fb9f3a\"],[0.8888888888888888,\"#fdca26\"],[1.0,\"#f0f921\"]]}],\"surface\":[{\"type\":\"surface\",\"colorbar\":{\"outlinewidth\":0,\"ticks\":\"\"},\"colorscale\":[[0.0,\"#0d0887\"],[0.1111111111111111,\"#46039f\"],[0.2222222222222222,\"#7201a8\"],[0.3333333333333333,\"#9c179e\"],[0.4444444444444444,\"#bd3786\"],[0.5555555555555556,\"#d8576b\"],[0.6666666666666666,\"#ed7953\"],[0.7777777777777778,\"#fb9f3a\"],[0.8888888888888888,\"#fdca26\"],[1.0,\"#f0f921\"]]}],\"mesh3d\":[{\"type\":\"mesh3d\",\"colorbar\":{\"outlinewidth\":0,\"ticks\":\"\"}}],\"scatter\":[{\"fillpattern\":{\"fillmode\":\"overlay\",\"size\":10,\"solidity\":0.2},\"type\":\"scatter\"}],\"parcoords\":[{\"type\":\"parcoords\",\"line\":{\"colorbar\":{\"outlinewidth\":0,\"ticks\":\"\"}}}],\"scatterpolargl\":[{\"type\":\"scatterpolargl\",\"marker\":{\"colorbar\":{\"outlinewidth\":0,\"ticks\":\"\"}}}],\"bar\":[{\"error_x\":{\"color\":\"#2a3f5f\"},\"error_y\":{\"color\":\"#2a3f5f\"},\"marker\":{\"line\":{\"color\":\"#E5ECF6\",\"width\":0.5},\"pattern\":{\"fillmode\":\"overlay\",\"size\":10,\"solidity\":0.2}},\"type\":\"bar\"}],\"scattergeo\":[{\"type\":\"scattergeo\",\"marker\":{\"colorbar\":{\"outlinewidth\":0,\"ticks\":\"\"}}}],\"scatterpolar\":[{\"type\":\"scatterpolar\",\"marker\":{\"colorbar\":{\"outlinewidth\":0,\"ticks\":\"\"}}}],\"histogram\":[{\"marker\":{\"pattern\":{\"fillmode\":\"overlay\",\"size\":10,\"solidity\":0.2}},\"type\":\"histogram\"}],\"scattergl\":[{\"type\":\"scattergl\",\"marker\":{\"colorbar\":{\"outlinewidth\":0,\"ticks\":\"\"}}}],\"scatter3d\":[{\"type\":\"scatter3d\",\"line\":{\"colorbar\":{\"outlinewidth\":0,\"ticks\":\"\"}},\"marker\":{\"colorbar\":{\"outlinewidth\":0,\"ticks\":\"\"}}}],\"scattermapbox\":[{\"type\":\"scattermapbox\",\"marker\":{\"colorbar\":{\"outlinewidth\":0,\"ticks\":\"\"}}}],\"scatterternary\":[{\"type\":\"scatterternary\",\"marker\":{\"colorbar\":{\"outlinewidth\":0,\"ticks\":\"\"}}}],\"scattercarpet\":[{\"type\":\"scattercarpet\",\"marker\":{\"colorbar\":{\"outlinewidth\":0,\"ticks\":\"\"}}}],\"carpet\":[{\"aaxis\":{\"endlinecolor\":\"#2a3f5f\",\"gridcolor\":\"white\",\"linecolor\":\"white\",\"minorgridcolor\":\"white\",\"startlinecolor\":\"#2a3f5f\"},\"baxis\":{\"endlinecolor\":\"#2a3f5f\",\"gridcolor\":\"white\",\"linecolor\":\"white\",\"minorgridcolor\":\"white\",\"startlinecolor\":\"#2a3f5f\"},\"type\":\"carpet\"}],\"table\":[{\"cells\":{\"fill\":{\"color\":\"#EBF0F8\"},\"line\":{\"color\":\"white\"}},\"header\":{\"fill\":{\"color\":\"#C8D4E3\"},\"line\":{\"color\":\"white\"}},\"type\":\"table\"}],\"barpolar\":[{\"marker\":{\"line\":{\"color\":\"#E5ECF6\",\"width\":0.5},\"pattern\":{\"fillmode\":\"overlay\",\"size\":10,\"solidity\":0.2}},\"type\":\"barpolar\"}],\"pie\":[{\"automargin\":true,\"type\":\"pie\"}]},\"layout\":{\"autotypenumbers\":\"strict\",\"colorway\":[\"#636efa\",\"#EF553B\",\"#00cc96\",\"#ab63fa\",\"#FFA15A\",\"#19d3f3\",\"#FF6692\",\"#B6E880\",\"#FF97FF\",\"#FECB52\"],\"font\":{\"color\":\"#2a3f5f\"},\"hovermode\":\"closest\",\"hoverlabel\":{\"align\":\"left\"},\"paper_bgcolor\":\"white\",\"plot_bgcolor\":\"#E5ECF6\",\"polar\":{\"bgcolor\":\"#E5ECF6\",\"angularaxis\":{\"gridcolor\":\"white\",\"linecolor\":\"white\",\"ticks\":\"\"},\"radialaxis\":{\"gridcolor\":\"white\",\"linecolor\":\"white\",\"ticks\":\"\"}},\"ternary\":{\"bgcolor\":\"#E5ECF6\",\"aaxis\":{\"gridcolor\":\"white\",\"linecolor\":\"white\",\"ticks\":\"\"},\"baxis\":{\"gridcolor\":\"white\",\"linecolor\":\"white\",\"ticks\":\"\"},\"caxis\":{\"gridcolor\":\"white\",\"linecolor\":\"white\",\"ticks\":\"\"}},\"coloraxis\":{\"colorbar\":{\"outlinewidth\":0,\"ticks\":\"\"}},\"colorscale\":{\"sequential\":[[0.0,\"#0d0887\"],[0.1111111111111111,\"#46039f\"],[0.2222222222222222,\"#7201a8\"],[0.3333333333333333,\"#9c179e\"],[0.4444444444444444,\"#bd3786\"],[0.5555555555555556,\"#d8576b\"],[0.6666666666666666,\"#ed7953\"],[0.7777777777777778,\"#fb9f3a\"],[0.8888888888888888,\"#fdca26\"],[1.0,\"#f0f921\"]],\"sequentialminus\":[[0.0,\"#0d0887\"],[0.1111111111111111,\"#46039f\"],[0.2222222222222222,\"#7201a8\"],[0.3333333333333333,\"#9c179e\"],[0.4444444444444444,\"#bd3786\"],[0.5555555555555556,\"#d8576b\"],[0.6666666666666666,\"#ed7953\"],[0.7777777777777778,\"#fb9f3a\"],[0.8888888888888888,\"#fdca26\"],[1.0,\"#f0f921\"]],\"diverging\":[[0,\"#8e0152\"],[0.1,\"#c51b7d\"],[0.2,\"#de77ae\"],[0.3,\"#f1b6da\"],[0.4,\"#fde0ef\"],[0.5,\"#f7f7f7\"],[0.6,\"#e6f5d0\"],[0.7,\"#b8e186\"],[0.8,\"#7fbc41\"],[0.9,\"#4d9221\"],[1,\"#276419\"]]},\"xaxis\":{\"gridcolor\":\"white\",\"linecolor\":\"white\",\"ticks\":\"\",\"title\":{\"standoff\":15},\"zerolinecolor\":\"white\",\"automargin\":true,\"zerolinewidth\":2},\"yaxis\":{\"gridcolor\":\"white\",\"linecolor\":\"white\",\"ticks\":\"\",\"title\":{\"standoff\":15},\"zerolinecolor\":\"white\",\"automargin\":true,\"zerolinewidth\":2},\"scene\":{\"xaxis\":{\"backgroundcolor\":\"#E5ECF6\",\"gridcolor\":\"white\",\"linecolor\":\"white\",\"showbackground\":true,\"ticks\":\"\",\"zerolinecolor\":\"white\",\"gridwidth\":2},\"yaxis\":{\"backgroundcolor\":\"#E5ECF6\",\"gridcolor\":\"white\",\"linecolor\":\"white\",\"showbackground\":true,\"ticks\":\"\",\"zerolinecolor\":\"white\",\"gridwidth\":2},\"zaxis\":{\"backgroundcolor\":\"#E5ECF6\",\"gridcolor\":\"white\",\"linecolor\":\"white\",\"showbackground\":true,\"ticks\":\"\",\"zerolinecolor\":\"white\",\"gridwidth\":2}},\"shapedefaults\":{\"line\":{\"color\":\"#2a3f5f\"}},\"annotationdefaults\":{\"arrowcolor\":\"#2a3f5f\",\"arrowhead\":0,\"arrowwidth\":1},\"geo\":{\"bgcolor\":\"white\",\"landcolor\":\"#E5ECF6\",\"subunitcolor\":\"white\",\"showland\":true,\"showlakes\":true,\"lakecolor\":\"white\"},\"title\":{\"x\":0.05},\"mapbox\":{\"style\":\"light\"}}}},                        {\"responsive\": true}                    ).then(function(){\n",
       "                            \n",
       "var gd = document.getElementById('25113940-8bd9-435e-b8f4-9358968f3c3c');\n",
       "var x = new MutationObserver(function (mutations, observer) {{\n",
       "        var display = window.getComputedStyle(gd).display;\n",
       "        if (!display || display === 'none') {{\n",
       "            console.log([gd, 'removed!']);\n",
       "            Plotly.purge(gd);\n",
       "            observer.disconnect();\n",
       "        }}\n",
       "}});\n",
       "\n",
       "// Listen for the removal of the full notebook cells\n",
       "var notebookContainer = gd.closest('#notebook-container');\n",
       "if (notebookContainer) {{\n",
       "    x.observe(notebookContainer, {childList: true});\n",
       "}}\n",
       "\n",
       "// Listen for the clearing of the current output cell\n",
       "var outputEl = gd.closest('.output');\n",
       "if (outputEl) {{\n",
       "    x.observe(outputEl, {childList: true});\n",
       "}}\n",
       "\n",
       "                        })                };                });            </script>        </div>"
      ]
     },
     "metadata": {},
     "output_type": "display_data"
    }
   ],
   "source": [
    "\n",
    "fig.show()"
   ]
  },
  {
   "cell_type": "code",
   "execution_count": null,
   "id": "c2d35daf-80dc-4738-9229-24f4d10f2c76",
   "metadata": {},
   "outputs": [],
   "source": []
  }
 ],
 "metadata": {
  "kernelspec": {
   "display_name": "Python 3 (ipykernel)",
   "language": "python",
   "name": "python3"
  },
  "language_info": {
   "codemirror_mode": {
    "name": "ipython",
    "version": 3
   },
   "file_extension": ".py",
   "mimetype": "text/x-python",
   "name": "python",
   "nbconvert_exporter": "python",
   "pygments_lexer": "ipython3",
   "version": "3.9.7"
  }
 },
 "nbformat": 4,
 "nbformat_minor": 5
}
