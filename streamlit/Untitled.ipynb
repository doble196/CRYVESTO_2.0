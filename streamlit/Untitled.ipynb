{
 "cells": [
  {
   "cell_type": "code",
   "execution_count": null,
   "id": "df625cfb-770f-45a9-8f48-b9e03fa40809",
   "metadata": {},
   "outputs": [],
   "source": [
    "!pip install streamlit"
   ]
  },
  {
   "cell_type": "code",
   "execution_count": null,
   "id": "bf75e6e9-d9cc-4848-b2be-4836927ca223",
   "metadata": {},
   "outputs": [],
   "source": [
    "streamlit hello"
   ]
  },
  {
   "cell_type": "code",
   "execution_count": null,
   "id": "872bb972-de77-412c-a43d-f74410a3b321",
   "metadata": {},
   "outputs": [],
   "source": [
    "import yfinance as yf"
   ]
  },
  {
   "cell_type": "code",
   "execution_count": null,
   "id": "8a0c3c4d-5cbb-4a90-a12d-94a960a7c9c4",
   "metadata": {},
   "outputs": [],
   "source": [
    "#!streamlit hello"
   ]
  },
  {
   "cell_type": "code",
   "execution_count": null,
   "id": "5df00378-7b3b-4a4b-b98c-5c9671e0b466",
   "metadata": {},
   "outputs": [],
   "source": [
    "!streamlit run cryvesto_streamlit.py_streamlit.py"
   ]
  },
  {
   "cell_type": "code",
   "execution_count": null,
   "id": "c3fe2db1-633c-4c28-a3c3-b5ffa3e78055",
   "metadata": {},
   "outputs": [],
   "source": [
    "import os\n",
    "from pathlib import Path"
   ]
  },
  {
   "cell_type": "code",
   "execution_count": null,
   "id": "90767eb9-d2cf-4b89-9105-b1ca1dcf74ec",
   "metadata": {},
   "outputs": [],
   "source": [
    "btc_ada_pic = Path('../streamlit/reddit_btc_adaboost.png')"
   ]
  },
  {
   "cell_type": "code",
   "execution_count": null,
   "id": "bc1184ba-77af-4662-9803-c0cb06487edc",
   "metadata": {},
   "outputs": [],
   "source": [
    "isExist = os.path.exists(btc_ada_pic)\n",
    "\n",
    "print(isExist)"
   ]
  },
  {
   "cell_type": "code",
   "execution_count": null,
   "id": "bc90da59-7817-468f-b122-04e4a6374a24",
   "metadata": {},
   "outputs": [],
   "source": [
    "reddit_classification_reports = Path('../streamlit/reddit_classification_reports.csv')"
   ]
  },
  {
   "cell_type": "code",
   "execution_count": null,
   "id": "89f9ccb8-560b-4d29-a970-faed5f252aa9",
   "metadata": {},
   "outputs": [],
   "source": [
    "isExist = os.path.exists(reddit_classification_reports)\n",
    "\n",
    "print(isExist)"
   ]
  },
  {
   "cell_type": "code",
   "execution_count": null,
   "id": "a9109e2d-6231-49d8-8be5-3efb5f9e070d",
   "metadata": {},
   "outputs": [],
   "source": [
    "!streamlit run cryvesto_streamlit_ap.py"
   ]
  },
  {
   "cell_type": "code",
   "execution_count": null,
   "id": "3db10dcf-136b-4ac0-a547-ccf0e1ba1c60",
   "metadata": {},
   "outputs": [],
   "source": []
  }
 ],
 "metadata": {
  "kernelspec": {
   "display_name": "dev",
   "language": "python",
   "name": "dev"
  },
  "language_info": {
   "codemirror_mode": {
    "name": "ipython",
    "version": 3
   },
   "file_extension": ".py",
   "mimetype": "text/x-python",
   "name": "python",
   "nbconvert_exporter": "python",
   "pygments_lexer": "ipython3",
   "version": "3.7.11"
  }
 },
 "nbformat": 4,
 "nbformat_minor": 5
}
