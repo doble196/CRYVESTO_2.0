{
 "cells": [
  {
   "cell_type": "code",
   "execution_count": 1,
   "id": "df625cfb-770f-45a9-8f48-b9e03fa40809",
   "metadata": {},
   "outputs": [
    {
     "name": "stdout",
     "output_type": "stream",
     "text": [
      "Collecting streamlit\n",
      "  Downloading streamlit-1.10.0-py2.py3-none-any.whl (9.1 MB)\n",
      "Requirement already satisfied: python-dateutil in c:\\users\\kraso\\anaconda3\\lib\\site-packages (from streamlit) (2.8.2)\n",
      "Requirement already satisfied: numpy in c:\\users\\kraso\\anaconda3\\lib\\site-packages (from streamlit) (1.21.5)\n",
      "Collecting cachetools>=4.0\n",
      "  Using cached cachetools-5.2.0-py3-none-any.whl (9.3 kB)\n",
      "Requirement already satisfied: toml in c:\\users\\kraso\\anaconda3\\lib\\site-packages (from streamlit) (0.10.2)\n",
      "Collecting rich\n",
      "  Downloading rich-12.4.4-py3-none-any.whl (232 kB)\n",
      "Requirement already satisfied: packaging in c:\\users\\kraso\\anaconda3\\lib\\site-packages (from streamlit) (21.3)\n",
      "Collecting protobuf<4,>=3.12\n",
      "  Downloading protobuf-3.20.1-cp39-cp39-win_amd64.whl (904 kB)\n",
      "Requirement already satisfied: click>=7.0 in c:\\users\\kraso\\anaconda3\\lib\\site-packages (from streamlit) (8.0.4)\n",
      "Collecting tzlocal\n",
      "  Downloading tzlocal-4.2-py3-none-any.whl (19 kB)\n",
      "Requirement already satisfied: attrs in c:\\users\\kraso\\anaconda3\\lib\\site-packages (from streamlit) (21.4.0)\n",
      "Collecting semver\n",
      "  Downloading semver-2.13.0-py2.py3-none-any.whl (12 kB)\n",
      "Collecting altair>=3.2.0\n",
      "  Downloading altair-4.2.0-py3-none-any.whl (812 kB)\n",
      "Collecting gitpython!=3.1.19\n",
      "  Downloading GitPython-3.1.27-py3-none-any.whl (181 kB)\n",
      "Collecting pyarrow\n",
      "  Downloading pyarrow-8.0.0-cp39-cp39-win_amd64.whl (17.9 MB)\n",
      "Requirement already satisfied: pandas>=0.21.0 in c:\\users\\kraso\\anaconda3\\lib\\site-packages (from streamlit) (1.4.2)\n",
      "Requirement already satisfied: requests in c:\\users\\kraso\\anaconda3\\lib\\site-packages (from streamlit) (2.27.1)\n",
      "Collecting validators\n",
      "  Downloading validators-0.20.0.tar.gz (30 kB)\n",
      "Requirement already satisfied: tornado>=5.0 in c:\\users\\kraso\\anaconda3\\lib\\site-packages (from streamlit) (6.1)\n",
      "Requirement already satisfied: watchdog in c:\\users\\kraso\\anaconda3\\lib\\site-packages (from streamlit) (2.1.6)\n",
      "Collecting pydeck>=0.1.dev5\n",
      "  Downloading pydeck-0.7.1-py2.py3-none-any.whl (4.3 MB)\n",
      "Requirement already satisfied: pillow>=6.2.0 in c:\\users\\kraso\\anaconda3\\lib\\site-packages (from streamlit) (9.0.1)\n",
      "Requirement already satisfied: typing-extensions in c:\\users\\kraso\\anaconda3\\lib\\site-packages (from streamlit) (4.1.1)\n",
      "Requirement already satisfied: importlib-metadata>=1.4 in c:\\users\\kraso\\anaconda3\\lib\\site-packages (from streamlit) (4.11.3)\n",
      "Collecting blinker\n",
      "  Downloading blinker-1.4.tar.gz (111 kB)\n",
      "Collecting pympler>=0.9\n",
      "  Downloading Pympler-1.0.1-py3-none-any.whl (164 kB)\n",
      "Requirement already satisfied: toolz in c:\\users\\kraso\\anaconda3\\lib\\site-packages (from altair>=3.2.0->streamlit) (0.11.2)\n",
      "Requirement already satisfied: jsonschema>=3.0 in c:\\users\\kraso\\anaconda3\\lib\\site-packages (from altair>=3.2.0->streamlit) (4.4.0)\n",
      "Requirement already satisfied: entrypoints in c:\\users\\kraso\\anaconda3\\lib\\site-packages (from altair>=3.2.0->streamlit) (0.4)\n",
      "Requirement already satisfied: jinja2 in c:\\users\\kraso\\anaconda3\\lib\\site-packages (from altair>=3.2.0->streamlit) (2.11.3)\n",
      "Requirement already satisfied: colorama in c:\\users\\kraso\\anaconda3\\lib\\site-packages (from click>=7.0->streamlit) (0.4.4)\n",
      "Collecting gitdb<5,>=4.0.1\n",
      "  Downloading gitdb-4.0.9-py3-none-any.whl (63 kB)\n",
      "Collecting smmap<6,>=3.0.1\n",
      "  Downloading smmap-5.0.0-py3-none-any.whl (24 kB)\n",
      "Requirement already satisfied: zipp>=0.5 in c:\\users\\kraso\\anaconda3\\lib\\site-packages (from importlib-metadata>=1.4->streamlit) (3.7.0)\n",
      "Requirement already satisfied: pyrsistent!=0.17.0,!=0.17.1,!=0.17.2,>=0.14.0 in c:\\users\\kraso\\anaconda3\\lib\\site-packages (from jsonschema>=3.0->altair>=3.2.0->streamlit) (0.18.0)\n",
      "Requirement already satisfied: pytz>=2020.1 in c:\\users\\kraso\\anaconda3\\lib\\site-packages (from pandas>=0.21.0->streamlit) (2021.3)\n",
      "Requirement already satisfied: ipykernel>=5.1.2 in c:\\users\\kraso\\anaconda3\\lib\\site-packages (from pydeck>=0.1.dev5->streamlit) (6.9.1)\n",
      "Requirement already satisfied: ipywidgets>=7.0.0 in c:\\users\\kraso\\anaconda3\\lib\\site-packages (from pydeck>=0.1.dev5->streamlit) (7.6.5)\n",
      "Requirement already satisfied: traitlets>=4.3.2 in c:\\users\\kraso\\anaconda3\\lib\\site-packages (from pydeck>=0.1.dev5->streamlit) (5.1.1)\n",
      "Requirement already satisfied: matplotlib-inline<0.2.0,>=0.1.0 in c:\\users\\kraso\\anaconda3\\lib\\site-packages (from ipykernel>=5.1.2->pydeck>=0.1.dev5->streamlit) (0.1.2)\n",
      "Requirement already satisfied: ipython>=7.23.1 in c:\\users\\kraso\\anaconda3\\lib\\site-packages (from ipykernel>=5.1.2->pydeck>=0.1.dev5->streamlit) (8.2.0)\n",
      "Requirement already satisfied: jupyter-client<8.0 in c:\\users\\kraso\\anaconda3\\lib\\site-packages (from ipykernel>=5.1.2->pydeck>=0.1.dev5->streamlit) (6.1.12)\n",
      "Requirement already satisfied: debugpy<2.0,>=1.0.0 in c:\\users\\kraso\\anaconda3\\lib\\site-packages (from ipykernel>=5.1.2->pydeck>=0.1.dev5->streamlit) (1.5.1)\n",
      "Requirement already satisfied: nest-asyncio in c:\\users\\kraso\\anaconda3\\lib\\site-packages (from ipykernel>=5.1.2->pydeck>=0.1.dev5->streamlit) (1.5.5)\n",
      "Requirement already satisfied: prompt-toolkit!=3.0.0,!=3.0.1,<3.1.0,>=2.0.0 in c:\\users\\kraso\\anaconda3\\lib\\site-packages (from ipython>=7.23.1->ipykernel>=5.1.2->pydeck>=0.1.dev5->streamlit) (3.0.20)\n",
      "Requirement already satisfied: stack-data in c:\\users\\kraso\\anaconda3\\lib\\site-packages (from ipython>=7.23.1->ipykernel>=5.1.2->pydeck>=0.1.dev5->streamlit) (0.2.0)\n",
      "Requirement already satisfied: jedi>=0.16 in c:\\users\\kraso\\anaconda3\\lib\\site-packages (from ipython>=7.23.1->ipykernel>=5.1.2->pydeck>=0.1.dev5->streamlit) (0.18.1)\n",
      "Requirement already satisfied: pickleshare in c:\\users\\kraso\\anaconda3\\lib\\site-packages (from ipython>=7.23.1->ipykernel>=5.1.2->pydeck>=0.1.dev5->streamlit) (0.7.5)\n",
      "Requirement already satisfied: decorator in c:\\users\\kraso\\anaconda3\\lib\\site-packages (from ipython>=7.23.1->ipykernel>=5.1.2->pydeck>=0.1.dev5->streamlit) (5.1.1)\n",
      "Requirement already satisfied: pygments>=2.4.0 in c:\\users\\kraso\\anaconda3\\lib\\site-packages (from ipython>=7.23.1->ipykernel>=5.1.2->pydeck>=0.1.dev5->streamlit) (2.11.2)\n",
      "Requirement already satisfied: setuptools>=18.5 in c:\\users\\kraso\\anaconda3\\lib\\site-packages (from ipython>=7.23.1->ipykernel>=5.1.2->pydeck>=0.1.dev5->streamlit) (61.2.0)\n",
      "Requirement already satisfied: backcall in c:\\users\\kraso\\anaconda3\\lib\\site-packages (from ipython>=7.23.1->ipykernel>=5.1.2->pydeck>=0.1.dev5->streamlit) (0.2.0)\n",
      "Requirement already satisfied: ipython-genutils~=0.2.0 in c:\\users\\kraso\\anaconda3\\lib\\site-packages (from ipywidgets>=7.0.0->pydeck>=0.1.dev5->streamlit) (0.2.0)\n",
      "Requirement already satisfied: widgetsnbextension~=3.5.0 in c:\\users\\kraso\\anaconda3\\lib\\site-packages (from ipywidgets>=7.0.0->pydeck>=0.1.dev5->streamlit) (3.5.2)\n",
      "Requirement already satisfied: jupyterlab-widgets>=1.0.0 in c:\\users\\kraso\\anaconda3\\lib\\site-packages (from ipywidgets>=7.0.0->pydeck>=0.1.dev5->streamlit) (1.0.0)\n",
      "Requirement already satisfied: nbformat>=4.2.0 in c:\\users\\kraso\\anaconda3\\lib\\site-packages (from ipywidgets>=7.0.0->pydeck>=0.1.dev5->streamlit) (5.3.0)\n",
      "Requirement already satisfied: parso<0.9.0,>=0.8.0 in c:\\users\\kraso\\anaconda3\\lib\\site-packages (from jedi>=0.16->ipython>=7.23.1->ipykernel>=5.1.2->pydeck>=0.1.dev5->streamlit) (0.8.3)\n",
      "Requirement already satisfied: MarkupSafe>=0.23 in c:\\users\\kraso\\anaconda3\\lib\\site-packages (from jinja2->altair>=3.2.0->streamlit) (2.0.1)\n",
      "Requirement already satisfied: pyzmq>=13 in c:\\users\\kraso\\anaconda3\\lib\\site-packages (from jupyter-client<8.0->ipykernel>=5.1.2->pydeck>=0.1.dev5->streamlit) (22.3.0)\n",
      "Requirement already satisfied: jupyter-core>=4.6.0 in c:\\users\\kraso\\anaconda3\\lib\\site-packages (from jupyter-client<8.0->ipykernel>=5.1.2->pydeck>=0.1.dev5->streamlit) (4.9.2)\n",
      "Requirement already satisfied: pywin32>=1.0 in c:\\users\\kraso\\anaconda3\\lib\\site-packages (from jupyter-core>=4.6.0->jupyter-client<8.0->ipykernel>=5.1.2->pydeck>=0.1.dev5->streamlit) (302)\n",
      "Requirement already satisfied: fastjsonschema in c:\\users\\kraso\\anaconda3\\lib\\site-packages (from nbformat>=4.2.0->ipywidgets>=7.0.0->pydeck>=0.1.dev5->streamlit) (2.15.1)\n",
      "Requirement already satisfied: wcwidth in c:\\users\\kraso\\anaconda3\\lib\\site-packages (from prompt-toolkit!=3.0.0,!=3.0.1,<3.1.0,>=2.0.0->ipython>=7.23.1->ipykernel>=5.1.2->pydeck>=0.1.dev5->streamlit) (0.2.5)\n",
      "Requirement already satisfied: six>=1.5 in c:\\users\\kraso\\anaconda3\\lib\\site-packages (from python-dateutil->streamlit) (1.16.0)\n",
      "Requirement already satisfied: notebook>=4.4.1 in c:\\users\\kraso\\anaconda3\\lib\\site-packages (from widgetsnbextension~=3.5.0->ipywidgets>=7.0.0->pydeck>=0.1.dev5->streamlit) (6.4.8)\n",
      "Requirement already satisfied: Send2Trash>=1.8.0 in c:\\users\\kraso\\anaconda3\\lib\\site-packages (from notebook>=4.4.1->widgetsnbextension~=3.5.0->ipywidgets>=7.0.0->pydeck>=0.1.dev5->streamlit) (1.8.0)\n",
      "Requirement already satisfied: nbconvert in c:\\users\\kraso\\anaconda3\\lib\\site-packages (from notebook>=4.4.1->widgetsnbextension~=3.5.0->ipywidgets>=7.0.0->pydeck>=0.1.dev5->streamlit) (6.4.4)\n",
      "Requirement already satisfied: terminado>=0.8.3 in c:\\users\\kraso\\anaconda3\\lib\\site-packages (from notebook>=4.4.1->widgetsnbextension~=3.5.0->ipywidgets>=7.0.0->pydeck>=0.1.dev5->streamlit) (0.13.1)\n",
      "Requirement already satisfied: prometheus-client in c:\\users\\kraso\\anaconda3\\lib\\site-packages (from notebook>=4.4.1->widgetsnbextension~=3.5.0->ipywidgets>=7.0.0->pydeck>=0.1.dev5->streamlit) (0.13.1)\n",
      "Requirement already satisfied: argon2-cffi in c:\\users\\kraso\\anaconda3\\lib\\site-packages (from notebook>=4.4.1->widgetsnbextension~=3.5.0->ipywidgets>=7.0.0->pydeck>=0.1.dev5->streamlit) (21.3.0)\n",
      "Requirement already satisfied: pywinpty>=1.1.0 in c:\\users\\kraso\\anaconda3\\lib\\site-packages (from terminado>=0.8.3->notebook>=4.4.1->widgetsnbextension~=3.5.0->ipywidgets>=7.0.0->pydeck>=0.1.dev5->streamlit) (2.0.2)\n",
      "Requirement already satisfied: argon2-cffi-bindings in c:\\users\\kraso\\anaconda3\\lib\\site-packages (from argon2-cffi->notebook>=4.4.1->widgetsnbextension~=3.5.0->ipywidgets>=7.0.0->pydeck>=0.1.dev5->streamlit) (21.2.0)\n",
      "Requirement already satisfied: cffi>=1.0.1 in c:\\users\\kraso\\anaconda3\\lib\\site-packages (from argon2-cffi-bindings->argon2-cffi->notebook>=4.4.1->widgetsnbextension~=3.5.0->ipywidgets>=7.0.0->pydeck>=0.1.dev5->streamlit) (1.15.0)\n",
      "Requirement already satisfied: pycparser in c:\\users\\kraso\\anaconda3\\lib\\site-packages (from cffi>=1.0.1->argon2-cffi-bindings->argon2-cffi->notebook>=4.4.1->widgetsnbextension~=3.5.0->ipywidgets>=7.0.0->pydeck>=0.1.dev5->streamlit) (2.21)\n",
      "Requirement already satisfied: jupyterlab-pygments in c:\\users\\kraso\\anaconda3\\lib\\site-packages (from nbconvert->notebook>=4.4.1->widgetsnbextension~=3.5.0->ipywidgets>=7.0.0->pydeck>=0.1.dev5->streamlit) (0.1.2)\n",
      "Requirement already satisfied: defusedxml in c:\\users\\kraso\\anaconda3\\lib\\site-packages (from nbconvert->notebook>=4.4.1->widgetsnbextension~=3.5.0->ipywidgets>=7.0.0->pydeck>=0.1.dev5->streamlit) (0.7.1)\n",
      "Requirement already satisfied: beautifulsoup4 in c:\\users\\kraso\\anaconda3\\lib\\site-packages (from nbconvert->notebook>=4.4.1->widgetsnbextension~=3.5.0->ipywidgets>=7.0.0->pydeck>=0.1.dev5->streamlit) (4.11.1)\n",
      "Requirement already satisfied: mistune<2,>=0.8.1 in c:\\users\\kraso\\anaconda3\\lib\\site-packages (from nbconvert->notebook>=4.4.1->widgetsnbextension~=3.5.0->ipywidgets>=7.0.0->pydeck>=0.1.dev5->streamlit) (0.8.4)\n",
      "Requirement already satisfied: pandocfilters>=1.4.1 in c:\\users\\kraso\\anaconda3\\lib\\site-packages (from nbconvert->notebook>=4.4.1->widgetsnbextension~=3.5.0->ipywidgets>=7.0.0->pydeck>=0.1.dev5->streamlit) (1.5.0)\n",
      "Requirement already satisfied: bleach in c:\\users\\kraso\\anaconda3\\lib\\site-packages (from nbconvert->notebook>=4.4.1->widgetsnbextension~=3.5.0->ipywidgets>=7.0.0->pydeck>=0.1.dev5->streamlit) (4.1.0)\n",
      "Requirement already satisfied: nbclient<0.6.0,>=0.5.0 in c:\\users\\kraso\\anaconda3\\lib\\site-packages (from nbconvert->notebook>=4.4.1->widgetsnbextension~=3.5.0->ipywidgets>=7.0.0->pydeck>=0.1.dev5->streamlit) (0.5.13)\n",
      "Requirement already satisfied: testpath in c:\\users\\kraso\\anaconda3\\lib\\site-packages (from nbconvert->notebook>=4.4.1->widgetsnbextension~=3.5.0->ipywidgets>=7.0.0->pydeck>=0.1.dev5->streamlit) (0.5.0)\n",
      "Requirement already satisfied: soupsieve>1.2 in c:\\users\\kraso\\anaconda3\\lib\\site-packages (from beautifulsoup4->nbconvert->notebook>=4.4.1->widgetsnbextension~=3.5.0->ipywidgets>=7.0.0->pydeck>=0.1.dev5->streamlit) (2.3.1)\n",
      "Requirement already satisfied: webencodings in c:\\users\\kraso\\anaconda3\\lib\\site-packages (from bleach->nbconvert->notebook>=4.4.1->widgetsnbextension~=3.5.0->ipywidgets>=7.0.0->pydeck>=0.1.dev5->streamlit) (0.5.1)\n",
      "Requirement already satisfied: pyparsing!=3.0.5,>=2.0.2 in c:\\users\\kraso\\anaconda3\\lib\\site-packages (from packaging->streamlit) (3.0.4)\n",
      "Requirement already satisfied: urllib3<1.27,>=1.21.1 in c:\\users\\kraso\\anaconda3\\lib\\site-packages (from requests->streamlit) (1.26.9)\n",
      "Requirement already satisfied: idna<4,>=2.5 in c:\\users\\kraso\\anaconda3\\lib\\site-packages (from requests->streamlit) (3.3)\n",
      "Requirement already satisfied: charset-normalizer~=2.0.0 in c:\\users\\kraso\\anaconda3\\lib\\site-packages (from requests->streamlit) (2.0.4)\n",
      "Requirement already satisfied: certifi>=2017.4.17 in c:\\users\\kraso\\anaconda3\\lib\\site-packages (from requests->streamlit) (2021.10.8)\n",
      "Collecting commonmark<0.10.0,>=0.9.0\n",
      "  Downloading commonmark-0.9.1-py2.py3-none-any.whl (51 kB)\n",
      "Requirement already satisfied: asttokens in c:\\users\\kraso\\anaconda3\\lib\\site-packages (from stack-data->ipython>=7.23.1->ipykernel>=5.1.2->pydeck>=0.1.dev5->streamlit) (2.0.5)\n",
      "Requirement already satisfied: executing in c:\\users\\kraso\\anaconda3\\lib\\site-packages (from stack-data->ipython>=7.23.1->ipykernel>=5.1.2->pydeck>=0.1.dev5->streamlit) (0.8.3)\n",
      "Requirement already satisfied: pure-eval in c:\\users\\kraso\\anaconda3\\lib\\site-packages (from stack-data->ipython>=7.23.1->ipykernel>=5.1.2->pydeck>=0.1.dev5->streamlit) (0.2.2)\n",
      "Collecting tzdata\n",
      "  Downloading tzdata-2022.1-py2.py3-none-any.whl (339 kB)\n",
      "Collecting pytz-deprecation-shim\n",
      "  Downloading pytz_deprecation_shim-0.1.0.post0-py2.py3-none-any.whl (15 kB)\n",
      "Building wheels for collected packages: blinker, validators\n",
      "  Building wheel for blinker (setup.py): started\n",
      "  Building wheel for blinker (setup.py): finished with status 'done'\n",
      "  Created wheel for blinker: filename=blinker-1.4-py3-none-any.whl size=13478 sha256=3e33e8ecc9b52cdac0c691dbe5872fdd7111aa062147f481b4db99c0d4676ca7\n",
      "  Stored in directory: c:\\users\\kraso\\appdata\\local\\pip\\cache\\wheels\\50\\93\\f8\\4f0a42a03a06626d675f13907b6982ad5ecff383530af5a900\n",
      "  Building wheel for validators (setup.py): started\n",
      "  Building wheel for validators (setup.py): finished with status 'done'\n",
      "  Created wheel for validators: filename=validators-0.20.0-py3-none-any.whl size=19582 sha256=e7e21ae7a3425e0c540dc42e6c32e1f0ba3c627b199f44b0f7139a44a7d91a99\n",
      "  Stored in directory: c:\\users\\kraso\\appdata\\local\\pip\\cache\\wheels\\2d\\f0\\a8\\1094fca7a7e5d0d12ff56e0c64675d72aa5cc81a5fc200e849\n",
      "Successfully built blinker validators\n",
      "Installing collected packages: tzdata, smmap, pytz-deprecation-shim, gitdb, commonmark, validators, tzlocal, semver, rich, pympler, pydeck, pyarrow, protobuf, gitpython, cachetools, blinker, altair, streamlit\n",
      "Successfully installed altair-4.2.0 blinker-1.4 cachetools-5.2.0 commonmark-0.9.1 gitdb-4.0.9 gitpython-3.1.27 protobuf-3.20.1 pyarrow-8.0.0 pydeck-0.7.1 pympler-1.0.1 pytz-deprecation-shim-0.1.0.post0 rich-12.4.4 semver-2.13.0 smmap-5.0.0 streamlit-1.10.0 tzdata-2022.1 tzlocal-4.2 validators-0.20.0\n"
     ]
    }
   ],
   "source": [
    "!pip install streamlit"
   ]
  },
  {
   "cell_type": "code",
   "execution_count": 2,
   "id": "bf75e6e9-d9cc-4848-b2be-4836927ca223",
   "metadata": {},
   "outputs": [
    {
     "ename": "SyntaxError",
     "evalue": "invalid syntax (2773187961.py, line 1)",
     "output_type": "error",
     "traceback": [
      "\u001b[1;36m  File \u001b[1;32m\"C:\\Users\\kraso\\AppData\\Local\\Temp\\ipykernel_4308\\2773187961.py\"\u001b[1;36m, line \u001b[1;32m1\u001b[0m\n\u001b[1;33m    streamlit hello\u001b[0m\n\u001b[1;37m                  ^\u001b[0m\n\u001b[1;31mSyntaxError\u001b[0m\u001b[1;31m:\u001b[0m invalid syntax\n"
     ]
    }
   ],
   "source": [
    "streamlit hello"
   ]
  },
  {
   "cell_type": "code",
   "execution_count": 3,
   "id": "872bb972-de77-412c-a43d-f74410a3b321",
   "metadata": {},
   "outputs": [],
   "source": [
    "import yfinance as yf"
   ]
  },
  {
   "cell_type": "code",
   "execution_count": null,
   "id": "8a0c3c4d-5cbb-4a90-a12d-94a960a7c9c4",
   "metadata": {},
   "outputs": [],
   "source": [
    "#!streamlit hello"
   ]
  },
  {
   "cell_type": "code",
   "execution_count": 1,
   "id": "5df00378-7b3b-4a4b-b98c-5c9671e0b466",
   "metadata": {},
   "outputs": [
    {
     "name": "stderr",
     "output_type": "stream",
     "text": [
      "2022-07-06 11:56:40.930 INFO    numexpr.utils: NumExpr defaulting to 4 threads.\n",
      "Usage: streamlit run [OPTIONS] TARGET [ARGS]...\n",
      "Try 'streamlit run --help' for help.\n",
      "\n",
      "Error: Invalid value: File does not exist: cryvesto_streamlit.py_streamlit.py\n"
     ]
    }
   ],
   "source": [
    "!streamlit run cryvesto_streamlit.py_streamlit.py"
   ]
  },
  {
   "cell_type": "code",
   "execution_count": 9,
   "id": "c3fe2db1-633c-4c28-a3c3-b5ffa3e78055",
   "metadata": {},
   "outputs": [],
   "source": [
    "import os\n",
    "from pathlib import Path"
   ]
  },
  {
   "cell_type": "code",
   "execution_count": 10,
   "id": "90767eb9-d2cf-4b89-9105-b1ca1dcf74ec",
   "metadata": {},
   "outputs": [],
   "source": [
    "btc_ada_pic = Path('../streamlit/reddit_btc_adaboost.png')"
   ]
  },
  {
   "cell_type": "code",
   "execution_count": 12,
   "id": "bc1184ba-77af-4662-9803-c0cb06487edc",
   "metadata": {},
   "outputs": [
    {
     "name": "stdout",
     "output_type": "stream",
     "text": [
      "True\n"
     ]
    }
   ],
   "source": [
    "isExist = os.path.exists(btc_ada_pic)\n",
    "\n",
    "print(isExist)"
   ]
  },
  {
   "cell_type": "code",
   "execution_count": 15,
   "id": "bc90da59-7817-468f-b122-04e4a6374a24",
   "metadata": {},
   "outputs": [],
   "source": [
    "reddit_classification_reports = Path('../streamlit/reddit_classification_reports.csv')"
   ]
  },
  {
   "cell_type": "code",
   "execution_count": 16,
   "id": "89f9ccb8-560b-4d29-a970-faed5f252aa9",
   "metadata": {},
   "outputs": [
    {
     "name": "stdout",
     "output_type": "stream",
     "text": [
      "True\n"
     ]
    }
   ],
   "source": [
    "isExist = os.path.exists(reddit_classification_reports)\n",
    "\n",
    "print(isExist)"
   ]
  },
  {
   "cell_type": "code",
   "execution_count": null,
   "id": "a9109e2d-6231-49d8-8be5-3efb5f9e070d",
   "metadata": {},
   "outputs": [],
   "source": [
    "!streamlit run cryvesto_streamlit.py"
   ]
  },
  {
   "cell_type": "code",
   "execution_count": null,
   "id": "3db10dcf-136b-4ac0-a547-ccf0e1ba1c60",
   "metadata": {},
   "outputs": [],
   "source": []
  }
 ],
 "metadata": {
  "kernelspec": {
   "display_name": "dev",
   "language": "python",
   "name": "dev"
  },
  "language_info": {
   "codemirror_mode": {
    "name": "ipython",
    "version": 3
   },
   "file_extension": ".py",
   "mimetype": "text/x-python",
   "name": "python",
   "nbconvert_exporter": "python",
   "pygments_lexer": "ipython3",
   "version": "3.7.11"
  }
 },
 "nbformat": 4,
 "nbformat_minor": 5
}
