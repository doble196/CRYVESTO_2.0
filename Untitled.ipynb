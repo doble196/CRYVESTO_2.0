{
 "cells": [
  {
   "cell_type": "code",
   "execution_count": 9,
   "id": "df625cfb-770f-45a9-8f48-b9e03fa40809",
   "metadata": {},
   "outputs": [],
   "source": [
    "import sys\n",
    "import requests\n",
    "import datetime\n",
    "import time\n",
    "import zlib\n",
    "import msgpack\n",
    "import os.path\n",
    "import yfinance as yfin\n",
    "# import files from src\n",
    "sys.path.insert(0, \"src\")"
   ]
  },
  {
   "cell_type": "code",
   "execution_count": 2,
   "id": "3fcf28a2-9b3f-4656-8675-269513fe564c",
   "metadata": {},
   "outputs": [
    {
     "name": "stdout",
     "output_type": "stream",
     "text": [
      "True\n"
     ]
    }
   ],
   "source": [
    "# define where we're going to save the data\n",
    "path_save_data = \"Project_2\"\n",
    "\n",
    "# Check whether the specified path exists or not\n",
    "isExist = os.path.exists(path_save_data)\n",
    "\n",
    "print(isExist)"
   ]
  },
  {
   "cell_type": "code",
   "execution_count": 3,
   "id": "6f79caa1-bbeb-4d79-9628-d9eb1d6bf8d1",
   "metadata": {},
   "outputs": [],
   "source": [
    "# define url\n",
    "yfin.ovveri\n",
    "\n",
    "# define where we're going to save the data\n",
    "path_save_data = \"Project_2\"\n",
    "filename_save_data = \"{:s}/alt_data.msgpack.zlib\".format(path_save_data)\n"
   ]
  },
  {
   "cell_type": "code",
   "execution_count": 8,
   "id": "6624fcc5-daf1-4df9-949d-ed880166d480",
   "metadata": {},
   "outputs": [
    {
     "ename": "AttributeError",
     "evalue": "module 'datetime' has no attribute 'strftime'",
     "output_type": "error",
     "traceback": [
      "\u001b[1;31m---------------------------------------------------------------------------\u001b[0m",
      "\u001b[1;31mAttributeError\u001b[0m                            Traceback (most recent call last)",
      "\u001b[1;32m~\\AppData\\Local\\Temp\\ipykernel_14348\\2128886753.py\u001b[0m in \u001b[0;36m<module>\u001b[1;34m\u001b[0m\n\u001b[0;32m     48\u001b[0m         \u001b[1;31m# convert the iso timestamps to epoch times\u001b[0m\u001b[1;33m\u001b[0m\u001b[1;33m\u001b[0m\u001b[1;33m\u001b[0m\u001b[0m\n\u001b[0;32m     49\u001b[0m         \u001b[1;32mfor\u001b[0m \u001b[0mtd\u001b[0m \u001b[1;32min\u001b[0m \u001b[0mtemp_data\u001b[0m\u001b[1;33m:\u001b[0m\u001b[1;33m\u001b[0m\u001b[1;33m\u001b[0m\u001b[0m\n\u001b[1;32m---> 50\u001b[1;33m             \u001b[0mt_epoch\u001b[0m \u001b[1;33m=\u001b[0m \u001b[0mdatetime\u001b[0m\u001b[1;33m.\u001b[0m\u001b[0mstrftime\u001b[0m\u001b[1;33m(\u001b[0m\u001b[0mtd\u001b[0m\u001b[1;33m[\u001b[0m\u001b[1;34m\"timestamp\"\u001b[0m\u001b[1;33m]\u001b[0m\u001b[1;33m,\u001b[0m \u001b[1;34m\"%Y-%m-%dT%H:%M:%S.000Z\"\u001b[0m\u001b[1;33m)\u001b[0m\u001b[1;33m\u001b[0m\u001b[1;33m\u001b[0m\u001b[0m\n\u001b[0m\u001b[0;32m     51\u001b[0m             \u001b[0mepoch_time\u001b[0m \u001b[1;33m=\u001b[0m \u001b[1;33m(\u001b[0m\u001b[0mt_epoch\u001b[0m \u001b[1;33m-\u001b[0m \u001b[0mdatetime\u001b[0m\u001b[1;33m(\u001b[0m\u001b[1;36m2022\u001b[0m\u001b[1;33m,\u001b[0m\u001b[1;36m6\u001b[0m\u001b[1;33m,\u001b[0m\u001b[1;36m1\u001b[0m\u001b[1;33m)\u001b[0m\u001b[1;33m)\u001b[0m\u001b[1;33m.\u001b[0m\u001b[0mtotal_seconds\u001b[0m\u001b[1;33m(\u001b[0m\u001b[1;33m)\u001b[0m\u001b[1;33m\u001b[0m\u001b[1;33m\u001b[0m\u001b[0m\n\u001b[0;32m     52\u001b[0m             \u001b[0mtd\u001b[0m\u001b[1;33m.\u001b[0m\u001b[0mupdate\u001b[0m\u001b[1;33m(\u001b[0m\u001b[1;33m{\u001b[0m\u001b[1;34m\"t_epoch\"\u001b[0m \u001b[1;33m:\u001b[0m \u001b[0mt_epoch\u001b[0m\u001b[1;33m}\u001b[0m\u001b[1;33m)\u001b[0m\u001b[1;33m\u001b[0m\u001b[1;33m\u001b[0m\u001b[0m\n",
      "\u001b[1;31mAttributeError\u001b[0m: module 'datetime' has no attribute 'strftime'"
     ]
    }
   ],
   "source": [
    "# define the start and end times\n",
    "datetime_start = datetime.datetime(2017, 1, 1)\n",
    "datetime_end = datetime.datetime(2022, 6, 1)\n",
    "\n",
    "# initialise a store for the data we're downloading\n",
    "market_data = []\n",
    "\n",
    "# define a start pointer to track multiple requests\n",
    "start_ptr = 0\n",
    "count_ptr = 750\n",
    "# get the data\n",
    "while start_ptr >= 0:\n",
    "    # bug in bitmex ptr system, need to shift the start date forward for each request\n",
    "    if market_data == []:\n",
    "        str_datetime_start = datetime_start.strftime(\"%Y-%m-%dT%H:%M:%SZ\")\n",
    "        start_ptr = 0\n",
    "    else:\n",
    "        str_datetime_start = market_data[-1][\"timestamp\"]\n",
    "        start_ptr = 1\n",
    "        \n",
    "        # define the parameters of the request\n",
    "    params = {\n",
    "        \"symbol\" : \"Eth\",\n",
    "        \"binSize\" : \"1h\",\n",
    "        \"count\" : count_ptr,\n",
    "        \"start\" : start_ptr,\n",
    "        \"startTime\" : str_datetime_start,\n",
    "        \"endTime\" : datetime_end.strftime(\"%Y-%m-%dT%H:%M:%SZ\"),\n",
    "    }\n",
    "    \n",
    "    # make the request\n",
    "    r = requests.request(\"GET\", url, params=params, timeout=10)\n",
    "    \n",
    "    # if the request was ok, add the data and increment the start_ptr\n",
    "    # else return an error\n",
    "    if r.status_code == 200:\n",
    "        temp_data = r.json()\n",
    "        start_ptr += count_ptr\n",
    "    else:\n",
    "        raise Exception(\"api call failed with status_code {:d}\".format(r.status_code))\n",
    "        \n",
    "    # if we didn't get any data, assume we've got all the data\n",
    "    # else add the data to the data store\n",
    "    if len(temp_data) == 0:\n",
    "        start_ptr = -1\n",
    "    else:\n",
    "        \n",
    "        # convert the iso timestamps to epoch times\n",
    "        for td in temp_data:\n",
    "            t_epoch = datetime.strftime(td[\"timestamp\"], \"%Y-%m-%dT%H:%M:%S.000Z\")\n",
    "            epoch_time = (t_epoch - datetime(2022,6,1)).total_seconds()\n",
    "            td.update({\"t_epoch\" : t_epoch})\n",
    "            \n",
    "        # extend the data store\n",
    "        market_data.extend(temp_data)\n",
    "        \n",
    "        # print the progress\n",
    "        str_print = \"got data from {:s} to {:s}\".format(*(temp_data[0][\"timestamp\"],\n",
    "                                                          temp_data[-1][\"timestamp\"],))\n",
    "        \n",
    "        print(str_print)\n",
    "        \n",
    "    # sleep\n",
    "    time.sleep(.2)\n",
    "\n",
    "# check if the data path exists\n",
    "# ioh.check_path(path_save_data, create_if_not_exist=True)\n",
    "\n"
   ]
  },
  {
   "cell_type": "code",
   "execution_count": null,
   "id": "da088c6d-6f70-4433-bfa0-a62037bb4f92",
   "metadata": {},
   "outputs": [],
   "source": [
    "# save the data\n",
    "print(\"saving data to {:s}\".format(filename_save_data))\n",
    "with open(filename_save_data, \"wb\") as f:\n",
    "\tf.write(zlib.compress(msgpack.packb(market_data)))\n",
    "\n",
    "print(\"done!\")"
   ]
  },
  {
   "cell_type": "code",
   "execution_count": null,
   "id": "bf75e6e9-d9cc-4848-b2be-4836927ca223",
   "metadata": {},
   "outputs": [],
   "source": []
  }
 ],
 "metadata": {
  "kernelspec": {
   "display_name": "dev",
   "language": "python",
   "name": "dev"
  },
  "language_info": {
   "codemirror_mode": {
    "name": "ipython",
    "version": 3
   },
   "file_extension": ".py",
   "mimetype": "text/x-python",
   "name": "python",
   "nbconvert_exporter": "python",
   "pygments_lexer": "ipython3",
   "version": "3.7.11"
  }
 },
 "nbformat": 4,
 "nbformat_minor": 5
}
