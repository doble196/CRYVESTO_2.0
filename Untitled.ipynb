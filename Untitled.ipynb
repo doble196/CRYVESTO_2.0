{
 "cells": [
  {
   "cell_type": "code",
   "execution_count": 24,
   "id": "b9ce634b-9be3-47fe-91a0-a2825ede9005",
   "metadata": {},
   "outputs": [],
   "source": [
    "# necessary library import\n",
    "import sys\n",
    "import requests\n",
    "import datetime\n",
    "import time\n",
    "import zlib\n",
    "import msgpack\n",
    "import os.path\n",
    "# import files from src\n",
    "sys.path.insert(0, \"src\")\n",
    "# import helper_functions as hf\n",
    "# import io_helper as ioh"
   ]
  },
  {
   "cell_type": "code",
   "execution_count": null,
   "id": "da12d7d4-157c-471e-9a69-386e388dcecd",
   "metadata": {},
   "outputs": [],
   "source": [
    "# define where we're going to save the data\n",
    "path_save_data = \"Project_2\"\n",
    "\n",
    "# Check whether the specified path exists or not\n",
    "isExist = os.path.exists(path_save_data)\n",
    "if not isExist:\n",
    "    # Create a new directory because it does not exist \n",
    "    os.makedirs(path_save_data)\n",
    "    print(\"The new directory is created!\")\n",
    "\n",
    "filename_save_data = \"{:s}/augmento_data.msgpack.zlib\".format(path_save_data)\n"
   ]
  },
  {
   "cell_type": "code",
   "execution_count": 21,
   "id": "0aba4191-9144-4dac-8231-1fd73ddeabce",
   "metadata": {},
   "outputs": [],
   "source": [
    "\n",
    "\n",
    "# define the urls of the endpoints for all the info\n",
    "topics_endpoint_url = \"http://api-dev.augmento.ai/v0.1/topics\"\n",
    "sources_endpoint_url = \"http://api-dev.augmento.ai/v0.1/sources\"\n",
    "coins_endpoint_url = \"http://api-dev.augmento.ai/v0.1/coins\"\n",
    "bin_sizes_endpoint_url = \"http://api-dev.augmento.ai/v0.1/bin_sizes\"\n",
    "\n",
    "# define where we're going to save the data\n",
    "path_save_data = \"data/example_data\"\n",
    "filename_save_topics = \"{:s}/augmento_topics.msgpack.zlib\".format(path_save_data)\n",
    "filename_save_sources = \"{:s}/augmento_sources.msgpack.zlib\".format(path_save_data)\n",
    "filename_save_coins = \"{:s}/augmento_coins.msgpack.zlib\".format(path_save_data)\n",
    "filename_save_bin_sizes = \"{:s}/augmento_bin_sizes.msgpack.zlib\".format(path_save_data)\n",
    "\n",
    "\n",
    "\n",
    "# save a list of the augmento topics\n",
    "r = requests.request(\"GET\", topics_endpoint_url, timeout=10)\n",
    "print(\"saving topics to {:s}\".format(filename_save_topics))\n",
    "with open(filename_save_topics, \"wb\") as f:\n",
    "\tf.write(zlib.compress(msgpack.packb(r.json())))\n",
    "\n",
    "# save a list of the augmento topics\n",
    "r = requests.request(\"GET\", sources_endpoint_url, timeout=10)\n",
    "print(\"saving sources to {:s}\".format(filename_save_sources))\n",
    "with open(filename_save_sources, \"wb\") as f:\n",
    "\tf.write(zlib.compress(msgpack.packb(r.json())))\n",
    "\n",
    "# save a list of the augmento topics\n",
    "r = requests.request(\"GET\", coins_endpoint_url, timeout=10)\n",
    "print(\"saving coins to {:s}\".format(filename_save_coins))\n",
    "with open(filename_save_coins, \"wb\") as f:\n",
    "\tf.write(zlib.compress(msgpack.packb(r.json())))\n",
    "\n",
    "# save a list of the augmento topics\n",
    "r = requests.request(\"GET\", bin_sizes_endpoint_url, timeout=10)\n",
    "print(\"saving bin_sizes to {:s}\".format(filename_save_bin_sizes))\n",
    "with open(filename_save_bin_sizes, \"wb\") as f:\n",
    "\tf.write(zlib.compress(msgpack.packb(r.json())))\n",
    "\n",
    "\n",
    "print(\"done!\")"
   ]
  },
  {
   "cell_type": "code",
   "execution_count": 22,
   "id": "1b43e08c-cbc9-40c2-a13d-f887689a0e5e",
   "metadata": {},
   "outputs": [
    {
     "name": "stdout",
     "output_type": "stream",
     "text": [
      "[{'counts': [0, 0, 3, 2, 3, 1, 1, 0, 0, 0, 0, 0, 15, 9, 0, 0, 0, 0, 0, 11, 0, 0, 39, 1, 0, 0, 6, 9, 5, 28, 0, 0, 0, 0, 1, 0, 0, 0, 6, 0, 0, 0, 2, 0, 0, 0, 0, 0, 0, 3, 0, 0, 0, 0, 0, 4, 1, 1, 0, 0, 2, 0, 0, 11, 0, 1, 0, 2, 0, 0, 0, 0, 9, 0, 0, 2, 0, 4, 0, 6, 15, 0, 0, 2, 1, 0, 59, 1, 0, 0, 0, 0, 20], 'datetime': '2022-05-01T00:00:00Z', 't_epoch': 1651363200}, {'counts': [0, 0, 0, 0, 8, 1, 0, 0, 0, 0, 0, 0, 6, 5, 1, 0, 0, 0, 3, 4, 0, 0, 17, 3, 1, 0, 1, 6, 2, 12, 0, 0, 0, 0, 1, 0, 2, 1, 6, 3, 0, 0, 1, 0, 0, 0, 1, 0, 0, 6, 1, 0, 0, 0, 0, 3, 0, 0, 1, 0, 4, 0, 0, 5, 0, 0, 1, 1, 0, 0, 0, 0, 4, 0, 0, 14, 0, 6, 0, 5, 15, 1, 0, 2, 7, 0, 37, 1, 0, 0, 0, 0, 4], 'datetime': '2022-05-01T01:00:00Z', 't_epoch': 1651366800}, {'counts': [0, 0, 3, 0, 1, 1, 0, 0, 0, 1, 0, 0, 6, 3, 0, 0, 1, 0, 0, 2, 0, 0, 13, 0, 0, 0, 1, 1, 3, 6, 0, 0, 0, 0, 1, 1, 1, 0, 5, 1, 0, 0, 1, 0, 0, 0, 0, 0, 3, 2, 0, 0, 0, 0, 0, 0, 2, 1, 0, 0, 6, 0, 0, 3, 1, 0, 0, 1, 0, 3, 0, 0, 3, 0, 0, 6, 0, 1, 1, 2, 5, 0, 0, 2, 0, 0, 16, 2, 0, 2, 0, 2, 7], 'datetime': '2022-05-01T02:00:00Z', 't_epoch': 1651370400}, {'counts': [0, 0, 1, 0, 11, 0, 0, 1, 0, 1, 0, 0, 4, 4, 0, 0, 0, 0, 0, 5, 0, 0, 16, 1, 1, 0, 1, 3, 2, 9, 0, 0, 0, 0, 0, 0, 0, 0, 2, 1, 0, 0, 0, 0, 0, 0, 0, 0, 0, 0, 1, 0, 0, 0, 0, 3, 1, 0, 0, 0, 5, 0, 0, 7, 1, 0, 0, 0, 0, 1, 0, 0, 2, 0, 0, 9, 0, 1, 0, 7, 17, 0, 0, 1, 10, 0, 28, 1, 0, 1, 0, 2, 8], 'datetime': '2022-05-01T03:00:00Z', 't_epoch': 1651374000}, {'counts': [0, 0, 0, 1, 3, 2, 1, 0, 0, 1, 0, 0, 4, 3, 0, 0, 0, 0, 0, 3, 0, 0, 11, 1, 0, 0, 1, 4, 2, 10, 0, 0, 0, 0, 2, 0, 1, 0, 3, 0, 0, 0, 1, 0, 0, 0, 0, 0, 1, 2, 0, 0, 0, 0, 0, 0, 0, 0, 0, 0, 3, 0, 0, 2, 0, 1, 0, 0, 0, 1, 0, 0, 5, 0, 0, 4, 0, 2, 0, 3, 10, 0, 0, 0, 3, 0, 23, 1, 0, 0, 0, 1, 7], 'datetime': '2022-05-01T04:00:00Z', 't_epoch': 1651377600}, {'counts': [0, 1, 1, 1, 1, 3, 0, 0, 0, 1, 0, 0, 3, 8, 0, 0, 0, 0, 0, 2, 0, 0, 19, 1, 1, 0, 1, 5, 1, 17, 0, 0, 0, 0, 2, 0, 0, 0, 1, 0, 0, 0, 0, 0, 0, 0, 0, 0, 0, 0, 0, 0, 0, 0, 0, 6, 1, 0, 1, 0, 8, 0, 0, 12, 0, 1, 0, 0, 0, 1, 0, 0, 6, 0, 0, 2, 0, 2, 0, 6, 7, 0, 0, 2, 0, 0, 25, 2, 0, 3, 0, 0, 11], 'datetime': '2022-05-01T05:00:00Z', 't_epoch': 1651381200}, {'counts': [0, 0, 2, 0, 1, 1, 0, 0, 0, 1, 0, 2, 4, 6, 1, 0, 0, 0, 0, 2, 0, 0, 14, 0, 1, 0, 0, 2, 2, 11, 1, 0, 0, 0, 1, 0, 0, 0, 3, 0, 0, 1, 0, 0, 0, 0, 0, 0, 2, 3, 0, 0, 0, 0, 0, 4, 1, 1, 0, 0, 10, 0, 0, 6, 1, 2, 0, 2, 0, 1, 0, 0, 5, 0, 0, 5, 0, 1, 0, 2, 6, 0, 0, 3, 0, 0, 22, 0, 0, 1, 0, 1, 7], 'datetime': '2022-05-01T06:00:00Z', 't_epoch': 1651384800}, {'counts': [0, 0, 0, 1, 11, 1, 0, 0, 0, 0, 0, 0, 4, 4, 0, 0, 0, 0, 0, 1, 0, 0, 6, 0, 0, 0, 1, 0, 1, 2, 0, 0, 0, 0, 0, 0, 2, 0, 3, 1, 0, 0, 0, 0, 1, 0, 0, 0, 1, 1, 1, 0, 0, 0, 0, 1, 1, 0, 1, 0, 3, 0, 1, 7, 2, 2, 0, 1, 0, 0, 0, 1, 5, 0, 0, 3, 1, 2, 0, 0, 12, 0, 0, 3, 13, 0, 25, 1, 0, 1, 0, 1, 5], 'datetime': '2022-05-01T07:00:00Z', 't_epoch': 1651388400}, {'counts': [0, 1, 0, 0, 0, 1, 0, 0, 0, 0, 0, 0, 6, 0, 1, 0, 1, 0, 0, 1, 0, 0, 7, 1, 0, 0, 4, 0, 3, 1, 0, 0, 0, 0, 1, 0, 0, 0, 4, 1, 0, 0, 0, 0, 0, 0, 0, 0, 1, 3, 1, 0, 0, 0, 0, 0, 2, 0, 0, 0, 3, 0, 0, 2, 0, 0, 1, 0, 0, 0, 0, 0, 6, 0, 1, 6, 0, 2, 0, 2, 0, 0, 0, 4, 0, 0, 18, 0, 0, 0, 0, 1, 6], 'datetime': '2022-05-01T08:00:00Z', 't_epoch': 1651392000}, {'counts': [0, 0, 0, 0, 0, 0, 0, 0, 0, 1, 0, 0, 2, 1, 0, 0, 0, 0, 0, 2, 0, 1, 7, 1, 0, 0, 0, 0, 1, 1, 0, 0, 0, 0, 0, 0, 1, 0, 3, 0, 0, 0, 0, 0, 0, 0, 0, 0, 0, 1, 0, 1, 0, 0, 0, 1, 0, 0, 0, 0, 3, 0, 0, 4, 0, 2, 0, 0, 0, 0, 0, 0, 5, 0, 0, 4, 0, 2, 0, 0, 0, 0, 0, 3, 0, 0, 11, 0, 0, 0, 0, 1, 7], 'datetime': '2022-05-01T09:00:00Z', 't_epoch': 1651395600}]\n"
     ]
    }
   ],
   "source": [
    "print(r)"
   ]
  },
  {
   "cell_type": "code",
   "execution_count": 5,
   "id": "28d9b3b6-8201-4a51-85db-54e7de448c94",
   "metadata": {},
   "outputs": [],
   "source": [
    "# load endpoint url requests\n",
    "topics_endpoint_url = \"http://api-dev.augmento.ai/v0.1/topics\"\n",
    "sources_endpoint_url = \"http://api-dev.augmento.ai/v0.1/sources\"\n",
    "coins_endpoint_url = \"http://api-dev.augmento.ai/v0.1/coins\"\n",
    "bin_sizes_endpoint_url = \"http://api-dev.augmento.ai/v0.1/bin_sizes\""
   ]
  },
  {
   "cell_type": "code",
   "execution_count": 8,
   "id": "2be80856-2f2e-43bf-9de4-3547388dbfc9",
   "metadata": {},
   "outputs": [
    {
     "name": "stdout",
     "output_type": "stream",
     "text": [
      "{\n",
      "   \"0\": \"Hacks\",\n",
      "   \"1\": \"Pessimistic/Doubtful\",\n",
      "   \"2\": \"Banks\",\n",
      "   \"3\": \"Selling\",\n",
      "   \"4\": \"Market_manipulation\",\n",
      "   \"5\": \"(De-)centralisation\",\n",
      "   \"6\": \"Angry\",\n",
      "   \"7\": \"ETF\",\n",
      "   \"8\": \"Leverage\",\n",
      "   \"9\": \"Bottom\",\n",
      "   \"10\": \"Institutional_money\",\n",
      "   \"11\": \"FOMO\",\n",
      "   \"12\": \"Prediction\",\n",
      "   \"13\": \"Adoption\",\n",
      "   \"14\": \"Fearful/Concerned\",\n",
      "   \"15\": \"Portfolio\",\n",
      "   \"16\": \"FUD_theme\",\n",
      "   \"17\": \"Whitepaper\",\n",
      "   \"18\": \"Announcements\",\n",
      "   \"19\": \"Technical_analysis\",\n",
      "   \"20\": \"Flippening\",\n",
      "   \"21\": \"Community\",\n",
      "   \"22\": \"Investing/Trading\",\n",
      "   \"23\": \"Euphoric/Excited\",\n",
      "   \"24\": \"Hodling\",\n",
      "   \"25\": \"ICO\",\n",
      "   \"26\": \"Bearish\",\n",
      "   \"27\": \"Going_short\",\n",
      "   \"28\": \"Uncertain\",\n",
      "   \"29\": \"Volume\",\n",
      "   \"30\": \"Risk\",\n",
      "   \"31\": \"Governance\",\n",
      "   \"32\": \"Ban\",\n",
      "   \"33\": \"Cheap\",\n",
      "   \"34\": \"Short_term_trading\",\n",
      "   \"35\": \"Fork\",\n",
      "   \"36\": \"Progress\",\n",
      "   \"37\": \"Shilling\",\n",
      "   \"38\": \"Bullish\",\n",
      "   \"39\": \"Happy\",\n",
      "   \"40\": \"Bubble\",\n",
      "   \"41\": \"Bots\",\n",
      "   \"42\": \"Hopeful\",\n",
      "   \"43\": \"Bug\",\n",
      "   \"44\": \"Open_source\",\n",
      "   \"45\": \"Token_economics\",\n",
      "   \"46\": \"Security\",\n",
      "   \"47\": \"Marketing\",\n",
      "   \"48\": \"Bad_news\",\n",
      "   \"49\": \"Due_diligence\",\n",
      "   \"50\": \"Team\",\n",
      "   \"51\": \"Partnerships\",\n",
      "   \"52\": \"Pump_and_dump\",\n",
      "   \"53\": \"Sad\",\n",
      "   \"54\": \"Panicking\",\n",
      "   \"55\": \"Listing\",\n",
      "   \"56\": \"Regulation/Politics\",\n",
      "   \"57\": \"Dip\",\n",
      "   \"58\": \"Launch\",\n",
      "   \"59\": \"FOMO_theme\",\n",
      "   \"60\": \"Advice/Support\",\n",
      "   \"61\": \"Rebranding\",\n",
      "   \"62\": \"Wallet\",\n",
      "   \"63\": \"Good_news\",\n",
      "   \"64\": \"Problems_and_issues\",\n",
      "   \"65\": \"Mining\",\n",
      "   \"66\": \"Waiting\",\n",
      "   \"67\": \"Learning\",\n",
      "   \"68\": \"Scaling\",\n",
      "   \"69\": \"Fees\",\n",
      "   \"70\": \"Roadmap\",\n",
      "   \"71\": \"Recovery\",\n",
      "   \"72\": \"Technology\",\n",
      "   \"73\": \"Mistrustful\",\n",
      "   \"74\": \"Marketcap\",\n",
      "   \"75\": \"Positive\",\n",
      "   \"76\": \"Tax\",\n",
      "   \"77\": \"Long_term_investing\",\n",
      "   \"78\": \"Strategy\",\n",
      "   \"79\": \"Competition\",\n",
      "   \"80\": \"Whales\",\n",
      "   \"81\": \"Correction\",\n",
      "   \"82\": \"Stablecoin\",\n",
      "   \"83\": \"Buying\",\n",
      "   \"84\": \"Warning\",\n",
      "   \"85\": \"Annoyed/Frustrated\",\n",
      "   \"86\": \"Price\",\n",
      "   \"87\": \"Use_case/Applications\",\n",
      "   \"88\": \"Rumor\",\n",
      "   \"89\": \"Scam/Fraud\",\n",
      "   \"90\": \"Airdrop\",\n",
      "   \"91\": \"Optimistic\",\n",
      "   \"92\": \"Negative\"\n",
      "}\n"
     ]
    }
   ],
   "source": [
    "topics = requests.get(topics_endpoint_url).json()\n",
    "\n",
    "print(json.dumps(topics, indent=3))"
   ]
  },
  {
   "cell_type": "code",
   "execution_count": 23,
   "id": "50721ce7-3dce-4b20-8856-f39c5673d9e0",
   "metadata": {},
   "outputs": [
    {
     "name": "stdout",
     "output_type": "stream",
     "text": [
      "b'[\"0x\",\"aelf\",\"aion\",\"ardor\",\"ark\",\"augur\",\"bitcoin\",\"cardano\",\"dash\",\"decentraland\",\"decred\",\"digibyte\",\"dogecoin\",\"dragonchain\",\"electroneum\",\"eos\",\"ethereum\",\"iota\",\"komodo\",\"lisk\",\"litecoin\",\"monero\",\"nano\",\"nem\",\"neo\",\"ontology\",\"polymath\",\"qtum\",\"ravencoin\",\"reddcoin\",\"ripple\",\"siacoin\",\"steem\",\"stellar\",\"stratis\",\"syscoin\",\"tether\",\"tron\",\"vechain\",\"verge\",\"waltonchain\",\"wanchain\",\"zcash\",\"zilliqa\",\"binance_coin\",\"bitcoin_cash\",\"bitcoin_gold\",\"bitcoin_sv\",\"kucoin_shares\",\"pundi_x\"]\\n'\n"
     ]
    }
   ],
   "source": [
    "r = requests.request(\"GET\", \"http://api-dev.augmento.ai/v0.1/coins\")\n",
    "\n",
    "print(r.content)"
   ]
  },
  {
   "cell_type": "code",
   "execution_count": null,
   "id": "1e566998-1405-46a9-b972-4149fd8c0810",
   "metadata": {},
   "outputs": [],
   "source": []
  }
 ],
 "metadata": {
  "kernelspec": {
   "display_name": "Python 3 (ipykernel)",
   "language": "python",
   "name": "python3"
  },
  "language_info": {
   "codemirror_mode": {
    "name": "ipython",
    "version": 3
   },
   "file_extension": ".py",
   "mimetype": "text/x-python",
   "name": "python",
   "nbconvert_exporter": "python",
   "pygments_lexer": "ipython3",
   "version": "3.9.7"
  }
 },
 "nbformat": 4,
 "nbformat_minor": 5
}
